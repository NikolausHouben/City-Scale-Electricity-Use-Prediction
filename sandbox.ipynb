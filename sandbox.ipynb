{
 "cells": [
  {
   "cell_type": "code",
   "execution_count": 3,
   "metadata": {},
   "outputs": [],
   "source": [
    "import json\n",
    "\n",
    "import pandas as pd\n",
    "import pickle"
   ]
  },
  {
   "cell_type": "code",
   "execution_count": 2,
   "metadata": {},
   "outputs": [],
   "source": [
    "from utils.eval_utils import *"
   ]
  },
  {
   "cell_type": "code",
   "execution_count": 37,
   "metadata": {},
   "outputs": [],
   "source": [
    "def get_pckl_keys(dir_path):\n",
    "    \"\"\"\n",
    "\n",
    "    Function to show the keys in the h5py file.\n",
    "\n",
    "    \"\"\"\n",
    "\n",
    "    for scale in os.listdir(dir_path):\n",
    "        for location in os.listdir(os.path.join(dir_path, scale)):\n",
    "            print(location)\n",
    "            if location.endswith(\".pkl\"):\n",
    "                with open(os.path.join(dir_path, scale, location), 'rb') as f:\n",
    "                    data = pickle.load(f)\n",
    "                    print(f\"Horizons: {data.keys()}\")\n",
    "                    print(f\"Seasons: {data[list(data.keys())[0]].keys()}\")\n",
    "                    print(f\"Models: {data[1]['Winter'][0].keys()}\")\n",
    "\n",
    "                    return data\n",
    "                    "
   ]
  },
  {
   "cell_type": "code",
   "execution_count": 39,
   "metadata": {},
   "outputs": [
    {
     "name": "stdout",
     "output_type": "stream",
     "text": [
      "building_1.pkl\n",
      "Horizons: dict_keys([1, 4, 8, 24, 48])\n",
      "Seasons: dict_keys(['Winter', 'Summer'])\n",
      "Models: dict_keys(['RandomForest', 'XGBModel', 'LightGBMModel', 'BlockRNNModel', 'NBEATSModel', 'TFTModel', 'LinearRegressionModel'])\n"
     ]
    }
   ],
   "source": [
    "dict_result_n_ahead = get_pckl_keys(\"/Users/nikolaushouben/Desktop/WattCast/data/evaluations\")"
   ]
  },
  {
   "cell_type": "code",
   "execution_count": null,
   "metadata": {},
   "outputs": [],
   "source": []
  },
  {
   "cell_type": "code",
   "execution_count": 147,
   "metadata": {},
   "outputs": [],
   "source": [
    "from utils.pipeline import Config, derive_config_params\n",
    "\n",
    "with open(\"init_config.json\", \"r\") as f:\n",
    "    init_config = json.load(f)\n",
    "\n",
    "\n",
    "config = Config().from_dict(init_config)\n",
    "\n",
    "config = derive_config_params(config)\n",
    "\n"
   ]
  },
  {
   "cell_type": "code",
   "execution_count": 168,
   "metadata": {},
   "outputs": [],
   "source": [
    "model = \"BlockRNNModel\"\n",
    "season = \"Winter\"\n",
    "horizon = 4\n",
    "\n",
    "metrics_list = [metrics_dict[metric] for metric in config.metrics]\n",
    "\n",
    "keys = [\"horizon\", \"season\", \"model\"]\n",
    "\n",
    "df_metrics = pd.DataFrame(columns = keys + config.metrics)\n",
    "\n",
    "for horizon in dict_result_n_ahead.keys():\n",
    "    for season in dict_result_n_ahead[horizon].keys():\n",
    "        gt = dict_result_n_ahead[horizon][season][2]\n",
    "        persistence = dict_result_n_ahead[horizon][season][1][f\"{config.hours_persistence}-Hour Persistence\"] \n",
    "        perf_dict_persistence = calc_error_scores(metrics_list, persistence, gt)\n",
    "        df_persistence = pd.DataFrame.from_dict(perf_dict_persistence, orient='index').T\n",
    "        df_persistence[\"horizon\"] = 0\n",
    "        df_persistence[\"season\"] = season\n",
    "        df_persistence[\"model\"] = f\"{config.hours_persistence}-Hour Persistence\"\n",
    "        df_metrics = pd.concat([df_metrics, df_persistence], axis=0)\n",
    "\n",
    "        for model in dict_result_n_ahead[horizon][season][0].keys():\n",
    "            df_metrics_model = pd.DataFrame(columns = keys + config.metrics)\n",
    "\n",
    "            for pred_batch in dict_result_n_ahead[horizon][season][0][model]:\n",
    "\n",
    "                pred, gt_sliced = make_index_same(pred_batch, gt)\n",
    "\n",
    "                perf_dict = calc_error_scores(metrics_list, pred, gt_sliced)\n",
    "\n",
    "                df_perf = pd.DataFrame.from_dict(perf_dict, orient='index').T\n",
    "\n",
    "                df_metrics_model = pd.concat([df_metrics_model, df_perf], axis=0)\n",
    "\n",
    "                # special treatment for max_peak_error and mean_n_peak_error\n",
    "                if \"max_peak_error\" in df_metrics_model.columns:\n",
    "                    df_metrics_model[\"max_peak_error\"] = df_metrics_model[\"max_peak_error\"].max()\n",
    "                if \"mean_n_peak_error\" in df_metrics_model.columns:\n",
    "                    df_metrics_model[\"mean_n_peak_error\"] = df_metrics_model[\"mean_n_peak_error\"].sort_values(ascending=False)[::horizon][:5].mean()\n",
    "        \n",
    "            \n",
    "            df_summary = df_metrics_model.mean().to_frame().T\n",
    "            # add keys\n",
    "            df_summary[\"horizon\"] = horizon\n",
    "            df_summary[\"season\"] = season\n",
    "            df_summary[\"model\"] = model\n",
    "            # add to df_metrics\n",
    "            df_metrics = pd.concat([df_metrics, df_summary], axis=0)\n",
    "        rmse_persistence = df_metrics[df_metrics[\"model\"] == f\"{config.hours_persistence}-Hour Persistence\"][\"rmse\"]\n",
    "        df_metrics[\"rmse_skill\"] = 1 - df_metrics[\"rmse\"] / rmse_persistence.values[0]\n",
    "        df_metrics = df_metrics[~(df_metrics[\"model\"] == f\"{config.hours_persistence}-Hour Persistence\")]\n"
   ]
  },
  {
   "cell_type": "code",
   "execution_count": 170,
   "metadata": {},
   "outputs": [],
   "source": [
    "df_metrics.to_csv(\"data/evaluations/5_building/df_metrics_building_1.csv\")"
   ]
  },
  {
   "cell_type": "code",
   "execution_count": null,
   "metadata": {},
   "outputs": [],
   "source": []
  }
 ],
 "metadata": {
  "kernelspec": {
   "display_name": "Wattcast",
   "language": "python",
   "name": "python3"
  },
  "language_info": {
   "codemirror_mode": {
    "name": "ipython",
    "version": 3
   },
   "file_extension": ".py",
   "mimetype": "text/x-python",
   "name": "python",
   "nbconvert_exporter": "python",
   "pygments_lexer": "ipython3",
   "version": "3.11.3"
  }
 },
 "nbformat": 4,
 "nbformat_minor": 2
}
