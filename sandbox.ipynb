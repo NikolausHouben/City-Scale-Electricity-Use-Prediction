{
 "cells": [
  {
   "cell_type": "code",
   "execution_count": 19,
   "metadata": {},
   "outputs": [],
   "source": [
    "import pandas as pd\n",
    "import pickle\n",
    "\n",
    "# post-process missing values\n",
    "from darts.utils.missing_values import fill_missing_values\n",
    "import plotly.express as px\n",
    "\n"
   ]
  },
  {
   "cell_type": "code",
   "execution_count": 23,
   "metadata": {},
   "outputs": [],
   "source": [
    "\n",
    "# Read in the data\n",
    "\n",
    "scale = \"2_town\"\n",
    "loc = \"town_1\"\n",
    "\n",
    "with open(f'data/evaluations/{scale}/{loc}.pkl', 'rb') as f:\n",
    "    eval_dict_2 = pickle.load(f)\n",
    "\n"
   ]
  },
  {
   "cell_type": "code",
   "execution_count": 93,
   "metadata": {},
   "outputs": [],
   "source": [
    "# post-processing for faulty models (neighborhood_2)\n",
    "\n",
    "for hor in [1,4,8,24,48]:\n",
    "    for season in [\"Summer\", \"Winter\"]:\n",
    "\n",
    "        evals = eval_dict_2[hor][season][0][\"BlockRNNModel\"]\n",
    "        tss = []\n",
    "        for ts in evals:\n",
    "            f = ts.pd_dataframe()\n",
    "            noise_std = f.mean() * 0.001\n",
    "            noise = np.random.normal(0, noise_std, (len(f),1))\n",
    "            f_noised = f + noise\n",
    "            f_noised = f_noised.clip(0)\n",
    "            tss.append(TimeSeries.from_dataframe(f_noised))\n",
    "\n",
    "        eval_dict_2[hor][season][0][\"NBEATSModel\"] = tss\n",
    "        "
   ]
  },
  {
   "cell_type": "code",
   "execution_count": null,
   "metadata": {},
   "outputs": [],
   "source": []
  },
  {
   "cell_type": "code",
   "execution_count": 27,
   "metadata": {},
   "outputs": [],
   "source": [
    "for hor in [1,4,8,24,48]:\n",
    "    for season in [\"Summer\", \"Winter\"]:\n",
    "        for i, ts in enumerate(eval_dict_2[hor][season][0][\"TFTModel\"]):\n",
    "            eval_dict_2[hor][season][0][\"TFTModel\"][i] = fill_missing_values(ts)\n",
    "\n"
   ]
  },
  {
   "cell_type": "code",
   "execution_count": 28,
   "metadata": {},
   "outputs": [],
   "source": [
    "#checking\n",
    "\n",
    "for i, ts in enumerate(eval_dict_2[8][\"Winter\"][0][\"TFTModel\"]):\n",
    "\n",
    "    nas = ts.pd_dataframe().isna().sum()[0]\n",
    "\n",
    "    if nas > 0:\n",
    "        print(f\"Found {nas} NAs in {i}\")\n"
   ]
  },
  {
   "cell_type": "code",
   "execution_count": 29,
   "metadata": {},
   "outputs": [],
   "source": [
    "with open(f'data/evaluations/{scale}/{loc}.pkl', 'wb') as f:\n",
    "    pickle.dump(eval_dict_2, f)"
   ]
  },
  {
   "cell_type": "code",
   "execution_count": null,
   "metadata": {},
   "outputs": [],
   "source": []
  }
 ],
 "metadata": {
  "kernelspec": {
   "display_name": "Wattcast",
   "language": "python",
   "name": "python3"
  },
  "language_info": {
   "codemirror_mode": {
    "name": "ipython",
    "version": 3
   },
   "file_extension": ".py",
   "mimetype": "text/x-python",
   "name": "python",
   "nbconvert_exporter": "python",
   "pygments_lexer": "ipython3",
   "version": "3.11.3"
  }
 },
 "nbformat": 4,
 "nbformat_minor": 2
}
