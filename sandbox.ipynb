{
 "cells": [
  {
   "cell_type": "code",
   "execution_count": 70,
   "metadata": {},
   "outputs": [],
   "source": [
    "from pyomo.environ import ConcreteModel, Var, Objective, Constraint, NonNegativeReals, SolverFactory, minimize, Suffix\n",
    "\n",
    "# Define the input parameters in a dictionary\n",
    "input_params = {\n",
    "    'demand': 1000,  # in MW\n",
    "    'costs': {'Coal': 20, 'Gas': 45, 'Renewable': 70},  # Cost in $/MWh\n",
    "    'emission_factors': {'Coal': 0.9, 'Gas': 0.4, 'Renewable': 0},  # Tons of CO2/MWh\n",
    "    'emission_cap': 300,  # Total allowed emissions in Tons of CO2\n",
    "    'capacities': {'Coal': 600, 'Gas': 500, 'Renewable': 400},  # Max capacity in MW\n",
    "}\n",
    "\n",
    "def run_model(input_params):\n",
    "\n",
    "    # Initialize the model\n",
    "    model = ConcreteModel()\n",
    "\n",
    "    # Create variables\n",
    "    power_plants = input_params['costs'].keys()\n",
    "    model.generation = Var(power_plants, within=NonNegativeReals)\n",
    "\n",
    "    # Define the objective function\n",
    "    def cost_rule(m):\n",
    "        return sum(m.generation[p] * input_params['costs'][p] for p in power_plants)\n",
    "\n",
    "    model.cost = Objective(rule=cost_rule, sense=minimize)\n",
    "\n",
    "    # Demand constraint\n",
    "    def demand_rule(m):\n",
    "        return sum(m.generation[p] for p in power_plants) == input_params['demand']\n",
    "\n",
    "    model.demand_constraint = Constraint(rule=demand_rule)\n",
    "\n",
    "    # Emission constraint\n",
    "    def emission_rule(m):\n",
    "        return sum(m.generation[p] * input_params['emission_factors'][p] for p in power_plants) <= input_params['emission_cap']\n",
    "\n",
    "    model.emission_constraint = Constraint(rule=emission_rule)\n",
    "\n",
    "    # Capacity constraints for each power plant\n",
    "    def capacity_rule(m, p):\n",
    "        return m.generation[p] <= input_params['capacities'][p]\n",
    "\n",
    "    model.capacity_constraints = Constraint(power_plants, rule=capacity_rule)\n",
    "\n",
    "    # Choose a solver and solve\n",
    "    solver = SolverFactory('cplex')\n",
    "\n",
    "\n",
    "    # Activate dual information\n",
    "    model.dual = Suffix(direction=Suffix.IMPORT)\n",
    "\n",
    "    # Solve the model\n",
    "    solution = solver.solve(model)\n",
    "\n",
    "    return model, solution\n",
    "\n",
    "model, solution = run_model(input_params)\n",
    "\n"
   ]
  },
  {
   "cell_type": "code",
   "execution_count": 71,
   "metadata": {},
   "outputs": [
    {
     "name": "stderr",
     "output_type": "stream",
     "text": [
      "\u001b[34m\u001b[1mwandb\u001b[0m: \u001b[33mWARNING\u001b[0m Ignored wandb.init() arg project when running a sweep.\n"
     ]
    },
    {
     "name": "stdout",
     "output_type": "stream",
     "text": [
      "generation : Size=3, Index=generation_index\n",
      "    Key       : Lower : Value              : Upper : Fixed : Stale : Domain\n",
      "         Coal :     0 : 111.11111111111114 :  None : False : False : NonNegativeReals\n",
      "          Gas :     0 :              500.0 :  None : False : False : NonNegativeReals\n",
      "    Renewable :     0 : 388.88888888888886 :  None : False : False : NonNegativeReals\n"
     ]
    },
    {
     "data": {
      "text/html": [
       "Finishing last run (ID:pkcp1zev) before initializing another..."
      ],
      "text/plain": [
       "<IPython.core.display.HTML object>"
      ]
     },
     "metadata": {},
     "output_type": "display_data"
    },
    {
     "data": {
      "text/html": [
       "Successfully finished last run (ID:pkcp1zev). Initializing new run:<br/>"
      ],
      "text/plain": [
       "<IPython.core.display.HTML object>"
      ]
     },
     "metadata": {},
     "output_type": "display_data"
    },
    {
     "name": "stdout",
     "output_type": "stream",
     "text": [
      "Problem at: /Users/nikolaushouben/opt/anaconda3/envs/Wattcast/lib/python3.11/site-packages/wandb/sdk/wandb_init.py 836 getcaller\n"
     ]
    },
    {
     "ename": "CommError",
     "evalue": "Run initialization has timed out after 60.0 sec. \nPlease refer to the documentation for additional information: https://docs.wandb.ai/guides/track/tracking-faq#initstarterror-error-communicating-with-wandb-process-",
     "output_type": "error",
     "traceback": [
      "\u001b[0;31m---------------------------------------------------------------------------\u001b[0m",
      "\u001b[0;31mCommError\u001b[0m                                 Traceback (most recent call last)",
      "\u001b[1;32m/Users/nikolaushouben/Desktop/WattCast/sandbox.ipynb Cell 2\u001b[0m line \u001b[0;36m8\n\u001b[1;32m      <a href='vscode-notebook-cell:/Users/nikolaushouben/Desktop/WattCast/sandbox.ipynb#X24sZmlsZQ%3D%3D?line=4'>5</a>\u001b[0m \u001b[39mimport\u001b[39;00m \u001b[39mwandb\u001b[39;00m\n\u001b[1;32m      <a href='vscode-notebook-cell:/Users/nikolaushouben/Desktop/WattCast/sandbox.ipynb#X24sZmlsZQ%3D%3D?line=6'>7</a>\u001b[0m \u001b[39m# Initialize a new W&B run\u001b[39;00m\n\u001b[0;32m----> <a href='vscode-notebook-cell:/Users/nikolaushouben/Desktop/WattCast/sandbox.ipynb#X24sZmlsZQ%3D%3D?line=7'>8</a>\u001b[0m wandb\u001b[39m.\u001b[39;49minit(project\u001b[39m=\u001b[39;49m\u001b[39m\"\u001b[39;49m\u001b[39menergy_optimization\u001b[39;49m\u001b[39m\"\u001b[39;49m, name\u001b[39m=\u001b[39;49m\u001b[39m\"\u001b[39;49m\u001b[39mgeneration_mix\u001b[39;49m\u001b[39m\"\u001b[39;49m, config \u001b[39m=\u001b[39;49m input_params)\n\u001b[1;32m     <a href='vscode-notebook-cell:/Users/nikolaushouben/Desktop/WattCast/sandbox.ipynb#X24sZmlsZQ%3D%3D?line=9'>10</a>\u001b[0m \u001b[39m# After solving the model, log the objective and variable values\u001b[39;00m\n\u001b[1;32m     <a href='vscode-notebook-cell:/Users/nikolaushouben/Desktop/WattCast/sandbox.ipynb#X24sZmlsZQ%3D%3D?line=10'>11</a>\u001b[0m wandb\u001b[39m.\u001b[39mlog({\u001b[39m\"\u001b[39m\u001b[39mTotal Cost\u001b[39m\u001b[39m\"\u001b[39m: model\u001b[39m.\u001b[39mcost()})\n",
      "File \u001b[0;32m~/opt/anaconda3/envs/Wattcast/lib/python3.11/site-packages/wandb/sdk/wandb_init.py:1169\u001b[0m, in \u001b[0;36minit\u001b[0;34m(job_type, dir, config, project, entity, reinit, tags, group, name, notes, magic, config_exclude_keys, config_include_keys, anonymous, mode, allow_val_change, resume, force, tensorboard, sync_tensorboard, monitor_gym, save_code, id, settings)\u001b[0m\n\u001b[1;32m   1167\u001b[0m     \u001b[39mif\u001b[39;00m logger \u001b[39mis\u001b[39;00m \u001b[39mnot\u001b[39;00m \u001b[39mNone\u001b[39;00m:\n\u001b[1;32m   1168\u001b[0m         logger\u001b[39m.\u001b[39mexception(\u001b[39mstr\u001b[39m(e))\n\u001b[0;32m-> 1169\u001b[0m     \u001b[39mraise\u001b[39;00m e\n\u001b[1;32m   1170\u001b[0m \u001b[39mexcept\u001b[39;00m \u001b[39mKeyboardInterrupt\u001b[39;00m \u001b[39mas\u001b[39;00m e:\n\u001b[1;32m   1171\u001b[0m     \u001b[39massert\u001b[39;00m logger\n",
      "File \u001b[0;32m~/opt/anaconda3/envs/Wattcast/lib/python3.11/site-packages/wandb/sdk/wandb_init.py:1150\u001b[0m, in \u001b[0;36minit\u001b[0;34m(job_type, dir, config, project, entity, reinit, tags, group, name, notes, magic, config_exclude_keys, config_include_keys, anonymous, mode, allow_val_change, resume, force, tensorboard, sync_tensorboard, monitor_gym, save_code, id, settings)\u001b[0m\n\u001b[1;32m   1148\u001b[0m except_exit \u001b[39m=\u001b[39m wi\u001b[39m.\u001b[39msettings\u001b[39m.\u001b[39m_except_exit\n\u001b[1;32m   1149\u001b[0m \u001b[39mtry\u001b[39;00m:\n\u001b[0;32m-> 1150\u001b[0m     run \u001b[39m=\u001b[39m wi\u001b[39m.\u001b[39;49minit()\n\u001b[1;32m   1151\u001b[0m     except_exit \u001b[39m=\u001b[39m wi\u001b[39m.\u001b[39msettings\u001b[39m.\u001b[39m_except_exit\n\u001b[1;32m   1152\u001b[0m \u001b[39mexcept\u001b[39;00m (\u001b[39mKeyboardInterrupt\u001b[39;00m, \u001b[39mException\u001b[39;00m) \u001b[39mas\u001b[39;00m e:\n",
      "File \u001b[0;32m~/opt/anaconda3/envs/Wattcast/lib/python3.11/site-packages/wandb/sdk/wandb_init.py:769\u001b[0m, in \u001b[0;36m_WandbInit.init\u001b[0;34m(self)\u001b[0m\n\u001b[1;32m    767\u001b[0m         backend\u001b[39m.\u001b[39mcleanup()\n\u001b[1;32m    768\u001b[0m         \u001b[39mself\u001b[39m\u001b[39m.\u001b[39mteardown()\n\u001b[0;32m--> 769\u001b[0m     \u001b[39mraise\u001b[39;00m error\n\u001b[1;32m    771\u001b[0m \u001b[39massert\u001b[39;00m run_result \u001b[39mis\u001b[39;00m \u001b[39mnot\u001b[39;00m \u001b[39mNone\u001b[39;00m  \u001b[39m# for mypy\u001b[39;00m\n\u001b[1;32m    773\u001b[0m \u001b[39mif\u001b[39;00m \u001b[39mnot\u001b[39;00m run_result\u001b[39m.\u001b[39mHasField(\u001b[39m\"\u001b[39m\u001b[39mrun\u001b[39m\u001b[39m\"\u001b[39m):\n",
      "\u001b[0;31mCommError\u001b[0m: Run initialization has timed out after 60.0 sec. \nPlease refer to the documentation for additional information: https://docs.wandb.ai/guides/track/tracking-faq#initstarterror-error-communicating-with-wandb-process-"
     ]
    }
   ],
   "source": [
    "\n",
    "# Display the results\n",
    "model.generation.display()\n",
    "\n",
    "# Log results and duals to W&B\n",
    "import wandb\n",
    "\n",
    "# Initialize a new W&B run\n",
    "wandb.init(project=\"energy_optimization\", name=\"generation_mix\", config = input_params)\n",
    "\n",
    "# After solving the model, log the objective and variable values\n",
    "wandb.log({\"Total Cost\": model.cost()})\n",
    "\n",
    "# Log the decision variable values and other relevant metrics\n",
    "for p in power_plants:\n",
    "    wandb.log({\n",
    "        f'Generation_{p}': model.generation[p].value,\n",
    "        f'Cost_{p}': model.generation[p].value * input_params['costs'][p],\n",
    "        f'Emissions_{p}': model.generation[p].value * input_params['emission_factors'][p]\n",
    "    })\n",
    "\n",
    "# Log the dual variables\n",
    "emission_shadow_price = model.dual[model.emission_constraint]\n",
    "wandb.log({\"Emission Shadow Price\": emission_shadow_price})\n",
    "\n",
    "# Finish the W&B run\n",
    "wandb.finish()"
   ]
  },
  {
   "cell_type": "code",
   "execution_count": 66,
   "metadata": {},
   "outputs": [
    {
     "name": "stdout",
     "output_type": "stream",
     "text": [
      "Create sweep with ID: ktuakqde\n",
      "Sweep URL: https://wandb.ai/wattcast/energy_optimization/sweeps/ktuakqde\n"
     ]
    },
    {
     "name": "stderr",
     "output_type": "stream",
     "text": [
      "\u001b[34m\u001b[1mwandb\u001b[0m: Agent Starting Run: pkcp1zev with config:\n",
      "\u001b[34m\u001b[1mwandb\u001b[0m: \tdemand: 300\n",
      "Failed to detect the name of this notebook, you can set it manually with the WANDB_NOTEBOOK_NAME environment variable to enable code saving.\n",
      "\u001b[34m\u001b[1mwandb\u001b[0m: Ctrl + C detected. Stopping sweep.\n"
     ]
    }
   ],
   "source": [
    "sweep_config = {\n",
    "    'method': 'grid',  # Alternatively, 'random' could be used for a non-exhaustive search\n",
    "    'metric': {\n",
    "        'name': 'Total Cost',\n",
    "        'goal': 'minimize'   \n",
    "    },\n",
    "    'parameters': {\n",
    "        'demand': {\n",
    "            'values': [300, 500, 1000]  # Testing different levels of emission caps\n",
    "        }\n",
    "    }\n",
    "}\n",
    "\n",
    "# Initialize the sweep\n",
    "sweep_id = wandb.sweep(sweep_config, project=\"energy_optimization\")\n",
    "\n",
    "def sweep_run():\n",
    "    with wandb.init() as run:\n",
    "        # Get the emission cap from the current run's configuration\n",
    "        input_params['demand'] = run.config.demand\n",
    "        \n",
    "        # Define and solve the model as before...\n",
    "\n",
    "\n",
    "        model, solution = run_model(input_params)\n",
    "\n",
    "\n",
    "        # Log the results\n",
    "        wandb.log({\"Total Cost\": model.cost()})\n",
    "        for p in power_plants:\n",
    "            wandb.log({\n",
    "                f'Generation_{p}': model.generation[p].value,\n",
    "                f'Cost_{p}': model.generation[p].value * input_params['costs'][p],\n",
    "                f'Emissions_{p}': model.generation[p].value * input_params['emission_factors'][p]\n",
    "            })\n",
    "\n",
    "        total_cost = model.cost()\n",
    "\n",
    "        wandb.log({\"Total Cost\": total_cost})\n",
    "\n",
    "        \n",
    "\n",
    "# Run the sweep\n",
    "wandb.agent(sweep_id, function=sweep_run, count=3)\n",
    "        \n",
    "\n",
    "\n"
   ]
  },
  {
   "cell_type": "code",
   "execution_count": null,
   "metadata": {},
   "outputs": [],
   "source": []
  }
 ],
 "metadata": {
  "kernelspec": {
   "display_name": "Wattcast",
   "language": "python",
   "name": "python3"
  },
  "language_info": {
   "codemirror_mode": {
    "name": "ipython",
    "version": 3
   },
   "file_extension": ".py",
   "mimetype": "text/x-python",
   "name": "python",
   "nbconvert_exporter": "python",
   "pygments_lexer": "ipython3",
   "version": "3.11.3"
  }
 },
 "nbformat": 4,
 "nbformat_minor": 2
}
