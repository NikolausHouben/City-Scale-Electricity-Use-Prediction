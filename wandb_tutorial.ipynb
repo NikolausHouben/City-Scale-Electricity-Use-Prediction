{
 "cells": [
  {
   "cell_type": "code",
   "execution_count": 4,
   "metadata": {},
   "outputs": [],
   "source": [
    "from pyomo.environ import ConcreteModel, Var, Objective, Constraint, NonNegativeReals, SolverFactory, minimize, Suffix\n",
    "\n",
    "# Define the input parameters in a dictionary\n",
    "input_params = {\n",
    "    'demand': 1000,  # in MW\n",
    "    'costs': {'Coal': 20, 'Gas': 45, 'Renewable': 0},  # Cost in $/MWh\n",
    "    'emission_factors': {'Coal': 0.9, 'Gas': 0.4, 'Renewable': 0},  # Tons of CO2/MWh\n",
    "    'emission_cap': 300,  # Total allowed emissions in Tons of CO2\n",
    "    'capacities': {'Coal': 600, 'Gas': 500, 'Renewable': 400},  # Max capacity in MW\n",
    "}\n",
    "\n",
    "def run_model(input_params):\n",
    "\n",
    "    # Initialize the model\n",
    "    model = ConcreteModel()\n",
    "\n",
    "    # Create variables\n",
    "    power_plants = input_params['costs'].keys()\n",
    "    model.generation = Var(power_plants, within=NonNegativeReals)\n",
    "\n",
    "    # Define the objective function\n",
    "    def cost_rule(m):\n",
    "        return sum(m.generation[p] * input_params['costs'][p] for p in power_plants)\n",
    "\n",
    "    model.cost = Objective(rule=cost_rule, sense=minimize)\n",
    "\n",
    "    # Demand constraint\n",
    "    def demand_rule(m):\n",
    "        return sum(m.generation[p] for p in power_plants) == input_params['demand']\n",
    "\n",
    "    model.demand_constraint = Constraint(rule=demand_rule)\n",
    "\n",
    "    # Emission constraint\n",
    "    def emission_rule(m):\n",
    "        return sum(m.generation[p] * input_params['emission_factors'][p] for p in power_plants) <= input_params['emission_cap']\n",
    "\n",
    "    model.emission_constraint = Constraint(rule=emission_rule)\n",
    "\n",
    "    # Capacity constraints for each power plant\n",
    "    def capacity_rule(m, p):\n",
    "        return m.generation[p] <= input_params['capacities'][p]\n",
    "\n",
    "    model.capacity_constraints = Constraint(power_plants, rule=capacity_rule)\n",
    "\n",
    "    # Choose a solver and solve\n",
    "    solver = SolverFactory('cplex')\n",
    "\n",
    "\n",
    "    # Activate dual information\n",
    "    model.dual = Suffix(direction=Suffix.IMPORT)\n",
    "\n",
    "    # Solve the model\n",
    "    solution = solver.solve(model)\n",
    "\n",
    "    return model, solution, power_plants\n",
    "\n",
    "model, solution, power_plants = run_model(input_params)\n",
    "\n"
   ]
  },
  {
   "cell_type": "code",
   "execution_count": null,
   "metadata": {},
   "outputs": [],
   "source": [
    "df.to_csv()"
   ]
  },
  {
   "cell_type": "code",
   "execution_count": 8,
   "metadata": {},
   "outputs": [
    {
     "data": {
      "text/html": [
       "Changes to your `wandb` environment variables will be ignored because your `wandb` session has already started. For more information on how to modify your settings with `wandb.init()` arguments, please refer to <a href='https://wandb.me/wandb-init' target=\"_blank\">the W&B docs</a>."
      ],
      "text/plain": [
       "<IPython.core.display.HTML object>"
      ]
     },
     "metadata": {},
     "output_type": "display_data"
    },
    {
     "name": "stderr",
     "output_type": "stream",
     "text": [
      "\u001b[34m\u001b[1mwandb\u001b[0m: \u001b[33mWARNING\u001b[0m Ignored wandb.init() arg project when running a sweep.\n"
     ]
    },
    {
     "data": {
      "text/html": [
       "wandb version 0.16.0 is available!  To upgrade, please run:\n",
       " $ pip install wandb --upgrade"
      ],
      "text/plain": [
       "<IPython.core.display.HTML object>"
      ]
     },
     "metadata": {},
     "output_type": "display_data"
    },
    {
     "data": {
      "text/html": [
       "Tracking run with wandb version 0.15.1"
      ],
      "text/plain": [
       "<IPython.core.display.HTML object>"
      ]
     },
     "metadata": {},
     "output_type": "display_data"
    },
    {
     "data": {
      "text/html": [
       "Run data is saved locally in <code>/Users/nikolaushouben/Desktop/WattCast/wandb/run-20231123_165706-nj0oy5z7</code>"
      ],
      "text/plain": [
       "<IPython.core.display.HTML object>"
      ]
     },
     "metadata": {},
     "output_type": "display_data"
    },
    {
     "data": {
      "text/html": [
       "Syncing run <strong><a href='https://wandb.ai/wattcast/energy_optimization/runs/nj0oy5z7' target=\"_blank\">generation_mix_eeg_seminar</a></strong> to <a href='https://wandb.ai/wattcast/energy_optimization' target=\"_blank\">Weights & Biases</a> (<a href='https://wandb.me/run' target=\"_blank\">docs</a>)<br/>Sweep page: <a href='https://wandb.ai/wattcast/energy_optimization/sweeps/2ku5raqm' target=\"_blank\">https://wandb.ai/wattcast/energy_optimization/sweeps/2ku5raqm</a>"
      ],
      "text/plain": [
       "<IPython.core.display.HTML object>"
      ]
     },
     "metadata": {},
     "output_type": "display_data"
    },
    {
     "data": {
      "text/html": [
       " View project at <a href='https://wandb.ai/wattcast/energy_optimization' target=\"_blank\">https://wandb.ai/wattcast/energy_optimization</a>"
      ],
      "text/plain": [
       "<IPython.core.display.HTML object>"
      ]
     },
     "metadata": {},
     "output_type": "display_data"
    },
    {
     "data": {
      "text/html": [
       " View sweep at <a href='https://wandb.ai/wattcast/energy_optimization/sweeps/2ku5raqm' target=\"_blank\">https://wandb.ai/wattcast/energy_optimization/sweeps/2ku5raqm</a>"
      ],
      "text/plain": [
       "<IPython.core.display.HTML object>"
      ]
     },
     "metadata": {},
     "output_type": "display_data"
    },
    {
     "data": {
      "text/html": [
       " View run at <a href='https://wandb.ai/wattcast/energy_optimization/runs/nj0oy5z7' target=\"_blank\">https://wandb.ai/wattcast/energy_optimization/runs/nj0oy5z7</a>"
      ],
      "text/plain": [
       "<IPython.core.display.HTML object>"
      ]
     },
     "metadata": {},
     "output_type": "display_data"
    },
    {
     "data": {
      "text/html": [
       "Waiting for W&B process to finish... <strong style=\"color:green\">(success).</strong>"
      ],
      "text/plain": [
       "<IPython.core.display.HTML object>"
      ]
     },
     "metadata": {},
     "output_type": "display_data"
    },
    {
     "data": {
      "text/html": [
       "<style>\n",
       "    table.wandb td:nth-child(1) { padding: 0 10px; text-align: left ; width: auto;} td:nth-child(2) {text-align: left ; width: 100%}\n",
       "    .wandb-row { display: flex; flex-direction: row; flex-wrap: wrap; justify-content: flex-start; width: 100% }\n",
       "    .wandb-col { display: flex; flex-direction: column; flex-basis: 100%; flex: 1; padding: 10px; }\n",
       "    </style>\n",
       "<div class=\"wandb-row\"><div class=\"wandb-col\"><h3>Run history:</h3><br/><table class=\"wandb\"><tr><td>Cost_Coal</td><td>▁</td></tr><tr><td>Cost_Gas</td><td>▁</td></tr><tr><td>Cost_Renewable</td><td>▁</td></tr><tr><td>Emission Shadow Price</td><td>▁</td></tr><tr><td>Emissions_Coal</td><td>▁</td></tr><tr><td>Emissions_Gas</td><td>▁</td></tr><tr><td>Emissions_Renewable</td><td>▁</td></tr><tr><td>Generation_Coal</td><td>▁</td></tr><tr><td>Generation_Gas</td><td>▁</td></tr><tr><td>Generation_Renewable</td><td>▁</td></tr><tr><td>Total Cost</td><td>▁</td></tr></table><br/></div><div class=\"wandb-col\"><h3>Run summary:</h3><br/><table class=\"wandb\"><tr><td>Cost_Coal</td><td>2222.22222</td></tr><tr><td>Cost_Gas</td><td>22500.0</td></tr><tr><td>Cost_Renewable</td><td>27222.22222</td></tr><tr><td>Emission Shadow Price</td><td>-55.55556</td></tr><tr><td>Emissions_Coal</td><td>100.0</td></tr><tr><td>Emissions_Gas</td><td>200.0</td></tr><tr><td>Emissions_Renewable</td><td>0.0</td></tr><tr><td>Generation_Coal</td><td>111.11111</td></tr><tr><td>Generation_Gas</td><td>500.0</td></tr><tr><td>Generation_Renewable</td><td>388.88889</td></tr><tr><td>Total Cost</td><td>51944.44444</td></tr></table><br/></div></div>"
      ],
      "text/plain": [
       "<IPython.core.display.HTML object>"
      ]
     },
     "metadata": {},
     "output_type": "display_data"
    },
    {
     "data": {
      "text/html": [
       " View run <strong style=\"color:#cdcd00\">generation_mix_eeg_seminar</strong> at: <a href='https://wandb.ai/wattcast/energy_optimization/runs/nj0oy5z7' target=\"_blank\">https://wandb.ai/wattcast/energy_optimization/runs/nj0oy5z7</a><br/>Synced 5 W&B file(s), 0 media file(s), 0 artifact file(s) and 0 other file(s)"
      ],
      "text/plain": [
       "<IPython.core.display.HTML object>"
      ]
     },
     "metadata": {},
     "output_type": "display_data"
    },
    {
     "data": {
      "text/html": [
       "Find logs at: <code>./wandb/run-20231123_165706-nj0oy5z7/logs</code>"
      ],
      "text/plain": [
       "<IPython.core.display.HTML object>"
      ]
     },
     "metadata": {},
     "output_type": "display_data"
    }
   ],
   "source": [
    "# Log results and duals to W&B\n",
    "import wandb\n",
    "\n",
    "# Initialize a new W&B run\n",
    "wandb.init(project=\"energy_optimization\", name=\"generation_mix_eeg_seminar\", config = input_params)\n",
    "\n",
    "# After solving the model, log the objective and variable values\n",
    "wandb.log({\"Total Cost\": model.cost()})\n",
    "\n",
    "# Log the decision variable values and other relevant metrics\n",
    "for p in power_plants:\n",
    "    wandb.log({\n",
    "        f'Generation_{p}': model.generation[p].value,\n",
    "        f'Cost_{p}': model.generation[p].value * input_params['costs'][p],\n",
    "        f'Emissions_{p}': model.generation[p].value * input_params['emission_factors'][p]\n",
    "    })\n",
    "\n",
    "# Log the dual variables\n",
    "emission_shadow_price = model.dual[model.emission_constraint]\n",
    "wandb.log({\"Emission Shadow Price\": emission_shadow_price})\n",
    "\n",
    "# Finish the W&B run\n",
    "wandb.finish()"
   ]
  },
  {
   "cell_type": "code",
   "execution_count": 9,
   "metadata": {},
   "outputs": [
    {
     "name": "stdout",
     "output_type": "stream",
     "text": [
      "Create sweep with ID: lhfzgpad\n",
      "Sweep URL: https://wandb.ai/wattcast/energy_optimization/sweeps/lhfzgpad\n"
     ]
    },
    {
     "name": "stderr",
     "output_type": "stream",
     "text": [
      "\u001b[34m\u001b[1mwandb\u001b[0m: Agent Starting Run: sb1wlcwf with config:\n",
      "\u001b[34m\u001b[1mwandb\u001b[0m: \tdemand: 300\n",
      "Failed to detect the name of this notebook, you can set it manually with the WANDB_NOTEBOOK_NAME environment variable to enable code saving.\n"
     ]
    },
    {
     "data": {
      "text/html": [
       "wandb version 0.16.0 is available!  To upgrade, please run:\n",
       " $ pip install wandb --upgrade"
      ],
      "text/plain": [
       "<IPython.core.display.HTML object>"
      ]
     },
     "metadata": {},
     "output_type": "display_data"
    },
    {
     "data": {
      "text/html": [
       "Tracking run with wandb version 0.15.1"
      ],
      "text/plain": [
       "<IPython.core.display.HTML object>"
      ]
     },
     "metadata": {},
     "output_type": "display_data"
    },
    {
     "data": {
      "text/html": [
       "Run data is saved locally in <code>/Users/nikolaushouben/Desktop/WattCast/wandb/run-20231123_165816-sb1wlcwf</code>"
      ],
      "text/plain": [
       "<IPython.core.display.HTML object>"
      ]
     },
     "metadata": {},
     "output_type": "display_data"
    },
    {
     "data": {
      "text/html": [
       "Syncing run <strong><a href='https://wandb.ai/wattcast/energy_optimization/runs/sb1wlcwf' target=\"_blank\">pleasant-sweep-1</a></strong> to <a href='https://wandb.ai/wattcast/energy_optimization' target=\"_blank\">Weights & Biases</a> (<a href='https://wandb.me/run' target=\"_blank\">docs</a>)<br/>Sweep page: <a href='https://wandb.ai/wattcast/energy_optimization/sweeps/lhfzgpad' target=\"_blank\">https://wandb.ai/wattcast/energy_optimization/sweeps/lhfzgpad</a>"
      ],
      "text/plain": [
       "<IPython.core.display.HTML object>"
      ]
     },
     "metadata": {},
     "output_type": "display_data"
    },
    {
     "data": {
      "text/html": [
       " View project at <a href='https://wandb.ai/wattcast/energy_optimization' target=\"_blank\">https://wandb.ai/wattcast/energy_optimization</a>"
      ],
      "text/plain": [
       "<IPython.core.display.HTML object>"
      ]
     },
     "metadata": {},
     "output_type": "display_data"
    },
    {
     "data": {
      "text/html": [
       " View sweep at <a href='https://wandb.ai/wattcast/energy_optimization/sweeps/lhfzgpad' target=\"_blank\">https://wandb.ai/wattcast/energy_optimization/sweeps/lhfzgpad</a>"
      ],
      "text/plain": [
       "<IPython.core.display.HTML object>"
      ]
     },
     "metadata": {},
     "output_type": "display_data"
    },
    {
     "data": {
      "text/html": [
       " View run at <a href='https://wandb.ai/wattcast/energy_optimization/runs/sb1wlcwf' target=\"_blank\">https://wandb.ai/wattcast/energy_optimization/runs/sb1wlcwf</a>"
      ],
      "text/plain": [
       "<IPython.core.display.HTML object>"
      ]
     },
     "metadata": {},
     "output_type": "display_data"
    },
    {
     "data": {
      "text/html": [
       "Waiting for W&B process to finish... <strong style=\"color:green\">(success).</strong>"
      ],
      "text/plain": [
       "<IPython.core.display.HTML object>"
      ]
     },
     "metadata": {},
     "output_type": "display_data"
    },
    {
     "data": {
      "text/html": [
       "<style>\n",
       "    table.wandb td:nth-child(1) { padding: 0 10px; text-align: left ; width: auto;} td:nth-child(2) {text-align: left ; width: 100%}\n",
       "    .wandb-row { display: flex; flex-direction: row; flex-wrap: wrap; justify-content: flex-start; width: 100% }\n",
       "    .wandb-col { display: flex; flex-direction: column; flex-basis: 100%; flex: 1; padding: 10px; }\n",
       "    </style>\n",
       "<div class=\"wandb-row\"><div class=\"wandb-col\"><h3>Run history:</h3><br/><table class=\"wandb\"><tr><td>Cost_Coal</td><td>▁</td></tr><tr><td>Cost_Gas</td><td>▁</td></tr><tr><td>Cost_Renewable</td><td>▁</td></tr><tr><td>Emissions_Coal</td><td>▁</td></tr><tr><td>Emissions_Gas</td><td>▁</td></tr><tr><td>Emissions_Renewable</td><td>▁</td></tr><tr><td>Generation_Coal</td><td>▁</td></tr><tr><td>Generation_Gas</td><td>▁</td></tr><tr><td>Generation_Renewable</td><td>▁</td></tr><tr><td>Total Cost</td><td>▁▁</td></tr></table><br/></div><div class=\"wandb-col\"><h3>Run summary:</h3><br/><table class=\"wandb\"><tr><td>Cost_Coal</td><td>6000.0</td></tr><tr><td>Cost_Gas</td><td>0.0</td></tr><tr><td>Cost_Renewable</td><td>0.0</td></tr><tr><td>Emissions_Coal</td><td>270.0</td></tr><tr><td>Emissions_Gas</td><td>0.0</td></tr><tr><td>Emissions_Renewable</td><td>0.0</td></tr><tr><td>Generation_Coal</td><td>300.0</td></tr><tr><td>Generation_Gas</td><td>0.0</td></tr><tr><td>Generation_Renewable</td><td>0.0</td></tr><tr><td>Total Cost</td><td>6000.0</td></tr></table><br/></div></div>"
      ],
      "text/plain": [
       "<IPython.core.display.HTML object>"
      ]
     },
     "metadata": {},
     "output_type": "display_data"
    },
    {
     "data": {
      "text/html": [
       " View run <strong style=\"color:#cdcd00\">pleasant-sweep-1</strong> at: <a href='https://wandb.ai/wattcast/energy_optimization/runs/sb1wlcwf' target=\"_blank\">https://wandb.ai/wattcast/energy_optimization/runs/sb1wlcwf</a><br/>Synced 5 W&B file(s), 0 media file(s), 0 artifact file(s) and 0 other file(s)"
      ],
      "text/plain": [
       "<IPython.core.display.HTML object>"
      ]
     },
     "metadata": {},
     "output_type": "display_data"
    },
    {
     "data": {
      "text/html": [
       "Find logs at: <code>./wandb/run-20231123_165816-sb1wlcwf/logs</code>"
      ],
      "text/plain": [
       "<IPython.core.display.HTML object>"
      ]
     },
     "metadata": {},
     "output_type": "display_data"
    },
    {
     "name": "stderr",
     "output_type": "stream",
     "text": [
      "\u001b[34m\u001b[1mwandb\u001b[0m: Agent Starting Run: dsb66tag with config:\n",
      "\u001b[34m\u001b[1mwandb\u001b[0m: \tdemand: 500\n",
      "Failed to detect the name of this notebook, you can set it manually with the WANDB_NOTEBOOK_NAME environment variable to enable code saving.\n"
     ]
    },
    {
     "data": {
      "text/html": [
       "wandb version 0.16.0 is available!  To upgrade, please run:\n",
       " $ pip install wandb --upgrade"
      ],
      "text/plain": [
       "<IPython.core.display.HTML object>"
      ]
     },
     "metadata": {},
     "output_type": "display_data"
    },
    {
     "data": {
      "text/html": [
       "Tracking run with wandb version 0.15.1"
      ],
      "text/plain": [
       "<IPython.core.display.HTML object>"
      ]
     },
     "metadata": {},
     "output_type": "display_data"
    },
    {
     "data": {
      "text/html": [
       "Run data is saved locally in <code>/Users/nikolaushouben/Desktop/WattCast/wandb/run-20231123_165846-dsb66tag</code>"
      ],
      "text/plain": [
       "<IPython.core.display.HTML object>"
      ]
     },
     "metadata": {},
     "output_type": "display_data"
    },
    {
     "data": {
      "text/html": [
       "Syncing run <strong><a href='https://wandb.ai/wattcast/energy_optimization/runs/dsb66tag' target=\"_blank\">tough-sweep-2</a></strong> to <a href='https://wandb.ai/wattcast/energy_optimization' target=\"_blank\">Weights & Biases</a> (<a href='https://wandb.me/run' target=\"_blank\">docs</a>)<br/>Sweep page: <a href='https://wandb.ai/wattcast/energy_optimization/sweeps/lhfzgpad' target=\"_blank\">https://wandb.ai/wattcast/energy_optimization/sweeps/lhfzgpad</a>"
      ],
      "text/plain": [
       "<IPython.core.display.HTML object>"
      ]
     },
     "metadata": {},
     "output_type": "display_data"
    },
    {
     "data": {
      "text/html": [
       " View project at <a href='https://wandb.ai/wattcast/energy_optimization' target=\"_blank\">https://wandb.ai/wattcast/energy_optimization</a>"
      ],
      "text/plain": [
       "<IPython.core.display.HTML object>"
      ]
     },
     "metadata": {},
     "output_type": "display_data"
    },
    {
     "data": {
      "text/html": [
       " View sweep at <a href='https://wandb.ai/wattcast/energy_optimization/sweeps/lhfzgpad' target=\"_blank\">https://wandb.ai/wattcast/energy_optimization/sweeps/lhfzgpad</a>"
      ],
      "text/plain": [
       "<IPython.core.display.HTML object>"
      ]
     },
     "metadata": {},
     "output_type": "display_data"
    },
    {
     "data": {
      "text/html": [
       " View run at <a href='https://wandb.ai/wattcast/energy_optimization/runs/dsb66tag' target=\"_blank\">https://wandb.ai/wattcast/energy_optimization/runs/dsb66tag</a>"
      ],
      "text/plain": [
       "<IPython.core.display.HTML object>"
      ]
     },
     "metadata": {},
     "output_type": "display_data"
    },
    {
     "data": {
      "text/html": [
       "Waiting for W&B process to finish... <strong style=\"color:green\">(success).</strong>"
      ],
      "text/plain": [
       "<IPython.core.display.HTML object>"
      ]
     },
     "metadata": {},
     "output_type": "display_data"
    },
    {
     "data": {
      "text/html": [
       "<style>\n",
       "    table.wandb td:nth-child(1) { padding: 0 10px; text-align: left ; width: auto;} td:nth-child(2) {text-align: left ; width: 100%}\n",
       "    .wandb-row { display: flex; flex-direction: row; flex-wrap: wrap; justify-content: flex-start; width: 100% }\n",
       "    .wandb-col { display: flex; flex-direction: column; flex-basis: 100%; flex: 1; padding: 10px; }\n",
       "    </style>\n",
       "<div class=\"wandb-row\"><div class=\"wandb-col\"><h3>Run history:</h3><br/><table class=\"wandb\"><tr><td>Cost_Coal</td><td>▁</td></tr><tr><td>Cost_Gas</td><td>▁</td></tr><tr><td>Cost_Renewable</td><td>▁</td></tr><tr><td>Emissions_Coal</td><td>▁</td></tr><tr><td>Emissions_Gas</td><td>▁</td></tr><tr><td>Emissions_Renewable</td><td>▁</td></tr><tr><td>Generation_Coal</td><td>▁</td></tr><tr><td>Generation_Gas</td><td>▁</td></tr><tr><td>Generation_Renewable</td><td>▁</td></tr><tr><td>Total Cost</td><td>▁▁</td></tr></table><br/></div><div class=\"wandb-col\"><h3>Run summary:</h3><br/><table class=\"wandb\"><tr><td>Cost_Coal</td><td>4000.0</td></tr><tr><td>Cost_Gas</td><td>13500.0</td></tr><tr><td>Cost_Renewable</td><td>0.0</td></tr><tr><td>Emissions_Coal</td><td>180.0</td></tr><tr><td>Emissions_Gas</td><td>120.0</td></tr><tr><td>Emissions_Renewable</td><td>0.0</td></tr><tr><td>Generation_Coal</td><td>200.0</td></tr><tr><td>Generation_Gas</td><td>300.0</td></tr><tr><td>Generation_Renewable</td><td>0.0</td></tr><tr><td>Total Cost</td><td>17500.0</td></tr></table><br/></div></div>"
      ],
      "text/plain": [
       "<IPython.core.display.HTML object>"
      ]
     },
     "metadata": {},
     "output_type": "display_data"
    },
    {
     "data": {
      "text/html": [
       " View run <strong style=\"color:#cdcd00\">tough-sweep-2</strong> at: <a href='https://wandb.ai/wattcast/energy_optimization/runs/dsb66tag' target=\"_blank\">https://wandb.ai/wattcast/energy_optimization/runs/dsb66tag</a><br/>Synced 5 W&B file(s), 0 media file(s), 0 artifact file(s) and 0 other file(s)"
      ],
      "text/plain": [
       "<IPython.core.display.HTML object>"
      ]
     },
     "metadata": {},
     "output_type": "display_data"
    },
    {
     "data": {
      "text/html": [
       "Find logs at: <code>./wandb/run-20231123_165846-dsb66tag/logs</code>"
      ],
      "text/plain": [
       "<IPython.core.display.HTML object>"
      ]
     },
     "metadata": {},
     "output_type": "display_data"
    },
    {
     "name": "stderr",
     "output_type": "stream",
     "text": [
      "\u001b[34m\u001b[1mwandb\u001b[0m: Agent Starting Run: ez1dyk0r with config:\n",
      "\u001b[34m\u001b[1mwandb\u001b[0m: \tdemand: 1000\n",
      "Failed to detect the name of this notebook, you can set it manually with the WANDB_NOTEBOOK_NAME environment variable to enable code saving.\n"
     ]
    },
    {
     "data": {
      "text/html": [
       "wandb version 0.16.0 is available!  To upgrade, please run:\n",
       " $ pip install wandb --upgrade"
      ],
      "text/plain": [
       "<IPython.core.display.HTML object>"
      ]
     },
     "metadata": {},
     "output_type": "display_data"
    },
    {
     "data": {
      "text/html": [
       "Tracking run with wandb version 0.15.1"
      ],
      "text/plain": [
       "<IPython.core.display.HTML object>"
      ]
     },
     "metadata": {},
     "output_type": "display_data"
    },
    {
     "data": {
      "text/html": [
       "Run data is saved locally in <code>/Users/nikolaushouben/Desktop/WattCast/wandb/run-20231123_165913-ez1dyk0r</code>"
      ],
      "text/plain": [
       "<IPython.core.display.HTML object>"
      ]
     },
     "metadata": {},
     "output_type": "display_data"
    },
    {
     "data": {
      "text/html": [
       "Syncing run <strong><a href='https://wandb.ai/wattcast/energy_optimization/runs/ez1dyk0r' target=\"_blank\">fearless-sweep-3</a></strong> to <a href='https://wandb.ai/wattcast/energy_optimization' target=\"_blank\">Weights & Biases</a> (<a href='https://wandb.me/run' target=\"_blank\">docs</a>)<br/>Sweep page: <a href='https://wandb.ai/wattcast/energy_optimization/sweeps/lhfzgpad' target=\"_blank\">https://wandb.ai/wattcast/energy_optimization/sweeps/lhfzgpad</a>"
      ],
      "text/plain": [
       "<IPython.core.display.HTML object>"
      ]
     },
     "metadata": {},
     "output_type": "display_data"
    },
    {
     "data": {
      "text/html": [
       " View project at <a href='https://wandb.ai/wattcast/energy_optimization' target=\"_blank\">https://wandb.ai/wattcast/energy_optimization</a>"
      ],
      "text/plain": [
       "<IPython.core.display.HTML object>"
      ]
     },
     "metadata": {},
     "output_type": "display_data"
    },
    {
     "data": {
      "text/html": [
       " View sweep at <a href='https://wandb.ai/wattcast/energy_optimization/sweeps/lhfzgpad' target=\"_blank\">https://wandb.ai/wattcast/energy_optimization/sweeps/lhfzgpad</a>"
      ],
      "text/plain": [
       "<IPython.core.display.HTML object>"
      ]
     },
     "metadata": {},
     "output_type": "display_data"
    },
    {
     "data": {
      "text/html": [
       " View run at <a href='https://wandb.ai/wattcast/energy_optimization/runs/ez1dyk0r' target=\"_blank\">https://wandb.ai/wattcast/energy_optimization/runs/ez1dyk0r</a>"
      ],
      "text/plain": [
       "<IPython.core.display.HTML object>"
      ]
     },
     "metadata": {},
     "output_type": "display_data"
    },
    {
     "data": {
      "text/html": [
       "Waiting for W&B process to finish... <strong style=\"color:green\">(success).</strong>"
      ],
      "text/plain": [
       "<IPython.core.display.HTML object>"
      ]
     },
     "metadata": {},
     "output_type": "display_data"
    },
    {
     "data": {
      "text/html": [
       "<style>\n",
       "    table.wandb td:nth-child(1) { padding: 0 10px; text-align: left ; width: auto;} td:nth-child(2) {text-align: left ; width: 100%}\n",
       "    .wandb-row { display: flex; flex-direction: row; flex-wrap: wrap; justify-content: flex-start; width: 100% }\n",
       "    .wandb-col { display: flex; flex-direction: column; flex-basis: 100%; flex: 1; padding: 10px; }\n",
       "    </style>\n",
       "<div class=\"wandb-row\"><div class=\"wandb-col\"><h3>Run history:</h3><br/><table class=\"wandb\"><tr><td>Cost_Coal</td><td>▁</td></tr><tr><td>Cost_Gas</td><td>▁</td></tr><tr><td>Cost_Renewable</td><td>▁</td></tr><tr><td>Emissions_Coal</td><td>▁</td></tr><tr><td>Emissions_Gas</td><td>▁</td></tr><tr><td>Emissions_Renewable</td><td>▁</td></tr><tr><td>Generation_Coal</td><td>▁</td></tr><tr><td>Generation_Gas</td><td>▁</td></tr><tr><td>Generation_Renewable</td><td>▁</td></tr><tr><td>Total Cost</td><td>▁▁</td></tr></table><br/></div><div class=\"wandb-col\"><h3>Run summary:</h3><br/><table class=\"wandb\"><tr><td>Cost_Coal</td><td>2222.22222</td></tr><tr><td>Cost_Gas</td><td>22500.0</td></tr><tr><td>Cost_Renewable</td><td>27222.22222</td></tr><tr><td>Emissions_Coal</td><td>100.0</td></tr><tr><td>Emissions_Gas</td><td>200.0</td></tr><tr><td>Emissions_Renewable</td><td>0.0</td></tr><tr><td>Generation_Coal</td><td>111.11111</td></tr><tr><td>Generation_Gas</td><td>500.0</td></tr><tr><td>Generation_Renewable</td><td>388.88889</td></tr><tr><td>Total Cost</td><td>51944.44444</td></tr></table><br/></div></div>"
      ],
      "text/plain": [
       "<IPython.core.display.HTML object>"
      ]
     },
     "metadata": {},
     "output_type": "display_data"
    },
    {
     "data": {
      "text/html": [
       " View run <strong style=\"color:#cdcd00\">fearless-sweep-3</strong> at: <a href='https://wandb.ai/wattcast/energy_optimization/runs/ez1dyk0r' target=\"_blank\">https://wandb.ai/wattcast/energy_optimization/runs/ez1dyk0r</a><br/>Synced 5 W&B file(s), 0 media file(s), 0 artifact file(s) and 0 other file(s)"
      ],
      "text/plain": [
       "<IPython.core.display.HTML object>"
      ]
     },
     "metadata": {},
     "output_type": "display_data"
    },
    {
     "data": {
      "text/html": [
       "Find logs at: <code>./wandb/run-20231123_165913-ez1dyk0r/logs</code>"
      ],
      "text/plain": [
       "<IPython.core.display.HTML object>"
      ]
     },
     "metadata": {},
     "output_type": "display_data"
    }
   ],
   "source": [
    "sweep_config = {\n",
    "    'method': 'grid',  # Alternatively, 'random' could be used for a non-exhaustive search\n",
    "    'metric': {\n",
    "        'name': 'Total Cost',\n",
    "        'goal': 'minimize'   \n",
    "    },\n",
    "    'parameters': {\n",
    "        'demand': {\n",
    "            'values': [300, 500, 1000]  # Testing different levels of emission caps\n",
    "        }\n",
    "    }\n",
    "}\n",
    "\n",
    "# Initialize the sweep\n",
    "sweep_id = wandb.sweep(sweep_config, project=\"energy_optimization\")\n",
    "\n",
    "def sweep_run():\n",
    "    with wandb.init() as run:\n",
    "        # Get the emission cap from the current run's configuration\n",
    "        input_params['demand'] = run.config.demand\n",
    "        \n",
    "        # Define and solve the model as before...\n",
    "\n",
    "\n",
    "        model, solution, power_plants = run_model(input_params)\n",
    "\n",
    "\n",
    "        # Log the results\n",
    "        wandb.log({\"Total Cost\": model.cost()})\n",
    "        for p in power_plants:\n",
    "            wandb.log({\n",
    "                f'Generation_{p}': model.generation[p].value,\n",
    "                f'Cost_{p}': model.generation[p].value * input_params['costs'][p],\n",
    "                f'Emissions_{p}': model.generation[p].value * input_params['emission_factors'][p]\n",
    "            })\n",
    "\n",
    "        total_cost = model.cost()\n",
    "\n",
    "        wandb.log({\"Total Cost\": total_cost})\n",
    "\n",
    "        \n",
    "\n",
    "# Run the sweep\n",
    "wandb.agent(sweep_id, function=sweep_run, count=3)\n",
    "        \n",
    "\n",
    "\n"
   ]
  },
  {
   "cell_type": "code",
   "execution_count": null,
   "metadata": {},
   "outputs": [],
   "source": []
  }
 ],
 "metadata": {
  "kernelspec": {
   "display_name": "Wattcast",
   "language": "python",
   "name": "python3"
  },
  "language_info": {
   "codemirror_mode": {
    "name": "ipython",
    "version": 3
   },
   "file_extension": ".py",
   "mimetype": "text/x-python",
   "name": "python",
   "nbconvert_exporter": "python",
   "pygments_lexer": "ipython3",
   "version": "3.11.3"
  }
 },
 "nbformat": 4,
 "nbformat_minor": 2
}
