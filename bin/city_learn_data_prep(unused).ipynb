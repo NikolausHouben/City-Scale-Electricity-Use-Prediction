{
 "cells": [
  {
   "cell_type": "markdown",
   "metadata": {},
   "source": [
    "## &#x2462; Neighborhood data - CityLearn\n",
    "<a href=\"https://gitlab.aicrowd.com/aicrowd/challenges/citylearn-challenge-2022/citylearn-2022-starter-kit/-/tree/master/data/citylearn_challenge_2022_phase_1\" rel=\"nofollow noreferrer noopener\" target=\"_blank\"><img src=\"https://img.shields.io/badge/Download-ZIP-brightgreen.svg\" alt=\"Discord\" class=\"js-lazy-loaded qa-js-lazy-loaded\" loading=\"lazy\"></a>\n",
    "\n",
    "Used for: \n",
    "\n",
    "* 4_neighborhood"
   ]
  },
  {
   "cell_type": "markdown",
   "metadata": {},
   "source": [
    "### Data Prep"
   ]
  },
  {
   "cell_type": "code",
   "execution_count": null,
   "metadata": {
    "vscode": {
     "languageId": "plaintext"
    }
   },
   "outputs": [],
   "source": [
    "dir_path = r'data\\raw_data\\neighborhood_CITYLEARN/Building_{}.csv'\n",
    "\n",
    "dfs = []\n",
    "for i in range(1,5):\n",
    "    df = pd.read_csv(dir_path.format(i)) # since data is hourly, we dont need a factor to for kW\n",
    "    # we have 8760 timesteps, so that is 365 days in hourly resolution\n",
    "    # lets make a new index with the correct dates, manually it can be seen that the first timestep is the last hour of july\n",
    "    new_index = pd.date_range(start='2022-07-31 23:00:00', end='2023-07-31 22:00:00', freq='H')\n",
    "    df.index = new_index\n",
    "    df = df[['Equipment Electric Power [kWh]',\n",
    "       'DHW Heating [kWh]', 'Cooling Load [kWh]', 'Heating Load [kWh]']]\n",
    "    \n",
    "    dfs.append(df)\n",
    "\n",
    "df_neigh = pd.concat(dfs, axis=1).sum(axis=1).to_frame('neighborhood_demand_kW')\n",
    "\n",
    "\n",
    "\n",
    "\n"
   ]
  },
  {
   "cell_type": "markdown",
   "metadata": {},
   "source": [
    "### Visualization"
   ]
  },
  {
   "cell_type": "code",
   "execution_count": null,
   "metadata": {
    "vscode": {
     "languageId": "plaintext"
    }
   },
   "outputs": [],
   "source": [
    "fig = px.line(df_neigh)\n",
    "fig.update_layout(title='Neighborhood Power Demand', xaxis_title='Time', yaxis_title='Power (kW)')"
   ]
  },
  {
   "cell_type": "code",
   "execution_count": null,
   "metadata": {
    "vscode": {
     "languageId": "plaintext"
    }
   },
   "outputs": [],
   "source": [
    "df_neigh.to_csv(r'data\\cleaned_data\\4_neighborhood\\power\\neighborhood_demand_kW.csv')"
   ]
  }
 ],
 "metadata": {
  "language_info": {
   "name": "python"
  },
  "orig_nbformat": 4
 },
 "nbformat": 4,
 "nbformat_minor": 2
}
