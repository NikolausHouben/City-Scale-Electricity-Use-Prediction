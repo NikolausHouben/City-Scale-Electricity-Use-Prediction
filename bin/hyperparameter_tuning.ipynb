{
 "cells": [
  {
   "cell_type": "code",
   "execution_count": 7,
   "metadata": {},
   "outputs": [],
   "source": [
    "import os, sys\n",
    "import plotly.express as px\n",
    "import pandas as pd\n",
    "import numpy as np\n",
    "import matplotlib.pyplot as plt\n",
    "\n",
    "import darts\n",
    "from darts.utils.statistics import check_seasonality, plot_acf, stationarity_tests\n",
    "from darts.dataprocessing.transformers.missing_values_filler import MissingValuesFiller\n",
    "from darts.dataprocessing.transformers.boxcox import BoxCox\n",
    "from darts.dataprocessing.transformers.diff import Diff\n",
    "from darts.utils.statistics import plot_hist\n",
    "from darts.models import LightGBMModel, XGBModel, LinearRegressionModel, TFTModel, NHiTSModel, RNNModel, TFTModel\n",
    "from darts.metrics import smape, mape, mase, mse, rmse, r2_score, mae\n",
    "from darts.dataprocessing.pipeline import Pipeline\n",
    "from sklearn.preprocessing import MinMaxScaler, RobustScaler   \n",
    "from darts.dataprocessing.transformers.scaler import Scaler\n",
    "from darts.utils.missing_values import extract_subseries\n",
    "\n",
    "from pytorch_lightning.loggers import WandbLogger\n",
    "from pytorch_lightning.callbacks.early_stopping import EarlyStopping\n",
    "from torch.optim.lr_scheduler import ReduceLROnPlateau\n",
    "from pytorch_lightning.callbacks import ModelCheckpoint\n",
    "import torch\n",
    "from wandb.xgboost import WandbCallback\n",
    "\n",
    "\n",
    "from utils import *\n",
    "import wandb\n",
    "wandb.login()\n",
    "\n",
    "\n",
    "import warnings\n",
    "warnings.filterwarnings('ignore')\n",
    "\n",
    "# Set seed\n",
    "np.random.seed(42)\n",
    "\n"
   ]
  },
  {
   "cell_type": "code",
   "execution_count": 2,
   "metadata": {},
   "outputs": [
    {
     "name": "stdout",
     "output_type": "stream",
     "text": [
      "Current working directory: c:\\Users\\nik\\Desktop\\Berkeley_Projects\\WattCast\n"
     ]
    }
   ],
   "source": [
    "# Set working directory\n",
    "os.chdir(r\"..\") # should be the git repo root directory, checking below:\n",
    "print(\"Current working directory: \" + os.getcwd())\n",
    "assert os.getcwd()[-8:] == \"WattCast\"\n",
    "dir_path = os.path.join(os.getcwd(), 'data', 'clean_data')\n",
    "model_dir = os.path.join(os.getcwd(), 'models')"
   ]
  },
  {
   "cell_type": "code",
   "execution_count": 8,
   "metadata": {},
   "outputs": [],
   "source": [
    "# run parameters\n",
    "\n",
    "config_dataset = {\n",
    "    'spatial_scale': '3_village',\n",
    "    'temp_resolution': 60,\n",
    "    'location': 'village_2',\n",
    "}\n",
    "\n",
    "config_modeldesign = {'boxcox': True,\n",
    "                    'horizon_in_hours': 24, # in hours\n",
    "                    'lookback_in_hours': 24, # in hours\n",
    "                    'liklihood': None,\n",
    "                    'weather': True,\n",
    "                    'holiday': True,\n",
    "                    'datetime_encodings': True,\n",
    "                    }\n",
    "                   \n",
    "\n",
    "if config_dataset['temp_resolution'] == 60:\n",
    "     timestep_encoding = [\"hour\"] \n",
    "elif config_dataset['temp_resolution'] == 15:\n",
    "     timestep_encoding = ['quarter']\n",
    "else:\n",
    "    timestep_encoding = [\"hour\", \"minute\"]\n",
    "\n",
    "\n",
    "config_encoders =  {\n",
    "                    \"cyclic\": {\"future\": timestep_encoding}, \n",
    "                    \"position\": {\"future\": [\"relative\",]},\n",
    "                    \"datetime_attribute\": {\"future\": [\"dayofweek\", \"week\"]},\n",
    "                    'position': {'past': ['relative'], 'future': ['relative']},\n",
    "            }\n",
    "\n"
   ]
  },
  {
   "cell_type": "code",
   "execution_count": 9,
   "metadata": {},
   "outputs": [],
   "source": [
    "# calculate derived parameters\n",
    "datetime_encoders = config_encoders if config_modeldesign['datetime_encodings'] else None\n",
    "timesteps_per_hour = int(60 / config_dataset['temp_resolution'])\n",
    "n_lags = config_modeldesign['lookback_in_hours'] * timesteps_per_hour\n",
    "n_ahead = config_modeldesign['horizon_in_hours'] * timesteps_per_hour\n",
    "list_metrics = [smape, mape, rmse, r2_score, mae] # evaluation metrics\n",
    "eval_stride = int(np.sqrt(n_ahead)) # evaluation stride, how often to evaluate the model, in this case we evaluate every n_ahead steps\n",
    "\n",
    "# Loading Data\n",
    "df_train = pd.read_hdf(os.path.join(dir_path, f'{config_dataset[\"spatial_scale\"]}.h5'), key=f'{config_dataset[\"location\"]}/{config_dataset[\"temp_resolution\"]}min/train_target')\n",
    "df_val = pd.read_hdf(os.path.join(dir_path, f'{config_dataset[\"spatial_scale\"]}.h5'), key=f'{config_dataset[\"location\"]}/{config_dataset[\"temp_resolution\"]}min/val_target')\n",
    "df_test = pd.read_hdf(os.path.join(dir_path, f'{config_dataset[\"spatial_scale\"]}.h5'), key=f'{config_dataset[\"location\"]}/{config_dataset[\"temp_resolution\"]}min/test_target')\n",
    "\n",
    "if config_modeldesign['weather']:\n",
    "    df_cov_train = pd.read_hdf(os.path.join(dir_path, f'{config_dataset[\"spatial_scale\"]}.h5'), key=f'{config_dataset[\"location\"]}/{config_dataset[\"temp_resolution\"]}min/train_cov')\n",
    "    df_cov_val = pd.read_hdf(os.path.join(dir_path, f'{config_dataset[\"spatial_scale\"]}.h5'), key=f'{config_dataset[\"location\"]}/{config_dataset[\"temp_resolution\"]}min/val_cov')\n",
    "    df_cov_test = pd.read_hdf(os.path.join(dir_path, f'{config_dataset[\"spatial_scale\"]}.h5'), key=f'{config_dataset[\"location\"]}/{config_dataset[\"temp_resolution\"]}min/test_cov')"
   ]
  },
  {
   "cell_type": "code",
   "execution_count": 11,
   "metadata": {},
   "outputs": [],
   "source": [
    "# into darts format\n",
    "ts_train = darts.TimeSeries.from_dataframe(df_train, freq=str(config_dataset['temp_resolution']) + 'min')\n",
    "ts_train = extract_subseries(ts_train)\n",
    "ts_val = darts.TimeSeries.from_dataframe(df_val, freq=str(config_dataset['temp_resolution']) + 'min')\n",
    "ts_val = extract_subseries(ts_val)\n",
    "ts_test = darts.TimeSeries.from_dataframe(df_test, freq=str(config_dataset['temp_resolution']) + 'min')\n",
    "ts_test = extract_subseries(ts_test)\n",
    "\n",
    "# Covariates\n",
    "if config_modeldesign['weather']:\n",
    "    ts_cov_train = darts.TimeSeries.from_dataframe(df_cov_train, freq=str(config_dataset['temp_resolution']) + 'min')\n",
    "    ts_cov_val = darts.TimeSeries.from_dataframe(df_cov_val, freq=str(config_dataset['temp_resolution']) + 'min')\n",
    "    ts_cov_test = darts.TimeSeries.from_dataframe(df_cov_test, freq=str(config_dataset['temp_resolution']) + 'min')\n",
    "else:\n",
    "    ts_cov_train = None\n",
    "    ts_cov_val = None\n",
    "    ts_cov_test = None\n",
    "\n",
    "# Reviewing subseries to make sure they are long enough\n",
    "ts_train, ts_cov_train = review_subseries(ts_train, n_lags, n_ahead, ts_cov_train)\n",
    "ts_val, ts_cov_val = review_subseries(ts_val, n_lags, n_ahead, ts_cov_val)\n",
    "ts_test, ts_cov_test = review_subseries(ts_test, n_lags, n_ahead, ts_cov_test)\n",
    "\n",
    "# getting the index of the longest subseries, to be used for evaluation later\n",
    "longest_ts_val_idx = get_longest_subseries_idx(ts_val)\n",
    "longest_ts_test_idx = get_longest_subseries_idx(ts_test)"
   ]
  },
  {
   "cell_type": "code",
   "execution_count": 12,
   "metadata": {},
   "outputs": [],
   "source": [
    "# Load pipeline\n",
    "pipeline = Pipeline( # missing values have been filled in the 'data_prep.ipynb'\n",
    "                    [\n",
    "                    BoxCox() if config_modeldesign['boxcox'] else None,\n",
    "                    Scaler(MinMaxScaler()),\n",
    "                    ]\n",
    "                     )\n",
    "\n",
    "ts_train_piped = pipeline.fit_transform(ts_train)\n",
    "ts_val_piped = pipeline.transform(ts_val)\n",
    "ts_test_piped = pipeline.transform(ts_test)\n",
    "\n",
    "# Weather Pipeline\n",
    "if config_modeldesign['weather']:\n",
    "    pipeline_weather = Pipeline([Scaler(RobustScaler())])\n",
    "    ts_train_weather_piped = pipeline_weather.fit_transform(ts_cov_train)\n",
    "    ts_val_weather_piped = pipeline_weather.transform(ts_cov_val)\n",
    "    ts_test_weather_piped = pipeline_weather.transform(ts_cov_test)\n",
    "else:\n",
    "    ts_train_weather_piped = None\n",
    "    ts_val_weather_piped = None\n",
    "    ts_test_weather_piped = None"
   ]
  },
  {
   "cell_type": "code",
   "execution_count": 13,
   "metadata": {},
   "outputs": [],
   "source": [
    "trg_train_inversed = pipeline.inverse_transform(ts_train_piped, partial=True) # inverse transform the target, we need the original values for the evaluation\n",
    "trg_val_inversed = pipeline.inverse_transform(ts_val_piped, partial=True) # inverse transform the target, we need the original values for the evaluation\n",
    "trg_test_inversed = pipeline.inverse_transform(ts_test_piped, partial=True) # inverse transform the target, we need the original values for the evaluation"
   ]
  },
  {
   "attachments": {},
   "cell_type": "markdown",
   "metadata": {},
   "source": [
    "## Hyperparameter Tuning with wandb sweep"
   ]
  },
  {
   "attachments": {},
   "cell_type": "markdown",
   "metadata": {},
   "source": [
    "### XGBoost"
   ]
  },
  {
   "cell_type": "code",
   "execution_count": 20,
   "metadata": {},
   "outputs": [],
   "source": [
    "def train_xgb():\n",
    "\n",
    "    wandb.init()\n",
    "    wandb.config.update(config_modeldesign)\n",
    "    config = wandb.config\n",
    "\n",
    "\n",
    "    optimizer_kwargs = {}\n",
    "\n",
    "    n_lags = config.lookback_in_hours * timesteps_per_hour\n",
    "\n",
    "\n",
    "    xgb_kwargs = {\n",
    "        'n_estimators': config.n_estimators,\n",
    "        'max_depth': config.max_depth,\n",
    "        'learning_rate': config.learning_rate,\n",
    "        'min_child_weight': config.min_child_weight,\n",
    "        'objective': config.objective,\n",
    "        'reg_lambda': config.reg_lambda,\n",
    "        'callbacks': [WandbCallback()],\n",
    "    }\n",
    "\n",
    "\n",
    "    xgb_model = XGBModel(lags=n_lags,\n",
    "                    lags_future_covariates=[0],\n",
    "                    add_encoders=datetime_encoders, \n",
    "                    output_chunk_length=n_ahead, \n",
    "                    likelihood=config.liklihood,\n",
    "                    random_state=42,\n",
    "                    kwargs = xgb_kwargs\n",
    "                    )\n",
    "\n",
    "    xgb_model.fit(ts_train_piped, future_covariates = ts_cov_train, val_series=ts_val_piped, val_future_covariates=ts_cov_val, verbose=True)\n",
    "\n",
    "    predictions = predict_testset(xgb_model, ts_test_piped[longest_ts_test_idx], ts_cov_test[longest_ts_test_idx]) # visualize only the first 200 time steps\n",
    "\n",
    "    df_compare = pd.concat([trg_test_inversed.pd_dataframe(), predictions], axis=1).dropna()\n",
    "    df_compare.columns = ['target', 'prediction']\n",
    "    fig = px.line(df_compare, title='Predictions vs. Test Set')\n",
    "\n",
    "    wandb.log({'predictions': fig})\n",
    "\n",
    "\n",
    "    wandb.finish()\n",
    "\n"
   ]
  },
  {
   "cell_type": "code",
   "execution_count": 21,
   "metadata": {},
   "outputs": [
    {
     "name": "stdout",
     "output_type": "stream",
     "text": [
      "Create sweep with ID: ttqsw9g3\n",
      "Sweep URL: https://wandb.ai/wattcast/Wattcast_tuning/sweeps/ttqsw9g3\n"
     ]
    },
    {
     "name": "stderr",
     "output_type": "stream",
     "text": [
      "\u001b[34m\u001b[1mwandb\u001b[0m: Agent Starting Run: zh1xovdt with config:\n",
      "\u001b[34m\u001b[1mwandb\u001b[0m: \tlearning_rate: 0.3\n",
      "\u001b[34m\u001b[1mwandb\u001b[0m: \tmax_depth: 3\n",
      "\u001b[34m\u001b[1mwandb\u001b[0m: \tmin_child_weight: 5\n",
      "\u001b[34m\u001b[1mwandb\u001b[0m: \tn_estimators: 500\n",
      "\u001b[34m\u001b[1mwandb\u001b[0m: \tobjective: reg:squarederror\n",
      "\u001b[34m\u001b[1mwandb\u001b[0m: \treg_lambda: 1\n",
      "Failed to detect the name of this notebook, you can set it manually with the WANDB_NOTEBOOK_NAME environment variable to enable code saving.\n"
     ]
    },
    {
     "data": {
      "application/vnd.jupyter.widget-view+json": {
       "model_id": "0dee74e50960486480ca95677175a51d",
       "version_major": 2,
       "version_minor": 0
      },
      "text/plain": [
       "VBox(children=(Label(value='Waiting for wandb.init()...\\r'), FloatProgress(value=0.016916666666899498, max=1.0…"
      ]
     },
     "metadata": {},
     "output_type": "display_data"
    },
    {
     "data": {
      "text/html": [
       "wandb version 0.15.3 is available!  To upgrade, please run:\n",
       " $ pip install wandb --upgrade"
      ],
      "text/plain": [
       "<IPython.core.display.HTML object>"
      ]
     },
     "metadata": {},
     "output_type": "display_data"
    },
    {
     "data": {
      "text/html": [
       "Tracking run with wandb version 0.14.0"
      ],
      "text/plain": [
       "<IPython.core.display.HTML object>"
      ]
     },
     "metadata": {},
     "output_type": "display_data"
    },
    {
     "data": {
      "text/html": [
       "Run data is saved locally in <code>c:\\Users\\nik\\Desktop\\Berkeley_Projects\\WattCast\\wandb\\run-20230522_165004-zh1xovdt</code>"
      ],
      "text/plain": [
       "<IPython.core.display.HTML object>"
      ]
     },
     "metadata": {},
     "output_type": "display_data"
    },
    {
     "data": {
      "text/html": [
       "Syncing run <strong><a href='https://wandb.ai/wattcast/Wattcast_tuning/runs/zh1xovdt' target=\"_blank\">light-sweep-1</a></strong> to <a href='https://wandb.ai/wattcast/Wattcast_tuning' target=\"_blank\">Weights & Biases</a> (<a href='https://wandb.me/run' target=\"_blank\">docs</a>)<br/>Sweep page: <a href='https://wandb.ai/wattcast/Wattcast_tuning/sweeps/ttqsw9g3' target=\"_blank\">https://wandb.ai/wattcast/Wattcast_tuning/sweeps/ttqsw9g3</a>"
      ],
      "text/plain": [
       "<IPython.core.display.HTML object>"
      ]
     },
     "metadata": {},
     "output_type": "display_data"
    },
    {
     "data": {
      "text/html": [
       " View project at <a href='https://wandb.ai/wattcast/Wattcast_tuning' target=\"_blank\">https://wandb.ai/wattcast/Wattcast_tuning</a>"
      ],
      "text/plain": [
       "<IPython.core.display.HTML object>"
      ]
     },
     "metadata": {},
     "output_type": "display_data"
    },
    {
     "data": {
      "text/html": [
       " View sweep at <a href='https://wandb.ai/wattcast/Wattcast_tuning/sweeps/ttqsw9g3' target=\"_blank\">https://wandb.ai/wattcast/Wattcast_tuning/sweeps/ttqsw9g3</a>"
      ],
      "text/plain": [
       "<IPython.core.display.HTML object>"
      ]
     },
     "metadata": {},
     "output_type": "display_data"
    },
    {
     "data": {
      "text/html": [
       " View run at <a href='https://wandb.ai/wattcast/Wattcast_tuning/runs/zh1xovdt' target=\"_blank\">https://wandb.ai/wattcast/Wattcast_tuning/runs/zh1xovdt</a>"
      ],
      "text/plain": [
       "<IPython.core.display.HTML object>"
      ]
     },
     "metadata": {},
     "output_type": "display_data"
    },
    {
     "data": {
      "text/html": [
       "Waiting for W&B process to finish... <strong style=\"color:red\">(failed 1).</strong> Press Ctrl-C to abort syncing."
      ],
      "text/plain": [
       "<IPython.core.display.HTML object>"
      ]
     },
     "metadata": {},
     "output_type": "display_data"
    },
    {
     "data": {
      "application/vnd.jupyter.widget-view+json": {
       "model_id": "4721f7e06c894413940972ec31f4560c",
       "version_major": 2,
       "version_minor": 0
      },
      "text/plain": [
       "VBox(children=(Label(value='0.000 MB of 0.001 MB uploaded (0.000 MB deduped)\\r'), FloatProgress(value=0.0, max…"
      ]
     },
     "metadata": {},
     "output_type": "display_data"
    },
    {
     "data": {
      "text/html": [
       " View run <strong style=\"color:#cdcd00\">light-sweep-1</strong> at: <a href='https://wandb.ai/wattcast/Wattcast_tuning/runs/zh1xovdt' target=\"_blank\">https://wandb.ai/wattcast/Wattcast_tuning/runs/zh1xovdt</a><br/>Synced 5 W&B file(s), 0 media file(s), 0 artifact file(s) and 0 other file(s)"
      ],
      "text/plain": [
       "<IPython.core.display.HTML object>"
      ]
     },
     "metadata": {},
     "output_type": "display_data"
    },
    {
     "data": {
      "text/html": [
       "Find logs at: <code>.\\wandb\\run-20230522_165004-zh1xovdt\\logs</code>"
      ],
      "text/plain": [
       "<IPython.core.display.HTML object>"
      ]
     },
     "metadata": {},
     "output_type": "display_data"
    },
    {
     "name": "stderr",
     "output_type": "stream",
     "text": [
      "Run zh1xovdt errored: UnboundLocalError(\"local variable 'config' referenced before assignment\")\n",
      "\u001b[34m\u001b[1mwandb\u001b[0m: \u001b[32m\u001b[41mERROR\u001b[0m Run zh1xovdt errored: UnboundLocalError(\"local variable 'config' referenced before assignment\")\n"
     ]
    }
   ],
   "source": [
    "\n",
    "config_sweep_xgb = {\n",
    "    'name': 'XGBoost sweep' + config_dataset['spatial_scale'] + '_' + config_dataset['location'] + '_' + str(config_dataset['temp_resolution']),\n",
    "    'method': 'bayes', #grid, random\n",
    "    'metric': {\n",
    "        'name': 'val_loss',\n",
    "        'goal': 'minimize'\n",
    "    },\n",
    "    'parameters': {\n",
    "        'n_estimators': {\n",
    "            'values': [100, 500, 1000]\n",
    "        },\n",
    "        'learning_rate': {\n",
    "            'values': [0.05, 0.1, 0.2, 0.3]\n",
    "        },\n",
    "        'max_depth': {\n",
    "            'values': [3, 6, 12]\n",
    "        },\n",
    "        'min_child_weight': {\n",
    "            'values': [1, 5, 10]\n",
    "        },\n",
    "        'objective': {\n",
    "            'values': ['reg:squarederror', 'reg:pseudohubererror']\n",
    "        },\n",
    "        'reg_lambda': {\n",
    "            'values': [0.1, 0.3, 0.5, 0.7, 1]\n",
    "        },\n",
    "}\n",
    "}\n",
    "\n",
    "\n",
    "sweep_id = wandb.sweep(config_sweep_xgb, project=\"WattCast_tuning\")\n",
    "wandb.agent(sweep_id, train_xgb, count=1)"
   ]
  },
  {
   "attachments": {},
   "cell_type": "markdown",
   "metadata": {},
   "source": [
    "### LightGBM"
   ]
  },
  {
   "cell_type": "code",
   "execution_count": null,
   "metadata": {},
   "outputs": [],
   "source": []
  },
  {
   "attachments": {},
   "cell_type": "markdown",
   "metadata": {},
   "source": [
    "### GRU Model"
   ]
  },
  {
   "cell_type": "code",
   "execution_count": null,
   "metadata": {},
   "outputs": [],
   "source": [
    "def train_gru():\n",
    "\n",
    "    wandb.init()\n",
    "    config = wandb.config\n",
    "\n",
    "    optimizer_kwargs = {}\n",
    "\n",
    "    optimizer_kwargs['lr'] = config.lr\n",
    "    \n",
    "    n_lags = config.lookback_in_hours * timesteps_per_hour\n",
    "\n",
    "    pl_trainer_kwargs = {\n",
    "        'max_epochs': 50,\n",
    "        'accelerator': 'gpu',\n",
    "        'devices': [0],\n",
    "        'callbacks': [EarlyStopping(monitor='val_loss', patience=5, mode='min')],\n",
    "        'logger': WandbLogger(log_model='all'),\n",
    "    }\n",
    "\n",
    "    schedule_kwargs = {\n",
    "        'patience': 2,\n",
    "        'factor': 0.5,\n",
    "        'min_lr': 1e-5,\n",
    "        'verbose': True\n",
    "        }\n",
    "\n",
    "    model = RNNModel(  \n",
    "                    model = 'GRU',\n",
    "                    input_chunk_length=n_lags,\n",
    "                    output_chunk_length=n_ahead,\n",
    "                    hidden_dim=config.hidden_dim,\n",
    "                    n_rnn_layers=config.n_rnn_layers,\n",
    "                    batch_size=config.batch_size,\n",
    "                    dropout=config.dropout,\n",
    "                    add_encoders=datetime_encoders,\n",
    "                    likelihood=None,\n",
    "                    pl_trainer_kwargs=pl_trainer_kwargs,\n",
    "                    optimizer_kwargs=optimizer_kwargs,\n",
    "                    lr_scheduler_cls=ReduceLROnPlateau,\n",
    "                    lr_scheduler_kwargs=schedule_kwargs,\n",
    "                    random_state=42,\n",
    "                )\n",
    "\n",
    "    model.fit(ts_train_piped, future_covariates = ts_cov_train, val_series=ts_val_piped, val_future_covariates=ts_cov_val, verbose=True)\n",
    "\n",
    "    predictions = predict_testset(model, ts_test_piped[longest_ts_test_idx], ts_cov_test[longest_ts_test_idx]) # visualize only the first 200 time steps\n",
    "\n",
    "    df_compare = pd.concat([trg_test_inversed.pd_dataframe(), predictions], axis=1).dropna()\n",
    "    df_compare.columns = ['target', 'prediction']\n",
    "    fig = px.line(df_compare, title='Predictions vs. Test Set')\n",
    "\n",
    "    wandb.log({'predictions': fig})\n",
    "\n",
    "\n",
    "    wandb.finish()\n",
    "\n",
    "\n",
    "config_sweep_gru = {\n",
    "    'name': 'GRU sweep' + config_dataset['spatial_scale'] + '_' + config_dataset['location'] + '_' + str(config_dataset['temp_resolution']),\n",
    "    'method': 'bayes', #grid, random\n",
    "    'metric': {\n",
    "        'name': 'val_loss',\n",
    "        'goal': 'minimize'\n",
    "    },\n",
    "    'parameters': {\n",
    "        'lr': {\n",
    "            'values': [5e-3, 1e-3, 3e-4]\n",
    "},\n",
    "        'hidden_dim': {\n",
    "            'values': [64, 512, 1024]\n",
    "},\n",
    "        'n_rnn_layers': {\n",
    "            'values': [1, 2, 3]\n",
    "},\n",
    "        'dropout': {\n",
    "            'values': [0.1, 0.2, 0.3]\n",
    "},\n",
    "        'batch_size': {\n",
    "            'values': [32, 64, 128]\n",
    "},\n",
    "        'lookback_in_hours': {\n",
    "            'values': [24]\n",
    "},\n",
    "}\n",
    "}\n",
    "\n",
    "\n",
    "sweep_id = wandb.sweep(config_sweep_gru, project=\"WattCast_tuning\")\n",
    "wandb.agent(sweep_id, train_gru, count=20)"
   ]
  },
  {
   "attachments": {},
   "cell_type": "markdown",
   "metadata": {},
   "source": [
    "### Transformer Model"
   ]
  }
 ],
 "metadata": {
  "kernelspec": {
   "display_name": "gpu2",
   "language": "python",
   "name": "python3"
  },
  "language_info": {
   "codemirror_mode": {
    "name": "ipython",
    "version": 3
   },
   "file_extension": ".py",
   "mimetype": "text/x-python",
   "name": "python",
   "nbconvert_exporter": "python",
   "pygments_lexer": "ipython3",
   "version": "3.10.9"
  },
  "orig_nbformat": 4
 },
 "nbformat": 4,
 "nbformat_minor": 2
}
