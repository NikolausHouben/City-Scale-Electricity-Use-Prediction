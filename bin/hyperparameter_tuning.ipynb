{
 "cells": [
  {
   "cell_type": "code",
   "execution_count": 1,
   "metadata": {},
   "outputs": [
    {
     "name": "stderr",
     "output_type": "stream",
     "text": [
      "Failed to detect the name of this notebook, you can set it manually with the WANDB_NOTEBOOK_NAME environment variable to enable code saving.\n",
      "\u001b[34m\u001b[1mwandb\u001b[0m: Currently logged in as: \u001b[33mnikolaushouben\u001b[0m (\u001b[33mwattcast\u001b[0m). Use \u001b[1m`wandb login --relogin`\u001b[0m to force relogin\n"
     ]
    }
   ],
   "source": [
    "import os, sys\n",
    "import plotly.express as px\n",
    "import pandas as pd\n",
    "import numpy as np\n",
    "import matplotlib.pyplot as plt\n",
    "\n",
    "import darts\n",
    "from darts.utils.statistics import check_seasonality, plot_acf, stationarity_tests\n",
    "from darts.dataprocessing.transformers.missing_values_filler import MissingValuesFiller\n",
    "from darts.dataprocessing.transformers.boxcox import BoxCox\n",
    "from darts.dataprocessing.transformers.diff import Diff\n",
    "from darts.utils.statistics import plot_hist\n",
    "from darts.models import LightGBMModel, XGBModel, LinearRegressionModel, TFTModel, NHiTSModel, RNNModel, TFTModel\n",
    "from darts.metrics import smape, mape, mase, mse, rmse, r2_score, mae\n",
    "from darts.dataprocessing.pipeline import Pipeline\n",
    "from sklearn.preprocessing import MinMaxScaler, RobustScaler   \n",
    "from darts.dataprocessing.transformers.scaler import Scaler\n",
    "from darts.utils.missing_values import extract_subseries\n",
    "\n",
    "from pytorch_lightning.loggers import WandbLogger\n",
    "from pytorch_lightning.callbacks.early_stopping import EarlyStopping\n",
    "from torch.optim.lr_scheduler import ReduceLROnPlateau\n",
    "from pytorch_lightning.callbacks import ModelCheckpoint\n",
    "import torch\n",
    "from wandb.xgboost import WandbCallback\n",
    "\n",
    "\n",
    "from utils import *\n",
    "import wandb\n",
    "wandb.login()\n",
    "\n",
    "\n",
    "import warnings\n",
    "warnings.filterwarnings('ignore')\n",
    "\n",
    "# Set seed\n",
    "np.random.seed(42)\n",
    "\n"
   ]
  },
  {
   "cell_type": "code",
   "execution_count": 2,
   "metadata": {},
   "outputs": [
    {
     "name": "stdout",
     "output_type": "stream",
     "text": [
      "Current working directory: c:\\Users\\nik\\Desktop\\Berkeley_Projects\\WattCast\n"
     ]
    }
   ],
   "source": [
    "# Set working directory\n",
    "os.chdir(r\"..\") # should be the git repo root directory, checking below:\n",
    "print(\"Current working directory: \" + os.getcwd())\n",
    "assert os.getcwd()[-8:] == \"WattCast\"\n",
    "dir_path = os.path.join(os.getcwd(), 'data', 'clean_data')\n",
    "model_dir = os.path.join(os.getcwd(), 'models')"
   ]
  },
  {
   "cell_type": "code",
   "execution_count": 3,
   "metadata": {},
   "outputs": [],
   "source": [
    "# run parameters\n",
    "\n",
    "config_dataset = {\n",
    "    'spatial_scale': '3_village',\n",
    "    'temp_resolution': 60,\n",
    "    'location': 'village_2',\n",
    "}\n",
    "\n",
    "config_modeldesign = {'boxcox': True,\n",
    "                    'horizon_in_hours': 24, # in hours\n",
    "                    'lookback_in_hours': 24, # in hours\n",
    "                    'liklihood': None,\n",
    "                    'weather': True,\n",
    "                    'holiday': True,\n",
    "                    'datetime_encodings': True,\n",
    "                    }\n",
    "                   \n",
    "\n",
    "if config_dataset['temp_resolution'] == 60:\n",
    "     timestep_encoding = [\"hour\"] \n",
    "elif config_dataset['temp_resolution'] == 15:\n",
    "     timestep_encoding = ['quarter']\n",
    "else:\n",
    "    timestep_encoding = [\"hour\", \"minute\"]\n",
    "\n",
    "\n",
    "config_encoders =  {\n",
    "                    \"cyclic\": {\"future\": timestep_encoding}, \n",
    "                    \"position\": {\"future\": [\"relative\",]},\n",
    "                    \"datetime_attribute\": {\"future\": [\"dayofweek\", \"week\"]},\n",
    "                    'position': {'past': ['relative'], 'future': ['relative']},\n",
    "            }\n",
    "\n"
   ]
  },
  {
   "cell_type": "code",
   "execution_count": 4,
   "metadata": {},
   "outputs": [],
   "source": [
    "# calculate derived parameters\n",
    "datetime_encoders = config_encoders if config_modeldesign['datetime_encodings'] else None\n",
    "timesteps_per_hour = int(60 / config_dataset['temp_resolution'])\n",
    "n_lags = config_modeldesign['lookback_in_hours'] * timesteps_per_hour\n",
    "n_ahead = config_modeldesign['horizon_in_hours'] * timesteps_per_hour\n",
    "list_metrics = [smape, mape, rmse, r2_score, mae] # evaluation metrics\n",
    "eval_stride = int(np.sqrt(n_ahead)) # evaluation stride, how often to evaluate the model, in this case we evaluate every n_ahead steps\n",
    "\n",
    "# Loading Data\n",
    "df_train = pd.read_hdf(os.path.join(dir_path, f'{config_dataset[\"spatial_scale\"]}.h5'), key=f'{config_dataset[\"location\"]}/{config_dataset[\"temp_resolution\"]}min/train_target')\n",
    "df_val = pd.read_hdf(os.path.join(dir_path, f'{config_dataset[\"spatial_scale\"]}.h5'), key=f'{config_dataset[\"location\"]}/{config_dataset[\"temp_resolution\"]}min/val_target')\n",
    "df_test = pd.read_hdf(os.path.join(dir_path, f'{config_dataset[\"spatial_scale\"]}.h5'), key=f'{config_dataset[\"location\"]}/{config_dataset[\"temp_resolution\"]}min/test_target')\n",
    "\n",
    "if config_modeldesign['weather']:\n",
    "    df_cov_train = pd.read_hdf(os.path.join(dir_path, f'{config_dataset[\"spatial_scale\"]}.h5'), key=f'{config_dataset[\"location\"]}/{config_dataset[\"temp_resolution\"]}min/train_cov')\n",
    "    df_cov_val = pd.read_hdf(os.path.join(dir_path, f'{config_dataset[\"spatial_scale\"]}.h5'), key=f'{config_dataset[\"location\"]}/{config_dataset[\"temp_resolution\"]}min/val_cov')\n",
    "    df_cov_test = pd.read_hdf(os.path.join(dir_path, f'{config_dataset[\"spatial_scale\"]}.h5'), key=f'{config_dataset[\"location\"]}/{config_dataset[\"temp_resolution\"]}min/test_cov')"
   ]
  },
  {
   "cell_type": "code",
   "execution_count": 5,
   "metadata": {},
   "outputs": [],
   "source": [
    "# into darts format\n",
    "ts_train = darts.TimeSeries.from_dataframe(df_train, freq=str(config_dataset['temp_resolution']) + 'min')\n",
    "ts_train = extract_subseries(ts_train)\n",
    "ts_val = darts.TimeSeries.from_dataframe(df_val, freq=str(config_dataset['temp_resolution']) + 'min')\n",
    "ts_val = extract_subseries(ts_val)\n",
    "ts_test = darts.TimeSeries.from_dataframe(df_test, freq=str(config_dataset['temp_resolution']) + 'min')\n",
    "ts_test = extract_subseries(ts_test)\n",
    "\n",
    "# Covariates\n",
    "if config_modeldesign['weather']:\n",
    "    ts_cov_train = darts.TimeSeries.from_dataframe(df_cov_train, freq=str(config_dataset['temp_resolution']) + 'min')\n",
    "    ts_cov_val = darts.TimeSeries.from_dataframe(df_cov_val, freq=str(config_dataset['temp_resolution']) + 'min')\n",
    "    ts_cov_test = darts.TimeSeries.from_dataframe(df_cov_test, freq=str(config_dataset['temp_resolution']) + 'min')\n",
    "else:\n",
    "    ts_cov_train = None\n",
    "    ts_cov_val = None\n",
    "    ts_cov_test = None\n",
    "\n",
    "# Reviewing subseries to make sure they are long enough\n",
    "ts_train, ts_cov_train = review_subseries(ts_train, n_lags, n_ahead, ts_cov_train)\n",
    "ts_val, ts_cov_val = review_subseries(ts_val, n_lags, n_ahead, ts_cov_val)\n",
    "ts_test, ts_cov_test = review_subseries(ts_test, n_lags, n_ahead, ts_cov_test)\n",
    "\n",
    "# getting the index of the longest subseries, to be used for evaluation later\n",
    "longest_ts_val_idx = get_longest_subseries_idx(ts_val)\n",
    "longest_ts_test_idx = get_longest_subseries_idx(ts_test)"
   ]
  },
  {
   "cell_type": "code",
   "execution_count": 6,
   "metadata": {},
   "outputs": [],
   "source": [
    "# Load pipeline\n",
    "pipeline = Pipeline( # missing values have been filled in the 'data_prep.ipynb'\n",
    "                    [\n",
    "                    BoxCox() if config_modeldesign['boxcox'] else None,\n",
    "                    Scaler(MinMaxScaler()),\n",
    "                    ]\n",
    "                     )\n",
    "\n",
    "ts_train_piped = pipeline.fit_transform(ts_train)\n",
    "ts_val_piped = pipeline.transform(ts_val)\n",
    "ts_test_piped = pipeline.transform(ts_test)\n",
    "\n",
    "# Weather Pipeline\n",
    "if config_modeldesign['weather']:\n",
    "    pipeline_weather = Pipeline([Scaler(RobustScaler())])\n",
    "    ts_train_weather_piped = pipeline_weather.fit_transform(ts_cov_train)\n",
    "    ts_val_weather_piped = pipeline_weather.transform(ts_cov_val)\n",
    "    ts_test_weather_piped = pipeline_weather.transform(ts_cov_test)\n",
    "else:\n",
    "    ts_train_weather_piped = None\n",
    "    ts_val_weather_piped = None\n",
    "    ts_test_weather_piped = None"
   ]
  },
  {
   "cell_type": "code",
   "execution_count": 7,
   "metadata": {},
   "outputs": [],
   "source": [
    "trg_train_inversed = pipeline.inverse_transform(ts_train_piped, partial=True) # inverse transform the target, we need the original values for the evaluation\n",
    "trg_val_inversed = pipeline.inverse_transform(ts_val_piped, partial=True) # inverse transform the target, we need the original values for the evaluation\n",
    "trg_test_inversed = pipeline.inverse_transform(ts_test_piped, partial=True) # inverse transform the target, we need the original values for the evaluation"
   ]
  },
  {
   "attachments": {},
   "cell_type": "markdown",
   "metadata": {},
   "source": [
    "## Hyperparameter Tuning with wandb sweep"
   ]
  },
  {
   "attachments": {},
   "cell_type": "markdown",
   "metadata": {},
   "source": [
    "### XGBoost"
   ]
  },
  {
   "cell_type": "code",
   "execution_count": 8,
   "metadata": {},
   "outputs": [],
   "source": [
    "def train_xgb():\n",
    "\n",
    "    wandb.init()\n",
    "    wandb.config.update(config_modeldesign)\n",
    "    config = wandb.config\n",
    "\n",
    "    n_lags = config.lookback_in_hours * timesteps_per_hour\n",
    "\n",
    "\n",
    "    xgb_kwargs = {\n",
    "        'n_estimators': config.n_estimators,\n",
    "        'max_depth': config.max_depth,\n",
    "        'learning_rate': config.learning_rate,\n",
    "        'min_child_weight': config.min_child_weight,\n",
    "        'objective': config.objective,\n",
    "        'reg_lambda': config.reg_lambda,\n",
    "        'callbacks': [WandbCallback()],\n",
    "         'early_stopping_rounds': 10\n",
    "    }\n",
    "\n",
    "\n",
    "    xgb_model = XGBModel(lags=n_lags,\n",
    "                    lags_future_covariates=[0],\n",
    "                    add_encoders=datetime_encoders, \n",
    "                    output_chunk_length=n_ahead, \n",
    "                    likelihood=config.liklihood,\n",
    "                    random_state=42,\n",
    "                    kwargs = xgb_kwargs\n",
    "                    )\n",
    "\n",
    "    xgb_model.fit(ts_train_piped, future_covariates = ts_cov_train, val_series=ts_val_piped, val_future_covariates=ts_cov_val, verbose=True)\n",
    "\n",
    "    predictions = predict_testset(xgb_model, ts_test_piped[longest_ts_test_idx], ts_cov_test[longest_ts_test_idx]) # visualize only the first 200 time steps\n",
    "\n",
    "    df_compare = pd.concat([trg_test_inversed.pd_dataframe(), predictions], axis=1).dropna()\n",
    "    df_compare.columns = ['target', 'prediction']\n",
    "    fig = px.line(df_compare, title='Predictions vs. Test Set')\n",
    "\n",
    "    wandb.log({'predictions': fig})\n",
    "\n",
    "\n",
    "    wandb.finish()\n",
    "\n"
   ]
  },
  {
   "cell_type": "code",
   "execution_count": 9,
   "metadata": {},
   "outputs": [
    {
     "ename": "KeyboardInterrupt",
     "evalue": "",
     "output_type": "error",
     "traceback": [
      "\u001b[1;31m---------------------------------------------------------------------------\u001b[0m",
      "\u001b[1;31mKeyboardInterrupt\u001b[0m                         Traceback (most recent call last)",
      "Cell \u001b[1;32mIn[9], line 31\u001b[0m\n\u001b[0;32m      1\u001b[0m config_sweep_xgb \u001b[39m=\u001b[39m {\n\u001b[0;32m      2\u001b[0m     \u001b[39m'\u001b[39m\u001b[39mname\u001b[39m\u001b[39m'\u001b[39m: \u001b[39m'\u001b[39m\u001b[39mXGBoost sweep\u001b[39m\u001b[39m'\u001b[39m \u001b[39m+\u001b[39m config_dataset[\u001b[39m'\u001b[39m\u001b[39mspatial_scale\u001b[39m\u001b[39m'\u001b[39m] \u001b[39m+\u001b[39m \u001b[39m'\u001b[39m\u001b[39m_\u001b[39m\u001b[39m'\u001b[39m \u001b[39m+\u001b[39m config_dataset[\u001b[39m'\u001b[39m\u001b[39mlocation\u001b[39m\u001b[39m'\u001b[39m] \u001b[39m+\u001b[39m \u001b[39m'\u001b[39m\u001b[39m_\u001b[39m\u001b[39m'\u001b[39m \u001b[39m+\u001b[39m \u001b[39mstr\u001b[39m(config_dataset[\u001b[39m'\u001b[39m\u001b[39mtemp_resolution\u001b[39m\u001b[39m'\u001b[39m]),\n\u001b[0;32m      3\u001b[0m     \u001b[39m'\u001b[39m\u001b[39mmethod\u001b[39m\u001b[39m'\u001b[39m: \u001b[39m'\u001b[39m\u001b[39mbayes\u001b[39m\u001b[39m'\u001b[39m, \u001b[39m#grid, random\u001b[39;00m\n\u001b[1;32m   (...)\u001b[0m\n\u001b[0;32m     27\u001b[0m }\n\u001b[0;32m     28\u001b[0m }\n\u001b[1;32m---> 31\u001b[0m sweep_id \u001b[39m=\u001b[39m wandb\u001b[39m.\u001b[39;49msweep(config_sweep_xgb, project\u001b[39m=\u001b[39;49m\u001b[39m\"\u001b[39;49m\u001b[39mWattCast_tuning\u001b[39;49m\u001b[39m\"\u001b[39;49m)\n\u001b[0;32m     32\u001b[0m wandb\u001b[39m.\u001b[39magent(sweep_id, train_xgb, count\u001b[39m=\u001b[39m\u001b[39m1\u001b[39m)\n",
      "File \u001b[1;32mc:\\Users\\nik\\miniconda3\\envs\\gpu2\\lib\\site-packages\\wandb\\sdk\\wandb_sweep.py:110\u001b[0m, in \u001b[0;36msweep\u001b[1;34m(sweep, entity, project)\u001b[0m\n\u001b[0;32m    108\u001b[0m     wandb_login\u001b[39m.\u001b[39m_login(_silent\u001b[39m=\u001b[39m\u001b[39mTrue\u001b[39;00m)\n\u001b[0;32m    109\u001b[0m api \u001b[39m=\u001b[39m InternalApi()\n\u001b[1;32m--> 110\u001b[0m sweep_id, warnings \u001b[39m=\u001b[39m api\u001b[39m.\u001b[39;49mupsert_sweep(sweep)\n\u001b[0;32m    111\u001b[0m handle_sweep_config_violations(warnings)\n\u001b[0;32m    112\u001b[0m \u001b[39mprint\u001b[39m(\u001b[39m\"\u001b[39m\u001b[39mCreate sweep with ID:\u001b[39m\u001b[39m\"\u001b[39m, sweep_id)\n",
      "File \u001b[1;32mc:\\Users\\nik\\miniconda3\\envs\\gpu2\\lib\\site-packages\\wandb\\apis\\internal.py:120\u001b[0m, in \u001b[0;36mApi.upsert_sweep\u001b[1;34m(self, *args, **kwargs)\u001b[0m\n\u001b[0;32m    119\u001b[0m \u001b[39mdef\u001b[39;00m \u001b[39mupsert_sweep\u001b[39m(\u001b[39mself\u001b[39m, \u001b[39m*\u001b[39margs, \u001b[39m*\u001b[39m\u001b[39m*\u001b[39mkwargs):\n\u001b[1;32m--> 120\u001b[0m     \u001b[39mreturn\u001b[39;00m \u001b[39mself\u001b[39m\u001b[39m.\u001b[39mapi\u001b[39m.\u001b[39mupsert_sweep(\u001b[39m*\u001b[39margs, \u001b[39m*\u001b[39m\u001b[39m*\u001b[39mkwargs)\n",
      "File \u001b[1;32mc:\\Users\\nik\\miniconda3\\envs\\gpu2\\lib\\site-packages\\wandb\\apis\\normalize.py:25\u001b[0m, in \u001b[0;36mnormalize_exceptions.<locals>.wrapper\u001b[1;34m(*args, **kwargs)\u001b[0m\n\u001b[0;32m     23\u001b[0m message \u001b[39m=\u001b[39m \u001b[39m\"\u001b[39m\u001b[39mWhoa, you found a bug.\u001b[39m\u001b[39m\"\u001b[39m\n\u001b[0;32m     24\u001b[0m \u001b[39mtry\u001b[39;00m:\n\u001b[1;32m---> 25\u001b[0m     \u001b[39mreturn\u001b[39;00m func(\u001b[39m*\u001b[39margs, \u001b[39m*\u001b[39m\u001b[39m*\u001b[39mkwargs)\n\u001b[0;32m     26\u001b[0m \u001b[39mexcept\u001b[39;00m requests\u001b[39m.\u001b[39mHTTPError \u001b[39mas\u001b[39;00m err:\n\u001b[0;32m     27\u001b[0m     \u001b[39mraise\u001b[39;00m CommError(err\u001b[39m.\u001b[39mresponse, err)\n",
      "File \u001b[1;32mc:\\Users\\nik\\miniconda3\\envs\\gpu2\\lib\\site-packages\\wandb\\sdk\\internal\\internal_api.py:2352\u001b[0m, in \u001b[0;36mApi.upsert_sweep\u001b[1;34m(self, config, controller, launch_scheduler, scheduler, obj_id, project, entity, state)\u001b[0m\n\u001b[0;32m   2350\u001b[0m \u001b[39mfor\u001b[39;00m mutation \u001b[39min\u001b[39;00m mutations:\n\u001b[0;32m   2351\u001b[0m     \u001b[39mtry\u001b[39;00m:\n\u001b[1;32m-> 2352\u001b[0m         response \u001b[39m=\u001b[39m \u001b[39mself\u001b[39;49m\u001b[39m.\u001b[39;49mgql(\n\u001b[0;32m   2353\u001b[0m             mutation,\n\u001b[0;32m   2354\u001b[0m             variable_values\u001b[39m=\u001b[39;49m{\n\u001b[0;32m   2355\u001b[0m                 \u001b[39m\"\u001b[39;49m\u001b[39mid\u001b[39;49m\u001b[39m\"\u001b[39;49m: obj_id,\n\u001b[0;32m   2356\u001b[0m                 \u001b[39m\"\u001b[39;49m\u001b[39mconfig\u001b[39;49m\u001b[39m\"\u001b[39;49m: yaml\u001b[39m.\u001b[39;49mdump(config),\n\u001b[0;32m   2357\u001b[0m                 \u001b[39m\"\u001b[39;49m\u001b[39mdescription\u001b[39;49m\u001b[39m\"\u001b[39;49m: config\u001b[39m.\u001b[39;49mget(\u001b[39m\"\u001b[39;49m\u001b[39mdescription\u001b[39;49m\u001b[39m\"\u001b[39;49m),\n\u001b[0;32m   2358\u001b[0m                 \u001b[39m\"\u001b[39;49m\u001b[39mentityName\u001b[39;49m\u001b[39m\"\u001b[39;49m: entity \u001b[39mor\u001b[39;49;00m \u001b[39mself\u001b[39;49m\u001b[39m.\u001b[39;49msettings(\u001b[39m\"\u001b[39;49m\u001b[39mentity\u001b[39;49m\u001b[39m\"\u001b[39;49m),\n\u001b[0;32m   2359\u001b[0m                 \u001b[39m\"\u001b[39;49m\u001b[39mprojectName\u001b[39;49m\u001b[39m\"\u001b[39;49m: project \u001b[39mor\u001b[39;49;00m \u001b[39mself\u001b[39;49m\u001b[39m.\u001b[39;49msettings(\u001b[39m\"\u001b[39;49m\u001b[39mproject\u001b[39;49m\u001b[39m\"\u001b[39;49m),\n\u001b[0;32m   2360\u001b[0m                 \u001b[39m\"\u001b[39;49m\u001b[39mcontroller\u001b[39;49m\u001b[39m\"\u001b[39;49m: controller,\n\u001b[0;32m   2361\u001b[0m                 \u001b[39m\"\u001b[39;49m\u001b[39mlaunchScheduler\u001b[39;49m\u001b[39m\"\u001b[39;49m: launch_scheduler,\n\u001b[0;32m   2362\u001b[0m                 \u001b[39m\"\u001b[39;49m\u001b[39mscheduler\u001b[39;49m\u001b[39m\"\u001b[39;49m: scheduler,\n\u001b[0;32m   2363\u001b[0m             },\n\u001b[0;32m   2364\u001b[0m             check_retry_fn\u001b[39m=\u001b[39;49mutil\u001b[39m.\u001b[39;49mno_retry_4xx,\n\u001b[0;32m   2365\u001b[0m         )\n\u001b[0;32m   2366\u001b[0m     \u001b[39mexcept\u001b[39;00m UsageError \u001b[39mas\u001b[39;00m e:\n\u001b[0;32m   2367\u001b[0m         \u001b[39mraise\u001b[39;00m e\n",
      "File \u001b[1;32mc:\\Users\\nik\\miniconda3\\envs\\gpu2\\lib\\site-packages\\wandb\\sdk\\internal\\internal_api.py:215\u001b[0m, in \u001b[0;36mApi.gql\u001b[1;34m(self, *args, **kwargs)\u001b[0m\n\u001b[0;32m    214\u001b[0m \u001b[39mdef\u001b[39;00m \u001b[39mgql\u001b[39m(\u001b[39mself\u001b[39m, \u001b[39m*\u001b[39margs: Any, \u001b[39m*\u001b[39m\u001b[39m*\u001b[39mkwargs: Any) \u001b[39m-\u001b[39m\u001b[39m>\u001b[39m Any:\n\u001b[1;32m--> 215\u001b[0m     ret \u001b[39m=\u001b[39m \u001b[39mself\u001b[39m\u001b[39m.\u001b[39m_retry_gql(\n\u001b[0;32m    216\u001b[0m         \u001b[39m*\u001b[39margs,\n\u001b[0;32m    217\u001b[0m         retry_cancel_event\u001b[39m=\u001b[39m\u001b[39mself\u001b[39m\u001b[39m.\u001b[39mcontext\u001b[39m.\u001b[39mcancel_event,\n\u001b[0;32m    218\u001b[0m         \u001b[39m*\u001b[39m\u001b[39m*\u001b[39mkwargs,\n\u001b[0;32m    219\u001b[0m     )\n\u001b[0;32m    220\u001b[0m     \u001b[39mreturn\u001b[39;00m ret\n",
      "File \u001b[1;32mc:\\Users\\nik\\miniconda3\\envs\\gpu2\\lib\\site-packages\\wandb\\sdk\\lib\\retry.py:131\u001b[0m, in \u001b[0;36mRetry.__call__\u001b[1;34m(self, *args, **kwargs)\u001b[0m\n\u001b[0;32m    129\u001b[0m \u001b[39mwhile\u001b[39;00m \u001b[39mTrue\u001b[39;00m:\n\u001b[0;32m    130\u001b[0m     \u001b[39mtry\u001b[39;00m:\n\u001b[1;32m--> 131\u001b[0m         result \u001b[39m=\u001b[39m \u001b[39mself\u001b[39m\u001b[39m.\u001b[39m_call_fn(\u001b[39m*\u001b[39margs, \u001b[39m*\u001b[39m\u001b[39m*\u001b[39mkwargs)\n\u001b[0;32m    132\u001b[0m         \u001b[39m# Only print resolved attempts once every minute\u001b[39;00m\n\u001b[0;32m    133\u001b[0m         \u001b[39mif\u001b[39;00m \u001b[39mself\u001b[39m\u001b[39m.\u001b[39m_num_iter \u001b[39m>\u001b[39m \u001b[39m2\u001b[39m \u001b[39mand\u001b[39;00m now \u001b[39m-\u001b[39m \u001b[39mself\u001b[39m\u001b[39m.\u001b[39m_last_print \u001b[39m>\u001b[39m datetime\u001b[39m.\u001b[39mtimedelta(\n\u001b[0;32m    134\u001b[0m             minutes\u001b[39m=\u001b[39m\u001b[39m1\u001b[39m\n\u001b[0;32m    135\u001b[0m         ):\n",
      "File \u001b[1;32mc:\\Users\\nik\\miniconda3\\envs\\gpu2\\lib\\site-packages\\wandb\\sdk\\internal\\internal_api.py:243\u001b[0m, in \u001b[0;36mApi.execute\u001b[1;34m(self, *args, **kwargs)\u001b[0m\n\u001b[0;32m    241\u001b[0m \u001b[39m\u001b[39m\u001b[39m\"\"\"Wrapper around execute that logs in cases of failure.\"\"\"\u001b[39;00m\n\u001b[0;32m    242\u001b[0m \u001b[39mtry\u001b[39;00m:\n\u001b[1;32m--> 243\u001b[0m     \u001b[39mreturn\u001b[39;00m \u001b[39mself\u001b[39m\u001b[39m.\u001b[39mclient\u001b[39m.\u001b[39mexecute(\u001b[39m*\u001b[39margs, \u001b[39m*\u001b[39m\u001b[39m*\u001b[39mkwargs)  \u001b[39m# type: ignore\u001b[39;00m\n\u001b[0;32m    244\u001b[0m \u001b[39mexcept\u001b[39;00m requests\u001b[39m.\u001b[39mexceptions\u001b[39m.\u001b[39mHTTPError \u001b[39mas\u001b[39;00m err:\n\u001b[0;32m    245\u001b[0m     res \u001b[39m=\u001b[39m err\u001b[39m.\u001b[39mresponse\n",
      "File \u001b[1;32mc:\\Users\\nik\\miniconda3\\envs\\gpu2\\lib\\site-packages\\wandb\\vendor\\gql-0.2.0\\wandb_gql\\client.py:52\u001b[0m, in \u001b[0;36mClient.execute\u001b[1;34m(self, document, *args, **kwargs)\u001b[0m\n\u001b[0;32m     49\u001b[0m \u001b[39mif\u001b[39;00m \u001b[39mself\u001b[39m\u001b[39m.\u001b[39mschema:\n\u001b[0;32m     50\u001b[0m     \u001b[39mself\u001b[39m\u001b[39m.\u001b[39mvalidate(document)\n\u001b[1;32m---> 52\u001b[0m result \u001b[39m=\u001b[39m \u001b[39mself\u001b[39m\u001b[39m.\u001b[39m_get_result(document, \u001b[39m*\u001b[39margs, \u001b[39m*\u001b[39m\u001b[39m*\u001b[39mkwargs)\n\u001b[0;32m     53\u001b[0m \u001b[39mif\u001b[39;00m result\u001b[39m.\u001b[39merrors:\n\u001b[0;32m     54\u001b[0m     \u001b[39mraise\u001b[39;00m \u001b[39mException\u001b[39;00m(\u001b[39mstr\u001b[39m(result\u001b[39m.\u001b[39merrors[\u001b[39m0\u001b[39m]))\n",
      "File \u001b[1;32mc:\\Users\\nik\\miniconda3\\envs\\gpu2\\lib\\site-packages\\wandb\\vendor\\gql-0.2.0\\wandb_gql\\client.py:60\u001b[0m, in \u001b[0;36mClient._get_result\u001b[1;34m(self, document, *args, **kwargs)\u001b[0m\n\u001b[0;32m     58\u001b[0m \u001b[39mdef\u001b[39;00m \u001b[39m_get_result\u001b[39m(\u001b[39mself\u001b[39m, document, \u001b[39m*\u001b[39margs, \u001b[39m*\u001b[39m\u001b[39m*\u001b[39mkwargs):\n\u001b[0;32m     59\u001b[0m     \u001b[39mif\u001b[39;00m \u001b[39mnot\u001b[39;00m \u001b[39mself\u001b[39m\u001b[39m.\u001b[39mretries:\n\u001b[1;32m---> 60\u001b[0m         \u001b[39mreturn\u001b[39;00m \u001b[39mself\u001b[39m\u001b[39m.\u001b[39mtransport\u001b[39m.\u001b[39mexecute(document, \u001b[39m*\u001b[39margs, \u001b[39m*\u001b[39m\u001b[39m*\u001b[39mkwargs)\n\u001b[0;32m     62\u001b[0m     last_exception \u001b[39m=\u001b[39m \u001b[39mNone\u001b[39;00m\n\u001b[0;32m     63\u001b[0m     retries_count \u001b[39m=\u001b[39m \u001b[39m0\u001b[39m\n",
      "File \u001b[1;32mc:\\Users\\nik\\miniconda3\\envs\\gpu2\\lib\\site-packages\\wandb\\vendor\\gql-0.2.0\\wandb_gql\\transport\\requests.py:38\u001b[0m, in \u001b[0;36mRequestsHTTPTransport.execute\u001b[1;34m(self, document, variable_values, timeout)\u001b[0m\n\u001b[0;32m     30\u001b[0m data_key \u001b[39m=\u001b[39m \u001b[39m'\u001b[39m\u001b[39mjson\u001b[39m\u001b[39m'\u001b[39m \u001b[39mif\u001b[39;00m \u001b[39mself\u001b[39m\u001b[39m.\u001b[39muse_json \u001b[39melse\u001b[39;00m \u001b[39m'\u001b[39m\u001b[39mdata\u001b[39m\u001b[39m'\u001b[39m\n\u001b[0;32m     31\u001b[0m post_args \u001b[39m=\u001b[39m {\n\u001b[0;32m     32\u001b[0m     \u001b[39m'\u001b[39m\u001b[39mheaders\u001b[39m\u001b[39m'\u001b[39m: \u001b[39mself\u001b[39m\u001b[39m.\u001b[39mheaders,\n\u001b[0;32m     33\u001b[0m     \u001b[39m'\u001b[39m\u001b[39mauth\u001b[39m\u001b[39m'\u001b[39m: \u001b[39mself\u001b[39m\u001b[39m.\u001b[39mauth,\n\u001b[1;32m   (...)\u001b[0m\n\u001b[0;32m     36\u001b[0m     data_key: payload\n\u001b[0;32m     37\u001b[0m }\n\u001b[1;32m---> 38\u001b[0m request \u001b[39m=\u001b[39m requests\u001b[39m.\u001b[39mpost(\u001b[39mself\u001b[39m\u001b[39m.\u001b[39murl, \u001b[39m*\u001b[39m\u001b[39m*\u001b[39mpost_args)\n\u001b[0;32m     39\u001b[0m request\u001b[39m.\u001b[39mraise_for_status()\n\u001b[0;32m     41\u001b[0m result \u001b[39m=\u001b[39m request\u001b[39m.\u001b[39mjson()\n",
      "File \u001b[1;32mc:\\Users\\nik\\miniconda3\\envs\\gpu2\\lib\\site-packages\\requests\\api.py:115\u001b[0m, in \u001b[0;36mpost\u001b[1;34m(url, data, json, **kwargs)\u001b[0m\n\u001b[0;32m    103\u001b[0m \u001b[39mdef\u001b[39;00m \u001b[39mpost\u001b[39m(url, data\u001b[39m=\u001b[39m\u001b[39mNone\u001b[39;00m, json\u001b[39m=\u001b[39m\u001b[39mNone\u001b[39;00m, \u001b[39m*\u001b[39m\u001b[39m*\u001b[39mkwargs):\n\u001b[0;32m    104\u001b[0m \u001b[39m    \u001b[39m\u001b[39mr\u001b[39m\u001b[39m\"\"\"Sends a POST request.\u001b[39;00m\n\u001b[0;32m    105\u001b[0m \n\u001b[0;32m    106\u001b[0m \u001b[39m    :param url: URL for the new :class:`Request` object.\u001b[39;00m\n\u001b[1;32m   (...)\u001b[0m\n\u001b[0;32m    112\u001b[0m \u001b[39m    :rtype: requests.Response\u001b[39;00m\n\u001b[0;32m    113\u001b[0m \u001b[39m    \"\"\"\u001b[39;00m\n\u001b[1;32m--> 115\u001b[0m     \u001b[39mreturn\u001b[39;00m request(\u001b[39m\"\u001b[39m\u001b[39mpost\u001b[39m\u001b[39m\"\u001b[39m, url, data\u001b[39m=\u001b[39mdata, json\u001b[39m=\u001b[39mjson, \u001b[39m*\u001b[39m\u001b[39m*\u001b[39mkwargs)\n",
      "File \u001b[1;32mc:\\Users\\nik\\miniconda3\\envs\\gpu2\\lib\\site-packages\\requests\\api.py:59\u001b[0m, in \u001b[0;36mrequest\u001b[1;34m(method, url, **kwargs)\u001b[0m\n\u001b[0;32m     55\u001b[0m \u001b[39m# By using the 'with' statement we are sure the session is closed, thus we\u001b[39;00m\n\u001b[0;32m     56\u001b[0m \u001b[39m# avoid leaving sockets open which can trigger a ResourceWarning in some\u001b[39;00m\n\u001b[0;32m     57\u001b[0m \u001b[39m# cases, and look like a memory leak in others.\u001b[39;00m\n\u001b[0;32m     58\u001b[0m \u001b[39mwith\u001b[39;00m sessions\u001b[39m.\u001b[39mSession() \u001b[39mas\u001b[39;00m session:\n\u001b[1;32m---> 59\u001b[0m     \u001b[39mreturn\u001b[39;00m session\u001b[39m.\u001b[39mrequest(method\u001b[39m=\u001b[39mmethod, url\u001b[39m=\u001b[39murl, \u001b[39m*\u001b[39m\u001b[39m*\u001b[39mkwargs)\n",
      "File \u001b[1;32mc:\\Users\\nik\\miniconda3\\envs\\gpu2\\lib\\site-packages\\requests\\sessions.py:587\u001b[0m, in \u001b[0;36mSession.request\u001b[1;34m(self, method, url, params, data, headers, cookies, files, auth, timeout, allow_redirects, proxies, hooks, stream, verify, cert, json)\u001b[0m\n\u001b[0;32m    582\u001b[0m send_kwargs \u001b[39m=\u001b[39m {\n\u001b[0;32m    583\u001b[0m     \u001b[39m\"\u001b[39m\u001b[39mtimeout\u001b[39m\u001b[39m\"\u001b[39m: timeout,\n\u001b[0;32m    584\u001b[0m     \u001b[39m\"\u001b[39m\u001b[39mallow_redirects\u001b[39m\u001b[39m\"\u001b[39m: allow_redirects,\n\u001b[0;32m    585\u001b[0m }\n\u001b[0;32m    586\u001b[0m send_kwargs\u001b[39m.\u001b[39mupdate(settings)\n\u001b[1;32m--> 587\u001b[0m resp \u001b[39m=\u001b[39m \u001b[39mself\u001b[39m\u001b[39m.\u001b[39msend(prep, \u001b[39m*\u001b[39m\u001b[39m*\u001b[39msend_kwargs)\n\u001b[0;32m    589\u001b[0m \u001b[39mreturn\u001b[39;00m resp\n",
      "File \u001b[1;32mc:\\Users\\nik\\miniconda3\\envs\\gpu2\\lib\\site-packages\\requests\\sessions.py:701\u001b[0m, in \u001b[0;36mSession.send\u001b[1;34m(self, request, **kwargs)\u001b[0m\n\u001b[0;32m    698\u001b[0m start \u001b[39m=\u001b[39m preferred_clock()\n\u001b[0;32m    700\u001b[0m \u001b[39m# Send the request\u001b[39;00m\n\u001b[1;32m--> 701\u001b[0m r \u001b[39m=\u001b[39m adapter\u001b[39m.\u001b[39msend(request, \u001b[39m*\u001b[39m\u001b[39m*\u001b[39mkwargs)\n\u001b[0;32m    703\u001b[0m \u001b[39m# Total elapsed time of the request (approximately)\u001b[39;00m\n\u001b[0;32m    704\u001b[0m elapsed \u001b[39m=\u001b[39m preferred_clock() \u001b[39m-\u001b[39m start\n",
      "File \u001b[1;32mc:\\Users\\nik\\miniconda3\\envs\\gpu2\\lib\\site-packages\\requests\\adapters.py:489\u001b[0m, in \u001b[0;36mHTTPAdapter.send\u001b[1;34m(self, request, stream, timeout, verify, cert, proxies)\u001b[0m\n\u001b[0;32m    487\u001b[0m \u001b[39mtry\u001b[39;00m:\n\u001b[0;32m    488\u001b[0m     \u001b[39mif\u001b[39;00m \u001b[39mnot\u001b[39;00m chunked:\n\u001b[1;32m--> 489\u001b[0m         resp \u001b[39m=\u001b[39m conn\u001b[39m.\u001b[39;49murlopen(\n\u001b[0;32m    490\u001b[0m             method\u001b[39m=\u001b[39;49mrequest\u001b[39m.\u001b[39;49mmethod,\n\u001b[0;32m    491\u001b[0m             url\u001b[39m=\u001b[39;49murl,\n\u001b[0;32m    492\u001b[0m             body\u001b[39m=\u001b[39;49mrequest\u001b[39m.\u001b[39;49mbody,\n\u001b[0;32m    493\u001b[0m             headers\u001b[39m=\u001b[39;49mrequest\u001b[39m.\u001b[39;49mheaders,\n\u001b[0;32m    494\u001b[0m             redirect\u001b[39m=\u001b[39;49m\u001b[39mFalse\u001b[39;49;00m,\n\u001b[0;32m    495\u001b[0m             assert_same_host\u001b[39m=\u001b[39;49m\u001b[39mFalse\u001b[39;49;00m,\n\u001b[0;32m    496\u001b[0m             preload_content\u001b[39m=\u001b[39;49m\u001b[39mFalse\u001b[39;49;00m,\n\u001b[0;32m    497\u001b[0m             decode_content\u001b[39m=\u001b[39;49m\u001b[39mFalse\u001b[39;49;00m,\n\u001b[0;32m    498\u001b[0m             retries\u001b[39m=\u001b[39;49m\u001b[39mself\u001b[39;49m\u001b[39m.\u001b[39;49mmax_retries,\n\u001b[0;32m    499\u001b[0m             timeout\u001b[39m=\u001b[39;49mtimeout,\n\u001b[0;32m    500\u001b[0m         )\n\u001b[0;32m    502\u001b[0m     \u001b[39m# Send the request.\u001b[39;00m\n\u001b[0;32m    503\u001b[0m     \u001b[39melse\u001b[39;00m:\n\u001b[0;32m    504\u001b[0m         \u001b[39mif\u001b[39;00m \u001b[39mhasattr\u001b[39m(conn, \u001b[39m\"\u001b[39m\u001b[39mproxy_pool\u001b[39m\u001b[39m\"\u001b[39m):\n",
      "File \u001b[1;32mc:\\Users\\nik\\miniconda3\\envs\\gpu2\\lib\\site-packages\\urllib3\\connectionpool.py:703\u001b[0m, in \u001b[0;36mHTTPConnectionPool.urlopen\u001b[1;34m(self, method, url, body, headers, retries, redirect, assert_same_host, timeout, pool_timeout, release_conn, chunked, body_pos, **response_kw)\u001b[0m\n\u001b[0;32m    700\u001b[0m     \u001b[39mself\u001b[39m\u001b[39m.\u001b[39m_prepare_proxy(conn)\n\u001b[0;32m    702\u001b[0m \u001b[39m# Make the request on the httplib connection object.\u001b[39;00m\n\u001b[1;32m--> 703\u001b[0m httplib_response \u001b[39m=\u001b[39m \u001b[39mself\u001b[39;49m\u001b[39m.\u001b[39;49m_make_request(\n\u001b[0;32m    704\u001b[0m     conn,\n\u001b[0;32m    705\u001b[0m     method,\n\u001b[0;32m    706\u001b[0m     url,\n\u001b[0;32m    707\u001b[0m     timeout\u001b[39m=\u001b[39;49mtimeout_obj,\n\u001b[0;32m    708\u001b[0m     body\u001b[39m=\u001b[39;49mbody,\n\u001b[0;32m    709\u001b[0m     headers\u001b[39m=\u001b[39;49mheaders,\n\u001b[0;32m    710\u001b[0m     chunked\u001b[39m=\u001b[39;49mchunked,\n\u001b[0;32m    711\u001b[0m )\n\u001b[0;32m    713\u001b[0m \u001b[39m# If we're going to release the connection in ``finally:``, then\u001b[39;00m\n\u001b[0;32m    714\u001b[0m \u001b[39m# the response doesn't need to know about the connection. Otherwise\u001b[39;00m\n\u001b[0;32m    715\u001b[0m \u001b[39m# it will also try to release it and we'll have a double-release\u001b[39;00m\n\u001b[0;32m    716\u001b[0m \u001b[39m# mess.\u001b[39;00m\n\u001b[0;32m    717\u001b[0m response_conn \u001b[39m=\u001b[39m conn \u001b[39mif\u001b[39;00m \u001b[39mnot\u001b[39;00m release_conn \u001b[39melse\u001b[39;00m \u001b[39mNone\u001b[39;00m\n",
      "File \u001b[1;32mc:\\Users\\nik\\miniconda3\\envs\\gpu2\\lib\\site-packages\\urllib3\\connectionpool.py:449\u001b[0m, in \u001b[0;36mHTTPConnectionPool._make_request\u001b[1;34m(self, conn, method, url, timeout, chunked, **httplib_request_kw)\u001b[0m\n\u001b[0;32m    444\u001b[0m             httplib_response \u001b[39m=\u001b[39m conn\u001b[39m.\u001b[39mgetresponse()\n\u001b[0;32m    445\u001b[0m         \u001b[39mexcept\u001b[39;00m \u001b[39mBaseException\u001b[39;00m \u001b[39mas\u001b[39;00m e:\n\u001b[0;32m    446\u001b[0m             \u001b[39m# Remove the TypeError from the exception chain in\u001b[39;00m\n\u001b[0;32m    447\u001b[0m             \u001b[39m# Python 3 (including for exceptions like SystemExit).\u001b[39;00m\n\u001b[0;32m    448\u001b[0m             \u001b[39m# Otherwise it looks like a bug in the code.\u001b[39;00m\n\u001b[1;32m--> 449\u001b[0m             six\u001b[39m.\u001b[39;49mraise_from(e, \u001b[39mNone\u001b[39;49;00m)\n\u001b[0;32m    450\u001b[0m \u001b[39mexcept\u001b[39;00m (SocketTimeout, BaseSSLError, SocketError) \u001b[39mas\u001b[39;00m e:\n\u001b[0;32m    451\u001b[0m     \u001b[39mself\u001b[39m\u001b[39m.\u001b[39m_raise_timeout(err\u001b[39m=\u001b[39me, url\u001b[39m=\u001b[39murl, timeout_value\u001b[39m=\u001b[39mread_timeout)\n",
      "File \u001b[1;32m<string>:3\u001b[0m, in \u001b[0;36mraise_from\u001b[1;34m(value, from_value)\u001b[0m\n",
      "File \u001b[1;32mc:\\Users\\nik\\miniconda3\\envs\\gpu2\\lib\\site-packages\\urllib3\\connectionpool.py:444\u001b[0m, in \u001b[0;36mHTTPConnectionPool._make_request\u001b[1;34m(self, conn, method, url, timeout, chunked, **httplib_request_kw)\u001b[0m\n\u001b[0;32m    441\u001b[0m \u001b[39mexcept\u001b[39;00m \u001b[39mTypeError\u001b[39;00m:\n\u001b[0;32m    442\u001b[0m     \u001b[39m# Python 3\u001b[39;00m\n\u001b[0;32m    443\u001b[0m     \u001b[39mtry\u001b[39;00m:\n\u001b[1;32m--> 444\u001b[0m         httplib_response \u001b[39m=\u001b[39m conn\u001b[39m.\u001b[39;49mgetresponse()\n\u001b[0;32m    445\u001b[0m     \u001b[39mexcept\u001b[39;00m \u001b[39mBaseException\u001b[39;00m \u001b[39mas\u001b[39;00m e:\n\u001b[0;32m    446\u001b[0m         \u001b[39m# Remove the TypeError from the exception chain in\u001b[39;00m\n\u001b[0;32m    447\u001b[0m         \u001b[39m# Python 3 (including for exceptions like SystemExit).\u001b[39;00m\n\u001b[0;32m    448\u001b[0m         \u001b[39m# Otherwise it looks like a bug in the code.\u001b[39;00m\n\u001b[0;32m    449\u001b[0m         six\u001b[39m.\u001b[39mraise_from(e, \u001b[39mNone\u001b[39;00m)\n",
      "File \u001b[1;32mc:\\Users\\nik\\miniconda3\\envs\\gpu2\\lib\\http\\client.py:1374\u001b[0m, in \u001b[0;36mHTTPConnection.getresponse\u001b[1;34m(self)\u001b[0m\n\u001b[0;32m   1372\u001b[0m \u001b[39mtry\u001b[39;00m:\n\u001b[0;32m   1373\u001b[0m     \u001b[39mtry\u001b[39;00m:\n\u001b[1;32m-> 1374\u001b[0m         response\u001b[39m.\u001b[39;49mbegin()\n\u001b[0;32m   1375\u001b[0m     \u001b[39mexcept\u001b[39;00m \u001b[39mConnectionError\u001b[39;00m:\n\u001b[0;32m   1376\u001b[0m         \u001b[39mself\u001b[39m\u001b[39m.\u001b[39mclose()\n",
      "File \u001b[1;32mc:\\Users\\nik\\miniconda3\\envs\\gpu2\\lib\\http\\client.py:318\u001b[0m, in \u001b[0;36mHTTPResponse.begin\u001b[1;34m(self)\u001b[0m\n\u001b[0;32m    316\u001b[0m \u001b[39m# read until we get a non-100 response\u001b[39;00m\n\u001b[0;32m    317\u001b[0m \u001b[39mwhile\u001b[39;00m \u001b[39mTrue\u001b[39;00m:\n\u001b[1;32m--> 318\u001b[0m     version, status, reason \u001b[39m=\u001b[39m \u001b[39mself\u001b[39;49m\u001b[39m.\u001b[39;49m_read_status()\n\u001b[0;32m    319\u001b[0m     \u001b[39mif\u001b[39;00m status \u001b[39m!=\u001b[39m CONTINUE:\n\u001b[0;32m    320\u001b[0m         \u001b[39mbreak\u001b[39;00m\n",
      "File \u001b[1;32mc:\\Users\\nik\\miniconda3\\envs\\gpu2\\lib\\http\\client.py:279\u001b[0m, in \u001b[0;36mHTTPResponse._read_status\u001b[1;34m(self)\u001b[0m\n\u001b[0;32m    278\u001b[0m \u001b[39mdef\u001b[39;00m \u001b[39m_read_status\u001b[39m(\u001b[39mself\u001b[39m):\n\u001b[1;32m--> 279\u001b[0m     line \u001b[39m=\u001b[39m \u001b[39mstr\u001b[39m(\u001b[39mself\u001b[39;49m\u001b[39m.\u001b[39;49mfp\u001b[39m.\u001b[39;49mreadline(_MAXLINE \u001b[39m+\u001b[39;49m \u001b[39m1\u001b[39;49m), \u001b[39m\"\u001b[39m\u001b[39miso-8859-1\u001b[39m\u001b[39m\"\u001b[39m)\n\u001b[0;32m    280\u001b[0m     \u001b[39mif\u001b[39;00m \u001b[39mlen\u001b[39m(line) \u001b[39m>\u001b[39m _MAXLINE:\n\u001b[0;32m    281\u001b[0m         \u001b[39mraise\u001b[39;00m LineTooLong(\u001b[39m\"\u001b[39m\u001b[39mstatus line\u001b[39m\u001b[39m\"\u001b[39m)\n",
      "File \u001b[1;32mc:\\Users\\nik\\miniconda3\\envs\\gpu2\\lib\\socket.py:705\u001b[0m, in \u001b[0;36mSocketIO.readinto\u001b[1;34m(self, b)\u001b[0m\n\u001b[0;32m    703\u001b[0m \u001b[39mwhile\u001b[39;00m \u001b[39mTrue\u001b[39;00m:\n\u001b[0;32m    704\u001b[0m     \u001b[39mtry\u001b[39;00m:\n\u001b[1;32m--> 705\u001b[0m         \u001b[39mreturn\u001b[39;00m \u001b[39mself\u001b[39;49m\u001b[39m.\u001b[39;49m_sock\u001b[39m.\u001b[39;49mrecv_into(b)\n\u001b[0;32m    706\u001b[0m     \u001b[39mexcept\u001b[39;00m timeout:\n\u001b[0;32m    707\u001b[0m         \u001b[39mself\u001b[39m\u001b[39m.\u001b[39m_timeout_occurred \u001b[39m=\u001b[39m \u001b[39mTrue\u001b[39;00m\n",
      "File \u001b[1;32mc:\\Users\\nik\\miniconda3\\envs\\gpu2\\lib\\ssl.py:1274\u001b[0m, in \u001b[0;36mSSLSocket.recv_into\u001b[1;34m(self, buffer, nbytes, flags)\u001b[0m\n\u001b[0;32m   1270\u001b[0m     \u001b[39mif\u001b[39;00m flags \u001b[39m!=\u001b[39m \u001b[39m0\u001b[39m:\n\u001b[0;32m   1271\u001b[0m         \u001b[39mraise\u001b[39;00m \u001b[39mValueError\u001b[39;00m(\n\u001b[0;32m   1272\u001b[0m           \u001b[39m\"\u001b[39m\u001b[39mnon-zero flags not allowed in calls to recv_into() on \u001b[39m\u001b[39m%s\u001b[39;00m\u001b[39m\"\u001b[39m \u001b[39m%\u001b[39m\n\u001b[0;32m   1273\u001b[0m           \u001b[39mself\u001b[39m\u001b[39m.\u001b[39m\u001b[39m__class__\u001b[39m)\n\u001b[1;32m-> 1274\u001b[0m     \u001b[39mreturn\u001b[39;00m \u001b[39mself\u001b[39;49m\u001b[39m.\u001b[39;49mread(nbytes, buffer)\n\u001b[0;32m   1275\u001b[0m \u001b[39melse\u001b[39;00m:\n\u001b[0;32m   1276\u001b[0m     \u001b[39mreturn\u001b[39;00m \u001b[39msuper\u001b[39m()\u001b[39m.\u001b[39mrecv_into(buffer, nbytes, flags)\n",
      "File \u001b[1;32mc:\\Users\\nik\\miniconda3\\envs\\gpu2\\lib\\ssl.py:1130\u001b[0m, in \u001b[0;36mSSLSocket.read\u001b[1;34m(self, len, buffer)\u001b[0m\n\u001b[0;32m   1128\u001b[0m \u001b[39mtry\u001b[39;00m:\n\u001b[0;32m   1129\u001b[0m     \u001b[39mif\u001b[39;00m buffer \u001b[39mis\u001b[39;00m \u001b[39mnot\u001b[39;00m \u001b[39mNone\u001b[39;00m:\n\u001b[1;32m-> 1130\u001b[0m         \u001b[39mreturn\u001b[39;00m \u001b[39mself\u001b[39;49m\u001b[39m.\u001b[39;49m_sslobj\u001b[39m.\u001b[39;49mread(\u001b[39mlen\u001b[39;49m, buffer)\n\u001b[0;32m   1131\u001b[0m     \u001b[39melse\u001b[39;00m:\n\u001b[0;32m   1132\u001b[0m         \u001b[39mreturn\u001b[39;00m \u001b[39mself\u001b[39m\u001b[39m.\u001b[39m_sslobj\u001b[39m.\u001b[39mread(\u001b[39mlen\u001b[39m)\n",
      "\u001b[1;31mKeyboardInterrupt\u001b[0m: "
     ]
    }
   ],
   "source": [
    "\n",
    "config_sweep_xgb = {\n",
    "    'name': 'XGBoost sweep' + config_dataset['spatial_scale'] + '_' + config_dataset['location'] + '_' + str(config_dataset['temp_resolution']),\n",
    "    'method': 'bayes', #grid, random\n",
    "    'metric': {\n",
    "        'name': 'val_loss',\n",
    "        'goal': 'minimize'\n",
    "    },\n",
    "    'parameters': {\n",
    "        'n_estimators': {\n",
    "            'values': [100, 500, 1000]\n",
    "        },\n",
    "        'learning_rate': {\n",
    "            'values': [0.05, 0.1, 0.2, 0.3]\n",
    "        },\n",
    "        'max_depth': {\n",
    "            'values': [3, 6, 12]\n",
    "        },\n",
    "        'min_child_weight': {\n",
    "            'values': [1, 5, 10]\n",
    "        },\n",
    "        'objective': {\n",
    "            'values': ['reg:squarederror', 'reg:pseudohubererror']\n",
    "        },\n",
    "        'reg_lambda': {\n",
    "            'values': [0.1, 0.3, 0.5, 0.7, 1]\n",
    "        },\n",
    "}\n",
    "}\n",
    "\n",
    "\n",
    "sweep_id = wandb.sweep(config_sweep_xgb, project=\"WattCast_tuning\")\n",
    "wandb.agent(sweep_id, train_xgb, count=1)"
   ]
  },
  {
   "attachments": {},
   "cell_type": "markdown",
   "metadata": {},
   "source": [
    "### LightGBM"
   ]
  },
  {
   "cell_type": "code",
   "execution_count": null,
   "metadata": {},
   "outputs": [],
   "source": []
  },
  {
   "attachments": {},
   "cell_type": "markdown",
   "metadata": {},
   "source": [
    "### GRU Model"
   ]
  },
  {
   "cell_type": "code",
   "execution_count": 10,
   "metadata": {},
   "outputs": [
    {
     "name": "stdout",
     "output_type": "stream",
     "text": [
      "Create sweep with ID: bx6jp0c2\n",
      "Sweep URL: https://wandb.ai/wattcast/Wattcast_tuning/sweeps/bx6jp0c2\n"
     ]
    },
    {
     "name": "stderr",
     "output_type": "stream",
     "text": [
      "\u001b[34m\u001b[1mwandb\u001b[0m: Agent Starting Run: ifj5lzca with config:\n",
      "\u001b[34m\u001b[1mwandb\u001b[0m: \tbatch_size: 64\n",
      "\u001b[34m\u001b[1mwandb\u001b[0m: \tdropout: 0.1\n",
      "\u001b[34m\u001b[1mwandb\u001b[0m: \thidden_dim: 1024\n",
      "\u001b[34m\u001b[1mwandb\u001b[0m: \tlookback_in_hours: 24\n",
      "\u001b[34m\u001b[1mwandb\u001b[0m: \tlr: 0.001\n",
      "\u001b[34m\u001b[1mwandb\u001b[0m: \tn_rnn_layers: 3\n",
      "Failed to detect the name of this notebook, you can set it manually with the WANDB_NOTEBOOK_NAME environment variable to enable code saving.\n"
     ]
    },
    {
     "data": {
      "application/vnd.jupyter.widget-view+json": {
       "model_id": "b19c8225c2934d3dab1ebb3753d472e4",
       "version_major": 2,
       "version_minor": 0
      },
      "text/plain": [
       "VBox(children=(Label(value='Waiting for wandb.init()...\\r'), FloatProgress(value=0.016933333332417533, max=1.0…"
      ]
     },
     "metadata": {},
     "output_type": "display_data"
    },
    {
     "data": {
      "text/html": [
       "wandb version 0.15.3 is available!  To upgrade, please run:\n",
       " $ pip install wandb --upgrade"
      ],
      "text/plain": [
       "<IPython.core.display.HTML object>"
      ]
     },
     "metadata": {},
     "output_type": "display_data"
    },
    {
     "data": {
      "text/html": [
       "Tracking run with wandb version 0.14.0"
      ],
      "text/plain": [
       "<IPython.core.display.HTML object>"
      ]
     },
     "metadata": {},
     "output_type": "display_data"
    },
    {
     "data": {
      "text/html": [
       "Run data is saved locally in <code>c:\\Users\\nik\\Desktop\\Berkeley_Projects\\WattCast\\wandb\\run-20230522_175203-ifj5lzca</code>"
      ],
      "text/plain": [
       "<IPython.core.display.HTML object>"
      ]
     },
     "metadata": {},
     "output_type": "display_data"
    },
    {
     "data": {
      "text/html": [
       "Syncing run <strong><a href='https://wandb.ai/wattcast/Wattcast_tuning/runs/ifj5lzca' target=\"_blank\">stellar-sweep-1</a></strong> to <a href='https://wandb.ai/wattcast/Wattcast_tuning' target=\"_blank\">Weights & Biases</a> (<a href='https://wandb.me/run' target=\"_blank\">docs</a>)<br/>Sweep page: <a href='https://wandb.ai/wattcast/Wattcast_tuning/sweeps/bx6jp0c2' target=\"_blank\">https://wandb.ai/wattcast/Wattcast_tuning/sweeps/bx6jp0c2</a>"
      ],
      "text/plain": [
       "<IPython.core.display.HTML object>"
      ]
     },
     "metadata": {},
     "output_type": "display_data"
    },
    {
     "data": {
      "text/html": [
       " View project at <a href='https://wandb.ai/wattcast/Wattcast_tuning' target=\"_blank\">https://wandb.ai/wattcast/Wattcast_tuning</a>"
      ],
      "text/plain": [
       "<IPython.core.display.HTML object>"
      ]
     },
     "metadata": {},
     "output_type": "display_data"
    },
    {
     "data": {
      "text/html": [
       " View sweep at <a href='https://wandb.ai/wattcast/Wattcast_tuning/sweeps/bx6jp0c2' target=\"_blank\">https://wandb.ai/wattcast/Wattcast_tuning/sweeps/bx6jp0c2</a>"
      ],
      "text/plain": [
       "<IPython.core.display.HTML object>"
      ]
     },
     "metadata": {},
     "output_type": "display_data"
    },
    {
     "data": {
      "text/html": [
       " View run at <a href='https://wandb.ai/wattcast/Wattcast_tuning/runs/ifj5lzca' target=\"_blank\">https://wandb.ai/wattcast/Wattcast_tuning/runs/ifj5lzca</a>"
      ],
      "text/plain": [
       "<IPython.core.display.HTML object>"
      ]
     },
     "metadata": {},
     "output_type": "display_data"
    },
    {
     "name": "stderr",
     "output_type": "stream",
     "text": [
      "Specified past encoders in `add_encoders` at model creation but model does not accept past covariates. past encoders will be ignored.\n",
      "GPU available: True (cuda), used: True\n",
      "TPU available: False, using: 0 TPU cores\n",
      "IPU available: False, using: 0 IPUs\n",
      "HPU available: False, using: 0 HPUs\n",
      "LOCAL_RANK: 0 - CUDA_VISIBLE_DEVICES: [0]\n",
      "\n",
      "  | Name          | Type             | Params\n",
      "---------------------------------------------------\n",
      "0 | criterion     | MSELoss          | 0     \n",
      "1 | train_metrics | MetricCollection | 0     \n",
      "2 | val_metrics   | MetricCollection | 0     \n",
      "3 | rnn           | GRU              | 15.8 M\n",
      "4 | V             | Linear           | 1.0 K \n",
      "---------------------------------------------------\n",
      "15.8 M    Trainable params\n",
      "0         Non-trainable params\n",
      "15.8 M    Total params\n",
      "126.157   Total estimated model params size (MB)\n",
      "\u001b[34m\u001b[1mwandb\u001b[0m: \u001b[33mWARNING\u001b[0m Config item 'hidden_dim' was locked by 'sweep' (ignored update).\n",
      "\u001b[34m\u001b[1mwandb\u001b[0m: \u001b[33mWARNING\u001b[0m Config item 'dropout' was locked by 'sweep' (ignored update).\n"
     ]
    },
    {
     "data": {
      "application/vnd.jupyter.widget-view+json": {
       "model_id": "55c0d2cd29a94df1b0bfff46728232cf",
       "version_major": 2,
       "version_minor": 0
      },
      "text/plain": [
       "Sanity Checking: 0it [00:00, ?it/s]"
      ]
     },
     "metadata": {},
     "output_type": "display_data"
    },
    {
     "data": {
      "application/vnd.jupyter.widget-view+json": {
       "model_id": "c1f7a1bfabfa461dbab44470ac695c74",
       "version_major": 2,
       "version_minor": 0
      },
      "text/plain": [
       "Training: 0it [00:00, ?it/s]"
      ]
     },
     "metadata": {},
     "output_type": "display_data"
    },
    {
     "data": {
      "application/vnd.jupyter.widget-view+json": {
       "model_id": "6abd83e7435141d09e81221dabefd3d0",
       "version_major": 2,
       "version_minor": 0
      },
      "text/plain": [
       "Validation: 0it [00:00, ?it/s]"
      ]
     },
     "metadata": {},
     "output_type": "display_data"
    },
    {
     "name": "stdout",
     "output_type": "stream",
     "text": [
      "Predicting test set...\n"
     ]
    },
    {
     "data": {
      "text/html": [
       "Waiting for W&B process to finish... <strong style=\"color:red\">(failed 1).</strong> Press Ctrl-C to abort syncing."
      ],
      "text/plain": [
       "<IPython.core.display.HTML object>"
      ]
     },
     "metadata": {},
     "output_type": "display_data"
    },
    {
     "data": {
      "application/vnd.jupyter.widget-view+json": {
       "model_id": "3dbdfe553fd64ff498873d3bc1f85733",
       "version_major": 2,
       "version_minor": 0
      },
      "text/plain": [
       "VBox(children=(Label(value='0.001 MB of 0.001 MB uploaded (0.000 MB deduped)\\r'), FloatProgress(value=1.0, max…"
      ]
     },
     "metadata": {},
     "output_type": "display_data"
    },
    {
     "data": {
      "text/html": [
       "<style>\n",
       "    table.wandb td:nth-child(1) { padding: 0 10px; text-align: left ; width: auto;} td:nth-child(2) {text-align: left ; width: 100%}\n",
       "    .wandb-row { display: flex; flex-direction: row; flex-wrap: wrap; justify-content: flex-start; width: 100% }\n",
       "    .wandb-col { display: flex; flex-direction: column; flex-basis: 100%; flex: 1; padding: 10px; }\n",
       "    </style>\n",
       "<div class=\"wandb-row\"><div class=\"wandb-col\"><h3>Run history:</h3><br/><table class=\"wandb\"><tr><td>epoch</td><td>▁▁▁</td></tr><tr><td>trainer/global_step</td><td>▁▅█</td></tr></table><br/></div><div class=\"wandb-col\"><h3>Run summary:</h3><br/><table class=\"wandb\"><tr><td>epoch</td><td>0</td></tr><tr><td>train_loss</td><td>nan</td></tr><tr><td>trainer/global_step</td><td>136</td></tr><tr><td>val_loss</td><td>nan</td></tr></table><br/></div></div>"
      ],
      "text/plain": [
       "<IPython.core.display.HTML object>"
      ]
     },
     "metadata": {},
     "output_type": "display_data"
    },
    {
     "data": {
      "text/html": [
       " View run <strong style=\"color:#cdcd00\">stellar-sweep-1</strong> at: <a href='https://wandb.ai/wattcast/Wattcast_tuning/runs/ifj5lzca' target=\"_blank\">https://wandb.ai/wattcast/Wattcast_tuning/runs/ifj5lzca</a><br/>Synced 6 W&B file(s), 0 media file(s), 0 artifact file(s) and 0 other file(s)"
      ],
      "text/plain": [
       "<IPython.core.display.HTML object>"
      ]
     },
     "metadata": {},
     "output_type": "display_data"
    },
    {
     "data": {
      "text/html": [
       "Find logs at: <code>.\\wandb\\run-20230522_175203-ifj5lzca\\logs</code>"
      ],
      "text/plain": [
       "<IPython.core.display.HTML object>"
      ]
     },
     "metadata": {},
     "output_type": "display_data"
    },
    {
     "name": "stderr",
     "output_type": "stream",
     "text": [
      "Run ifj5lzca errored: NameError(\"name 'ts_test_piped' is not defined\")\n",
      "\u001b[34m\u001b[1mwandb\u001b[0m: \u001b[32m\u001b[41mERROR\u001b[0m Run ifj5lzca errored: NameError(\"name 'ts_test_piped' is not defined\")\n"
     ]
    }
   ],
   "source": [
    "def train_gru():\n",
    "\n",
    "    wandb.init()\n",
    "    config = wandb.config\n",
    "\n",
    "    optimizer_kwargs = {}\n",
    "\n",
    "    optimizer_kwargs['lr'] = config.lr\n",
    "    \n",
    "    n_lags = config.lookback_in_hours * timesteps_per_hour\n",
    "\n",
    "    pl_trainer_kwargs = {\n",
    "        'max_epochs': 50,\n",
    "        'accelerator': 'gpu',\n",
    "        'devices': [0],\n",
    "        'callbacks': [EarlyStopping(monitor='val_loss', patience=5, mode='min')],\n",
    "        'logger': WandbLogger(log_model='all'),\n",
    "    }\n",
    "\n",
    "    schedule_kwargs = {\n",
    "        'patience': 2,\n",
    "        'factor': 0.5,\n",
    "        'min_lr': 1e-5,\n",
    "        'verbose': True\n",
    "        }\n",
    "\n",
    "    model = RNNModel(  \n",
    "                    model = 'GRU',\n",
    "                    input_chunk_length=n_lags,\n",
    "                    output_chunk_length=n_ahead,\n",
    "                    hidden_dim=config.hidden_dim,\n",
    "                    n_rnn_layers=config.n_rnn_layers,\n",
    "                    batch_size=config.batch_size,\n",
    "                    dropout=config.dropout,\n",
    "                    add_encoders=datetime_encoders,\n",
    "                    likelihood=None,\n",
    "                    pl_trainer_kwargs=pl_trainer_kwargs,\n",
    "                    optimizer_kwargs=optimizer_kwargs,\n",
    "                    lr_scheduler_cls=ReduceLROnPlateau,\n",
    "                    lr_scheduler_kwargs=schedule_kwargs,\n",
    "                    random_state=42,\n",
    "                )\n",
    "\n",
    "    model.fit(ts_train_piped, future_covariates = ts_cov_train, val_series=ts_val_piped, val_future_covariates=ts_cov_val, verbose=True)\n",
    "\n",
    "    predictions = predict_testset(model, ts_test_piped[longest_ts_test_idx], ts_cov_test[longest_ts_test_idx]) # visualize only the first 200 time steps\n",
    "\n",
    "    df_compare = pd.concat([trg_test_inversed.pd_dataframe(), predictions], axis=1).dropna()\n",
    "    df_compare.columns = ['target', 'prediction']\n",
    "    fig = px.line(df_compare, title='Predictions vs. Test Set')\n",
    "\n",
    "    wandb.log({'predictions': fig})\n",
    "\n",
    "\n",
    "    wandb.finish()\n",
    "\n",
    "\n",
    "config_sweep_gru = {\n",
    "    'name': 'GRU sweep' + config_dataset['spatial_scale'] + '_' + config_dataset['location'] + '_' + str(config_dataset['temp_resolution']),\n",
    "    'method': 'bayes', #grid, random\n",
    "    'metric': {\n",
    "        'name': 'val_loss',\n",
    "        'goal': 'minimize'\n",
    "    },\n",
    "    'parameters': {\n",
    "        'lr': {\n",
    "            'values': [5e-3, 1e-3, 3e-4]\n",
    "},\n",
    "        'hidden_dim': {\n",
    "            'values': [64, 512, 1024]\n",
    "},\n",
    "        'n_rnn_layers': {\n",
    "            'values': [1, 2, 3]\n",
    "},\n",
    "        'dropout': {\n",
    "            'values': [0.1, 0.2, 0.3]\n",
    "},\n",
    "        'batch_size': {\n",
    "            'values': [32, 64, 128]\n",
    "},\n",
    "        'lookback_in_hours': {\n",
    "            'values': [24]\n",
    "},\n",
    "}\n",
    "}\n",
    "\n",
    "\n",
    "sweep_id = wandb.sweep(config_sweep_gru, project=\"WattCast_tuning\")\n",
    "wandb.agent(sweep_id, train_gru, count=1)"
   ]
  },
  {
   "attachments": {},
   "cell_type": "markdown",
   "metadata": {},
   "source": [
    "### Transformer Model"
   ]
  }
 ],
 "metadata": {
  "kernelspec": {
   "display_name": "gpu2",
   "language": "python",
   "name": "python3"
  },
  "language_info": {
   "codemirror_mode": {
    "name": "ipython",
    "version": 3
   },
   "file_extension": ".py",
   "mimetype": "text/x-python",
   "name": "python",
   "nbconvert_exporter": "python",
   "pygments_lexer": "ipython3",
   "version": "3.10.9"
  },
  "orig_nbformat": 4
 },
 "nbformat": 4,
 "nbformat_minor": 2
}
