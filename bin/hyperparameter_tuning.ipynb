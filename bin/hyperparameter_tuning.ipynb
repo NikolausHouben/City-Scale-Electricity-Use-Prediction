{
 "cells": [
  {
   "cell_type": "code",
   "execution_count": 2,
   "metadata": {},
   "outputs": [
    {
     "name": "stderr",
     "output_type": "stream",
     "text": [
      "Failed to detect the name of this notebook, you can set it manually with the WANDB_NOTEBOOK_NAME environment variable to enable code saving.\n",
      "\u001b[34m\u001b[1mwandb\u001b[0m: Currently logged in as: \u001b[33mnikolaushouben\u001b[0m (\u001b[33mwattcast\u001b[0m). Use \u001b[1m`wandb login --relogin`\u001b[0m to force relogin\n"
     ]
    }
   ],
   "source": [
    "import os, sys\n",
    "import plotly.express as px\n",
    "import pandas as pd\n",
    "import numpy as np\n",
    "import matplotlib.pyplot as plt\n",
    "\n",
    "import darts\n",
    "from darts.utils.statistics import check_seasonality, plot_acf, stationarity_tests\n",
    "from darts.dataprocessing.transformers.missing_values_filler import MissingValuesFiller\n",
    "from darts.dataprocessing.transformers.boxcox import BoxCox\n",
    "from darts.dataprocessing.transformers.diff import Diff\n",
    "from darts.utils.statistics import plot_hist\n",
    "from darts.models import LightGBMModel, XGBModel, LinearRegressionModel, TFTModel, NHiTSModel, RNNModel, TFTModel\n",
    "from darts.metrics import smape, mape, mase, mse, rmse, r2_score, mae\n",
    "from darts.dataprocessing.pipeline import Pipeline\n",
    "from sklearn.preprocessing import MinMaxScaler, RobustScaler   \n",
    "from darts.dataprocessing.transformers.scaler import Scaler\n",
    "from darts.utils.missing_values import extract_subseries\n",
    "\n",
    "from pytorch_lightning.loggers import WandbLogger\n",
    "from pytorch_lightning.callbacks.early_stopping import EarlyStopping\n",
    "from torch.optim.lr_scheduler import ReduceLROnPlateau\n",
    "from pytorch_lightning.callbacks import ModelCheckpoint\n",
    "import torch\n",
    "from wandb.xgboost import WandbCallback\n",
    "\n",
    "\n",
    "from utils import *\n",
    "import wandb\n",
    "wandb.login()\n",
    "\n",
    "\n",
    "import warnings\n",
    "warnings.filterwarnings('ignore')\n",
    "\n",
    "# Set seed\n",
    "np.random.seed(42)\n",
    "\n"
   ]
  },
  {
   "cell_type": "code",
   "execution_count": 3,
   "metadata": {},
   "outputs": [
    {
     "name": "stdout",
     "output_type": "stream",
     "text": [
      "Current working directory: c:\\Users\\nik\\Desktop\\Berkeley_Projects\\WattCast\n"
     ]
    }
   ],
   "source": [
    "# Set working directory\n",
    "os.chdir(r\"..\") # should be the git repo root directory, checking below:\n",
    "print(\"Current working directory: \" + os.getcwd())\n",
    "assert os.getcwd()[-8:] == \"WattCast\"\n",
    "dir_path = os.path.join(os.getcwd(), 'data', 'clean_data')\n",
    "model_dir = os.path.join(os.getcwd(), 'models')"
   ]
  },
  {
   "cell_type": "code",
   "execution_count": 4,
   "metadata": {},
   "outputs": [],
   "source": [
    "# run parameters\n",
    "\n",
    "config_dataset = {\n",
    "    'spatial_scale': '1_county',\n",
    "    'temp_resolution': 60,\n",
    "    'location': 'Los_Angeles',\n",
    "}\n",
    "\n",
    "config_modeldesign = {'boxcox': True,\n",
    "                    'horizon_in_hours': 24, # in hours\n",
    "                    'lookback_in_hours': 24, # in hours\n",
    "                    'liklihood': None,\n",
    "                    'weather': True,\n",
    "                    'holiday': True,\n",
    "                    'datetime_encodings': True,\n",
    "                    }\n",
    "                   \n",
    "\n",
    "if config_dataset['temp_resolution'] == 60:\n",
    "     timestep_encoding = [\"hour\"] \n",
    "elif config_dataset['temp_resolution'] == 15:\n",
    "     timestep_encoding = ['quarter']\n",
    "else:\n",
    "    timestep_encoding = [\"hour\", \"minute\"]\n",
    "\n",
    "\n",
    "config_encoders =  {\n",
    "                    \"cyclic\": {\"future\": timestep_encoding}, \n",
    "                    \"position\": {\"future\": [\"relative\",]},\n",
    "                    \"datetime_attribute\": {\"future\": [\"dayofweek\", \"week\"]},\n",
    "                    'position': {'past': ['relative'], 'future': ['relative']},\n",
    "            }\n",
    "\n"
   ]
  },
  {
   "cell_type": "code",
   "execution_count": 5,
   "metadata": {},
   "outputs": [],
   "source": [
    "# calculate derived parameters\n",
    "datetime_encoders = config_encoders if config_modeldesign['datetime_encodings'] else None\n",
    "timesteps_per_hour = int(60 / config_dataset['temp_resolution'])\n",
    "n_lags = config_modeldesign['lookback_in_hours'] * timesteps_per_hour\n",
    "n_ahead = config_modeldesign['horizon_in_hours'] * timesteps_per_hour\n",
    "list_metrics = [smape, mape, rmse, r2_score, mae] # evaluation metrics\n",
    "eval_stride = int(np.sqrt(n_ahead)) # evaluation stride, how often to evaluate the model, in this case we evaluate every n_ahead steps\n",
    "\n",
    "# Loading Data\n",
    "df_train = pd.read_hdf(os.path.join(dir_path, f'{config_dataset[\"spatial_scale\"]}.h5'), key=f'{config_dataset[\"location\"]}/{config_dataset[\"temp_resolution\"]}min/train_target')\n",
    "df_val = pd.read_hdf(os.path.join(dir_path, f'{config_dataset[\"spatial_scale\"]}.h5'), key=f'{config_dataset[\"location\"]}/{config_dataset[\"temp_resolution\"]}min/val_target')\n",
    "df_test = pd.read_hdf(os.path.join(dir_path, f'{config_dataset[\"spatial_scale\"]}.h5'), key=f'{config_dataset[\"location\"]}/{config_dataset[\"temp_resolution\"]}min/test_target')\n",
    "\n",
    "if config_modeldesign['weather']:\n",
    "    df_cov_train = pd.read_hdf(os.path.join(dir_path, f'{config_dataset[\"spatial_scale\"]}.h5'), key=f'{config_dataset[\"location\"]}/{config_dataset[\"temp_resolution\"]}min/train_cov')\n",
    "    df_cov_val = pd.read_hdf(os.path.join(dir_path, f'{config_dataset[\"spatial_scale\"]}.h5'), key=f'{config_dataset[\"location\"]}/{config_dataset[\"temp_resolution\"]}min/val_cov')\n",
    "    df_cov_test = pd.read_hdf(os.path.join(dir_path, f'{config_dataset[\"spatial_scale\"]}.h5'), key=f'{config_dataset[\"location\"]}/{config_dataset[\"temp_resolution\"]}min/test_cov')"
   ]
  },
  {
   "cell_type": "code",
   "execution_count": 6,
   "metadata": {},
   "outputs": [],
   "source": [
    "# into darts format\n",
    "ts_train = darts.TimeSeries.from_dataframe(df_train, freq=str(config_dataset['temp_resolution']) + 'min')\n",
    "ts_train = extract_subseries(ts_train)\n",
    "ts_val = darts.TimeSeries.from_dataframe(df_val, freq=str(config_dataset['temp_resolution']) + 'min')\n",
    "ts_val = extract_subseries(ts_val)\n",
    "ts_test = darts.TimeSeries.from_dataframe(df_test, freq=str(config_dataset['temp_resolution']) + 'min')\n",
    "ts_test = extract_subseries(ts_test)\n",
    "\n",
    "# Covariates\n",
    "if config_modeldesign['weather']:\n",
    "    ts_cov_train = darts.TimeSeries.from_dataframe(df_cov_train, freq=str(config_dataset['temp_resolution']) + 'min')\n",
    "    ts_cov_val = darts.TimeSeries.from_dataframe(df_cov_val, freq=str(config_dataset['temp_resolution']) + 'min')\n",
    "    ts_cov_test = darts.TimeSeries.from_dataframe(df_cov_test, freq=str(config_dataset['temp_resolution']) + 'min')\n",
    "else:\n",
    "    ts_cov_train = None\n",
    "    ts_cov_val = None\n",
    "    ts_cov_test = None\n",
    "\n",
    "# Reviewing subseries to make sure they are long enough\n",
    "ts_train, ts_cov_train = review_subseries(ts_train, n_lags, n_ahead, ts_cov_train)\n",
    "ts_val, ts_cov_val = review_subseries(ts_val, n_lags, n_ahead, ts_cov_val)\n",
    "ts_test, ts_cov_test = review_subseries(ts_test, n_lags, n_ahead, ts_cov_test)\n",
    "\n",
    "# getting the index of the longest subseries, to be used for evaluation later\n",
    "longest_ts_val_idx = get_longest_subseries_idx(ts_val)\n",
    "longest_ts_test_idx = get_longest_subseries_idx(ts_test)"
   ]
  },
  {
   "cell_type": "code",
   "execution_count": 7,
   "metadata": {},
   "outputs": [],
   "source": [
    "# Load pipeline\n",
    "pipeline = Pipeline( # missing values have been filled in the 'data_prep.ipynb'\n",
    "                    [\n",
    "                    BoxCox() if config_modeldesign['boxcox'] else None,\n",
    "                    Scaler(MinMaxScaler()),\n",
    "                    ]\n",
    "                    )\n",
    "\n",
    "ts_train_piped = pipeline.fit_transform(ts_train)\n",
    "ts_val_piped = pipeline.transform(ts_val)\n",
    "ts_test_piped = pipeline.transform(ts_test)\n",
    "\n",
    "# Weather Pipeline\n",
    "if config_modeldesign['weather']:\n",
    "    pipeline_weather = Pipeline([Scaler(RobustScaler())])\n",
    "    ts_train_weather_piped = pipeline_weather.fit_transform(ts_cov_train)\n",
    "    ts_val_weather_piped = pipeline_weather.transform(ts_cov_val)\n",
    "    ts_test_weather_piped = pipeline_weather.transform(ts_cov_test)\n",
    "else:\n",
    "    ts_train_weather_piped = None\n",
    "    ts_val_weather_piped = None\n",
    "    ts_test_weather_piped = None"
   ]
  },
  {
   "cell_type": "code",
   "execution_count": 8,
   "metadata": {},
   "outputs": [],
   "source": [
    "trg_train_inversed = pipeline.inverse_transform(ts_train_piped, partial=True) # inverse transform the target, we need the original values for the evaluation\n",
    "trg_val_inversed = pipeline.inverse_transform(ts_val_piped, partial=True)[longest_ts_val_idx] # inverse transform the target, we need the original values for the evaluation\n",
    "trg_test_inversed = pipeline.inverse_transform(ts_test_piped, partial=True)[longest_ts_test_idx] # inverse transform the target, we need the original values for the evaluation"
   ]
  },
  {
   "attachments": {},
   "cell_type": "markdown",
   "metadata": {},
   "source": [
    "## Hyperparameter Tuning with wandb sweep"
   ]
  },
  {
   "attachments": {},
   "cell_type": "markdown",
   "metadata": {},
   "source": [
    "### XGBoost"
   ]
  },
  {
   "cell_type": "code",
   "execution_count": 10,
   "metadata": {},
   "outputs": [],
   "source": [
    "def train_xgb():\n",
    "\n",
    "    wandb.init()\n",
    "    wandb.config.update(config_modeldesign)\n",
    "    config = wandb.config\n",
    "\n",
    "    n_lags = config.lookback_in_hours * timesteps_per_hour\n",
    "\n",
    "    xgb_kwargs = {\n",
    "        'n_estimators': config.n_estimators,\n",
    "        'max_depth': config.max_depth,\n",
    "        'learning_rate': config.learning_rate,\n",
    "        'min_child_weight': config.min_child_weight,\n",
    "        'objective': config.objective,\n",
    "        'reg_lambda': config.reg_lambda,\n",
    "        'early_stopping_rounds': 10\n",
    "    }\n",
    "\n",
    "    xgb_model = XGBModel(lags=n_lags,\n",
    "                    lags_future_covariates=[0],\n",
    "                    add_encoders=datetime_encoders, \n",
    "                    output_chunk_length=n_ahead, \n",
    "                    likelihood=config.liklihood,\n",
    "                    random_state=42,\n",
    "                    **xgb_kwargs\n",
    "                    )\n",
    "\n",
    "    print(\"Training model...\")\n",
    "    xgb_model.fit(ts_train_piped, future_covariates = ts_cov_train, val_series=ts_val_piped, val_future_covariates=ts_cov_val,\n",
    "                   verbose=False\n",
    "                   )\n",
    "\n",
    "    print(\"Evaluating model...\")\n",
    "    predictions, score = predict_testset(xgb_model, \n",
    "                                  ts_test_piped[longest_ts_test_idx], \n",
    "                                  ts_cov_test[longest_ts_test_idx],\n",
    "                                  n_lags, n_ahead, eval_stride, pipeline,\n",
    "                                  )\n",
    "\n",
    "\n",
    "    print(\"Plotting predictions...\")\n",
    "    df_compare = pd.concat([trg_test_inversed.pd_dataframe(), predictions], axis=1).dropna()\n",
    "    df_compare.columns = ['target', 'prediction']\n",
    "    fig = px.line(df_compare, title='Predictions vs. Test Set')\n",
    "\n",
    "    wandb.log({'eval_loss': score})\n",
    "    wandb.log({'predictions': fig})\n",
    "    wandb.finish()\n",
    "\n"
   ]
  },
  {
   "cell_type": "code",
   "execution_count": 11,
   "metadata": {},
   "outputs": [
    {
     "name": "stdout",
     "output_type": "stream",
     "text": [
      "Create sweep with ID: 59wg3kb6\n",
      "Sweep URL: https://wandb.ai/wattcast/Wattcast_tuning/sweeps/59wg3kb6\n"
     ]
    },
    {
     "name": "stderr",
     "output_type": "stream",
     "text": [
      "\u001b[34m\u001b[1mwandb\u001b[0m: Agent Starting Run: 1czzjmb1 with config:\n",
      "\u001b[34m\u001b[1mwandb\u001b[0m: \tlearning_rate: 0.2\n",
      "\u001b[34m\u001b[1mwandb\u001b[0m: \tmax_depth: 3\n",
      "\u001b[34m\u001b[1mwandb\u001b[0m: \tmin_child_weight: 5\n",
      "\u001b[34m\u001b[1mwandb\u001b[0m: \tn_estimators: 100\n",
      "\u001b[34m\u001b[1mwandb\u001b[0m: \tobjective: reg:pseudohubererror\n",
      "\u001b[34m\u001b[1mwandb\u001b[0m: \treg_lambda: 0.3\n",
      "Failed to detect the name of this notebook, you can set it manually with the WANDB_NOTEBOOK_NAME environment variable to enable code saving.\n"
     ]
    },
    {
     "data": {
      "application/vnd.jupyter.widget-view+json": {
       "model_id": "0e57424610f84b03b87936a5d517b7bb",
       "version_major": 2,
       "version_minor": 0
      },
      "text/plain": [
       "VBox(children=(Label(value='Waiting for wandb.init()...\\r'), FloatProgress(value=0.016666666666666666, max=1.0…"
      ]
     },
     "metadata": {},
     "output_type": "display_data"
    },
    {
     "data": {
      "text/html": [
       "wandb version 0.15.3 is available!  To upgrade, please run:\n",
       " $ pip install wandb --upgrade"
      ],
      "text/plain": [
       "<IPython.core.display.HTML object>"
      ]
     },
     "metadata": {},
     "output_type": "display_data"
    },
    {
     "data": {
      "text/html": [
       "Tracking run with wandb version 0.14.0"
      ],
      "text/plain": [
       "<IPython.core.display.HTML object>"
      ]
     },
     "metadata": {},
     "output_type": "display_data"
    },
    {
     "data": {
      "text/html": [
       "Run data is saved locally in <code>c:\\Users\\nik\\Desktop\\Berkeley_Projects\\WattCast\\wandb\\run-20230524_161223-1czzjmb1</code>"
      ],
      "text/plain": [
       "<IPython.core.display.HTML object>"
      ]
     },
     "metadata": {},
     "output_type": "display_data"
    },
    {
     "data": {
      "text/html": [
       "Syncing run <strong><a href='https://wandb.ai/wattcast/Wattcast_tuning/runs/1czzjmb1' target=\"_blank\">trim-sweep-1</a></strong> to <a href='https://wandb.ai/wattcast/Wattcast_tuning' target=\"_blank\">Weights & Biases</a> (<a href='https://wandb.me/run' target=\"_blank\">docs</a>)<br/>Sweep page: <a href='https://wandb.ai/wattcast/Wattcast_tuning/sweeps/59wg3kb6' target=\"_blank\">https://wandb.ai/wattcast/Wattcast_tuning/sweeps/59wg3kb6</a>"
      ],
      "text/plain": [
       "<IPython.core.display.HTML object>"
      ]
     },
     "metadata": {},
     "output_type": "display_data"
    },
    {
     "data": {
      "text/html": [
       " View project at <a href='https://wandb.ai/wattcast/Wattcast_tuning' target=\"_blank\">https://wandb.ai/wattcast/Wattcast_tuning</a>"
      ],
      "text/plain": [
       "<IPython.core.display.HTML object>"
      ]
     },
     "metadata": {},
     "output_type": "display_data"
    },
    {
     "data": {
      "text/html": [
       " View sweep at <a href='https://wandb.ai/wattcast/Wattcast_tuning/sweeps/59wg3kb6' target=\"_blank\">https://wandb.ai/wattcast/Wattcast_tuning/sweeps/59wg3kb6</a>"
      ],
      "text/plain": [
       "<IPython.core.display.HTML object>"
      ]
     },
     "metadata": {},
     "output_type": "display_data"
    },
    {
     "data": {
      "text/html": [
       " View run at <a href='https://wandb.ai/wattcast/Wattcast_tuning/runs/1czzjmb1' target=\"_blank\">https://wandb.ai/wattcast/Wattcast_tuning/runs/1czzjmb1</a>"
      ],
      "text/plain": [
       "<IPython.core.display.HTML object>"
      ]
     },
     "metadata": {},
     "output_type": "display_data"
    },
    {
     "name": "stderr",
     "output_type": "stream",
     "text": [
      "Specified past encoders in `add_encoders` at model creation but model does not accept past covariates. past encoders will be ignored.\n"
     ]
    },
    {
     "name": "stdout",
     "output_type": "stream",
     "text": [
      "Training model...\n"
     ]
    },
    {
     "data": {
      "text/html": [
       "Waiting for W&B process to finish... <strong style=\"color:red\">(failed 1).</strong> Press Ctrl-C to abort syncing."
      ],
      "text/plain": [
       "<IPython.core.display.HTML object>"
      ]
     },
     "metadata": {},
     "output_type": "display_data"
    },
    {
     "data": {
      "application/vnd.jupyter.widget-view+json": {
       "model_id": "310d52aff8834d91850932979f5fb3ad",
       "version_major": 2,
       "version_minor": 0
      },
      "text/plain": [
       "VBox(children=(Label(value='0.001 MB of 0.001 MB uploaded (0.000 MB deduped)\\r'), FloatProgress(value=1.0, max…"
      ]
     },
     "metadata": {},
     "output_type": "display_data"
    },
    {
     "data": {
      "text/html": [
       " View run <strong style=\"color:#cdcd00\">trim-sweep-1</strong> at: <a href='https://wandb.ai/wattcast/Wattcast_tuning/runs/1czzjmb1' target=\"_blank\">https://wandb.ai/wattcast/Wattcast_tuning/runs/1czzjmb1</a><br/>Synced 6 W&B file(s), 0 media file(s), 0 artifact file(s) and 0 other file(s)"
      ],
      "text/plain": [
       "<IPython.core.display.HTML object>"
      ]
     },
     "metadata": {},
     "output_type": "display_data"
    },
    {
     "data": {
      "text/html": [
       "Find logs at: <code>.\\wandb\\run-20230524_161223-1czzjmb1\\logs</code>"
      ],
      "text/plain": [
       "<IPython.core.display.HTML object>"
      ]
     },
     "metadata": {},
     "output_type": "display_data"
    },
    {
     "name": "stderr",
     "output_type": "stream",
     "text": [
      "Run 1czzjmb1 errored: ValueError('2 different `early_stopping_rounds` are provided.  Use the one in constructor or `set_params` instead.')\n",
      "\u001b[34m\u001b[1mwandb\u001b[0m: \u001b[32m\u001b[41mERROR\u001b[0m Run 1czzjmb1 errored: ValueError('2 different `early_stopping_rounds` are provided.  Use the one in constructor or `set_params` instead.')\n",
      "\u001b[34m\u001b[1mwandb\u001b[0m: Agent Starting Run: vwdsst38 with config:\n",
      "\u001b[34m\u001b[1mwandb\u001b[0m: \tlearning_rate: 0.3\n",
      "\u001b[34m\u001b[1mwandb\u001b[0m: \tmax_depth: 6\n",
      "\u001b[34m\u001b[1mwandb\u001b[0m: \tmin_child_weight: 10\n",
      "\u001b[34m\u001b[1mwandb\u001b[0m: \tn_estimators: 1000\n",
      "\u001b[34m\u001b[1mwandb\u001b[0m: \tobjective: reg:pseudohubererror\n",
      "\u001b[34m\u001b[1mwandb\u001b[0m: \treg_lambda: 0.7\n",
      "Failed to detect the name of this notebook, you can set it manually with the WANDB_NOTEBOOK_NAME environment variable to enable code saving.\n"
     ]
    },
    {
     "data": {
      "application/vnd.jupyter.widget-view+json": {
       "model_id": "87c80c669c934444af7340a04c617085",
       "version_major": 2,
       "version_minor": 0
      },
      "text/plain": [
       "VBox(children=(Label(value='Waiting for wandb.init()...\\r'), FloatProgress(value=0.016916666666899498, max=1.0…"
      ]
     },
     "metadata": {},
     "output_type": "display_data"
    }
   ],
   "source": [
    "\n",
    "config_sweep_xgb = {\n",
    "    'name': 'XGBoost sweep' + config_dataset['spatial_scale'] + '_' + config_dataset['location'] + '_' + str(config_dataset['temp_resolution']),\n",
    "    'method': 'bayes', #grid, random\n",
    "    'metric': {\n",
    "        'name': 'eval_loss',\n",
    "        'goal': 'minimize'\n",
    "    },\n",
    "    'parameters': {\n",
    "        'n_estimators': {\n",
    "            'values': [100, 500, 1000]\n",
    "        },\n",
    "        'learning_rate': {\n",
    "            'values': [0.05, 0.1, 0.2, 0.3]\n",
    "        },\n",
    "        'max_depth': {\n",
    "            'values': [3, 6, 12]\n",
    "        },\n",
    "        'min_child_weight': {\n",
    "            'values': [1, 5, 10]\n",
    "        },\n",
    "        'objective': {\n",
    "            'values': ['reg:squarederror', 'reg:pseudohubererror']\n",
    "        },\n",
    "        'reg_lambda': {\n",
    "            'values': [0.1, 0.3, 0.5, 0.7, 1]\n",
    "        },\n",
    "}\n",
    "}\n",
    "\n",
    "\n",
    "sweep_id = wandb.sweep(config_sweep_xgb, project=\"WattCast_tuning\")\n",
    "wandb.agent(sweep_id, train_xgb, count=10)"
   ]
  },
  {
   "attachments": {},
   "cell_type": "markdown",
   "metadata": {},
   "source": [
    "### LightGBM"
   ]
  },
  {
   "attachments": {},
   "cell_type": "markdown",
   "metadata": {},
   "source": [
    "### GRU Model"
   ]
  },
  {
   "cell_type": "code",
   "execution_count": 10,
   "metadata": {},
   "outputs": [
    {
     "name": "stdout",
     "output_type": "stream",
     "text": [
      "Create sweep with ID: bx6jp0c2\n",
      "Sweep URL: https://wandb.ai/wattcast/Wattcast_tuning/sweeps/bx6jp0c2\n"
     ]
    },
    {
     "name": "stderr",
     "output_type": "stream",
     "text": [
      "\u001b[34m\u001b[1mwandb\u001b[0m: Agent Starting Run: ifj5lzca with config:\n",
      "\u001b[34m\u001b[1mwandb\u001b[0m: \tbatch_size: 64\n",
      "\u001b[34m\u001b[1mwandb\u001b[0m: \tdropout: 0.1\n",
      "\u001b[34m\u001b[1mwandb\u001b[0m: \thidden_dim: 1024\n",
      "\u001b[34m\u001b[1mwandb\u001b[0m: \tlookback_in_hours: 24\n",
      "\u001b[34m\u001b[1mwandb\u001b[0m: \tlr: 0.001\n",
      "\u001b[34m\u001b[1mwandb\u001b[0m: \tn_rnn_layers: 3\n",
      "Failed to detect the name of this notebook, you can set it manually with the WANDB_NOTEBOOK_NAME environment variable to enable code saving.\n"
     ]
    },
    {
     "data": {
      "application/vnd.jupyter.widget-view+json": {
       "model_id": "b19c8225c2934d3dab1ebb3753d472e4",
       "version_major": 2,
       "version_minor": 0
      },
      "text/plain": [
       "VBox(children=(Label(value='Waiting for wandb.init()...\\r'), FloatProgress(value=0.016933333332417533, max=1.0…"
      ]
     },
     "metadata": {},
     "output_type": "display_data"
    },
    {
     "data": {
      "text/html": [
       "wandb version 0.15.3 is available!  To upgrade, please run:\n",
       " $ pip install wandb --upgrade"
      ],
      "text/plain": [
       "<IPython.core.display.HTML object>"
      ]
     },
     "metadata": {},
     "output_type": "display_data"
    },
    {
     "data": {
      "text/html": [
       "Tracking run with wandb version 0.14.0"
      ],
      "text/plain": [
       "<IPython.core.display.HTML object>"
      ]
     },
     "metadata": {},
     "output_type": "display_data"
    },
    {
     "data": {
      "text/html": [
       "Run data is saved locally in <code>c:\\Users\\nik\\Desktop\\Berkeley_Projects\\WattCast\\wandb\\run-20230522_175203-ifj5lzca</code>"
      ],
      "text/plain": [
       "<IPython.core.display.HTML object>"
      ]
     },
     "metadata": {},
     "output_type": "display_data"
    },
    {
     "data": {
      "text/html": [
       "Syncing run <strong><a href='https://wandb.ai/wattcast/Wattcast_tuning/runs/ifj5lzca' target=\"_blank\">stellar-sweep-1</a></strong> to <a href='https://wandb.ai/wattcast/Wattcast_tuning' target=\"_blank\">Weights & Biases</a> (<a href='https://wandb.me/run' target=\"_blank\">docs</a>)<br/>Sweep page: <a href='https://wandb.ai/wattcast/Wattcast_tuning/sweeps/bx6jp0c2' target=\"_blank\">https://wandb.ai/wattcast/Wattcast_tuning/sweeps/bx6jp0c2</a>"
      ],
      "text/plain": [
       "<IPython.core.display.HTML object>"
      ]
     },
     "metadata": {},
     "output_type": "display_data"
    },
    {
     "data": {
      "text/html": [
       " View project at <a href='https://wandb.ai/wattcast/Wattcast_tuning' target=\"_blank\">https://wandb.ai/wattcast/Wattcast_tuning</a>"
      ],
      "text/plain": [
       "<IPython.core.display.HTML object>"
      ]
     },
     "metadata": {},
     "output_type": "display_data"
    },
    {
     "data": {
      "text/html": [
       " View sweep at <a href='https://wandb.ai/wattcast/Wattcast_tuning/sweeps/bx6jp0c2' target=\"_blank\">https://wandb.ai/wattcast/Wattcast_tuning/sweeps/bx6jp0c2</a>"
      ],
      "text/plain": [
       "<IPython.core.display.HTML object>"
      ]
     },
     "metadata": {},
     "output_type": "display_data"
    },
    {
     "data": {
      "text/html": [
       " View run at <a href='https://wandb.ai/wattcast/Wattcast_tuning/runs/ifj5lzca' target=\"_blank\">https://wandb.ai/wattcast/Wattcast_tuning/runs/ifj5lzca</a>"
      ],
      "text/plain": [
       "<IPython.core.display.HTML object>"
      ]
     },
     "metadata": {},
     "output_type": "display_data"
    },
    {
     "name": "stderr",
     "output_type": "stream",
     "text": [
      "Specified past encoders in `add_encoders` at model creation but model does not accept past covariates. past encoders will be ignored.\n",
      "GPU available: True (cuda), used: True\n",
      "TPU available: False, using: 0 TPU cores\n",
      "IPU available: False, using: 0 IPUs\n",
      "HPU available: False, using: 0 HPUs\n",
      "LOCAL_RANK: 0 - CUDA_VISIBLE_DEVICES: [0]\n",
      "\n",
      "  | Name          | Type             | Params\n",
      "---------------------------------------------------\n",
      "0 | criterion     | MSELoss          | 0     \n",
      "1 | train_metrics | MetricCollection | 0     \n",
      "2 | val_metrics   | MetricCollection | 0     \n",
      "3 | rnn           | GRU              | 15.8 M\n",
      "4 | V             | Linear           | 1.0 K \n",
      "---------------------------------------------------\n",
      "15.8 M    Trainable params\n",
      "0         Non-trainable params\n",
      "15.8 M    Total params\n",
      "126.157   Total estimated model params size (MB)\n",
      "\u001b[34m\u001b[1mwandb\u001b[0m: \u001b[33mWARNING\u001b[0m Config item 'hidden_dim' was locked by 'sweep' (ignored update).\n",
      "\u001b[34m\u001b[1mwandb\u001b[0m: \u001b[33mWARNING\u001b[0m Config item 'dropout' was locked by 'sweep' (ignored update).\n"
     ]
    },
    {
     "data": {
      "application/vnd.jupyter.widget-view+json": {
       "model_id": "55c0d2cd29a94df1b0bfff46728232cf",
       "version_major": 2,
       "version_minor": 0
      },
      "text/plain": [
       "Sanity Checking: 0it [00:00, ?it/s]"
      ]
     },
     "metadata": {},
     "output_type": "display_data"
    },
    {
     "data": {
      "application/vnd.jupyter.widget-view+json": {
       "model_id": "c1f7a1bfabfa461dbab44470ac695c74",
       "version_major": 2,
       "version_minor": 0
      },
      "text/plain": [
       "Training: 0it [00:00, ?it/s]"
      ]
     },
     "metadata": {},
     "output_type": "display_data"
    },
    {
     "data": {
      "application/vnd.jupyter.widget-view+json": {
       "model_id": "6abd83e7435141d09e81221dabefd3d0",
       "version_major": 2,
       "version_minor": 0
      },
      "text/plain": [
       "Validation: 0it [00:00, ?it/s]"
      ]
     },
     "metadata": {},
     "output_type": "display_data"
    },
    {
     "name": "stdout",
     "output_type": "stream",
     "text": [
      "Predicting test set...\n"
     ]
    },
    {
     "data": {
      "text/html": [
       "Waiting for W&B process to finish... <strong style=\"color:red\">(failed 1).</strong> Press Ctrl-C to abort syncing."
      ],
      "text/plain": [
       "<IPython.core.display.HTML object>"
      ]
     },
     "metadata": {},
     "output_type": "display_data"
    },
    {
     "data": {
      "application/vnd.jupyter.widget-view+json": {
       "model_id": "3dbdfe553fd64ff498873d3bc1f85733",
       "version_major": 2,
       "version_minor": 0
      },
      "text/plain": [
       "VBox(children=(Label(value='0.001 MB of 0.001 MB uploaded (0.000 MB deduped)\\r'), FloatProgress(value=1.0, max…"
      ]
     },
     "metadata": {},
     "output_type": "display_data"
    },
    {
     "data": {
      "text/html": [
       "<style>\n",
       "    table.wandb td:nth-child(1) { padding: 0 10px; text-align: left ; width: auto;} td:nth-child(2) {text-align: left ; width: 100%}\n",
       "    .wandb-row { display: flex; flex-direction: row; flex-wrap: wrap; justify-content: flex-start; width: 100% }\n",
       "    .wandb-col { display: flex; flex-direction: column; flex-basis: 100%; flex: 1; padding: 10px; }\n",
       "    </style>\n",
       "<div class=\"wandb-row\"><div class=\"wandb-col\"><h3>Run history:</h3><br/><table class=\"wandb\"><tr><td>epoch</td><td>▁▁▁</td></tr><tr><td>trainer/global_step</td><td>▁▅█</td></tr></table><br/></div><div class=\"wandb-col\"><h3>Run summary:</h3><br/><table class=\"wandb\"><tr><td>epoch</td><td>0</td></tr><tr><td>train_loss</td><td>nan</td></tr><tr><td>trainer/global_step</td><td>136</td></tr><tr><td>val_loss</td><td>nan</td></tr></table><br/></div></div>"
      ],
      "text/plain": [
       "<IPython.core.display.HTML object>"
      ]
     },
     "metadata": {},
     "output_type": "display_data"
    },
    {
     "data": {
      "text/html": [
       " View run <strong style=\"color:#cdcd00\">stellar-sweep-1</strong> at: <a href='https://wandb.ai/wattcast/Wattcast_tuning/runs/ifj5lzca' target=\"_blank\">https://wandb.ai/wattcast/Wattcast_tuning/runs/ifj5lzca</a><br/>Synced 6 W&B file(s), 0 media file(s), 0 artifact file(s) and 0 other file(s)"
      ],
      "text/plain": [
       "<IPython.core.display.HTML object>"
      ]
     },
     "metadata": {},
     "output_type": "display_data"
    },
    {
     "data": {
      "text/html": [
       "Find logs at: <code>.\\wandb\\run-20230522_175203-ifj5lzca\\logs</code>"
      ],
      "text/plain": [
       "<IPython.core.display.HTML object>"
      ]
     },
     "metadata": {},
     "output_type": "display_data"
    },
    {
     "name": "stderr",
     "output_type": "stream",
     "text": [
      "Run ifj5lzca errored: NameError(\"name 'ts_test_piped' is not defined\")\n",
      "\u001b[34m\u001b[1mwandb\u001b[0m: \u001b[32m\u001b[41mERROR\u001b[0m Run ifj5lzca errored: NameError(\"name 'ts_test_piped' is not defined\")\n"
     ]
    }
   ],
   "source": [
    "def train_gru():\n",
    "\n",
    "    wandb.init()\n",
    "    config = wandb.config\n",
    "\n",
    "    optimizer_kwargs = {}\n",
    "\n",
    "    optimizer_kwargs['lr'] = config.lr\n",
    "    \n",
    "    n_lags = config.lookback_in_hours * timesteps_per_hour\n",
    "\n",
    "    pl_trainer_kwargs = {\n",
    "        'max_epochs': 50,\n",
    "        'accelerator': 'gpu',\n",
    "        'devices': [0],\n",
    "        'callbacks': [EarlyStopping(monitor='val_loss', patience=5, mode='min')],\n",
    "        'logger': WandbLogger(log_model='all'),\n",
    "    }\n",
    "\n",
    "    schedule_kwargs = {\n",
    "        'patience': 2,\n",
    "        'factor': 0.5,\n",
    "        'min_lr': 1e-5,\n",
    "        'verbose': True\n",
    "        }\n",
    "\n",
    "    model = RNNModel(  \n",
    "                    model = 'GRU',\n",
    "                    input_chunk_length=n_lags,\n",
    "                    output_chunk_length=n_ahead,\n",
    "                    hidden_dim=config.hidden_dim,\n",
    "                    n_rnn_layers=config.n_rnn_layers,\n",
    "                    batch_size=config.batch_size,\n",
    "                    dropout=config.dropout,\n",
    "                    add_encoders=datetime_encoders,\n",
    "                    likelihood=None,\n",
    "                    pl_trainer_kwargs=pl_trainer_kwargs,\n",
    "                    optimizer_kwargs=optimizer_kwargs,\n",
    "                    lr_scheduler_cls=ReduceLROnPlateau,\n",
    "                    lr_scheduler_kwargs=schedule_kwargs,\n",
    "                    random_state=42,\n",
    "                )\n",
    "\n",
    "    model.fit(ts_train_piped, future_covariates = ts_cov_train, val_series=ts_val_piped, val_future_covariates=ts_cov_val, verbose=True)\n",
    "\n",
    "    predictions = predict_testset(model, ts_test_piped[longest_ts_test_idx], ts_cov_test[longest_ts_test_idx]) # visualize only the first 200 time steps\n",
    "\n",
    "    df_compare = pd.concat([trg_test_inversed.pd_dataframe(), predictions], axis=1).dropna()\n",
    "    df_compare.columns = ['target', 'prediction']\n",
    "    fig = px.line(df_compare, title='Predictions vs. Test Set')\n",
    "\n",
    "    wandb.log({'predictions': fig})\n",
    "\n",
    "\n",
    "    wandb.finish()\n",
    "\n",
    "\n",
    "config_sweep_gru = {\n",
    "    'name': 'GRU sweep' + config_dataset['spatial_scale'] + '_' + config_dataset['location'] + '_' + str(config_dataset['temp_resolution']),\n",
    "    'method': 'bayes', #grid, random\n",
    "    'metric': {\n",
    "        'name': 'val_loss',\n",
    "        'goal': 'minimize'\n",
    "    },\n",
    "    'parameters': {\n",
    "        'lr': {\n",
    "            'values': [5e-3, 1e-3, 3e-4]\n",
    "},\n",
    "        'hidden_dim': {\n",
    "            'values': [64, 512, 1024]\n",
    "},\n",
    "        'n_rnn_layers': {\n",
    "            'values': [1, 2, 3]\n",
    "},\n",
    "        'dropout': {\n",
    "            'values': [0.1, 0.2, 0.3]\n",
    "},\n",
    "        'batch_size': {\n",
    "            'values': [32, 64, 128]\n",
    "},\n",
    "        'lookback_in_hours': {\n",
    "            'values': [24]\n",
    "},\n",
    "}\n",
    "}\n",
    "\n",
    "\n",
    "sweep_id = wandb.sweep(config_sweep_gru, project=\"WattCast_tuning\")\n",
    "wandb.agent(sweep_id, train_gru, count=1)"
   ]
  },
  {
   "attachments": {},
   "cell_type": "markdown",
   "metadata": {},
   "source": [
    "### Transformer Model"
   ]
  }
 ],
 "metadata": {
  "kernelspec": {
   "display_name": "gpu2",
   "language": "python",
   "name": "python3"
  },
  "language_info": {
   "codemirror_mode": {
    "name": "ipython",
    "version": 3
   },
   "file_extension": ".py",
   "mimetype": "text/x-python",
   "name": "python",
   "nbconvert_exporter": "python",
   "pygments_lexer": "ipython3",
   "version": "3.10.9"
  },
  "orig_nbformat": 4
 },
 "nbformat": 4,
 "nbformat_minor": 2
}
