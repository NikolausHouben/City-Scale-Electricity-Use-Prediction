{
 "cells": [
  {
   "cell_type": "code",
   "execution_count": 1,
   "metadata": {},
   "outputs": [
    {
     "name": "stderr",
     "output_type": "stream",
     "text": [
      "/Users/nikolaushouben/opt/anaconda3/envs/Wattcast/lib/python3.11/site-packages/tqdm/auto.py:21: TqdmWarning: IProgress not found. Please update jupyter and ipywidgets. See https://ipywidgets.readthedocs.io/en/stable/user_install.html\n",
      "  from .autonotebook import tqdm as notebook_tqdm\n"
     ]
    }
   ],
   "source": [
    "import os\n",
    "import numpy as np\n",
    "import matplotlib.pyplot as plt\n",
    "plt.rcParams.update({'font.size': 12})\n",
    "plt.rcParams[\"font.family\"] = \"Times New Roman\"\n",
    "\n",
    "from utils import get_hdf_keys\n",
    "from train import training\n",
    "from evaluation import evaluate, get_run_results\n",
    "import warnings\n",
    "import pickle\n",
    "warnings.filterwarnings('ignore')\n",
    "# Set seed\n",
    "np.random.seed(42)"
   ]
  },
  {
   "cell_type": "code",
   "execution_count": 2,
   "metadata": {},
   "outputs": [
    {
     "name": "stderr",
     "output_type": "stream",
     "text": [
      "Failed to detect the name of this notebook, you can set it manually with the WANDB_NOTEBOOK_NAME environment variable to enable code saving.\n",
      "\u001b[34m\u001b[1mwandb\u001b[0m: Currently logged in as: \u001b[33mnikolaushouben\u001b[0m (\u001b[33mwattcast\u001b[0m). Use \u001b[1m`wandb login --relogin`\u001b[0m to force relogin\n"
     ]
    },
    {
     "name": "stdout",
     "output_type": "stream",
     "text": [
      "Current working directory: /Users/nikolaushouben/Desktop/WattCast\n"
     ]
    }
   ],
   "source": [
    "# Set working directory\n",
    "import wandb\n",
    "wandb.login()\n",
    "\n",
    "os.chdir(r\"..\") # should be the git repo root directory, checking below:\n",
    "print(\"Current working directory: \" + os.getcwd())\n",
    "assert os.getcwd()[-8:] == \"WattCast\"\n",
    "dir_path = os.path.join(os.getcwd(), 'data', 'clean_data')\n",
    "model_dir = os.path.join(os.getcwd(), 'models')"
   ]
  },
  {
   "cell_type": "code",
   "execution_count": 3,
   "metadata": {},
   "outputs": [],
   "source": [
    "locations_dict, resolutions_dict = get_hdf_keys(dir_path)"
   ]
  },
  {
   "cell_type": "code",
   "execution_count": null,
   "metadata": {},
   "outputs": [],
   "source": [
    "locations_dict"
   ]
  },
  {
   "attachments": {},
   "cell_type": "markdown",
   "metadata": {},
   "source": [
    "### Loop through all locations and resolutions"
   ]
  },
  {
   "cell_type": "code",
   "execution_count": null,
   "metadata": {},
   "outputs": [],
   "source": [
    "\n",
    "for location in locations_dict['2_town.h5']:\n",
    "\n",
    "    init_config = {\n",
    "        'spatial_scale': \"2_town\",\n",
    "        'temp_resolution': 60,\n",
    "        'location': location,\n",
    "        'models_to_train': [\"rf\", \"xgb\"],\n",
    "        'horizon_in_hours': 24,\n",
    "        'lookback_in_hours': 24,\n",
    "        'boxcox': True,\n",
    "        'liklihood': None,\n",
    "        'weather_available': True,\n",
    "        'datetime_encodings': True,\n",
    "        'heat_wave_binary': True,\n",
    "        'datetime_attributes': [\"dayofweek\", \"week\"],\n",
    "        'use_cov_as_past_cov': False,\n",
    "        'use_auxilary_data': True # to use data from other locations on the same scale (in case there is not enough training data)\n",
    "    }\n",
    "\n",
    "    name_id = (\n",
    "        init_config[\"spatial_scale\"]\n",
    "        + \"_\"\n",
    "        + init_config[\"location\"]\n",
    "        + \"_\"\n",
    "        + str(init_config[\"temp_resolution\"])\n",
    "        + \"min\"\n",
    "    )\n",
    "    wandb.init(\n",
    "        project=\"Portland_AMI\", name=name_id, id=name_id\n",
    "    ) \n",
    "\n",
    "    config, models = training(init_config)\n",
    "\n",
    "    eval_dict = evaluate(config, models)\n",
    "\n",
    "    df_metrics = get_run_results(eval_dict, config)\n",
    "\n",
    "    wandb.finish()"
   ]
  },
  {
   "attachments": {},
   "cell_type": "markdown",
   "metadata": {},
   "source": [
    "### Run for a single location"
   ]
  },
  {
   "cell_type": "code",
   "execution_count": null,
   "metadata": {},
   "outputs": [],
   "source": [
    "init_config = {\n",
    "    'spatial_scale': \"2_town\",\n",
    "    'temp_resolution': 60,\n",
    "    'location': 'GLENDOVEER-13598',\n",
    "    'models_to_train': [\"xgb\"],\n",
    "    'horizon_in_hours': 48,\n",
    "    'lookback_in_hours': 24,\n",
    "    'boxcox': True,\n",
    "    'liklihood': None,\n",
    "    'weather_available': True,\n",
    "    'datetime_encodings': True,\n",
    "    'heat_wave_binary': True,\n",
    "    'datetime_attributes': [\"dayofweek\", \"week\"],\n",
    "    'use_auxilary_data': True # to use data from other locations on the same scale (in case there is not enough training data)\n",
    "}\n",
    "\n",
    "name_id = (\n",
    "    init_config[\"spatial_scale\"]\n",
    "    + \"_\"\n",
    "    + init_config[\"location\"]\n",
    "    + \"_\"\n",
    "    + str(init_config[\"temp_resolution\"])\n",
    "    + \"min\"\n",
    ")\n",
    "wandb.init(\n",
    "    project=\"Portland_AMI\", name=name_id, id=name_id\n",
    ") \n",
    "\n",
    "config, models = training(init_config)\n",
    "\n",
    "eval_dict = evaluate(config, models)\n",
    "\n",
    "df_metrics = get_run_results(eval_dict, config)\n",
    "\n",
    "wandb.finish()"
   ]
  },
  {
   "cell_type": "markdown",
   "metadata": {},
   "source": [
    "## Debugging"
   ]
  },
  {
   "cell_type": "code",
   "execution_count": 18,
   "metadata": {},
   "outputs": [],
   "source": [
    "from utils import load_data, get_hdf_keys\n",
    "from train import data_pipeline\n",
    "import os\n",
    "clean_data_path = os.path.join(os.getcwd(), \"data\", \"clean_data\")\n",
    "\n",
    "def prepare_auxilary_training_data(config):\n",
    "    \"\"\"To enhance the current locations trainign data with the val and test sets of locations on the same scale\"\"\"\n",
    "\n",
    "    auxilary_training_data_trg = []\n",
    "    auxilary_training_data_cov = []\n",
    "    if config.use_auxilary_data:\n",
    "        for auxilary_location in get_hdf_keys(clean_data_path)[0][\n",
    "            config.spatial_scale + \".h5\"\n",
    "        ]:\n",
    "            auxilary_config = config.copy()\n",
    "            if auxilary_location != config.location:\n",
    "                auxilary_config.location = auxilary_location\n",
    "                auxilary_data = load_data(auxilary_config)\n",
    "                auxilary_piped_data, aux_pipeline = data_pipeline(\n",
    "                    auxilary_config, auxilary_data\n",
    "                )\n",
    "                (\n",
    "                    _,\n",
    "                    aux_ts_val_piped,\n",
    "                    aux_ts_test_piped,\n",
    "                    _,\n",
    "                    aux_ts_val_weather_piped,\n",
    "                    aux_ts_test_weather_piped,\n",
    "                ) = auxilary_piped_data\n",
    "                auxilary_training_data_trg.append(aux_ts_val_piped[0])\n",
    "                auxilary_training_data_cov.append(aux_ts_val_weather_piped[0])\n",
    "                auxilary_training_data_trg.append(aux_ts_test_piped[0])\n",
    "                auxilary_training_data_cov.append(aux_ts_test_weather_piped[0])\n",
    "\n",
    "    return auxilary_training_data_trg, auxilary_training_data_cov"
   ]
  },
  {
   "cell_type": "code",
   "execution_count": 19,
   "metadata": {},
   "outputs": [],
   "source": [
    "from train import Config, derive_config_params\n",
    "init_config = {\n",
    "    'spatial_scale': \"GLENDOVEER\",\n",
    "    'temp_resolution': 60,\n",
    "    'location': '13596.(MWh)',\n",
    "    'models_to_train': [\"xgb\"],\n",
    "    'horizon_in_hours': 48,\n",
    "    'lookback_in_hours': 24,\n",
    "    'boxcox': True,\n",
    "    'liklihood': None,\n",
    "    'weather_available': True,\n",
    "    'datetime_encodings': True,\n",
    "    'heat_wave_binary': True,\n",
    "    'datetime_attributes': [\"dayofweek\", \"week\"],\n",
    "    'use_auxilary_data': True # to use data from other locations on the same scale (in case there is not enough training data)\n",
    "}\n",
    "\n",
    "\n",
    "config = Config().from_dict(init_config)\n",
    "config = derive_config_params(config)"
   ]
  },
  {
   "cell_type": "code",
   "execution_count": 20,
   "metadata": {},
   "outputs": [],
   "source": []
  },
  {
   "cell_type": "code",
   "execution_count": null,
   "metadata": {},
   "outputs": [],
   "source": []
  }
 ],
 "metadata": {
  "kernelspec": {
   "display_name": "gpu2",
   "language": "python",
   "name": "python3"
  },
  "language_info": {
   "codemirror_mode": {
    "name": "ipython",
    "version": 3
   },
   "file_extension": ".py",
   "mimetype": "text/x-python",
   "name": "python",
   "nbconvert_exporter": "python",
   "pygments_lexer": "ipython3",
   "version": "3.11.3"
  },
  "orig_nbformat": 4
 },
 "nbformat": 4,
 "nbformat_minor": 2
}
