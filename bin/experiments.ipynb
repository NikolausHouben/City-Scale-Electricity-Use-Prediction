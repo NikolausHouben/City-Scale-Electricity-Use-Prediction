{
 "cells": [
  {
   "cell_type": "code",
   "execution_count": 1,
   "metadata": {},
   "outputs": [
    {
     "name": "stderr",
     "output_type": "stream",
     "text": [
      "/Users/nikolaushouben/opt/anaconda3/envs/Wattcast/lib/python3.11/site-packages/tqdm/auto.py:21: TqdmWarning: IProgress not found. Please update jupyter and ipywidgets. See https://ipywidgets.readthedocs.io/en/stable/user_install.html\n",
      "  from .autonotebook import tqdm as notebook_tqdm\n"
     ]
    }
   ],
   "source": [
    "import os\n",
    "import numpy as np\n",
    "import matplotlib.pyplot as plt\n",
    "plt.rcParams.update({'font.size': 12})\n",
    "plt.rcParams[\"font.family\"] = \"Times New Roman\"\n",
    "\n",
    "from utils import get_hdf_keys\n",
    "from train import training\n",
    "from evaluation import evaluate, get_run_results\n",
    "import warnings\n",
    "import pickle\n",
    "warnings.filterwarnings('ignore')\n",
    "# Set seed\n",
    "np.random.seed(42)"
   ]
  },
  {
   "cell_type": "code",
   "execution_count": 2,
   "metadata": {},
   "outputs": [
    {
     "name": "stderr",
     "output_type": "stream",
     "text": [
      "Failed to detect the name of this notebook, you can set it manually with the WANDB_NOTEBOOK_NAME environment variable to enable code saving.\n",
      "\u001b[34m\u001b[1mwandb\u001b[0m: Currently logged in as: \u001b[33mnikolaushouben\u001b[0m (\u001b[33mwattcast\u001b[0m). Use \u001b[1m`wandb login --relogin`\u001b[0m to force relogin\n"
     ]
    },
    {
     "name": "stdout",
     "output_type": "stream",
     "text": [
      "Current working directory: /Users/nikolaushouben/Desktop/WattCast\n"
     ]
    }
   ],
   "source": [
    "# Set working directory\n",
    "import wandb\n",
    "wandb.login()\n",
    "\n",
    "os.chdir(r\"..\") # should be the git repo root directory, checking below:\n",
    "print(\"Current working directory: \" + os.getcwd())\n",
    "assert os.getcwd()[-8:] == \"WattCast\"\n",
    "dir_path = os.path.join(os.getcwd(), 'data', 'clean_data')\n",
    "model_dir = os.path.join(os.getcwd(), 'models')"
   ]
  },
  {
   "cell_type": "code",
   "execution_count": 3,
   "metadata": {},
   "outputs": [],
   "source": [
    "locations_dict, resolutions_dict = get_hdf_keys(dir_path)"
   ]
  },
  {
   "cell_type": "code",
   "execution_count": 4,
   "metadata": {},
   "outputs": [
    {
     "data": {
      "text/plain": [
       "{'2_town.h5': ['GLENDOVEER-13596',\n",
       "  'GLENDOVEER-13597',\n",
       "  'GLENDOVEER-13598',\n",
       "  'GLENDOVEER-13599',\n",
       "  'GLENDOVEER-CLIFFGATE',\n",
       "  'GLENDOVEER-NORTHEAST',\n",
       "  'KELLY',\n",
       "  'LENTS-13101',\n",
       "  'LENTS-HAPPY',\n",
       "  'LENTS-MT',\n",
       "  'LENTS-NORTH',\n",
       "  'MIDWAY-DIVISION',\n",
       "  'MIDWAY-DOUGLAS',\n",
       "  'MIDWAY-LYNCH',\n",
       "  'MIDWAY-POWELLHURST',\n",
       "  'RAMAPO-EMERALD',\n",
       "  'RAMAPO-GILBERT',\n",
       "  'RAMAPO-RAMAPO']}"
      ]
     },
     "execution_count": 4,
     "metadata": {},
     "output_type": "execute_result"
    }
   ],
   "source": [
    "locations_dict"
   ]
  },
  {
   "attachments": {},
   "cell_type": "markdown",
   "metadata": {},
   "source": [
    "### Loop through all locations and resolutions"
   ]
  },
  {
   "cell_type": "code",
   "execution_count": null,
   "metadata": {},
   "outputs": [],
   "source": [
    "\n",
    "for location in locations_dict['2_town.h5']:\n",
    "\n",
    "    init_config = {\n",
    "        'spatial_scale': \"2_town\",\n",
    "        'temp_resolution': 60,\n",
    "        'location': location,\n",
    "        'models_to_train': [\"rf\", \"xgb\"],\n",
    "        'horizon_in_hours': 24,\n",
    "        'lookback_in_hours': 24,\n",
    "        'boxcox': True,\n",
    "        'liklihood': None,\n",
    "        'weather_available': True,\n",
    "        'datetime_encodings': True,\n",
    "        'heat_wave_binary': True,\n",
    "        'datetime_attributes': [\"dayofweek\", \"week\"],\n",
    "        'use_cov_as_past_cov': False,\n",
    "    }\n",
    "\n",
    "    name_id = (\n",
    "        init_config[\"spatial_scale\"]\n",
    "        + \"_\"\n",
    "        + init_config[\"location\"]\n",
    "        + \"_\"\n",
    "        + str(init_config[\"temp_resolution\"])\n",
    "        + \"min\"\n",
    "    )\n",
    "    wandb.init(\n",
    "        project=\"Portland_AMI\", name=name_id, id=name_id\n",
    "    ) \n",
    "\n",
    "    config, models = training(init_config)\n",
    "\n",
    "    eval_dict = evaluate(config, models)\n",
    "\n",
    "    df_metrics = get_run_results(eval_dict, config)\n",
    "\n",
    "    wandb.finish()"
   ]
  },
  {
   "attachments": {},
   "cell_type": "markdown",
   "metadata": {},
   "source": [
    "### Run for a single location"
   ]
  },
  {
   "cell_type": "code",
   "execution_count": null,
   "metadata": {},
   "outputs": [],
   "source": [
    "init_config = {\n",
    "    'spatial_scale': \"2_town\",\n",
    "    'temp_resolution': 60,\n",
    "    'location': 'GLENDOVEER-13598',\n",
    "    'models_to_train': [\"xgb\"],\n",
    "    'horizon_in_hours': 48,\n",
    "    'lookback_in_hours': 24,\n",
    "    'boxcox': True,\n",
    "    'liklihood': None,\n",
    "    'weather_available': True,\n",
    "    'datetime_encodings': True,\n",
    "    'heat_wave_binary': True,\n",
    "    'datetime_attributes': [\"dayofweek\", \"week\"],\n",
    "    'use_cov_as_past_cov': False,\n",
    "}\n",
    "\n",
    "name_id = (\n",
    "    init_config[\"spatial_scale\"]\n",
    "    + \"_\"\n",
    "    + init_config[\"location\"]\n",
    "    + \"_\"\n",
    "    + str(init_config[\"temp_resolution\"])\n",
    "    + \"min\"\n",
    ")\n",
    "wandb.init(\n",
    "    project=\"Portland_AMI\", name=name_id, id=name_id\n",
    ") \n",
    "\n",
    "config, models = training(init_config)\n",
    "\n",
    "eval_dict = evaluate(config, models)\n",
    "\n",
    "df_metrics = get_run_results(eval_dict, config)\n",
    "\n",
    "wandb.finish()"
   ]
  },
  {
   "cell_type": "markdown",
   "metadata": {},
   "source": [
    "## Debugging"
   ]
  },
  {
   "cell_type": "code",
   "execution_count": null,
   "metadata": {},
   "outputs": [],
   "source": [
    "pd.read_csv(\"data/raw_data/Portland_feeder_ts.csv\")"
   ]
  },
  {
   "cell_type": "code",
   "execution_count": null,
   "metadata": {},
   "outputs": [],
   "source": []
  }
 ],
 "metadata": {
  "kernelspec": {
   "display_name": "gpu2",
   "language": "python",
   "name": "python3"
  },
  "language_info": {
   "codemirror_mode": {
    "name": "ipython",
    "version": 3
   },
   "file_extension": ".py",
   "mimetype": "text/x-python",
   "name": "python",
   "nbconvert_exporter": "python",
   "pygments_lexer": "ipython3",
   "version": "3.11.3"
  },
  "orig_nbformat": 4
 },
 "nbformat": 4,
 "nbformat_minor": 2
}
