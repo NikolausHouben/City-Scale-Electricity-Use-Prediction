{
 "cells": [
  {
   "cell_type": "code",
   "execution_count": 1,
   "metadata": {},
   "outputs": [],
   "source": [
    "import os\n",
    "import numpy as np\n",
    "import matplotlib.pyplot as plt\n",
    "plt.rcParams.update({'font.size': 12})\n",
    "plt.rcParams[\"font.family\"] = \"Times New Roman\"\n",
    "\n",
    "from utils import get_hdf_keys\n",
    "from train import training\n",
    "from evaluation import evaluate, get_run_results\n",
    "import warnings\n",
    "import pickle\n",
    "warnings.filterwarnings('ignore')\n",
    "# Set seed\n",
    "np.random.seed(42)"
   ]
  },
  {
   "cell_type": "code",
   "execution_count": 2,
   "metadata": {},
   "outputs": [
    {
     "name": "stderr",
     "output_type": "stream",
     "text": [
      "Failed to detect the name of this notebook, you can set it manually with the WANDB_NOTEBOOK_NAME environment variable to enable code saving.\n",
      "\u001b[34m\u001b[1mwandb\u001b[0m: Currently logged in as: \u001b[33mnikolaushouben\u001b[0m (\u001b[33mwattcast\u001b[0m). Use \u001b[1m`wandb login --relogin`\u001b[0m to force relogin\n"
     ]
    },
    {
     "name": "stdout",
     "output_type": "stream",
     "text": [
      "Current working directory: c:\\Users\\nik\\Desktop\\Berkeley_Projects\\WattCast\n"
     ]
    }
   ],
   "source": [
    "# Set working directory\n",
    "import wandb\n",
    "wandb.login()\n",
    "\n",
    "os.chdir(r\"..\") # should be the git repo root directory, checking below:\n",
    "print(\"Current working directory: \" + os.getcwd())\n",
    "assert os.getcwd()[-8:] == \"WattCast\"\n",
    "dir_path = os.path.join(os.getcwd(), 'data', 'clean_data')\n",
    "model_dir = os.path.join(os.getcwd(), 'models')"
   ]
  },
  {
   "cell_type": "code",
   "execution_count": 3,
   "metadata": {},
   "outputs": [],
   "source": [
    "locations_dict, resolutions_dict = get_hdf_keys(dir_path)"
   ]
  },
  {
   "cell_type": "code",
   "execution_count": 4,
   "metadata": {},
   "outputs": [
    {
     "data": {
      "text/plain": [
       "{'1_county.h5': ['Los_Angeles', 'New_York', 'Sacramento'],\n",
       " '2_town.h5': ['town_0', 'town_1', 'town_2'],\n",
       " '3_village.h5': ['village_0', 'village_1', 'village_2'],\n",
       " '4_neighborhood.h5': ['neighborhood_0', 'neighborhood_1', 'neighborhood_2'],\n",
       " '5_building.h5': ['building_0', 'building_1', 'building_2']}"
      ]
     },
     "execution_count": 4,
     "metadata": {},
     "output_type": "execute_result"
    }
   ],
   "source": [
    "locations_dict"
   ]
  },
  {
   "cell_type": "code",
   "execution_count": 5,
   "metadata": {},
   "outputs": [],
   "source": [
    "tuned_models = [\n",
    "        'rf',\n",
    "        'xgb', \n",
    "        'lgbm',  \n",
    "        'gru', \n",
    "        'nbeats',\n",
    "        'tft'\n",
    "        ]"
   ]
  },
  {
   "attachments": {},
   "cell_type": "markdown",
   "metadata": {},
   "source": [
    "### Loop through all locations and resolutions"
   ]
  },
  {
   "cell_type": "code",
   "execution_count": null,
   "metadata": {},
   "outputs": [],
   "source": [
    "for scale, locations in locations_dict.items():\n",
    "\n",
    "    scale = scale.split('.')[0]\n",
    "    for location in locations:\n",
    "\n",
    "        print(f\"Training {location} at {scale} scale\")\n",
    "        config, models = training(scale, location) # loads existing models (from disk) if they exist, otherwise trains new models with optimial hyperparameters (from wandb) if they exist\n",
    "        eval_dict = evaluate(config, models) # loads existing run results (from wandb) if they exist, otherwise runs a backtest for each model on the val and test set, and then formats it into the various horizons\n",
    "        df_metrics = get_run_results(eval_dict, config) # calculates the error scores and produces plots, logging them to wandb if possible\n",
    "\n",
    "        wandb.finish()"
   ]
  },
  {
   "attachments": {},
   "cell_type": "markdown",
   "metadata": {},
   "source": [
    "### Run for a single location"
   ]
  },
  {
   "cell_type": "code",
   "execution_count": null,
   "metadata": {},
   "outputs": [],
   "source": [
    "scale = '1_county'\n",
    "location = 'Los_Angeles'\n",
    "\n",
    "print(f\"Training {location} at {scale} scale\")\n",
    "\n",
    "config, models = training(scale, location, tuned_models)\n",
    "\n",
    "eval_dict = evaluate(config, models)\n",
    "\n",
    "df_metrics = get_run_results(eval_dict, config)\n",
    "\n",
    "wandb.finish()"
   ]
  },
  {
   "cell_type": "code",
   "execution_count": null,
   "metadata": {},
   "outputs": [],
   "source": [
    "with open(f'data/evaluations/1_county/{location}.pkl', 'wb') as f:\n",
    "    pickle.dump(eval_dict, f)"
   ]
  },
  {
   "cell_type": "markdown",
   "metadata": {},
   "source": [
    "## Debugging"
   ]
  },
  {
   "cell_type": "code",
   "execution_count": null,
   "metadata": {},
   "outputs": [],
   "source": [
    "# dump and import eval dict from pickle\n",
    "\n",
    "# with open('data/eval_dict.pkl', 'wb') as f:\n",
    "#     pickle.dump(eval_dict, f)\n",
    "\n",
    "with open(f'data/evaluations/1_county/{location}.pkl', 'rb') as f:\n",
    "    d = pickle.load(f)\n",
    "\n"
   ]
  },
  {
   "cell_type": "code",
   "execution_count": null,
   "metadata": {},
   "outputs": [],
   "source": [
    "d"
   ]
  },
  {
   "cell_type": "code",
   "execution_count": null,
   "metadata": {},
   "outputs": [],
   "source": [
    "from darts.models import LightGBMModel\n",
    "m = LightGBMModel(input_chunk_length=24, lags_past_covariates=24, output_chunk_length=24, random_seed=42, **{'objective': 'huber'})"
   ]
  },
  {
   "cell_type": "code",
   "execution_count": null,
   "metadata": {},
   "outputs": [],
   "source": [
    "from train import get_best_run_config, Config, data_pipeline\n",
    "\n",
    "\n",
    "scale = '1_county'\n",
    "location = 'Los_Angeles'\n",
    "units_dict = {\"county\": \"GW\", \"town\": \"MW\", \"village\": \"kW\", \"neighborhood\": \"kW\"}\n",
    "\n",
    "tuned_models = [\n",
    "    \"rf\",\n",
    "    \"lgbm\",\n",
    "    \"xgb\",\n",
    "    \"gru\",\n",
    "     \"nbeats\",\n",
    "    #'tft'\n",
    "]\n",
    "\n",
    "resolution = 60\n",
    "\n",
    "config_per_model = {}\n",
    "for model in tuned_models:\n",
    "    config, name = get_best_run_config(\n",
    "        \"Wattcast_tuning\", \"+eval_loss\", model, scale, location\n",
    "    )\n",
    "    print(f\"Fetched sweep with name {name} for model {model}\")\n",
    "    config[\"horizon_in_hours\"] = 48  # type: ignore\n",
    "    config[\"location\"] = location  # type: ignore\n",
    "    config_per_model[model] = config, name\n",
    "\n",
    "name_id = scale + \"_\" + location + \"_\" + str(resolution) + \"min\"\n",
    "wandb.init(project=\"Wattcast\", name=name_id, id=name_id)\n",
    "\n",
    "config = Config().from_dict(config_per_model[tuned_models[0]][0])\n",
    "\n",
    "(\n",
    "    pipeline,\n",
    "    ts_train_piped,\n",
    "    ts_val_piped,\n",
    "    ts_test_piped,\n",
    "    ts_train_weather_piped,\n",
    "    ts_val_weather_piped,\n",
    "    ts_test_weather_piped,\n",
    "    trg_train_inversed,\n",
    "    trg_val_inversed,\n",
    "    trg_test_inersed,\n",
    ") = data_pipeline(config)\n",
    "\n",
    "\n"
   ]
  },
  {
   "cell_type": "code",
   "execution_count": null,
   "metadata": {},
   "outputs": [],
   "source": [
    "m.fit(ts_train_piped, ts_train_weather_piped, verbose=True)"
   ]
  },
  {
   "cell_type": "code",
   "execution_count": null,
   "metadata": {},
   "outputs": [],
   "source": [
    "import lightgbm as lgb"
   ]
  }
 ],
 "metadata": {
  "kernelspec": {
   "display_name": "gpu2",
   "language": "python",
   "name": "python3"
  },
  "language_info": {
   "codemirror_mode": {
    "name": "ipython",
    "version": 3
   },
   "file_extension": ".py",
   "mimetype": "text/x-python",
   "name": "python",
   "nbconvert_exporter": "python",
   "pygments_lexer": "ipython3",
   "version": "3.10.9"
  },
  "orig_nbformat": 4
 },
 "nbformat": 4,
 "nbformat_minor": 2
}
