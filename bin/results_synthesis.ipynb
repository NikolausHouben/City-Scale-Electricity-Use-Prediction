{
 "cells": [
  {
   "cell_type": "code",
   "execution_count": 1,
   "metadata": {},
   "outputs": [],
   "source": [
    "import os\n",
    "import json\n",
    "import wandb\n",
    "import pandas as pd\n",
    "import numpy as np\n",
    "import matplotlib.pyplot as plt\n",
    "import plotly.express as px\n",
    "import plotly.graph_objects as go\n",
    "import warnings\n",
    "warnings.filterwarnings('ignore')\n",
    "# Set seed\n",
    "np.random.seed(42)\n",
    "\n",
    "# set font to 12 and times new roman\n",
    "\n",
    "plt.rcParams.update({'font.size': 12})\n",
    "plt.rcParams[\"font.family\"] = \"Times New Roman\"\n"
   ]
  },
  {
   "cell_type": "code",
   "execution_count": 2,
   "metadata": {},
   "outputs": [
    {
     "name": "stdout",
     "output_type": "stream",
     "text": [
      "Current working directory: c:\\Users\\nik\\Desktop\\Berkeley_Projects\\WattCast\n"
     ]
    }
   ],
   "source": [
    "\n",
    "os.chdir(r\"..\") # should be the git repo root directory, checking below:\n",
    "print(\"Current working directory: \" + os.getcwd())\n",
    "assert os.getcwd()[-8:] == \"WattCast\""
   ]
  },
  {
   "cell_type": "code",
   "execution_count": 3,
   "metadata": {},
   "outputs": [
    {
     "name": "stderr",
     "output_type": "stream",
     "text": [
      "Failed to detect the name of this notebook, you can set it manually with the WANDB_NOTEBOOK_NAME environment variable to enable code saving.\n"
     ]
    },
    {
     "name": "stderr",
     "output_type": "stream",
     "text": [
      "\u001b[34m\u001b[1mwandb\u001b[0m: Currently logged in as: \u001b[33mnikolaushouben\u001b[0m (\u001b[33mwattcast\u001b[0m). Use \u001b[1m`wandb login --relogin`\u001b[0m to force relogin\n"
     ]
    },
    {
     "data": {
      "text/plain": [
       "True"
      ]
     },
     "execution_count": 3,
     "metadata": {},
     "output_type": "execute_result"
    }
   ],
   "source": [
    "wandb.login()"
   ]
  },
  {
   "attachments": {},
   "cell_type": "markdown",
   "metadata": {},
   "source": [
    "## Data imports\n",
    "\n",
    "Grabbing all metrics from all runs"
   ]
  },
  {
   "cell_type": "code",
   "execution_count": 4,
   "metadata": {},
   "outputs": [
    {
     "data": {
      "application/vnd.jupyter.widget-view+json": {
       "model_id": "140645734c3c4956a9122ee45ff9fee5",
       "version_major": 2,
       "version_minor": 0
      },
      "text/plain": [
       "VBox(children=(Label(value='Waiting for wandb.init()...\\r'), FloatProgress(value=0.016666666666666666, max=1.0…"
      ]
     },
     "metadata": {},
     "output_type": "display_data"
    },
    {
     "data": {
      "text/html": [
       "wandb version 0.15.4 is available!  To upgrade, please run:\n",
       " $ pip install wandb --upgrade"
      ],
      "text/plain": [
       "<IPython.core.display.HTML object>"
      ]
     },
     "metadata": {},
     "output_type": "display_data"
    },
    {
     "data": {
      "text/html": [
       "Tracking run with wandb version 0.14.0"
      ],
      "text/plain": [
       "<IPython.core.display.HTML object>"
      ]
     },
     "metadata": {},
     "output_type": "display_data"
    },
    {
     "data": {
      "text/html": [
       "Run data is saved locally in <code>c:\\Users\\nik\\Desktop\\Berkeley_Projects\\WattCast\\wandb\\run-20230621_132709-sce6tlwx</code>"
      ],
      "text/plain": [
       "<IPython.core.display.HTML object>"
      ]
     },
     "metadata": {},
     "output_type": "display_data"
    },
    {
     "data": {
      "text/html": [
       "Syncing run <strong><a href='https://wandb.ai/wattcast/Wattcast2/runs/sce6tlwx' target=\"_blank\">results_synthesis</a></strong> to <a href='https://wandb.ai/wattcast/Wattcast2' target=\"_blank\">Weights & Biases</a> (<a href='https://wandb.me/run' target=\"_blank\">docs</a>)<br/>"
      ],
      "text/plain": [
       "<IPython.core.display.HTML object>"
      ]
     },
     "metadata": {},
     "output_type": "display_data"
    },
    {
     "data": {
      "text/html": [
       " View project at <a href='https://wandb.ai/wattcast/Wattcast2' target=\"_blank\">https://wandb.ai/wattcast/Wattcast2</a>"
      ],
      "text/plain": [
       "<IPython.core.display.HTML object>"
      ]
     },
     "metadata": {},
     "output_type": "display_data"
    },
    {
     "data": {
      "text/html": [
       " View run at <a href='https://wandb.ai/wattcast/Wattcast2/runs/sce6tlwx' target=\"_blank\">https://wandb.ai/wattcast/Wattcast2/runs/sce6tlwx</a>"
      ],
      "text/plain": [
       "<IPython.core.display.HTML object>"
      ]
     },
     "metadata": {},
     "output_type": "display_data"
    }
   ],
   "source": [
    "run = wandb.init(project='Wattcast2', name='results_synthesis', resume=True)\n"
   ]
  },
  {
   "cell_type": "code",
   "execution_count": 8,
   "metadata": {},
   "outputs": [],
   "source": [
    "project_name = \"Wattcast2\"\n",
    "\n",
    "# Initialize your project\n",
    "api = wandb.Api()\n",
    "runs = api.runs(project_name)\n",
    "\n",
    "\n",
    "name_id_dict = {}\n",
    "\n",
    "for run_ in runs:\n",
    "    l = run_.name.split('_')[:-1]\n",
    "    l.insert(2, 'in')\n",
    "    n = '_'.join(l)\n",
    "    # remove the _ around in\n",
    "    n = n.replace('_in_', 'in')\n",
    "    name_id_dict[n] = run_.id"
   ]
  },
  {
   "cell_type": "code",
   "execution_count": 12,
   "metadata": {},
   "outputs": [
    {
     "data": {
      "text/plain": [
       "{'1_countyinLos_Angeles': '1_county_Los_Angeles_60min'}"
      ]
     },
     "execution_count": 12,
     "metadata": {},
     "output_type": "execute_result"
    }
   ],
   "source": [
    "name_id_dict"
   ]
  },
  {
   "cell_type": "code",
   "execution_count": 13,
   "metadata": {},
   "outputs": [
    {
     "name": "stderr",
     "output_type": "stream",
     "text": [
      "\u001b[34m\u001b[1mwandb\u001b[0m:   1 of 1 files downloaded.  \n"
     ]
    }
   ],
   "source": [
    "\n",
    "key_list = list(name_id_dict.keys())\n",
    "for key in key_list:\n",
    "    if key[0] not in ['1', '2', '3', '4', '5']:\n",
    "        del name_id_dict[key]\n",
    "        \n",
    "dfs_sorted = {}\n",
    "for name, id in name_id_dict.items():\n",
    "\n",
    "    run_path = f'wattcast/{project_name}/run-{id}-Errormetrics:latest'\n",
    "    artifact = run.use_artifact(f'{run_path}', type='run_table')\n",
    "    artifact_dir = artifact.download()\n",
    "    with open(os.path.join(artifact_dir, os.listdir(artifact_dir)[0])) as f:\n",
    "        data = json.load(f)\n",
    "    df_metrics = pd.DataFrame(data['data'], columns=data['columns'])\n",
    "    df = df_metrics.sort_values(by=['model', 'season'])\n",
    "    dfs_sorted[name] = df\n"
   ]
  },
  {
   "attachments": {},
   "cell_type": "markdown",
   "metadata": {},
   "source": [
    "## Results Exploration (Interactive Plots)\n",
    "\n",
    "[![](https://raw.githubusercontent.com/wandb/assets/main/wandb-github-badge-gradient.svg)](https://wandb.ai/wattcast/WattCast)\n"
   ]
  },
  {
   "cell_type": "code",
   "execution_count": 15,
   "metadata": {},
   "outputs": [
    {
     "data": {
      "application/vnd.plotly.v1+json": {
       "config": {
        "plotlyServerURL": "https://plot.ly"
       },
       "data": [
        {
         "customdata": [
          [
           "XGBModel"
          ],
          [
           "XGBModel"
          ],
          [
           "XGBModel"
          ],
          [
           "XGBModel"
          ],
          [
           "XGBModel"
          ]
         ],
         "hovertemplate": "color=orange<br>shape=diamond<br>Forecast Horizon (hours)=%{x}<br>RMSE Skill Score=%{y}<br>model=%{customdata[0]}<extra></extra>",
         "legendgroup": "XGBModel",
         "marker": {
          "color": "#636efa",
          "symbol": "diamond"
         },
         "mode": "markers",
         "name": "XGBModel (Summer)",
         "orientation": "v",
         "showlegend": true,
         "type": "scatter",
         "x": [
          1,
          4,
          8,
          24,
          48
         ],
         "xaxis": "x",
         "y": [
          0.7074519820903123,
          0.5436571307847953,
          0.3679565912373701,
          -0.10621310654929705,
          -0.20204376293338377
         ],
         "yaxis": "y"
        },
        {
         "customdata": [
          [
           "XGBModel"
          ],
          [
           "XGBModel"
          ],
          [
           "XGBModel"
          ],
          [
           "XGBModel"
          ],
          [
           "XGBModel"
          ]
         ],
         "hovertemplate": "color=blue<br>shape=diamond<br>Forecast Horizon (hours)=%{x}<br>RMSE Skill Score=%{y}<br>model=%{customdata[0]}<extra></extra>",
         "legendgroup": "XGBModel",
         "marker": {
          "color": "#EF553B",
          "symbol": "diamond"
         },
         "mode": "markers",
         "name": "XGBModel (Winter)",
         "orientation": "v",
         "showlegend": true,
         "type": "scatter",
         "x": [
          1,
          4,
          8,
          24,
          48
         ],
         "xaxis": "x",
         "y": [
          0.782022692875975,
          0.5423079246319755,
          0.39119862049943344,
          0.17636657198088324,
          0.050325079516305826
         ],
         "yaxis": "y"
        }
       ],
       "layout": {
        "height": 600,
        "legend": {
         "title": {
          "text": "Model"
         },
         "tracegroupgap": 0
        },
        "template": {
         "data": {
          "bar": [
           {
            "error_x": {
             "color": "#2a3f5f"
            },
            "error_y": {
             "color": "#2a3f5f"
            },
            "marker": {
             "line": {
              "color": "#E5ECF6",
              "width": 0.5
             },
             "pattern": {
              "fillmode": "overlay",
              "size": 10,
              "solidity": 0.2
             }
            },
            "type": "bar"
           }
          ],
          "barpolar": [
           {
            "marker": {
             "line": {
              "color": "#E5ECF6",
              "width": 0.5
             },
             "pattern": {
              "fillmode": "overlay",
              "size": 10,
              "solidity": 0.2
             }
            },
            "type": "barpolar"
           }
          ],
          "carpet": [
           {
            "aaxis": {
             "endlinecolor": "#2a3f5f",
             "gridcolor": "white",
             "linecolor": "white",
             "minorgridcolor": "white",
             "startlinecolor": "#2a3f5f"
            },
            "baxis": {
             "endlinecolor": "#2a3f5f",
             "gridcolor": "white",
             "linecolor": "white",
             "minorgridcolor": "white",
             "startlinecolor": "#2a3f5f"
            },
            "type": "carpet"
           }
          ],
          "choropleth": [
           {
            "colorbar": {
             "outlinewidth": 0,
             "ticks": ""
            },
            "type": "choropleth"
           }
          ],
          "contour": [
           {
            "colorbar": {
             "outlinewidth": 0,
             "ticks": ""
            },
            "colorscale": [
             [
              0,
              "#0d0887"
             ],
             [
              0.1111111111111111,
              "#46039f"
             ],
             [
              0.2222222222222222,
              "#7201a8"
             ],
             [
              0.3333333333333333,
              "#9c179e"
             ],
             [
              0.4444444444444444,
              "#bd3786"
             ],
             [
              0.5555555555555556,
              "#d8576b"
             ],
             [
              0.6666666666666666,
              "#ed7953"
             ],
             [
              0.7777777777777778,
              "#fb9f3a"
             ],
             [
              0.8888888888888888,
              "#fdca26"
             ],
             [
              1,
              "#f0f921"
             ]
            ],
            "type": "contour"
           }
          ],
          "contourcarpet": [
           {
            "colorbar": {
             "outlinewidth": 0,
             "ticks": ""
            },
            "type": "contourcarpet"
           }
          ],
          "heatmap": [
           {
            "colorbar": {
             "outlinewidth": 0,
             "ticks": ""
            },
            "colorscale": [
             [
              0,
              "#0d0887"
             ],
             [
              0.1111111111111111,
              "#46039f"
             ],
             [
              0.2222222222222222,
              "#7201a8"
             ],
             [
              0.3333333333333333,
              "#9c179e"
             ],
             [
              0.4444444444444444,
              "#bd3786"
             ],
             [
              0.5555555555555556,
              "#d8576b"
             ],
             [
              0.6666666666666666,
              "#ed7953"
             ],
             [
              0.7777777777777778,
              "#fb9f3a"
             ],
             [
              0.8888888888888888,
              "#fdca26"
             ],
             [
              1,
              "#f0f921"
             ]
            ],
            "type": "heatmap"
           }
          ],
          "heatmapgl": [
           {
            "colorbar": {
             "outlinewidth": 0,
             "ticks": ""
            },
            "colorscale": [
             [
              0,
              "#0d0887"
             ],
             [
              0.1111111111111111,
              "#46039f"
             ],
             [
              0.2222222222222222,
              "#7201a8"
             ],
             [
              0.3333333333333333,
              "#9c179e"
             ],
             [
              0.4444444444444444,
              "#bd3786"
             ],
             [
              0.5555555555555556,
              "#d8576b"
             ],
             [
              0.6666666666666666,
              "#ed7953"
             ],
             [
              0.7777777777777778,
              "#fb9f3a"
             ],
             [
              0.8888888888888888,
              "#fdca26"
             ],
             [
              1,
              "#f0f921"
             ]
            ],
            "type": "heatmapgl"
           }
          ],
          "histogram": [
           {
            "marker": {
             "pattern": {
              "fillmode": "overlay",
              "size": 10,
              "solidity": 0.2
             }
            },
            "type": "histogram"
           }
          ],
          "histogram2d": [
           {
            "colorbar": {
             "outlinewidth": 0,
             "ticks": ""
            },
            "colorscale": [
             [
              0,
              "#0d0887"
             ],
             [
              0.1111111111111111,
              "#46039f"
             ],
             [
              0.2222222222222222,
              "#7201a8"
             ],
             [
              0.3333333333333333,
              "#9c179e"
             ],
             [
              0.4444444444444444,
              "#bd3786"
             ],
             [
              0.5555555555555556,
              "#d8576b"
             ],
             [
              0.6666666666666666,
              "#ed7953"
             ],
             [
              0.7777777777777778,
              "#fb9f3a"
             ],
             [
              0.8888888888888888,
              "#fdca26"
             ],
             [
              1,
              "#f0f921"
             ]
            ],
            "type": "histogram2d"
           }
          ],
          "histogram2dcontour": [
           {
            "colorbar": {
             "outlinewidth": 0,
             "ticks": ""
            },
            "colorscale": [
             [
              0,
              "#0d0887"
             ],
             [
              0.1111111111111111,
              "#46039f"
             ],
             [
              0.2222222222222222,
              "#7201a8"
             ],
             [
              0.3333333333333333,
              "#9c179e"
             ],
             [
              0.4444444444444444,
              "#bd3786"
             ],
             [
              0.5555555555555556,
              "#d8576b"
             ],
             [
              0.6666666666666666,
              "#ed7953"
             ],
             [
              0.7777777777777778,
              "#fb9f3a"
             ],
             [
              0.8888888888888888,
              "#fdca26"
             ],
             [
              1,
              "#f0f921"
             ]
            ],
            "type": "histogram2dcontour"
           }
          ],
          "mesh3d": [
           {
            "colorbar": {
             "outlinewidth": 0,
             "ticks": ""
            },
            "type": "mesh3d"
           }
          ],
          "parcoords": [
           {
            "line": {
             "colorbar": {
              "outlinewidth": 0,
              "ticks": ""
             }
            },
            "type": "parcoords"
           }
          ],
          "pie": [
           {
            "automargin": true,
            "type": "pie"
           }
          ],
          "scatter": [
           {
            "fillpattern": {
             "fillmode": "overlay",
             "size": 10,
             "solidity": 0.2
            },
            "type": "scatter"
           }
          ],
          "scatter3d": [
           {
            "line": {
             "colorbar": {
              "outlinewidth": 0,
              "ticks": ""
             }
            },
            "marker": {
             "colorbar": {
              "outlinewidth": 0,
              "ticks": ""
             }
            },
            "type": "scatter3d"
           }
          ],
          "scattercarpet": [
           {
            "marker": {
             "colorbar": {
              "outlinewidth": 0,
              "ticks": ""
             }
            },
            "type": "scattercarpet"
           }
          ],
          "scattergeo": [
           {
            "marker": {
             "colorbar": {
              "outlinewidth": 0,
              "ticks": ""
             }
            },
            "type": "scattergeo"
           }
          ],
          "scattergl": [
           {
            "marker": {
             "colorbar": {
              "outlinewidth": 0,
              "ticks": ""
             }
            },
            "type": "scattergl"
           }
          ],
          "scattermapbox": [
           {
            "marker": {
             "colorbar": {
              "outlinewidth": 0,
              "ticks": ""
             }
            },
            "type": "scattermapbox"
           }
          ],
          "scatterpolar": [
           {
            "marker": {
             "colorbar": {
              "outlinewidth": 0,
              "ticks": ""
             }
            },
            "type": "scatterpolar"
           }
          ],
          "scatterpolargl": [
           {
            "marker": {
             "colorbar": {
              "outlinewidth": 0,
              "ticks": ""
             }
            },
            "type": "scatterpolargl"
           }
          ],
          "scatterternary": [
           {
            "marker": {
             "colorbar": {
              "outlinewidth": 0,
              "ticks": ""
             }
            },
            "type": "scatterternary"
           }
          ],
          "surface": [
           {
            "colorbar": {
             "outlinewidth": 0,
             "ticks": ""
            },
            "colorscale": [
             [
              0,
              "#0d0887"
             ],
             [
              0.1111111111111111,
              "#46039f"
             ],
             [
              0.2222222222222222,
              "#7201a8"
             ],
             [
              0.3333333333333333,
              "#9c179e"
             ],
             [
              0.4444444444444444,
              "#bd3786"
             ],
             [
              0.5555555555555556,
              "#d8576b"
             ],
             [
              0.6666666666666666,
              "#ed7953"
             ],
             [
              0.7777777777777778,
              "#fb9f3a"
             ],
             [
              0.8888888888888888,
              "#fdca26"
             ],
             [
              1,
              "#f0f921"
             ]
            ],
            "type": "surface"
           }
          ],
          "table": [
           {
            "cells": {
             "fill": {
              "color": "#EBF0F8"
             },
             "line": {
              "color": "white"
             }
            },
            "header": {
             "fill": {
              "color": "#C8D4E3"
             },
             "line": {
              "color": "white"
             }
            },
            "type": "table"
           }
          ]
         },
         "layout": {
          "annotationdefaults": {
           "arrowcolor": "#2a3f5f",
           "arrowhead": 0,
           "arrowwidth": 1
          },
          "autotypenumbers": "strict",
          "coloraxis": {
           "colorbar": {
            "outlinewidth": 0,
            "ticks": ""
           }
          },
          "colorscale": {
           "diverging": [
            [
             0,
             "#8e0152"
            ],
            [
             0.1,
             "#c51b7d"
            ],
            [
             0.2,
             "#de77ae"
            ],
            [
             0.3,
             "#f1b6da"
            ],
            [
             0.4,
             "#fde0ef"
            ],
            [
             0.5,
             "#f7f7f7"
            ],
            [
             0.6,
             "#e6f5d0"
            ],
            [
             0.7,
             "#b8e186"
            ],
            [
             0.8,
             "#7fbc41"
            ],
            [
             0.9,
             "#4d9221"
            ],
            [
             1,
             "#276419"
            ]
           ],
           "sequential": [
            [
             0,
             "#0d0887"
            ],
            [
             0.1111111111111111,
             "#46039f"
            ],
            [
             0.2222222222222222,
             "#7201a8"
            ],
            [
             0.3333333333333333,
             "#9c179e"
            ],
            [
             0.4444444444444444,
             "#bd3786"
            ],
            [
             0.5555555555555556,
             "#d8576b"
            ],
            [
             0.6666666666666666,
             "#ed7953"
            ],
            [
             0.7777777777777778,
             "#fb9f3a"
            ],
            [
             0.8888888888888888,
             "#fdca26"
            ],
            [
             1,
             "#f0f921"
            ]
           ],
           "sequentialminus": [
            [
             0,
             "#0d0887"
            ],
            [
             0.1111111111111111,
             "#46039f"
            ],
            [
             0.2222222222222222,
             "#7201a8"
            ],
            [
             0.3333333333333333,
             "#9c179e"
            ],
            [
             0.4444444444444444,
             "#bd3786"
            ],
            [
             0.5555555555555556,
             "#d8576b"
            ],
            [
             0.6666666666666666,
             "#ed7953"
            ],
            [
             0.7777777777777778,
             "#fb9f3a"
            ],
            [
             0.8888888888888888,
             "#fdca26"
            ],
            [
             1,
             "#f0f921"
            ]
           ]
          },
          "colorway": [
           "#636efa",
           "#EF553B",
           "#00cc96",
           "#ab63fa",
           "#FFA15A",
           "#19d3f3",
           "#FF6692",
           "#B6E880",
           "#FF97FF",
           "#FECB52"
          ],
          "font": {
           "color": "#2a3f5f"
          },
          "geo": {
           "bgcolor": "white",
           "lakecolor": "white",
           "landcolor": "#E5ECF6",
           "showlakes": true,
           "showland": true,
           "subunitcolor": "white"
          },
          "hoverlabel": {
           "align": "left"
          },
          "hovermode": "closest",
          "mapbox": {
           "style": "light"
          },
          "paper_bgcolor": "white",
          "plot_bgcolor": "#E5ECF6",
          "polar": {
           "angularaxis": {
            "gridcolor": "white",
            "linecolor": "white",
            "ticks": ""
           },
           "bgcolor": "#E5ECF6",
           "radialaxis": {
            "gridcolor": "white",
            "linecolor": "white",
            "ticks": ""
           }
          },
          "scene": {
           "xaxis": {
            "backgroundcolor": "#E5ECF6",
            "gridcolor": "white",
            "gridwidth": 2,
            "linecolor": "white",
            "showbackground": true,
            "ticks": "",
            "zerolinecolor": "white"
           },
           "yaxis": {
            "backgroundcolor": "#E5ECF6",
            "gridcolor": "white",
            "gridwidth": 2,
            "linecolor": "white",
            "showbackground": true,
            "ticks": "",
            "zerolinecolor": "white"
           },
           "zaxis": {
            "backgroundcolor": "#E5ECF6",
            "gridcolor": "white",
            "gridwidth": 2,
            "linecolor": "white",
            "showbackground": true,
            "ticks": "",
            "zerolinecolor": "white"
           }
          },
          "shapedefaults": {
           "line": {
            "color": "#2a3f5f"
           }
          },
          "ternary": {
           "aaxis": {
            "gridcolor": "white",
            "linecolor": "white",
            "ticks": ""
           },
           "baxis": {
            "gridcolor": "white",
            "linecolor": "white",
            "ticks": ""
           },
           "bgcolor": "#E5ECF6",
           "caxis": {
            "gridcolor": "white",
            "linecolor": "white",
            "ticks": ""
           }
          },
          "title": {
           "x": 0.05
          },
          "xaxis": {
           "automargin": true,
           "gridcolor": "white",
           "linecolor": "white",
           "ticks": "",
           "title": {
            "standoff": 15
           },
           "zerolinecolor": "white",
           "zerolinewidth": 2
          },
          "yaxis": {
           "automargin": true,
           "gridcolor": "white",
           "linecolor": "white",
           "ticks": "",
           "title": {
            "standoff": 15
           },
           "zerolinecolor": "white",
           "zerolinewidth": 2
          }
         }
        },
        "title": {
         "text": "RMSE Skill Score Compared to 24-Persistence over Forecast Horizon - 1_countyinLos_Angeles"
        },
        "width": 900,
        "xaxis": {
         "anchor": "y",
         "domain": [
          0,
          1
         ],
         "tickmode": "array",
         "tickvals": [
          1,
          4,
          8,
          24,
          48
         ],
         "title": {
          "text": "Forecast Horizon (hours)"
         }
        },
        "yaxis": {
         "anchor": "x",
         "domain": [
          0,
          1
         ],
         "title": {
          "text": "RMSE Skill Score"
         }
        }
       }
      }
     },
     "metadata": {},
     "output_type": "display_data"
    }
   ],
   "source": [
    "\n",
    "\n",
    "for name, df in dfs_sorted.items():\n",
    "\n",
    "    # Define colors and shapes based on the season and model\n",
    "    season2color = {'Summer': 'orange', 'Winter': 'blue'}\n",
    "    color2season = {v: k for k, v in season2color.items()}\n",
    "    model2shape = {\n",
    "        'RandomForest': 'circle',\n",
    "        'LightGBMModel': 'square',\n",
    "        'XGBModel': 'diamond',\n",
    "        'BlockRNNModel': 'cross',\n",
    "        'NBEATSModel': 'triangle-up',\n",
    "        'LinearRegressionModel': 'star'\n",
    "    }\n",
    "    shape2model = {v: k for k, v in model2shape.items()}\n",
    "\n",
    "\n",
    "\n",
    "\n",
    "    # Map the colors and shapes to the DataFrame\n",
    "    df['color'] = df['season'].map(season2color)\n",
    "    df['shape'] = df['model'].map(model2shape)\n",
    "\n",
    "    # Create the scatter plot\n",
    "    fig = px.scatter(\n",
    "        df,\n",
    "        x='horizon_in_hours',\n",
    "        y='rmse_skill_score',\n",
    "        color='color',\n",
    "        symbol='shape',\n",
    "        #symbol_sequence= list(model2shape.values()),\n",
    "        hover_data=['model'],\n",
    "        title=f'RMSE Skill Score Compared to 24-Persistence over Forecast Horizon - {name}',\n",
    "        labels={'rmse_skill_score': 'RMSE Skill Score', 'horizon_in_hours': 'Forecast Horizon (hours)'}\n",
    "\n",
    "            \n",
    "    )\n",
    "\n",
    "    # set the x ticks and rename the legend\n",
    "    fig.update_layout(\n",
    "        xaxis=dict(\n",
    "            tickmode='array',\n",
    "            tickvals=[1, 4, 8, 24, 48],\n",
    "        ),\n",
    "        legend_title_text='Model',\n",
    "    )\n",
    "\n",
    "    for i in range(len(fig.data)):\n",
    "        current_name = fig.data[i]['name']\n",
    "        color, shape = current_name.split(', ')\n",
    "        fig.data[i]['name'] = f'{shape2model[shape]} ({color2season[color]})'\n",
    "        fig.data[i]['legendgroup'] = f'{shape2model[shape]}'\n",
    "\n",
    "    # Update the figure size\n",
    "    fig.update_layout(width=900, height=600)\n",
    "    \n",
    "    fig.show()\n"
   ]
  },
  {
   "attachments": {},
   "cell_type": "markdown",
   "metadata": {},
   "source": [
    "## Paper Figures & Tables"
   ]
  },
  {
   "attachments": {},
   "cell_type": "markdown",
   "metadata": {},
   "source": [
    "### Plot 1: Skill Score vs Horizon for each model and season"
   ]
  },
  {
   "cell_type": "code",
   "execution_count": 16,
   "metadata": {},
   "outputs": [
    {
     "ename": "AttributeError",
     "evalue": "'Axes' object has no attribute 'ravel'",
     "output_type": "error",
     "traceback": [
      "\u001b[1;31m---------------------------------------------------------------------------\u001b[0m",
      "\u001b[1;31mAttributeError\u001b[0m                            Traceback (most recent call last)",
      "Cell \u001b[1;32mIn[16], line 35\u001b[0m\n\u001b[0;32m     32\u001b[0m shape2model \u001b[39m=\u001b[39m {v: k \u001b[39mfor\u001b[39;00m k, v \u001b[39min\u001b[39;00m model2shape\u001b[39m.\u001b[39mitems()}\n\u001b[0;32m     34\u001b[0m fig, axs \u001b[39m=\u001b[39m plt\u001b[39m.\u001b[39msubplots(\u001b[39m1\u001b[39m, \u001b[39mlen\u001b[39m(dfs_sorted_plot), figsize\u001b[39m=\u001b[39m(\u001b[39m5\u001b[39m\u001b[39m*\u001b[39m(\u001b[39mlen\u001b[39m(dfs_sorted_plot)),\u001b[39m5\u001b[39m), sharex\u001b[39m=\u001b[39m\u001b[39mTrue\u001b[39;00m, sharey\u001b[39m=\u001b[39m\u001b[39mTrue\u001b[39;00m)\n\u001b[1;32m---> 35\u001b[0m axs \u001b[39m=\u001b[39m axs\u001b[39m.\u001b[39;49mravel()\n\u001b[0;32m     37\u001b[0m \u001b[39m# Create a list to store the handles and labels for the legend\u001b[39;00m\n\u001b[0;32m     38\u001b[0m legend_handles \u001b[39m=\u001b[39m []\n",
      "\u001b[1;31mAttributeError\u001b[0m: 'Axes' object has no attribute 'ravel'"
     ]
    },
    {
     "data": {
      "image/png": "[encoded data removed]",
      "text/plain": [
       "<Figure size 500x500 with 1 Axes>"
      ]
     },
     "metadata": {},
     "output_type": "display_data"
    }
   ],
   "source": [
    "\n",
    "spatial_scale = 'county'\n",
    "\n",
    "metric_of_interest = 'rmse_skill_score'\n",
    "\n",
    "metric_dict = {'mape': 'Mean Absolute Percentage Error (MAPE)',\n",
    "               'rmse': 'Root Mean Squared Error (RMSE)',\n",
    "                'mae': 'Mean Absolute Error (MAE)',\n",
    "                'smape': 'Symmetric Mean Absolute Percentage Error (SMAPE)',\n",
    "                'rmse_skill_score': 'RMSE Skill Score',\n",
    "                'r2_score': 'R2 Score',\n",
    "                }\n",
    "\n",
    "\n",
    "dfs_sorted_plot = dfs_sorted.copy()\n",
    "keys = list(dfs_sorted_plot.keys())\n",
    "for key in keys:\n",
    "    if not spatial_scale in key:\n",
    "        del dfs_sorted_plot[key]\n",
    "\n",
    "\n",
    "# Define colors and shapes based on the season and model\n",
    "season2color = {'Summer': 'orange', 'Winter': 'blue'}\n",
    "color2season = {v: k for k, v in season2color.items()}\n",
    "model2shape = {\n",
    "    'RandomForest': 'o',\n",
    "    'LightGBMModel': 's',\n",
    "    'XGBModel': 'D',\n",
    "    'BlockRNNModel': 'x',\n",
    "    'NBEATSModel': '^',\n",
    "    'LinearRegressionModel': '*'\n",
    "}\n",
    "shape2model = {v: k for k, v in model2shape.items()}\n",
    "\n",
    "fig, axs = plt.subplots(1, len(dfs_sorted_plot), figsize=(5*(len(dfs_sorted_plot)),5), sharex=True, sharey=True)\n",
    "axs = axs.ravel()\n",
    "\n",
    "# Create a list to store the handles and labels for the legend\n",
    "legend_handles = []\n",
    "legend_labels = []\n",
    "\n",
    "for i, ax in enumerate(axs):\n",
    "    # Map the colors and shapes to the DataFrame\n",
    "    name, df = list(dfs_sorted_plot.items())[i]\n",
    "    df['color'] = df['season'].map(season2color)\n",
    "    df['shape'] = df['model'].map(model2shape)\n",
    "\n",
    "    for shape in set(df['shape']):\n",
    "        for color in set(df.loc[df['shape'] == shape, 'color']):\n",
    "            x = df.loc[(df['shape'] == shape) & (df['color'] == color), 'horizon_in_hours']\n",
    "            y = df.loc[(df['shape'] == shape) & (df['color'] == color), metric_of_interest]\n",
    "            label = f'{shape2model[shape]} ({color2season[color]})'\n",
    "            scatter = ax.scatter(x, y, c=color, marker=shape, label=label)\n",
    "            if label not in legend_labels:\n",
    "                legend_handles.append(scatter)\n",
    "                legend_labels.append(label)\n",
    "\n",
    "    # Set the x ticks and labels\n",
    "    ax.set_xticks([1, 4, 8, 24, 48])\n",
    "    ax.set_xlabel('Forecast Horizon (hours)')\n",
    "\n",
    "    # Set the y label\n",
    "    if i == 0:\n",
    "        ax.set_ylabel(f'{metric_dict[metric_of_interest]}')\n",
    "\n",
    "    # Set the title for each subplot\n",
    "    ax.set_title(f'{name.split(\"in\")[-1].replace(\"_\", \" \")}')\n",
    "\n",
    "    # Add grid for each subplot\n",
    "    ax.grid(True)\n",
    "\n",
    "    # Add a horizontal red dashed line at y = 0\n",
    "    if metric_of_interest == 'rmse_skill_score':\n",
    "        ax.axhline(y=0, color='red', linestyle='--')\n",
    "\n",
    "# Create a single legend for all subplots\n",
    "fig.legend(handles=legend_handles, labels=legend_labels, title='Model', loc='lower center', bbox_to_anchor=(0.5, -0.25), ncol=3)\n",
    "\n",
    "# Adjust the spacing between subplots\n",
    "fig.tight_layout()\n",
    "\n",
    "# Show the plot\n",
    "plt.show()\n"
   ]
  },
  {
   "cell_type": "code",
   "execution_count": null,
   "metadata": {},
   "outputs": [],
   "source": [
    "for format in ['png', 'pdf']:\n",
    "    fig.savefig(os.path.join(os.getcwd(),'imgs','figures',f'{spatial_scale}{metric_of_interest}.{format}'), bbox_inches='tight')"
   ]
  },
  {
   "attachments": {},
   "cell_type": "markdown",
   "metadata": {},
   "source": [
    "### Plot 2: Side by side comparison of models for each season for a selected week"
   ]
  },
  {
   "cell_type": "code",
   "execution_count": 17,
   "metadata": {},
   "outputs": [
    {
     "data": {
      "text/plain": [
       "{'1_countyinLos_Angeles': '1_county_Los_Angeles_60min'}"
      ]
     },
     "execution_count": 17,
     "metadata": {},
     "output_type": "execute_result"
    }
   ],
   "source": [
    "name_id_dict"
   ]
  },
  {
   "cell_type": "code",
   "execution_count": 71,
   "metadata": {},
   "outputs": [],
   "source": [
    "units_dict = {'county': 'GW', 'town': 'MW', 'village': 'kW', 'neighborhood': 'kW'}\n",
    "\n",
    "run_to_visualize = '1_countyinLos_Angeles'\n",
    "season = 'Winter'\n",
    "algorithm = 'XGBModel'\n",
    "scale = run_to_visualize.split('_')[1].split('in')[0]\n",
    "unit = units_dict[scale]"
   ]
  },
  {
   "cell_type": "code",
   "execution_count": 32,
   "metadata": {},
   "outputs": [],
   "source": [
    "run = api.run(f\"wattcast/{project_name}/{name_id_dict[run_to_visualize]}\")\n",
    "files = []\n",
    "for file in run.files():\n",
    "    if 'Side' in str(file) and season in str(file):\n",
    "        files.append(file)"
   ]
  },
  {
   "cell_type": "code",
   "execution_count": 62,
   "metadata": {},
   "outputs": [],
   "source": []
  },
  {
   "cell_type": "code",
   "execution_count": 63,
   "metadata": {},
   "outputs": [],
   "source": [
    "side_by_side_plots_dict= download_plotly_plots(get_latest_plotly_plots(files))"
   ]
  },
  {
   "cell_type": "code",
   "execution_count": 64,
   "metadata": {},
   "outputs": [],
   "source": [
    "\n",
    "def make_df_from_plot(plot):\n",
    "    data = plot['data']\n",
    "    df = pd.DataFrame()\n",
    "    for i in range(len(data)):\n",
    "        subdata = data[i]\n",
    "        try:\n",
    "            del subdata['line']\n",
    "        except:\n",
    "            pass\n",
    "        df_line = pd.DataFrame(subdata)\n",
    "        df_line.set_index('x', inplace=True)\n",
    "        df_line.index.name = 'Datetime'\n",
    "        col_name = data[i]['name']\n",
    "        df_line = df_line.rename(columns={'y': col_name})\n",
    "        df_line = df_line[[col_name]]\n",
    "        df = pd.concat([df, df_line], axis=1)\n",
    "    return df\n",
    "\n",
    "\n",
    "df_all = pd.DataFrame()\n",
    "for name, plot in side_by_side_plots_dict.items():\n",
    "    df = make_df_from_plot(plot)\n",
    "    df.columns = [col + ' ' + name for col in df.columns]\n",
    "    df_all = pd.concat([df_all, df], axis=1)\n"
   ]
  },
  {
   "cell_type": "code",
   "execution_count": 65,
   "metadata": {},
   "outputs": [],
   "source": [
    "df_gt = df_all.filter(like='Ground').iloc[:,:1]\n",
    "df_gt.columns = ['Ground Truth']\n",
    "\n",
    "\n",
    "# find the day with the highest peak\n",
    "dt_highest_peak = pd.Timestamp(df_gt['Ground Truth'].idxmax()).date()\n",
    "dt_start = dt_highest_peak - pd.Timedelta(days=2)\n",
    "dt_end = dt_highest_peak + pd.Timedelta(days=2)\n"
   ]
  },
  {
   "cell_type": "code",
   "execution_count": 67,
   "metadata": {},
   "outputs": [],
   "source": [
    "df_predictions = df_all.filter(like=algorithm)"
   ]
  },
  {
   "cell_type": "code",
   "execution_count": 68,
   "metadata": {},
   "outputs": [],
   "source": [
    "\n",
    "df_predictions.columns = [col.split(': ')[1] + ' Ahead' for col in df_predictions.columns]\n",
    "df_predictions.rename(columns={'1 Hours Ahead': '1 Hour Ahead'}, inplace=True)\n",
    "df_predictions = df_predictions[['1 Hour Ahead', '4 Hours Ahead', '8 Hours Ahead', '24 Hours Ahead', '48 Hours Ahead']]"
   ]
  },
  {
   "cell_type": "code",
   "execution_count": 69,
   "metadata": {},
   "outputs": [],
   "source": [
    "df_plot = pd.concat([df_predictions, df_gt], axis=1)\n",
    "df_plot.index = pd.to_datetime(df_plot.index)\n",
    "df_plot = df_plot.loc[dt_start:dt_end]\n"
   ]
  },
  {
   "cell_type": "code",
   "execution_count": 70,
   "metadata": {},
   "outputs": [
    {
     "data": {
      "text/plain": [
       "<matplotlib.legend.Legend at 0x1d06d5b2aa0>"
      ]
     },
     "execution_count": 70,
     "metadata": {},
     "output_type": "execute_result"
    },
    {
     "data": {
      "image/png": "[encoded data removed]",
      "text/plain": [
       "<Figure size 1200x500 with 1 Axes>"
      ]
     },
     "metadata": {},
     "output_type": "display_data"
    }
   ],
   "source": [
    "color_dict = {'Ground Truth': 'black',\n",
    "                '1 Hour Ahead': 'blue',\n",
    "                '4 Hours Ahead': 'green',\n",
    "                '8 Hours Ahead': 'orange',\n",
    "                '24 Hours Ahead': 'red',\n",
    "                '48 Hours Ahead': 'purple'}\n",
    "\n",
    "\n",
    "\n",
    "fig, ax = plt.subplots(figsize=(12,5))\n",
    "\n",
    "for col in df_plot.columns:\n",
    "    ax.plot(df_plot[col], label=col, color=color_dict[col], linestyle= 'solid' if col == 'Ground Truth' else ':')\n",
    "\n",
    "ax.set_ylabel(f'Electricity Load ({unit})')\n",
    "ax.set_title(f'Ground Truth and {algorithm} Predictions for {scale} dataset')\n",
    "\n",
    "ax.grid(True, axis='x')\n",
    "ax.legend()\n"
   ]
  },
  {
   "attachments": {},
   "cell_type": "markdown",
   "metadata": {},
   "source": [
    "### Plot 3: Comparing Spatial Scales"
   ]
  },
  {
   "cell_type": "code",
   "execution_count": null,
   "metadata": {},
   "outputs": [],
   "source": [
    "df_metrics_all_scales = pd.DataFrame()\n",
    "\n",
    "for scale, df in dfs_sorted.items():\n",
    "    scale = scale.split('in')[0]\n",
    "    df['scale'] = scale\n",
    "    df_metrics_all_scales = df_metrics_all_scales.append(df)\n",
    "\n",
    "# marginalize over the season\n",
    "df_metrics_grouped = df_metrics_all_scales.groupby(['scale', 'model', 'horizon_in_hours']).mean()[[metric_of_interest]].reset_index()\n",
    "\n",
    "# extract the model with the best performance for each scale and horizon\n",
    "df_metrics_grouped = df_metrics_grouped.sort_values(by=['scale', metric_of_interest], ascending=False)\n",
    "df_metrics_grouped = df_metrics_grouped.drop_duplicates(subset=['scale', 'horizon_in_hours'], keep='first')\n",
    "df_metrics_grouped = df_metrics_grouped.sort_values(by=['scale', 'horizon_in_hours'])\n",
    "df_metrics_grouped = df_metrics_grouped.reset_index(drop=True)\n",
    "\n",
    "\n",
    "# Define colors and shapes based on the season and model\n",
    "df = df_metrics_grouped\n",
    "model2shape = {\n",
    "    'RandomForest': 'o',\n",
    "    'LightGBMModel': 's',\n",
    "    'XGBModel': 'D',\n",
    "    'BlockRNNModel': 'x',\n",
    "    'NBEATSModel': '^',\n",
    "    'LinearRegressionModel': '*'\n",
    "}\n",
    "shape2model = {v: k for k, v in model2shape.items()}\n",
    "\n",
    "fig, ax = plt.subplots()\n",
    "\n",
    "# Create a list to store the handles and labels for the legend\n",
    "legend_handles = []\n",
    "legend_labels = []\n",
    "\n",
    "\n",
    "# Map the colors and shapes to the DataFrame\n",
    "df['shape'] = df['model'].map(model2shape)\n",
    "\n",
    "for shape in set(df['shape']):\n",
    "    x = df.loc[(df['shape'] == shape), 'horizon_in_hours']\n",
    "    y = df.loc[(df['shape'] == shape), 'scale']\n",
    "    label = f'{shape2model[shape]}'\n",
    "    scatter = ax.scatter(x, y, marker=shape, label=label)\n",
    "    if label not in legend_labels:\n",
    "        legend_handles.append(scatter)\n",
    "        legend_labels.append(label)\n",
    "\n",
    "# Set the x ticks and labels\n",
    "ax.set_xticks([1, 4, 8, 24, 48])\n",
    "ax.set_xlabel('Forecast Horizon (hours)')\n",
    "\n",
    "# Set the y label\n",
    "if i == 0:\n",
    "    ax.set_ylabel(f'{metric_dict[metric_of_interest]}')\n",
    "\n",
    "# Set the title for each subplot\n",
    "ax.set_title(f'Best Model by {metric_dict[metric_of_interest]}')\n",
    "\n",
    "# Create a single legend for all subplots\n",
    "fig.legend(handles=legend_handles, labels=legend_labels, title='Model', loc='lower center', bbox_to_anchor=(0.6, -0.25), ncol=2)\n",
    "\n",
    "# Adjust the spacing between subplots\n",
    "fig.tight_layout()\n",
    "\n",
    "# Show the plot\n",
    "plt.show()"
   ]
  },
  {
   "cell_type": "code",
   "execution_count": null,
   "metadata": {},
   "outputs": [],
   "source": [
    "for format in ['png', 'pdf']:\n",
    "    fig.savefig(os.path.join(os.getcwd(),'imgs','figures',f'across_scalees_{metric_of_interest}.{format}'), bbox_inches='tight')"
   ]
  },
  {
   "cell_type": "code",
   "execution_count": null,
   "metadata": {},
   "outputs": [],
   "source": []
  }
 ],
 "metadata": {
  "kernelspec": {
   "display_name": "gpu2",
   "language": "python",
   "name": "python3"
  },
  "language_info": {
   "codemirror_mode": {
    "name": "ipython",
    "version": 3
   },
   "file_extension": ".py",
   "mimetype": "text/x-python",
   "name": "python",
   "nbconvert_exporter": "python",
   "pygments_lexer": "ipython3",
   "version": "3.10.9"
  },
  "orig_nbformat": 4
 },
 "nbformat": 4,
 "nbformat_minor": 2
}
