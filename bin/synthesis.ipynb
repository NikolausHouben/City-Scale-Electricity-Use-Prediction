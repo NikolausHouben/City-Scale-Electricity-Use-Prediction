{
 "cells": [
  {
   "cell_type": "code",
   "execution_count": 1,
   "metadata": {},
   "outputs": [],
   "source": [
    "import os\n",
    "import json\n",
    "import wandb\n",
    "import pandas as pd\n",
    "import numpy as np\n",
    "import matplotlib.pyplot as plt\n",
    "import plotly.express as px\n",
    "import plotly.graph_objects as go\n",
    "import warnings\n",
    "warnings.filterwarnings('ignore')\n",
    "# Set seed\n",
    "np.random.seed(42)\n",
    "\n",
    "# set font to 12 and times new roman\n",
    "\n",
    "plt.rcParams.update({'font.size': 12})\n",
    "plt.rcParams[\"font.family\"] = \"Times New Roman\"\n",
    "\n",
    "from utils import *\n",
    "\n",
    "\n",
    "\n"
   ]
  },
  {
   "cell_type": "code",
   "execution_count": 2,
   "metadata": {},
   "outputs": [
    {
     "name": "stdout",
     "output_type": "stream",
     "text": [
      "Current working directory: c:\\Users\\nik\\Desktop\\Berkeley_Projects\\WattCast\n"
     ]
    }
   ],
   "source": [
    "\n",
    "os.chdir(r\"..\") # should be the git repo root directory, checking below:\n",
    "print(\"Current working directory: \" + os.getcwd())\n",
    "assert os.getcwd()[-8:] == \"WattCast\""
   ]
  },
  {
   "cell_type": "code",
   "execution_count": 3,
   "metadata": {},
   "outputs": [
    {
     "name": "stderr",
     "output_type": "stream",
     "text": [
      "Failed to detect the name of this notebook, you can set it manually with the WANDB_NOTEBOOK_NAME environment variable to enable code saving.\n",
      "\u001b[34m\u001b[1mwandb\u001b[0m: Currently logged in as: \u001b[33mnikolaushouben\u001b[0m (\u001b[33mwattcast\u001b[0m). Use \u001b[1m`wandb login --relogin`\u001b[0m to force relogin\n"
     ]
    },
    {
     "data": {
      "text/plain": [
       "True"
      ]
     },
     "execution_count": 3,
     "metadata": {},
     "output_type": "execute_result"
    }
   ],
   "source": [
    "wandb.login()"
   ]
  },
  {
   "attachments": {},
   "cell_type": "markdown",
   "metadata": {},
   "source": [
    "## Results imports\n",
    "\n",
    "Grabbing all metrics from all runs from wandb"
   ]
  },
  {
   "cell_type": "code",
   "execution_count": 4,
   "metadata": {},
   "outputs": [
    {
     "data": {
      "application/vnd.jupyter.widget-view+json": {
       "model_id": "e149c0320f3c4c308debba0cd2cc2aae",
       "version_major": 2,
       "version_minor": 0
      },
      "text/plain": [
       "VBox(children=(Label(value='Waiting for wandb.init()...\\r'), FloatProgress(value=0.016666666666666666, max=1.0…"
      ]
     },
     "metadata": {},
     "output_type": "display_data"
    },
    {
     "data": {
      "text/html": [
       "wandb version 0.15.4 is available!  To upgrade, please run:\n",
       " $ pip install wandb --upgrade"
      ],
      "text/plain": [
       "<IPython.core.display.HTML object>"
      ]
     },
     "metadata": {},
     "output_type": "display_data"
    },
    {
     "data": {
      "text/html": [
       "Tracking run with wandb version 0.14.0"
      ],
      "text/plain": [
       "<IPython.core.display.HTML object>"
      ]
     },
     "metadata": {},
     "output_type": "display_data"
    },
    {
     "data": {
      "text/html": [
       "Run data is saved locally in <code>c:\\Users\\nik\\Desktop\\Berkeley_Projects\\WattCast\\wandb\\run-20230703_133343-results_synthesis</code>"
      ],
      "text/plain": [
       "<IPython.core.display.HTML object>"
      ]
     },
     "metadata": {},
     "output_type": "display_data"
    },
    {
     "data": {
      "text/html": [
       "Resuming run <strong><a href='https://wandb.ai/wattcast/Wattcast/runs/results_synthesis' target=\"_blank\">results_synthesis</a></strong> to <a href='https://wandb.ai/wattcast/Wattcast' target=\"_blank\">Weights & Biases</a> (<a href='https://wandb.me/run' target=\"_blank\">docs</a>)<br/>"
      ],
      "text/plain": [
       "<IPython.core.display.HTML object>"
      ]
     },
     "metadata": {},
     "output_type": "display_data"
    },
    {
     "data": {
      "text/html": [
       " View project at <a href='https://wandb.ai/wattcast/Wattcast' target=\"_blank\">https://wandb.ai/wattcast/Wattcast</a>"
      ],
      "text/plain": [
       "<IPython.core.display.HTML object>"
      ]
     },
     "metadata": {},
     "output_type": "display_data"
    },
    {
     "data": {
      "text/html": [
       " View run at <a href='https://wandb.ai/wattcast/Wattcast/runs/results_synthesis' target=\"_blank\">https://wandb.ai/wattcast/Wattcast/runs/results_synthesis</a>"
      ],
      "text/plain": [
       "<IPython.core.display.HTML object>"
      ]
     },
     "metadata": {},
     "output_type": "display_data"
    }
   ],
   "source": [
    "run = wandb.init(project='Wattcast', name='results_synthesis', id = 'results_synthesis', resume=True)\n"
   ]
  },
  {
   "cell_type": "code",
   "execution_count": 5,
   "metadata": {},
   "outputs": [],
   "source": [
    "project_name = \"Wattcast\"\n",
    "\n",
    "# Initialize your project\n",
    "api = wandb.Api()\n",
    "runs = api.runs(project_name)\n",
    "\n",
    "\n",
    "name_id_dict = {}\n",
    "\n",
    "for run_ in runs:\n",
    "    l = run_.name.split('_')[:-1]\n",
    "    l.insert(2, 'in')\n",
    "    n = '_'.join(l)\n",
    "    # remove the _ around in\n",
    "    n = n.replace('_in_', 'in')\n",
    "    name_id_dict[n] = run_.id"
   ]
  },
  {
   "cell_type": "code",
   "execution_count": 6,
   "metadata": {},
   "outputs": [
    {
     "data": {
      "text/plain": [
       "{'results_in': 'results_synthesis',\n",
       " '3_villageinvillage_2': '3_village_village_2_60min',\n",
       " '3_villageinvillage_1': '3_village_village_1_60min',\n",
       " '3_villageinvillage_0': '3_village_village_0_60min',\n",
       " '2_townintown_2': '2_town_town_2_60min',\n",
       " '2_townintown_1': '2_town_town_1_60min',\n",
       " '2_townintown_0': '2_town_town_0_60min',\n",
       " '1_countyinSacramento': '1_county_Sacramento_60min',\n",
       " '1_countyinNew_York': '1_county_New_York_60min',\n",
       " '1_countyinLos_Angeles': '1_county_Los_Angeles_60min',\n",
       " '4_neighborhoodingermany': '4_neighborhood_germany_60min'}"
      ]
     },
     "execution_count": 6,
     "metadata": {},
     "output_type": "execute_result"
    }
   ],
   "source": [
    "name_id_dict"
   ]
  },
  {
   "cell_type": "code",
   "execution_count": 7,
   "metadata": {},
   "outputs": [
    {
     "name": "stderr",
     "output_type": "stream",
     "text": [
      "\u001b[34m\u001b[1mwandb\u001b[0m:   1 of 1 files downloaded.  \n",
      "\u001b[34m\u001b[1mwandb\u001b[0m:   1 of 1 files downloaded.  \n",
      "\u001b[34m\u001b[1mwandb\u001b[0m:   1 of 1 files downloaded.  \n",
      "\u001b[34m\u001b[1mwandb\u001b[0m:   1 of 1 files downloaded.  \n",
      "\u001b[34m\u001b[1mwandb\u001b[0m:   1 of 1 files downloaded.  \n",
      "\u001b[34m\u001b[1mwandb\u001b[0m:   1 of 1 files downloaded.  \n",
      "\u001b[34m\u001b[1mwandb\u001b[0m:   1 of 1 files downloaded.  \n",
      "\u001b[34m\u001b[1mwandb\u001b[0m:   1 of 1 files downloaded.  \n",
      "\u001b[34m\u001b[1mwandb\u001b[0m:   1 of 1 files downloaded.  \n",
      "\u001b[34m\u001b[1mwandb\u001b[0m:   1 of 1 files downloaded.  \n"
     ]
    }
   ],
   "source": [
    "# importing error metric tables\n",
    "key_list = list(name_id_dict.keys())\n",
    "for key in key_list:\n",
    "    if key[0] not in ['1', '2', '3', '4', '5']:\n",
    "        del name_id_dict[key]\n",
    "        \n",
    "dfs_sorted = {}\n",
    "for name, id in name_id_dict.items():\n",
    "    try:\n",
    "        run_path = f'wattcast/{project_name}/run-{id}-Errormetrics:latest'\n",
    "        artifact = run.use_artifact(f'{run_path}', type='run_table')\n",
    "        artifact_dir = artifact.download()\n",
    "        with open(os.path.join(artifact_dir, os.listdir(artifact_dir)[0])) as f:\n",
    "            data = json.load(f)\n",
    "        df_metrics = pd.DataFrame(data['data'], columns=data['columns'])\n",
    "        df = df_metrics.sort_values(by=['model', 'season'])\n",
    "        dfs_sorted[name] = df\n",
    "    except:\n",
    "        print(f'Error in {name}')\n"
   ]
  },
  {
   "attachments": {},
   "cell_type": "markdown",
   "metadata": {},
   "source": [
    "## Results Exploration (Interactive Plots)\n",
    "\n",
    "[![](https://raw.githubusercontent.com/wandb/assets/main/wandb-github-badge-gradient.svg)](https://wandb.ai/wattcast/WattCast)\n"
   ]
  },
  {
   "attachments": {},
   "cell_type": "markdown",
   "metadata": {},
   "source": [
    "# Paper Figures & Tables"
   ]
  },
  {
   "attachments": {},
   "cell_type": "markdown",
   "metadata": {},
   "source": [
    "### Mappings for plotting shapes and colors"
   ]
  },
  {
   "cell_type": "code",
   "execution_count": 12,
   "metadata": {},
   "outputs": [],
   "source": [
    "\n",
    "\n",
    "model2shape = {\n",
    "    'RandomForest': 'o',\n",
    "    'LightGBMModel': 's',\n",
    "    'XGBModel': 'D',\n",
    "    'BlockRNNModel': 'x',\n",
    "    'NBEATSModel': '^',\n",
    "    'TFTModel': 'v',\n",
    "    'LinearRegressionModel': '*',\n",
    "    '48-Hour Persistence': 'P'\n",
    "}\n",
    "\n",
    "\n",
    "model2color = {\n",
    "    'RandomForest': 'blue',\n",
    "    'LightGBMModel': 'orange',\n",
    "    'XGBModel': 'green',\n",
    "    'BlockRNNModel': 'red',\n",
    "    'NBEATSModel': 'purple',\n",
    "    'TFTModel': 'pink',\n",
    "    'LinearRegressionModel': 'brown',\n",
    "    '48-Hour Persistence': 'black'\n",
    "}\n",
    "\n",
    "\n",
    "shape2model = {v: k for k, v in model2shape.items()}\n",
    "\n",
    "\n",
    "metric_dict = {'mape': 'Mean Absolute Percentage Error (MAPE)',\n",
    "               'rmse': 'Root Mean Squared Error (RMSE)',\n",
    "                'mae': 'Mean Absolute Error (MAE)',\n",
    "                'smape': 'Symmetric Mean Absolute Percentage Error (SMAPE)',\n",
    "                'rmse_skill_score': 'RMSE Skill Score',\n",
    "                'r2_score': 'R2 Score',\n",
    "                'max_peak_error': 'Max Peak Error',\n",
    "                'mean_n_peak_error': 'Mean N Peak Error',\n",
    "                }\n",
    "\n",
    "season2color = {'Summer': 'orange', 'Winter': 'blue'}\n",
    "color2season = {v: k for k, v in season2color.items()}\n",
    "\n",
    "horizon2color = {'Ground Truth': 'black',\n",
    "                '1 Hour Ahead': 'blue',\n",
    "                '4 Hours Ahead': 'green',\n",
    "                '8 Hours Ahead': 'orange',\n",
    "                '24 Hours Ahead': 'red',\n",
    "                '48 Hours Ahead': 'purple'}\n",
    "\n",
    "\n",
    "model_groups = {'Tree-based': ['RandomForest', 'LightGBMModel', 'XGBModel'],\n",
    "                         'Neural Network': ['BlockRNNModel', 'NBEATSModel', 'TFTModel'],}\n",
    "\n",
    "model2group = {}\n",
    "for group, models in model_groups.items():\n",
    "    for model in models:\n",
    "        model2group[model] = group\n",
    "\n",
    "\n",
    "group2shape = {'Tree-based': 'x', 'Neural Network': 'o'}\n",
    "shape2group = {v: k for k, v in group2shape.items()}\n",
    "\n",
    "group2color = {'Tree-based': 'blue', 'Neural Network': 'red'}\n",
    "color2group = {v: k for k, v in group2color.items()}\n",
    "\n",
    "\n",
    "\n",
    "\n",
    "index2county_locations = {0: 'Los_Angeles', 1: 'New_York', 2: 'Sacramento'}\n",
    "index2town_locations = {0: 'town_0', 1: 'town_1', 2: 'town_2'}\n",
    "index2village_locations = {0: 'village_0', 1: 'village_1', 2: 'village_2'}\n",
    "index2neighborhood_locations = {0: 'neighborhood_0', 1: 'neighborhood_1', 2: 'neighborhood_2'}\n",
    "scale2ordering = {'county': index2county_locations, 'town': index2town_locations, 'village': index2village_locations, 'neighborhood': index2neighborhood_locations}\n",
    "\n",
    "\n",
    "\n",
    "def get_best_model_per_scale_and_horizon(df, metric):\n",
    "    # extract the model with the best performance for each scale and horizon\n",
    "    df_sorted = df.sort_values(by=['scale', metric], ascending=False if metric == 'rmse_skill_score' else True)\n",
    "    df_sorted = df_sorted.drop_duplicates(subset=['scale', 'horizon_in_hours'], keep='first')\n",
    "    df_sorted = df_sorted.sort_values(by=['scale', 'horizon_in_hours'])\n",
    "    df_sorted = df_sorted.reset_index(drop=True).sort_values(by=['scale', 'horizon_in_hours'])\n",
    "    return df_sorted"
   ]
  },
  {
   "attachments": {},
   "cell_type": "markdown",
   "metadata": {},
   "source": [
    "## Per Model"
   ]
  },
  {
   "attachments": {},
   "cell_type": "markdown",
   "metadata": {},
   "source": [
    "### Plot 1: Skill Score vs Horizon for each model and season"
   ]
  },
  {
   "cell_type": "code",
   "execution_count": 9,
   "metadata": {},
   "outputs": [
    {
     "data": {
      "image/png": "[encoded data removed]",
      "text/plain": [
       "<Figure size 1500x500 with 3 Axes>"
      ]
     },
     "metadata": {},
     "output_type": "display_data"
    }
   ],
   "source": [
    "# Set these:\n",
    "\n",
    "spatial_scale = 'town'\n",
    "metric_of_interest = 'rmse_skill_score'\n",
    "\n",
    "\n",
    "dfs_sorted_plot = dfs_sorted.copy()\n",
    "keys = list(dfs_sorted_plot.keys())\n",
    "for key in keys:\n",
    "    if not spatial_scale in key:\n",
    "        del dfs_sorted_plot[key]\n",
    "\n",
    "\n",
    "\n",
    "fig, axs = plt.subplots(1, len(dfs_sorted_plot), figsize=(5*(len(dfs_sorted_plot)),5), sharex=True, sharey=True)\n",
    "\n",
    "    \n",
    "axs = axs.ravel()\n",
    "\n",
    "# Create a list to store the handles and labels for the legend\n",
    "legend_handles = []\n",
    "legend_labels = []\n",
    "\n",
    "for i, ax in enumerate(axs):\n",
    "    # Map the colors and shapes to the DataFrame\n",
    "    name, df = list(dfs_sorted_plot.items())[i]\n",
    "    df['color'] = df['season'].map(season2color)\n",
    "    df['shape'] = df['model'].map(model2shape)\n",
    "\n",
    "    # exclude 24 hour persistence\n",
    "    df = df.loc[ df['model'] != '48-Hour Persistence']\n",
    "    \n",
    "    for shape in set(df['shape']):\n",
    "        for color in set(df.loc[df['shape'] == shape, 'color']):\n",
    "            x = df.loc[(df['shape'] == shape) & (df['color'] == color), 'horizon_in_hours']\n",
    "            y = df.loc[(df['shape'] == shape) & (df['color'] == color), metric_of_interest]\n",
    "            label = f'{shape2model[shape]} ({color2season[color]})'\n",
    "            scatter = ax.scatter(x, y, c=color, marker=shape, label=label)\n",
    "            if label not in legend_labels:\n",
    "                legend_handles.append(scatter)\n",
    "                legend_labels.append(label)\n",
    "\n",
    "    # Set the x ticks and labels\n",
    "    ax.set_xticks([1, 4, 8, 24, 48])\n",
    "    ax.set_xlabel('Forecast Horizon (hours)')\n",
    "\n",
    "    # Set the y label\n",
    "    if i == 0:\n",
    "        ax.set_ylabel(f'{metric_dict[metric_of_interest]}')\n",
    "\n",
    "    # Set the title for each subplot\n",
    "    ax.set_title(f'{name.split(\"in\")[-1].replace(\"_\", \" \")}')\n",
    "\n",
    "    # Add grid for each subplot\n",
    "    ax.grid(True)\n",
    "\n",
    "    # Add a horizontal red dashed line at y = 0\n",
    "    if metric_of_interest == 'rmse_skill_score':\n",
    "        ax.axhline(y=0, color='red', linestyle='--')\n",
    "\n",
    "# Create a single legend for all subplots\n",
    "fig.legend(handles=legend_handles, labels=legend_labels, title='Model', loc='lower center', bbox_to_anchor=(0.5, -0.2), ncol=5, frameon=True)\n",
    "\n",
    "# Adjust the spacing between subplots\n",
    "fig.tight_layout()\n",
    "\n",
    "# Show the plot\n",
    "plt.show()\n"
   ]
  },
  {
   "cell_type": "code",
   "execution_count": null,
   "metadata": {},
   "outputs": [],
   "source": [
    "for format in ['png', 'pdf']:\n",
    "    fig.savefig(os.path.join(os.getcwd(),'imgs','figures',f'{spatial_scale}{metric_of_interest}.{format}'), bbox_inches='tight')"
   ]
  },
  {
   "attachments": {},
   "cell_type": "markdown",
   "metadata": {},
   "source": [
    "### Plot 2: Side by side comparison of models for each season for a selected week"
   ]
  },
  {
   "cell_type": "code",
   "execution_count": 10,
   "metadata": {},
   "outputs": [
    {
     "data": {
      "text/plain": [
       "{'3_villageinvillage_2': '3_village_village_2_60min',\n",
       " '3_villageinvillage_1': '3_village_village_1_60min',\n",
       " '3_villageinvillage_0': '3_village_village_0_60min',\n",
       " '2_townintown_2': '2_town_town_2_60min',\n",
       " '2_townintown_1': '2_town_town_1_60min',\n",
       " '2_townintown_0': '2_town_town_0_60min',\n",
       " '1_countyinSacramento': '1_county_Sacramento_60min',\n",
       " '1_countyinNew_York': '1_county_New_York_60min',\n",
       " '1_countyinLos_Angeles': '1_county_Los_Angeles_60min',\n",
       " '4_neighborhoodingermany': '4_neighborhood_germany_60min'}"
      ]
     },
     "execution_count": 10,
     "metadata": {},
     "output_type": "execute_result"
    }
   ],
   "source": [
    "name_id_dict"
   ]
  },
  {
   "cell_type": "code",
   "execution_count": null,
   "metadata": {},
   "outputs": [],
   "source": [
    "# set these\n",
    "run_to_visualize = '1_countyinSacramento'\n",
    "season = 'Summer'\n",
    "algorithm = 'RandomForest'\n",
    "\n",
    "\n",
    "scale = run_to_visualize.split('_')[1].split('in')[0]\n",
    "units_dict = {'county': 'GW', 'town': 'MW', 'village': 'kW', 'neighborhood': 'kW'}\n",
    "unit = units_dict[scale]"
   ]
  },
  {
   "cell_type": "code",
   "execution_count": null,
   "metadata": {},
   "outputs": [],
   "source": [
    "run = api.run(f\"wattcast/{project_name}/{name_id_dict[run_to_visualize]}\")\n",
    "files = []\n",
    "for file in run.files():\n",
    "    if 'Side' in str(file) and season in str(file):\n",
    "        files.append(file)\n",
    "\n",
    "side_by_side_plots_dict= download_plotly_plots(get_latest_plotly_plots(files))"
   ]
  },
  {
   "cell_type": "code",
   "execution_count": null,
   "metadata": {},
   "outputs": [],
   "source": [
    "\n",
    "df_all = pd.DataFrame()\n",
    "for name, plot in side_by_side_plots_dict.items():\n",
    "    df = make_df_from_plot(plot)\n",
    "    df.columns = [col + ' ' + name for col in df.columns]\n",
    "    df_all = pd.concat([df_all, df], axis=1)\n",
    "\n",
    "\n",
    "\n",
    "df_gt = df_all.filter(like='Ground').iloc[:,:1]\n",
    "df_gt.columns = ['Ground Truth']\n",
    "\n",
    "\n",
    "# find the day with the highest peak\n",
    "dt_highest_peak = pd.Timestamp(df_gt['Ground Truth'].idxmax()).date()\n",
    "dt_start = dt_highest_peak - pd.Timedelta(days=2)\n",
    "dt_end = dt_highest_peak + pd.Timedelta(days=2)\n",
    "\n",
    "\n",
    "df_predictions = df_all.filter(like=algorithm)\n",
    "\n",
    "\n",
    "\n",
    "df_predictions.columns = [col.split(': ')[1] + ' Ahead' for col in df_predictions.columns]\n",
    "df_predictions.rename(columns={'1 Hours Ahead': '1 Hour Ahead'}, inplace=True)\n",
    "try:\n",
    "    df_predictions = df_predictions[['1 Hour Ahead', '4 Hours Ahead', '8 Hours Ahead', '24 Hours Ahead', '48 Hours Ahead']]\n",
    "except:\n",
    "    pass\n",
    "\n",
    "df_plot = pd.concat([df_predictions, df_gt], axis=1)\n",
    "df_plot.index = pd.to_datetime(df_plot.index)\n",
    "df_plot = df_plot.loc[dt_start:dt_end]\n",
    "\n",
    "\n",
    "\n",
    "fig, ax = plt.subplots(figsize=(12,5))\n",
    "\n",
    "for col in df_plot.columns:\n",
    "    ax.plot(df_plot[col], label=col, color=horizon2color[col], linestyle= 'solid' if col == 'Ground Truth' else ':')\n",
    "\n",
    "ax.set_ylabel(f'Electricity Load ({unit})')\n",
    "ax.set_title(f'Ground Truth and {algorithm} Predictions for {run_to_visualize}')\n",
    "\n",
    "ax.grid(True, axis='x')\n",
    "ax.legend(frameon=True)\n",
    "\n"
   ]
  },
  {
   "cell_type": "code",
   "execution_count": null,
   "metadata": {},
   "outputs": [],
   "source": [
    "for format in ['png', 'pdf']:\n",
    "    fig.savefig(os.path.join(os.getcwd(),'imgs','figures',f'plot_3_side-by-side_horizons_heat_wave_{run_to_visualize}_{season}_{algorithm}.{format}'), bbox_inches='tight')\n",
    "\n",
    "#wandb.log({f'plot_3_side-by-side_horizons_heat_wave_{run_to_visualize}_{season}_{algorithm}': wandb.Image(fig)})"
   ]
  },
  {
   "attachments": {},
   "cell_type": "markdown",
   "metadata": {},
   "source": [
    "### Plot 3: Comparing Spatial Scales (mean of seasons and datasets)"
   ]
  },
  {
   "cell_type": "code",
   "execution_count": 15,
   "metadata": {},
   "outputs": [
    {
     "ename": "KeyError",
     "evalue": "nan",
     "output_type": "error",
     "traceback": [
      "\u001b[1;31m---------------------------------------------------------------------------\u001b[0m",
      "\u001b[1;31mKeyError\u001b[0m                                  Traceback (most recent call last)",
      "Cell \u001b[1;32mIn[15], line 38\u001b[0m\n\u001b[0;32m     36\u001b[0m y \u001b[39m=\u001b[39m df_scale\u001b[39m.\u001b[39mloc[(df_scale[\u001b[39m'\u001b[39m\u001b[39mshape\u001b[39m\u001b[39m'\u001b[39m] \u001b[39m==\u001b[39m shape), \u001b[39m'\u001b[39m\u001b[39mscale\u001b[39m\u001b[39m'\u001b[39m]\n\u001b[0;32m     37\u001b[0m \u001b[39m#label = f'{shape2model[shape]}'\u001b[39;00m\n\u001b[1;32m---> 38\u001b[0m scatter \u001b[39m=\u001b[39m ax\u001b[39m.\u001b[39mscatter(x, y, marker\u001b[39m=\u001b[39mshape, label\u001b[39m=\u001b[39mlabel, color\u001b[39m=\u001b[39mmodel2color[shape2model[shape]])\n\u001b[0;32m     39\u001b[0m \u001b[39mif\u001b[39;00m label \u001b[39mnot\u001b[39;00m \u001b[39min\u001b[39;00m legend_labels:\n\u001b[0;32m     40\u001b[0m     legend_handles\u001b[39m.\u001b[39mappend(scatter)\n",
      "\u001b[1;31mKeyError\u001b[0m: nan"
     ]
    },
    {
     "data": {
      "image/png": "[encoded data removed]",
      "text/plain": [
       "<Figure size 640x480 with 1 Axes>"
      ]
     },
     "metadata": {},
     "output_type": "display_data"
    }
   ],
   "source": [
    "metric_of_interest = 'rmse'\n",
    "\n",
    "df_metrics_all_scales = pd.DataFrame()\n",
    "\n",
    "for scale, df in dfs_sorted.items():\n",
    "    scale = scale.split('in')[0]\n",
    "    df['scale'] = scale\n",
    "    df_metrics_all_scales = df_metrics_all_scales.append(df)\n",
    "\n",
    "# marginalize over the season\n",
    "df_metrics_grouped = df_metrics_all_scales.groupby(['scale', 'model', 'horizon_in_hours']).mean()[[metric_of_interest]].reset_index()\n",
    "\n",
    "# extract the model with the best performance for each scale and horizon\n",
    "df_metrics_grouped = df_metrics_grouped.sort_values(by=['scale', metric_of_interest], ascending=False if metric_of_interest == 'rmse_skill_score' else True)\n",
    "df_metrics_grouped = df_metrics_grouped.drop_duplicates(subset=['scale', 'horizon_in_hours'], keep='first')\n",
    "df_metrics_grouped = df_metrics_grouped.sort_values(by=['scale', 'horizon_in_hours'])\n",
    "df_metrics_grouped = df_metrics_grouped.reset_index(drop=True)\n",
    "\n",
    "\n",
    "# Define colors and shapes based on the season and model\n",
    "df = df_metrics_grouped\n",
    "fig, ax = plt.subplots()\n",
    "\n",
    "# Create a list to store the handles and labels for the legend\n",
    "legend_handles = []\n",
    "legend_labels = []\n",
    "\n",
    "\n",
    "# Map the colors and shapes to the DataFrame\n",
    "df['shape'] = df['model'].map(model2shape)\n",
    "\n",
    "\n",
    "for scale, df_scale in df.groupby('scale'): # this for loop is to make sure the order of scales is from county to neighborhood\n",
    "    for shape in set(df_scale['shape']):\n",
    "        x = df_scale.loc[(df_scale['shape'] == shape), 'horizon_in_hours']\n",
    "        y = df_scale.loc[(df_scale['shape'] == shape), 'scale']\n",
    "        label = f'{shape2model[shape]}'\n",
    "        scatter = ax.scatter(x, y, marker=shape, label=label, color=model2color[shape2model[shape]])\n",
    "        if label not in legend_labels:\n",
    "            legend_handles.append(scatter)\n",
    "            legend_labels.append(label)\n",
    "\n",
    "# Set the x ticks and labels\n",
    "ax.set_xticks([1, 4, 8, 24, 48])\n",
    "ax.set_xlabel('Forecast Horizon (hours)')\n",
    "\n",
    "\n",
    "ax.set_ylabel('Spatial Scale')\n",
    "\n",
    "# Set the title for each subplot\n",
    "fig.suptitle(f'Best Model by {metric_dict[metric_of_interest]}')\n",
    "\n",
    "# Create a single legend for all subplots\n",
    "fig.legend(handles=legend_handles, labels=legend_labels, title='Model', loc='lower center', bbox_to_anchor=(0.6, -0.25), ncol=2, frameon=True)\n",
    "\n",
    "\n",
    "# Show the plot\n",
    "plt.show()\n"
   ]
  },
  {
   "cell_type": "code",
   "execution_count": null,
   "metadata": {},
   "outputs": [],
   "source": [
    "\n",
    "for format in ['png', 'pdf']:\n",
    "    fig.savefig(os.path.join(os.getcwd(),'imgs','figures',f'plot_1_overview_across_scales_{metric_of_interest}.{format}'), bbox_inches='tight')\n",
    "\n",
    "#wandb.log({f'plot_1_overview_across_scales_{metric_of_interest}': fig})"
   ]
  },
  {
   "attachments": {},
   "cell_type": "markdown",
   "metadata": {},
   "source": [
    "### Plot 4: Comparing Spatial Scales (mean of datasets per season)"
   ]
  },
  {
   "cell_type": "code",
   "execution_count": null,
   "metadata": {},
   "outputs": [],
   "source": [
    "df_metrics_all_scales = pd.DataFrame()\n",
    "\n",
    "for scale, df in dfs_sorted.items():\n",
    "    scale = scale.split('in')[0]\n",
    "    df['scale'] = scale\n",
    "    df_metrics_all_scales = df_metrics_all_scales.append(df)\n",
    "\n",
    "df_metrics_grouped = df_metrics_all_scales.groupby(['season', 'scale', 'model', 'horizon_in_hours']).mean()[[metric_of_interest]].reset_index()\n",
    "\n",
    "season = 'Winter'\n",
    "\n",
    "fig, axs = plt.subplots(1,2, figsize=(12,5), sharex=True, sharey=True)\n",
    "\n",
    "axs = axs.ravel()\n",
    "# Create a list to store the handles and labels for the legend\n",
    "legend_handles = []\n",
    "legend_labels = []\n",
    "\n",
    "for i, ax in enumerate(axs):\n",
    "\n",
    "    season = list(season2color.keys())[i]\n",
    "\n",
    "    df_metrics_grouped_season = df_metrics_grouped.loc[df_metrics_grouped['season'] == season]\n",
    "\n",
    "    df = get_best_model_per_scale_and_horizon(df_metrics_grouped_season, metric_of_interest)\n",
    "\n",
    "    shape2model = {v: k for k, v in model2shape.items()}\n",
    "\n",
    "    # Map the colors and shapes to the DataFrame\n",
    "    df['shape'] = df['model'].map(model2shape)\n",
    "\n",
    "    for scale, df_scale in df.groupby('scale'):\n",
    "        for shape in set(df_scale['shape']):\n",
    "            x = df_scale.loc[(df_scale['shape'] == shape), 'horizon_in_hours']\n",
    "            y = df_scale.loc[(df_scale['shape'] == shape), 'scale']\n",
    "            label = f'{shape2model[shape]}'\n",
    "            scatter = ax.scatter(x, y, marker=shape, label=label, color=model2color[shape2model[shape]])\n",
    "            if label not in legend_labels:\n",
    "                legend_handles.append(scatter)\n",
    "                legend_labels.append(label)\n",
    "\n",
    "    # Set the x ticks and labels\n",
    "    ax.set_xticks([1, 4, 8, 24, 48])\n",
    "    ax.set_xlabel('Forecast Horizon (hours)')\n",
    "    \n",
    "    #ax.set_yticklabels(sorted(ax.get_yticklabels(), key=lambda x: x.get_text()))\n",
    "\n",
    "\n",
    "    # Set the y label\n",
    "    if i == 0:\n",
    "        ax.set_ylabel('Spatial Scale')\n",
    "\n",
    "    # Set the title for each subplot\n",
    "    ax.set_title(f'{season}')\n",
    "\n",
    "\n",
    "# Create a single legend for all subplots\n",
    "fig.legend(handles=legend_handles, labels=legend_labels, title='Model', loc='lower center', bbox_to_anchor=(0.5, -0.25), ncol=2, frameon=True)\n",
    "\n",
    "fig.suptitle(f'Best Model by {metric_dict[metric_of_interest]}')\n",
    "# Adjust the spacing between subplots\n",
    "#fig.tight_layout()\n",
    "\n",
    "# Show the plot\n",
    "plt.show()\n"
   ]
  },
  {
   "attachments": {},
   "cell_type": "markdown",
   "metadata": {},
   "source": [
    "## Tree-based models vs. Deep learning models"
   ]
  },
  {
   "attachments": {},
   "cell_type": "markdown",
   "metadata": {},
   "source": [
    "### Plot 1"
   ]
  },
  {
   "cell_type": "code",
   "execution_count": null,
   "metadata": {},
   "outputs": [],
   "source": [
    "# Set these:\n",
    "\n",
    "spatial_scale = 'village'\n",
    "metric_of_interest = 'rmse_skill_score'\n",
    "\n",
    "dfs_sorted_plot = dfs_sorted.copy()\n",
    "keys = list(dfs_sorted_plot.keys())\n",
    "for key in keys:\n",
    "    if not spatial_scale in key:\n",
    "        del dfs_sorted_plot[key]\n",
    "\n",
    "\n",
    "# Define colors and shapes based on the season and model\n",
    "color2season = {v: k for k, v in season2color.items()}\n",
    "shape2model = {v: k for k, v in model2shape.items()}\n",
    "\n",
    "\n",
    "fig, axs = plt.subplots(1, len(dfs_sorted_plot), figsize=(5*(len(dfs_sorted_plot)),5), sharex=True, sharey=True)\n",
    "axs = axs.ravel()\n",
    "\n",
    "# Create a list to store the handles and labels for the legend\n",
    "legend_handles = []\n",
    "legend_labels = []\n",
    "\n",
    "for i, ax in enumerate(axs):\n",
    "    # Map the colors and shapes to the DataFrame\n",
    "    name, df = list(dfs_sorted_plot.items())[i]\n",
    "    # exclude 24 hour persistence\n",
    "    df = df.loc[df['model'] != '48-Hour Persistence']\n",
    "    df['group'] = df['model'].map(model2group)\n",
    "    df = df.groupby(['group', 'horizon_in_hours', 'season']).mean().reset_index()\n",
    "    df['color'] = df['season'].map(season2color)\n",
    "    df['shape'] = df['group'].map(group2shape)\n",
    "    \n",
    "    \n",
    "    for shape in set(df['shape']):\n",
    "        for color in set(df.loc[df['shape'] == shape, 'color']):\n",
    "            x = df.loc[(df['shape'] == shape) & (df['color'] == color), 'horizon_in_hours']\n",
    "            y = df.loc[(df['shape'] == shape) & (df['color'] == color), metric_of_interest]\n",
    "            label = f'{shape2group[shape]} ({color2season[color]})'\n",
    "            scatter = ax.scatter(x, y, c=color, marker=shape, label=label)\n",
    "            if label not in legend_labels:\n",
    "                legend_handles.append(scatter)\n",
    "                legend_labels.append(label)\n",
    "\n",
    "    # Set the x ticks and labels\n",
    "    ax.set_xticks([1, 4, 8, 24, 48])\n",
    "    ax.set_xlabel('Forecast Horizon (hours)')\n",
    "\n",
    "    # Set the y label\n",
    "    if i == 0:\n",
    "        ax.set_ylabel(f'{metric_dict[metric_of_interest]}')\n",
    "\n",
    "    # Set the title for each subplot\n",
    "    ax.set_title(f'{name.split(\"in\")[-1].replace(\"_\", \" \")}')\n",
    "\n",
    "    # Add grid for each subplot\n",
    "    ax.grid(True)\n",
    "\n",
    "    # Add a horizontal red dashed line at y = 0\n",
    "    if metric_of_interest == 'rmse_skill_score':\n",
    "        ax.axhline(y=0, color='red', linestyle='--')\n",
    "\n",
    "# Create a single legend for all subplots\n",
    "fig.legend(handles=legend_handles, labels=legend_labels, title='Model', loc='lower center', bbox_to_anchor=(0.5, -0.2), ncol=5, frameon=True)\n",
    "\n",
    "# Adjust the spacing between subplots\n",
    "fig.tight_layout()\n",
    "\n",
    "# Show the plot\n",
    "plt.show()\n"
   ]
  },
  {
   "attachments": {},
   "cell_type": "markdown",
   "metadata": {},
   "source": [
    "### Plot 3"
   ]
  },
  {
   "cell_type": "code",
   "execution_count": null,
   "metadata": {},
   "outputs": [],
   "source": [
    "metric_of_interest = 'mape'\n",
    "\n",
    "df_metrics_all_scales = pd.DataFrame()\n",
    "\n",
    "for scale, df in dfs_sorted.items():\n",
    "    scale = scale.split('in')[0]\n",
    "    df['scale'] = scale\n",
    "    df_metrics_all_scales = df_metrics_all_scales.append(df)\n",
    "\n",
    "# marginalize over the season\n",
    "df_metrics_grouped = df_metrics_all_scales.groupby(['scale', 'model', 'horizon_in_hours']).mean()[[metric_of_interest]].reset_index()\n",
    "\n",
    "# extract the model with the best performance for each scale and horizon\n",
    "df_metrics_grouped = df_metrics_grouped.sort_values(by=['scale', metric_of_interest], ascending=False if metric_of_interest == 'rmse_skill_score' else True)\n",
    "df_metrics_grouped = df_metrics_grouped.drop_duplicates(subset=['scale', 'horizon_in_hours'], keep='first')\n",
    "df_metrics_grouped = df_metrics_grouped.sort_values(by=['scale', 'horizon_in_hours'])\n",
    "df_metrics_grouped = df_metrics_grouped.reset_index(drop=True)\n",
    "\n",
    "\n",
    "# Define colors and shapes based on the season and model\n",
    "df = df_metrics_grouped\n",
    "shape2model = {v: k for k, v in model2shape.items()}\n",
    "\n",
    "fig, ax = plt.subplots()\n",
    "\n",
    "# Create a list to store the handles and labels for the legend\n",
    "legend_handles = []\n",
    "legend_labels = []\n",
    "\n",
    "\n",
    "# Map the colors and shapes to the DataFrame\n",
    "df['group'] = df['model'].map(model2group)\n",
    "df = df.groupby(['group', 'horizon_in_hours', 'scale']).mean().reset_index()\n",
    "\n",
    "df['shape'] = df['group'].map(group2shape)\n",
    "\n",
    "for scale, df_scale in df.groupby('scale'): # this for loop is to make sure the order of scales is from county to neighborhood\n",
    "    for shape in set(df_scale['shape']):\n",
    "        x = df_scale.loc[(df_scale['shape'] == shape), 'horizon_in_hours']\n",
    "        y = df_scale.loc[(df_scale['shape'] == shape), 'scale']\n",
    "        label = f'{shape2group[shape]}'\n",
    "        scatter = ax.scatter(x, y, marker=shape, label=label, color=group2color[shape2group[shape]])\n",
    "        if label not in legend_labels:\n",
    "            legend_handles.append(scatter)\n",
    "            legend_labels.append(label)\n",
    "\n",
    "# Set the x ticks and labels\n",
    "ax.set_xticks([1, 4, 8, 24, 48])\n",
    "ax.set_xlabel('Forecast Horizon (hours)')\n",
    "\n",
    "ax.set_ylabel('Spatial Scale')\n",
    "\n",
    "# Set the title for each subplot\n",
    "fig.suptitle(f'Best Model by {metric_dict[metric_of_interest]}')\n",
    "\n",
    "# Create a single legend for all subplots\n",
    "fig.legend(handles=legend_handles, labels=legend_labels, title='Model', loc='lower center', bbox_to_anchor=(0.6, -0.25), ncol=2, frameon=True)\n",
    "\n",
    "\n",
    "# Show the plot\n",
    "plt.show()\n",
    "\n",
    "for format in ['png', 'pdf']:\n",
    "    fig.savefig(os.path.join(os.getcwd(),'imgs','figures',f'plot_1_overview_across_scales_{metric_of_interest}.{format}'), bbox_inches='tight')\n",
    "\n",
    "#wandb.log({f'plot_1_overview_across_scales_{metric_of_interest}': fig})"
   ]
  },
  {
   "cell_type": "code",
   "execution_count": null,
   "metadata": {},
   "outputs": [],
   "source": [
    "df"
   ]
  },
  {
   "cell_type": "code",
   "execution_count": null,
   "metadata": {},
   "outputs": [],
   "source": []
  }
 ],
 "metadata": {
  "kernelspec": {
   "display_name": "gpu2",
   "language": "python",
   "name": "python3"
  },
  "language_info": {
   "codemirror_mode": {
    "name": "ipython",
    "version": 3
   },
   "file_extension": ".py",
   "mimetype": "text/x-python",
   "name": "python",
   "nbconvert_exporter": "python",
   "pygments_lexer": "ipython3",
   "version": "3.10.9"
  },
  "orig_nbformat": 4
 },
 "nbformat": 4,
 "nbformat_minor": 2
}
