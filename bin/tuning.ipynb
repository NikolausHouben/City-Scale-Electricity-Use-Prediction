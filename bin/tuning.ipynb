{
 "cells": [
  {
   "cell_type": "code",
   "execution_count": 1,
   "metadata": {},
   "outputs": [
    {
     "name": "stderr",
     "output_type": "stream",
     "text": [
      "Failed to detect the name of this notebook, you can set it manually with the WANDB_NOTEBOOK_NAME environment variable to enable code saving.\n",
      "\u001b[34m\u001b[1mwandb\u001b[0m: Currently logged in as: \u001b[33mnikolaushouben\u001b[0m (\u001b[33mwattcast\u001b[0m). Use \u001b[1m`wandb login --relogin`\u001b[0m to force relogin\n"
     ]
    },
    {
     "name": "stdout",
     "output_type": "stream",
     "text": [
      "Current working directory: c:\\Users\\nik\\Desktop\\Berkeley_Projects\\WattCast\n"
     ]
    }
   ],
   "source": [
    "import os\n",
    "import plotly.express as px\n",
    "import pandas as pd\n",
    "import numpy as np\n",
    "import json\n",
    "\n",
    "from utils import *\n",
    "from train import *\n",
    "from evaluation import *\n",
    "import wandb\n",
    "wandb.login()\n",
    "\n",
    "import warnings\n",
    "warnings.filterwarnings('ignore')\n",
    "\n",
    "# Set seed\n",
    "np.random.seed(42)\n",
    "\n",
    "# Set working directory\n",
    "os.chdir(r\"..\") # should be the git repo root directory, checking below:\n",
    "print(\"Current working directory: \" + os.getcwd())\n",
    "assert os.getcwd()[-8:] == \"WattCast\"\n",
    "dir_path = os.path.join(os.getcwd(), 'data', 'clean_data')\n",
    "model_dir = os.path.join(os.getcwd(), 'models')\n",
    "\n"
   ]
  },
  {
   "cell_type": "code",
   "execution_count": 2,
   "metadata": {},
   "outputs": [],
   "source": [
    "def train_eval_tuning():\n",
    "\n",
    "    wandb.init(project=\"WattCast_tuning\")\n",
    "    wandb.config.update(init_config)\n",
    "    config = wandb.config\n",
    "\n",
    "    print(\"Getting data...\")\n",
    "\n",
    "    data = load_data(config)\n",
    "    config = derive_config_params(config)\n",
    "    piped_data, pipeline = data_pipeline(config, data)\n",
    "\n",
    "\n",
    "    _, _, ts_test_piped, _, _, ts_test_weather_piped = piped_data\n",
    "    longest_ts_test_idx = get_longest_subseries_idx(ts_test_piped)\n",
    "    trg_test_inversed = pipeline.inverse_transform(ts_test_piped)[longest_ts_test_idx]\n",
    "\n",
    "    print(\"Getting model instance...\")\n",
    "    model_instance = get_model(config)\n",
    "    model_instance, _ = train_models(config, {config.model : model_instance}, {config.model: config}) # need to pass in a dict of models and configs\n",
    "\n",
    "    print(\"Evaluating model...\")\n",
    "    predictions, score = predict_testset(model_instance[0], \n",
    "                                  ts_test_piped[longest_ts_test_idx], \n",
    "                                  ts_test_weather_piped[longest_ts_test_idx],\n",
    "                                  config.n_lags, config.n_ahead, config.eval_stride, pipeline,\n",
    "                                  )\n",
    "\n",
    "\n",
    "    print(\"Plotting predictions...\")\n",
    "    df_compare = pd.concat([trg_test_inversed.pd_dataframe(), predictions], axis=1).dropna()\n",
    "    df_compare.columns = ['target', 'prediction']\n",
    "    fig = px.line(df_compare, title='Predictions vs. Test Set')\n",
    "\n",
    "    wandb.log({'eval_loss': score})\n",
    "    wandb.log({'predictions': fig})\n",
    "    wandb.finish()\n"
   ]
  },
  {
   "cell_type": "markdown",
   "metadata": {},
   "source": [
    "### Running"
   ]
  },
  {
   "cell_type": "code",
   "execution_count": 3,
   "metadata": {},
   "outputs": [
    {
     "data": {
      "text/plain": [
       "[('2_town', 'GLENDOVEER-13596'),\n",
       " ('2_town', 'GLENDOVEER-13597'),\n",
       " ('2_town', 'GLENDOVEER-13598'),\n",
       " ('2_town', 'GLENDOVEER-13599'),\n",
       " ('2_town', 'GLENDOVEER-CLIFFGATE'),\n",
       " ('2_town', 'GLENDOVEER-NORTHEAST'),\n",
       " ('2_town', 'KELLY'),\n",
       " ('2_town', 'LENTS-13101'),\n",
       " ('2_town', 'LENTS-HAPPY'),\n",
       " ('2_town', 'LENTS-MT'),\n",
       " ('2_town', 'LENTS-NORTH'),\n",
       " ('2_town', 'MIDWAY-DIVISION'),\n",
       " ('2_town', 'MIDWAY-DOUGLAS'),\n",
       " ('2_town', 'MIDWAY-LYNCH'),\n",
       " ('2_town', 'MIDWAY-POWELLHURST'),\n",
       " ('2_town', 'RAMAPO-EMERALD'),\n",
       " ('2_town', 'RAMAPO-GILBERT'),\n",
       " ('2_town', 'RAMAPO-RAMAPO')]"
      ]
     },
     "execution_count": 3,
     "metadata": {},
     "output_type": "execute_result"
    }
   ],
   "source": [
    "locations, _ = get_hdf_keys(dir_path)\n",
    "list(((list(locations.keys())[0].split(\".\")[0], location) for location in locations['2_town.h5']))"
   ]
  },
  {
   "cell_type": "code",
   "execution_count": null,
   "metadata": {},
   "outputs": [],
   "source": [
    "#we keep the number of sweeps constant to ensure a fair playing field for all algorithms\n",
    "sweeps = 10 # number of sweeps per model, per location: \n",
    "\n",
    "scale_location_pairs = [\n",
    "('2_town', 'GLENDOVEER-13596'),\n",
    "# ('2_town.h5', 'GLENDOVEER-13597'),\n",
    " #('2_town.h5', 'GLENDOVEER-13598'),\n",
    " #('2_town.h5', 'GLENDOVEER-13599'),\n",
    " #('2_town.h5', 'GLENDOVEER-CLIFFGATE'),\n",
    " #('2_town.h5', 'GLENDOVEER-NORTHEAST'),\n",
    " ('2_town', 'KELLY'),\n",
    " ('2_town', 'LENTS-13101'),\n",
    " #('2_town.h5', 'LENTS-HAPPY'),\n",
    " #('2_town.h5', 'LENTS-MT'),\n",
    " #('2_town.h5', 'LENTS-NORTH'),\n",
    " ('2_town', 'MIDWAY-DIVISION'),\n",
    " #('2_town.h5', 'MIDWAY-DOUGLAS'),\n",
    " #('2_town.h5', 'MIDWAY-LYNCH'),\n",
    " #('2_town.h5', 'MIDWAY-POWELLHURST'),\n",
    " ('2_town', 'RAMAPO-EMERALD'),\n",
    " #('2_town.h5', 'RAMAPO-GILBERT'),\n",
    " #('2_town.h5', 'RAMAPO-RAMAPO')\n",
    " ]\n",
    "\n",
    "models = [\n",
    "        #'rf',\n",
    "        #'xgb', \n",
    "        #'gru', \n",
    "        #'lgbm',  \n",
    "        'nbeats',\n",
    "        #'tft'\n",
    "        ]\n",
    "\n",
    "\n",
    "for scale, location in scale_location_pairs:\n",
    "\n",
    "    for model in models:\n",
    "        # placeholder initialization of config file (will be updated in train_eval_light())\n",
    "        init_config = {\n",
    "                        'spatial_scale': \"2_town\",\n",
    "                        'temp_resolution': 60,\n",
    "                        'location': 'GLENDOVEER-13596',\n",
    "                        'model': model,\n",
    "                        'horizon_in_hours': 24,\n",
    "                        'lookback_in_hours': 24,\n",
    "                        'boxcox': True,\n",
    "                        'liklihood': None,\n",
    "                        'weather_available': True,\n",
    "                        'datetime_encodings': True,\n",
    "                        'heat_wave_binary': True,\n",
    "                        'datetime_attributes': [\"dayofweek\", \"week\"],\n",
    "                        'use_cov_as_past_cov': False,\n",
    "                        'use_auxilary_data': False,\n",
    "                    }\n",
    "        \n",
    "        with open(f'sweep_configurations/config_sweep_{model}.json', 'r') as fp:\n",
    "            sweep_config = json.load(fp)                  \n",
    "\n",
    "        sweep_config['name'] = model + 'sweep' + init_config['spatial_scale'] + '_' + init_config['location'] + '_' + str(init_config['temp_resolution'])\n",
    "\n",
    "        sweep_id = wandb.sweep(sweep_config, project=\"Portland_AMI_tuning\")\n",
    "        wandb.agent(sweep_id, train_eval_tuning, count=sweeps)\n",
    "        wandb.finish()\n",
    "\n"
   ]
  },
  {
   "cell_type": "markdown",
   "metadata": {},
   "source": [
    "### Degbugging"
   ]
  },
  {
   "cell_type": "code",
   "execution_count": null,
   "metadata": {},
   "outputs": [],
   "source": []
  }
 ],
 "metadata": {
  "kernelspec": {
   "display_name": "gpu2",
   "language": "python",
   "name": "python3"
  },
  "language_info": {
   "codemirror_mode": {
    "name": "ipython",
    "version": 3
   },
   "file_extension": ".py",
   "mimetype": "text/x-python",
   "name": "python",
   "nbconvert_exporter": "python",
   "pygments_lexer": "ipython3",
   "version": "3.11.3"
  },
  "orig_nbformat": 4
 },
 "nbformat": 4,
 "nbformat_minor": 2
}
