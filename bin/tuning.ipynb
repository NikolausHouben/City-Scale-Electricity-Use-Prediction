{
 "cells": [
  {
   "cell_type": "code",
   "execution_count": null,
   "metadata": {},
   "outputs": [],
   "source": [
    "import os\n",
    "import plotly.express as px\n",
    "import pandas as pd\n",
    "import numpy as np\n",
    "import json\n",
    "\n",
    "from utils import *\n",
    "from train import *\n",
    "from eval import *\n",
    "import wandb\n",
    "wandb.login()\n",
    "\n",
    "import warnings\n",
    "warnings.filterwarnings('ignore')\n",
    "\n",
    "# Set seed\n",
    "np.random.seed(42)\n",
    "\n",
    "\n",
    "# Set working directory\n",
    "os.chdir(r\"..\") # should be the git repo root directory, checking below:\n",
    "print(\"Current working directory: \" + os.getcwd())\n",
    "assert os.getcwd()[-8:] == \"WattCast\"\n",
    "dir_path = os.path.join(os.getcwd(), 'data', 'clean_data')\n",
    "model_dir = os.path.join(os.getcwd(), 'models')\n",
    "\n"
   ]
  },
  {
   "cell_type": "code",
   "execution_count": null,
   "metadata": {},
   "outputs": [],
   "source": [
    "def train_eval_light():\n",
    "\n",
    "    wandb.init(project=\"WattCast_tuning\")\n",
    "    wandb.config.update(config_run)\n",
    "    config = wandb.config\n",
    "\n",
    "    print(\"Getting data...\")\n",
    "\n",
    "    pipeline, ts_train_piped, ts_val_piped, ts_test_piped, ts_train_weather_piped, ts_val_weather_piped, ts_test_weather_piped, trg_train_inversed, trg_val_inversed, trg_test_inversed = data_pipeline(config)\n",
    "\n",
    "    print(\"Getting model instance...\")\n",
    "    model_instance = get_model(config)\n",
    "    model_instance, _ = train_models([model_instance], ts_train_piped, ts_train_weather_piped, ts_val_piped, ts_val_weather_piped)\n",
    "\n",
    "    print(\"Evaluating model...\")\n",
    "    predictions, score = predict_testset(model_instance[0], \n",
    "                                  ts_test_piped[config.longest_ts_test_idx], \n",
    "                                  ts_test_weather_piped[config.longest_ts_test_idx],\n",
    "                                  config.n_lags, config.n_ahead, config.eval_stride, pipeline,\n",
    "                                  )\n",
    "\n",
    "\n",
    "    print(\"Plotting predictions...\")\n",
    "    df_compare = pd.concat([trg_test_inversed.pd_dataframe(), predictions], axis=1).dropna()\n",
    "    df_compare.columns = ['target', 'prediction']\n",
    "    fig = px.line(df_compare, title='Predictions vs. Test Set')\n",
    "\n",
    "    wandb.log({'eval_loss': score})\n",
    "    wandb.log({'predictions': fig})\n",
    "    wandb.finish()\n",
    "\n"
   ]
  },
  {
   "cell_type": "code",
   "execution_count": null,
   "metadata": {},
   "outputs": [],
   "source": [
    "\n",
    "# See what keys are in the h5py data file\n",
    "locations_dict, resolutions_dict = get_hdf_keys(dir_path)\n",
    "\n",
    "print(\"Locations: \", locations_dict)\n",
    "print(\"Resolutions: \", resolutions_dict)\n",
    "\n",
    "for scale, locations in locations_dict.items():\n",
    "    if scale == '5_building.h5':\n",
    "        for location in locations:\n",
    "            df_train = pd.read_hdf(os.path.join(dir_path, scale), key=f'{location}/60min/train_target')\n",
    "            df_val = pd.read_hdf(os.path.join(dir_path, scale), key=f'{location}/60min/val_target')\n",
    "            df_test = pd.read_hdf(os.path.join(dir_path, scale), key=f'{location}/60min/test_target')\n",
    "            fig = px.line(df_train, title=f'{scale}: {location}')\n",
    "            fig.add_trace(px.line(df_val, title='Validation Set').data[0])\n",
    "            fig.add_trace(px.line(df_test, title='Test Set').data[0])\n",
    "            fig.show()\n",
    "\n"
   ]
  },
  {
   "cell_type": "markdown",
   "metadata": {},
   "source": [
    "### Running"
   ]
  },
  {
   "cell_type": "code",
   "execution_count": null,
   "metadata": {},
   "outputs": [],
   "source": [
    "# run parameters\n",
    "\n",
    "sweeps = 20\n",
    "\n",
    "scale_location_pairs = (\n",
    "    # ('1_county', 'Sacramento'),\n",
    "    # ('1_county', 'New_York'),\n",
    "    #('2_town', 'town_0'),\n",
    "    # ('2_town', 'town_1'),\n",
    "    # ('2_town', 'town_2'),\n",
    "    # ('3_village', 'village_1'),\n",
    "    # ('3_village', 'village_2'),\n",
    "    #('3_village', 'village_0'),\n",
    "    # ('4_neighborhood', 'neighborhood_0'),\n",
    "    # ('4_neighborhood', 'neighborhood_1'),\n",
    "    # ('4_neighborhood', 'neighborhood_2'),\n",
    "    # ('5_building', 'building_0'),\n",
    "    # ('5_building', 'building_1'),\n",
    "    ('5_building', 'building_2'),\n",
    "      )\n",
    "\n",
    "\n",
    "\n",
    "models = [\n",
    "        'rf',\n",
    "         'xgb', \n",
    "        # 'gru', \n",
    "        'lgbm',  \n",
    "        # 'nbeats',\n",
    "        #'tft'\n",
    "        ]\n",
    "\n",
    "\n",
    "for scale, location in scale_location_pairs:\n",
    "\n",
    "    for model in models:\n",
    "        # placeholder initialization of config file (will be updated in train_eval_light())\n",
    "        config_run = {\n",
    "            'spatial_scale': scale,\n",
    "            'temp_resolution': 60,\n",
    "            'location': location,\n",
    "            'model': model,\n",
    "            'horizon_in_hours': 24,\n",
    "            'lookback_in_hours': 24,\n",
    "            'boxcox': True,\n",
    "            'liklihood': None,\n",
    "            'weather': True,\n",
    "            'holiday': True,\n",
    "            'datetime_encodings': False,\n",
    "        }\n",
    "        \n",
    "        with open(f'sweep_configurations/config_sweep_{model}.json', 'r') as fp:\n",
    "            sweep_config = json.load(fp)                  \n",
    "\n",
    "        sweep_config['name'] = model + 'sweep' + config_run['spatial_scale'] + '_' + config_run['location'] + '_' + str(config_run['temp_resolution'])\n",
    "\n",
    "        sweep_id = wandb.sweep(sweep_config, project=\"WattCast_tuning\")\n",
    "        wandb.agent(sweep_id, train_eval_light, count=sweeps)\n"
   ]
  },
  {
   "cell_type": "markdown",
   "metadata": {},
   "source": [
    "### Degbugging"
   ]
  },
  {
   "cell_type": "code",
   "execution_count": null,
   "metadata": {},
   "outputs": [],
   "source": [
    "model = 'gru'\n",
    "scale = '5_building'\n",
    "location = 'building_2'\n",
    "\n",
    "\n",
    "config_run = {\n",
    "    'spatial_scale': scale,\n",
    "    'temp_resolution': 60,\n",
    "    'location': location,\n",
    "    'model': model,\n",
    "    'horizon_in_hours': 24,\n",
    "    'lookback_in_hours': 24,\n",
    "    'boxcox': True,\n",
    "    'liklihood': None,\n",
    "    'weather': True,\n",
    "    'holiday': True,\n",
    "    'datetime_encodings': False,\n",
    "}\n",
    "\n",
    "with open(f'sweep_configurations/config_sweep_{model}.json', 'r') as fp:\n",
    "    sweep_config = json.load(fp)   \n",
    "\n",
    "\n",
    "config = Config().from_dict(config_run)\n"
   ]
  },
  {
   "cell_type": "code",
   "execution_count": null,
   "metadata": {},
   "outputs": [],
   "source": [
    "pipeline, ts_train_piped, ts_val_piped, ts_test_piped, ts_train_weather_piped, ts_val_weather_piped, ts_test_weather_piped, trg_train_inversed, trg_val_inversed, trg_test_inversed = data_pipeline(config)"
   ]
  },
  {
   "cell_type": "code",
   "execution_count": null,
   "metadata": {},
   "outputs": [],
   "source": [
    "model_instance = get_model(config)"
   ]
  },
  {
   "cell_type": "code",
   "execution_count": null,
   "metadata": {},
   "outputs": [],
   "source": [
    "type(model_instance)"
   ]
  },
  {
   "cell_type": "code",
   "execution_count": null,
   "metadata": {},
   "outputs": [],
   "source": [
    "model_instance, _ = train_models([model_instance], ts_train_piped, ts_train_weather_piped, \n",
    "                                    ts_val_piped, ts_val_weather_piped\n",
    "                                    )\n"
   ]
  },
  {
   "cell_type": "code",
   "execution_count": null,
   "metadata": {},
   "outputs": [],
   "source": [
    "predictions, score = predict_testset(model_instance[0], \n",
    "                                ts_test_piped[config.longest_ts_test_idx], \n",
    "                                ts_test_weather_piped[config.longest_ts_test_idx],\n",
    "                                config.n_lags, config.n_ahead, config.eval_stride, pipeline,\n",
    "                                )"
   ]
  },
  {
   "cell_type": "code",
   "execution_count": null,
   "metadata": {},
   "outputs": [],
   "source": [
    "px.line(predictions)"
   ]
  },
  {
   "cell_type": "code",
   "execution_count": null,
   "metadata": {},
   "outputs": [],
   "source": []
  }
 ],
 "metadata": {
  "kernelspec": {
   "display_name": "gpu2",
   "language": "python",
   "name": "python3"
  },
  "language_info": {
   "codemirror_mode": {
    "name": "ipython",
    "version": 3
   },
   "file_extension": ".py",
   "mimetype": "text/x-python",
   "name": "python",
   "nbconvert_exporter": "python",
   "pygments_lexer": "ipython3",
   "version": "3.10.9"
  },
  "orig_nbformat": 4
 },
 "nbformat": 4,
 "nbformat_minor": 2
}
