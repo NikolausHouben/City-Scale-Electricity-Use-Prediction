{
 "cells": [
  {
   "cell_type": "code",
   "execution_count": 1,
   "metadata": {},
   "outputs": [],
   "source": [
    "# Importing libraries\n",
    "import pandas as pd\n",
    "import numpy as np\n",
    "import matplotlib.pyplot as plt\n",
    "import plotly.express as px\n",
    "import plotly.graph_objects as go\n",
    "import os   \n",
    "import h5py\n",
    "from sklearn.preprocessing import MinMaxScaler\n",
    "from utils import (remove_days, standardize_format, \n",
    "                   remove_non_positive_values, split_train_val_test_datasets, \n",
    "                   get_weather_data, calculate_stats_and_plot_hist, remove_outliers)\n",
    "\n",
    "from timezonefinder import TimezoneFinder\n",
    "import time\n",
    "\n",
    "import warnings\n",
    "warnings.filterwarnings('ignore')\n",
    "\n"
   ]
  },
  {
   "cell_type": "code",
   "execution_count": 2,
   "metadata": {},
   "outputs": [
    {
     "name": "stdout",
     "output_type": "stream",
     "text": [
      "Current working directory: /Users/nikolaushouben/Desktop/WattCast\n"
     ]
    }
   ],
   "source": [
    "\n",
    "# Set working directory\n",
    "os.chdir(r\"..\") # should be the git repo root directory\n",
    "print(\"Current working directory: \" + os.getcwd())\n",
    "assert os.getcwd()[-8:] == \"WattCast\", \"Current working directory is not the git repo root directory\"\n",
    "\n",
    "raw_data_path = os.path.join(os.getcwd(),'data','raw_data')\n",
    "if not os.path.exists(raw_data_path):\n",
    "    os.makedirs(raw_data_path)\n",
    "    print(\"Created directory: \" + raw_data_path)\n",
    "\n",
    "save_path = os.path.join(os.getcwd(),'data','clean_data')\n",
    "if not os.path.exists(save_path):\n",
    "    os.makedirs(save_path)\n",
    "    print(\"Created directory: \" + save_path)"
   ]
  },
  {
   "attachments": {},
   "cell_type": "markdown",
   "metadata": {},
   "source": [
    "# <u>Raw data import, visualization & cleaning<u/>\n"
   ]
  },
  {
   "attachments": {},
   "cell_type": "markdown",
   "metadata": {},
   "source": [
    "\n",
    "Structure of Blocks:\n",
    "\n",
    "1. Each block starts with the Name of the dataset and its download link, alternatively you can follow this [link](https://www.dropbox.com/sh/fvx3wune2qg2x43/AADP4F3UwIqrS9tYnN6mTob5a?dl=0) to download the raw and cleaned data directory from our gdrive.\n",
    "2. The overview states for which aggregation level the data was used. For example, while (1) BA dataset is only used on the county level, the (2) Substation dataset from Germany is used for both the neighborhood level in an aggregated form and on the household level in its disaggregated form.\n",
    "3. Power and Weather data are then imported and cleaned, wherever necessary.\n",
    "4. Each block also provides an interactive visualization of the timeseries, often resampled to a lower temporal resolution to make it run faster.\n",
    "5. The block ends with spliting* the data into one train (1 year) and two test datasets (one in summer and winter); once more 60 minute and, if available, in 15 minute resolution\n",
    "\n",
    "a) <u>Note</u> on the train test splits: Not all data was recorded in the same temporal resolution and during the same time. However, training and testing set lengths were kept consistent to ensure a fair comparison of algorithms across scales. \n",
    "\n",
    "b) <u>Note</u> on the timezones: Data comes in various timezones and are always processed to match the local timezone. This helps with interepretability of results due to known patters of human behaviour."
   ]
  },
  {
   "attachments": {},
   "cell_type": "markdown",
   "metadata": {},
   "source": [
    "## &#x2460; 'Portland Feeder'\n",
    "\n",
    "\n",
    "Used for: \n",
    "* 2_town\n",
    "----------\n",
    "* Duration: 1 year\n",
    "* Resolution: 60 minutes\n",
    "* Power Level: 1-50 MW"
   ]
  },
  {
   "attachments": {},
   "cell_type": "markdown",
   "metadata": {},
   "source": [
    "### Data Prep"
   ]
  },
  {
   "attachments": {},
   "cell_type": "markdown",
   "metadata": {},
   "source": [
    "Load"
   ]
  },
  {
   "cell_type": "code",
   "execution_count": 3,
   "metadata": {},
   "outputs": [
    {
     "data": {
      "text/plain": [
       "'/Users/nikolaushouben/Desktop/WattCast/data/raw_data/Portland_feeder_ts.csv'"
      ]
     },
     "execution_count": 3,
     "metadata": {},
     "output_type": "execute_result"
    }
   ],
   "source": [
    "# set this path to the directory where the data is stored\n",
    "\n",
    "dir_path = os.path.join(raw_data_path,'Portland_feeder_ts.csv')\n",
    "\n",
    "dir_path"
   ]
  },
  {
   "cell_type": "code",
   "execution_count": 4,
   "metadata": {},
   "outputs": [],
   "source": [
    "\n",
    "def train_test_split_month(df, train_months=None, val_months = None, test_months = None):\n",
    "\n",
    "    '''\n",
    "    Splits a dataframe into train, validation and test sets based on the month of the year.\n",
    "    The months are first ranked based on the maximum value in that month.\n",
    "    Train should contain the months with the highest and lowest maximum values.\n",
    "    Validation should contain the month with the second highest maximum value.\n",
    "    Test should contain the month with the second lowest maximum value.\n",
    "    \n",
    "    '''\n",
    "\n",
    "    if train_months is None:\n",
    "        months_ranked = df.groupby(df.index.month).max().sort_values(by = df.columns[0], ascending = False).index\n",
    "        train_months = [months_ranked[0]] + [months_ranked[-1]] + months_ranked[2:-2].tolist()\n",
    "        val_months = [months_ranked[-2]]\n",
    "        test_months = [months_ranked[1]]\n",
    "\n",
    "    df_train = df[df.index.month.isin(train_months)]\n",
    "    df_val = df[df.index.month.isin(val_months)]\n",
    "    df_test = df[df.index.month.isin(test_months)]\n",
    "\n",
    "    return df_train, df_val, df_test, train_months, val_months, test_months\n",
    "\n",
    "\n",
    "\n",
    "def train_val_test_split_visual(df, train_months = None, val_months = None, test_months = None):\n",
    "\n",
    "    '''\n",
    "    Splits a dataframe into train, validation and test sets based on the month of the year.\n",
    "    Determined visually\n",
    "    \n",
    "    '''\n",
    "\n",
    "    if train_months is None:\n",
    "        train_months = [1,3,4,5,7,8,9,10,11,12]\n",
    "        val_months = [2]\n",
    "        test_months = [6]\n",
    "\n",
    "    df_train = df[df.index.month.isin(train_months)]\n",
    "    df_val = df[df.index.month.isin(val_months)]\n",
    "    df_test = df[df.index.month.isin(test_months)]\n",
    "\n",
    "    return df_train, df_val, df_test, train_months, val_months, test_months\n",
    "\n"
   ]
  },
  {
   "cell_type": "code",
   "execution_count": 15,
   "metadata": {},
   "outputs": [],
   "source": [
    "df_ami = pd.read_csv(dir_path, parse_dates=True, index_col=0)\n",
    "\n",
    "df_ami.columns = [col.replace(\" \", \".\").replace(\"(\", \"\").replace(\")\",\"\") for col in df_ami.columns]\n",
    "\n",
    "scales = list(set([col.split(\"-\")[0] for col in df_ami.columns.tolist()[:-1]]))\n"
   ]
  },
  {
   "cell_type": "code",
   "execution_count": 16,
   "metadata": {},
   "outputs": [
    {
     "data": {
      "text/plain": [
       "Index(['GLENDOVEER-13596.MWh', 'GLENDOVEER-13597.MWh', 'GLENDOVEER-13598.MWh',\n",
       "       'GLENDOVEER-13599.MWh', 'GLENDOVEER-CLIFFGATE.MWh',\n",
       "       'GLENDOVEER-NORTHEAST.MWh', 'KELLY.BUTTE-BINNSMEAD.MWh',\n",
       "       'KELLY.BUTTE-FAIRLAWN.MWh', 'KELLY.BUTTE-MALL.205.MWh',\n",
       "       'KELLY.BUTTE-MCGREW.MWh', 'LENTS-13101.MWh', 'LENTS-HAPPY.VALLEY.MWh',\n",
       "       'LENTS-MT.SCOTT.MWh', 'LENTS-NORTH.MWh', 'MIDWAY-DIVISION.MWh',\n",
       "       'MIDWAY-DOUGLAS.MWh', 'MIDWAY-LYNCH.MWh', 'MIDWAY-POWELLHURST.MWh',\n",
       "       'RAMAPO-EMERALD.MWh', 'RAMAPO-GILBERT.MWh', 'RAMAPO-RAMAPO.13.MWh',\n",
       "       'Temperature.°C'],\n",
       "      dtype='object')"
      ]
     },
     "execution_count": 16,
     "metadata": {},
     "output_type": "execute_result"
    }
   ],
   "source": [
    "df_ami.columns"
   ]
  },
  {
   "cell_type": "code",
   "execution_count": 17,
   "metadata": {},
   "outputs": [],
   "source": [
    "\n",
    "location_acronnyms = {col.replace(\"(\", \"\").replace(\")\",\"\"):col.split(\"-\")[1].replace(\"(\", \"\").replace(\")\",\"\") for col in df_ami.columns[:-1]}\n",
    "coords = (45.514904014844944, -122.65894786115099)\n",
    "\n",
    "unit = \"MW\" # unit of the demand data\n",
    "temp_resolutions = [60] # minutes, this dataset is only available in hourly resolution"
   ]
  },
  {
   "cell_type": "code",
   "execution_count": 18,
   "metadata": {},
   "outputs": [
    {
     "data": {
      "text/plain": [
       "['MIDWAY', 'LENTS', 'KELLY.BUTTE', 'GLENDOVEER', 'RAMAPO']"
      ]
     },
     "execution_count": 18,
     "metadata": {},
     "output_type": "execute_result"
    }
   ],
   "source": [
    "scales"
   ]
  },
  {
   "cell_type": "code",
   "execution_count": 19,
   "metadata": {},
   "outputs": [
    {
     "data": {
      "text/plain": [
       "{'GLENDOVEER-13596.MWh': '13596.MWh',\n",
       " 'GLENDOVEER-13597.MWh': '13597.MWh',\n",
       " 'GLENDOVEER-13598.MWh': '13598.MWh',\n",
       " 'GLENDOVEER-13599.MWh': '13599.MWh',\n",
       " 'GLENDOVEER-CLIFFGATE.MWh': 'CLIFFGATE.MWh',\n",
       " 'GLENDOVEER-NORTHEAST.MWh': 'NORTHEAST.MWh',\n",
       " 'KELLY.BUTTE-BINNSMEAD.MWh': 'BINNSMEAD.MWh',\n",
       " 'KELLY.BUTTE-FAIRLAWN.MWh': 'FAIRLAWN.MWh',\n",
       " 'KELLY.BUTTE-MALL.205.MWh': 'MALL.205.MWh',\n",
       " 'KELLY.BUTTE-MCGREW.MWh': 'MCGREW.MWh',\n",
       " 'LENTS-13101.MWh': '13101.MWh',\n",
       " 'LENTS-HAPPY.VALLEY.MWh': 'HAPPY.VALLEY.MWh',\n",
       " 'LENTS-MT.SCOTT.MWh': 'MT.SCOTT.MWh',\n",
       " 'LENTS-NORTH.MWh': 'NORTH.MWh',\n",
       " 'MIDWAY-DIVISION.MWh': 'DIVISION.MWh',\n",
       " 'MIDWAY-DOUGLAS.MWh': 'DOUGLAS.MWh',\n",
       " 'MIDWAY-LYNCH.MWh': 'LYNCH.MWh',\n",
       " 'MIDWAY-POWELLHURST.MWh': 'POWELLHURST.MWh',\n",
       " 'RAMAPO-EMERALD.MWh': 'EMERALD.MWh',\n",
       " 'RAMAPO-GILBERT.MWh': 'GILBERT.MWh',\n",
       " 'RAMAPO-RAMAPO.13.MWh': 'RAMAPO.13.MWh'}"
      ]
     },
     "execution_count": 19,
     "metadata": {},
     "output_type": "execute_result"
    }
   ],
   "source": [
    "location_acronnyms"
   ]
  },
  {
   "cell_type": "code",
   "execution_count": 22,
   "metadata": {},
   "outputs": [
    {
     "name": "stdout",
     "output_type": "stream",
     "text": [
      "Preparing data for MIDWAY-DIVISION.MWh...\n",
      "Index(['MIDWAY-DIVISION.MWh'], dtype='object')\n",
      "Fetching timezone from coordinates\n",
      "Preparing data for MIDWAY-DOUGLAS.MWh...\n",
      "Index(['MIDWAY-DOUGLAS.MWh'], dtype='object')\n",
      "Fetching timezone from coordinates\n",
      "Preparing data for MIDWAY-LYNCH.MWh...\n",
      "Index(['MIDWAY-LYNCH.MWh'], dtype='object')\n",
      "Fetching timezone from coordinates\n",
      "Preparing data for MIDWAY-POWELLHURST.MWh...\n",
      "Index(['MIDWAY-POWELLHURST.MWh'], dtype='object')\n",
      "Fetching timezone from coordinates\n",
      "Preparing data for LENTS-13101.MWh...\n",
      "Index(['LENTS-13101.MWh'], dtype='object')\n",
      "Fetching timezone from coordinates\n",
      "Preparing data for LENTS-HAPPY.VALLEY.MWh...\n",
      "Index(['LENTS-HAPPY.VALLEY.MWh'], dtype='object')\n",
      "Fetching timezone from coordinates\n",
      "Preparing data for LENTS-MT.SCOTT.MWh...\n",
      "Index(['LENTS-MT.SCOTT.MWh'], dtype='object')\n",
      "Fetching timezone from coordinates\n",
      "Preparing data for LENTS-NORTH.MWh...\n",
      "Index(['LENTS-NORTH.MWh'], dtype='object')\n",
      "Fetching timezone from coordinates\n",
      "Preparing data for KELLY.BUTTE-BINNSMEAD.MWh...\n",
      "Index(['KELLY.BUTTE-BINNSMEAD.MWh'], dtype='object')\n",
      "Fetching timezone from coordinates\n",
      "Preparing data for KELLY.BUTTE-FAIRLAWN.MWh...\n",
      "Index(['KELLY.BUTTE-FAIRLAWN.MWh'], dtype='object')\n",
      "Fetching timezone from coordinates\n",
      "Preparing data for KELLY.BUTTE-MALL.205.MWh...\n",
      "Index(['KELLY.BUTTE-MALL.205.MWh'], dtype='object')\n",
      "Fetching timezone from coordinates\n",
      "Preparing data for KELLY.BUTTE-MCGREW.MWh...\n",
      "Index(['KELLY.BUTTE-MCGREW.MWh'], dtype='object')\n",
      "Fetching timezone from coordinates\n",
      "Preparing data for GLENDOVEER-13596.MWh...\n",
      "Index(['GLENDOVEER-13596.MWh'], dtype='object')\n",
      "Fetching timezone from coordinates\n",
      "Preparing data for GLENDOVEER-13597.MWh...\n",
      "Index(['GLENDOVEER-13597.MWh'], dtype='object')\n",
      "Fetching timezone from coordinates\n",
      "Preparing data for GLENDOVEER-13598.MWh...\n",
      "Index(['GLENDOVEER-13598.MWh'], dtype='object')\n",
      "Fetching timezone from coordinates\n",
      "Preparing data for GLENDOVEER-13599.MWh...\n",
      "Index(['GLENDOVEER-13599.MWh'], dtype='object')\n",
      "Fetching timezone from coordinates\n",
      "Preparing data for GLENDOVEER-CLIFFGATE.MWh...\n",
      "Index(['GLENDOVEER-CLIFFGATE.MWh'], dtype='object')\n",
      "Fetching timezone from coordinates\n",
      "Preparing data for GLENDOVEER-NORTHEAST.MWh...\n",
      "Index(['GLENDOVEER-NORTHEAST.MWh'], dtype='object')\n",
      "Fetching timezone from coordinates\n",
      "Preparing data for RAMAPO-EMERALD.MWh...\n",
      "Index(['RAMAPO-EMERALD.MWh'], dtype='object')\n",
      "Fetching timezone from coordinates\n",
      "Preparing data for RAMAPO-GILBERT.MWh...\n",
      "Index(['RAMAPO-GILBERT.MWh'], dtype='object')\n",
      "Fetching timezone from coordinates\n",
      "Preparing data for RAMAPO-RAMAPO.13.MWh...\n",
      "Index(['RAMAPO-RAMAPO.13.MWh'], dtype='object')\n",
      "Fetching timezone from coordinates\n"
     ]
    }
   ],
   "source": [
    "lat, lng = coords\n",
    "temp_resolution = temp_resolutions[0]\n",
    "tf = TimezoneFinder()\n",
    "tz = tf.timezone_at(lng=lng, lat=lat)\n",
    "for spatial_scale in scales:\n",
    "    store = pd.HDFStore(os.path.join(save_path, f\"{spatial_scale}.h5\"), mode='w')\n",
    "    dfs = {}\n",
    "    df_scale = df_ami.filter(like=spatial_scale)\n",
    "    for col in df_scale.columns:\n",
    "        print(f\"Preparing data for {col}...\")\n",
    "        # power\n",
    "        value = location_acronnyms[col]\n",
    "        df = df_scale[[col]]\n",
    "        print(df.columns)\n",
    "        # df = df.tz_localize('UTC').tz_convert(tz).tz_localize(None), data is already local\n",
    "        df = standardize_format(df, 'load', temp_resolution, col, unit)\n",
    "        df = remove_outliers(df, df.columns[0], lower_percentile=1, upper_percentile=99.9)\n",
    "        df = remove_non_positive_values(df, set_nan=True)\n",
    "        train, val, test, train_months, val_months, test_months = train_val_test_split_visual(df)\n",
    "        dfs[value] = df\n",
    "        store.put(f'{value}/{temp_resolution}min/train_target', train, format='table')\n",
    "        store.put(f'{value}/{temp_resolution}min/val_target', val, format='table')\n",
    "        store.put(f'{value}/{temp_resolution}min/test_target', test, format='table')\n",
    "\n",
    "        # weather\n",
    "        start_date = df.index[0].strftime(\"%Y-%m-%d\")\n",
    "        end_date = df.index[-1].strftime(\"%Y-%m-%d\")\n",
    "        df_weather = get_weather_data(lat, lng, start_date, end_date, variables=['temperature_2m'], keep_UTC=False).tz_localize(None)\n",
    "        df_weather = standardize_format(df_weather, 'temperature', temp_resolution, value, \"C\")\n",
    "        df_weather = df_weather.reindex(df.index).dropna() \n",
    "        dfs[value + 'weather'] = df_weather\n",
    "        train_weather, val_weather, test_weather, _, _, _ = train_val_test_split_visual(df_weather, train_months, val_months, test_months)\n",
    "\n",
    "        store.put(f'{value}/{temp_resolution}min/train_cov', train_weather, format='table')\n",
    "        store.put(f'{value}/{temp_resolution}min/val_cov', val_weather, format='table')\n",
    "        store.put(f'{value}/{temp_resolution}min/test_cov', test_weather, format='table')\n",
    "\n",
    "    store.close()\n"
   ]
  },
  {
   "cell_type": "code",
   "execution_count": 23,
   "metadata": {},
   "outputs": [],
   "source": [
    "from utils import get_hdf_keys\n",
    "\n",
    "clean_data_path = os.path.join(os.getcwd(), \"data\", \"clean_data\")\n"
   ]
  },
  {
   "cell_type": "code",
   "execution_count": 24,
   "metadata": {},
   "outputs": [
    {
     "data": {
      "text/plain": [
       "({'GLENDOVEER.h5': ['13596.MWh',\n",
       "   '13597.MWh',\n",
       "   '13598.MWh',\n",
       "   '13599.MWh',\n",
       "   'CLIFFGATE.MWh',\n",
       "   'NORTHEAST.MWh'],\n",
       "  'LENTS.h5': ['13101.MWh', 'HAPPY.VALLEY.MWh', 'MT.SCOTT.MWh', 'NORTH.MWh'],\n",
       "  'MIDWAY.h5': ['DIVISION.MWh', 'DOUGLAS.MWh', 'LYNCH.MWh', 'POWELLHURST.MWh'],\n",
       "  'RAMAPO.h5': ['EMERALD.MWh', 'GILBERT.MWh', 'RAMAPO.13.MWh'],\n",
       "  'KELLY.BUTTE.h5': ['BINNSMEAD.MWh',\n",
       "   'FAIRLAWN.MWh',\n",
       "   'MALL.205.MWh',\n",
       "   'MCGREW.MWh']},\n",
       " {'GLENDOVEER.h5': ['60min'],\n",
       "  'LENTS.h5': ['60min'],\n",
       "  'MIDWAY.h5': ['60min'],\n",
       "  'RAMAPO.h5': ['60min'],\n",
       "  'KELLY.BUTTE.h5': ['60min']})"
      ]
     },
     "execution_count": 24,
     "metadata": {},
     "output_type": "execute_result"
    }
   ],
   "source": [
    "get_hdf_keys(clean_data_path)"
   ]
  },
  {
   "attachments": {},
   "cell_type": "markdown",
   "metadata": {},
   "source": [
    "### Visualization"
   ]
  },
  {
   "cell_type": "code",
   "execution_count": 25,
   "metadata": {},
   "outputs": [
    {
     "ename": "NameError",
     "evalue": "name 'plot_location_splits' is not defined",
     "output_type": "error",
     "traceback": [
      "\u001b[0;31m---------------------------------------------------------------------------\u001b[0m",
      "\u001b[0;31mNameError\u001b[0m                                 Traceback (most recent call last)",
      "\u001b[1;32m/Users/nikolaushouben/Desktop/WattCast/bin/data_prep.ipynb Cell 19\u001b[0m line \u001b[0;36m1\n\u001b[0;32m----> <a href='vscode-notebook-cell:/Users/nikolaushouben/Desktop/WattCast/bin/data_prep.ipynb#X24sZmlsZQ%3D%3D?line=0'>1</a>\u001b[0m fig \u001b[39m=\u001b[39m plot_location_splits(clean_data_path,\u001b[39m3\u001b[39m,\u001b[39m1\u001b[39m)\n",
      "\u001b[0;31mNameError\u001b[0m: name 'plot_location_splits' is not defined"
     ]
    }
   ],
   "source": [
    "fig = plot_location_splits(clean_data_path,3,1)"
   ]
  },
  {
   "cell_type": "code",
   "execution_count": null,
   "metadata": {},
   "outputs": [],
   "source": [
    "\n"
   ]
  },
  {
   "cell_type": "code",
   "execution_count": null,
   "metadata": {},
   "outputs": [],
   "source": []
  }
 ],
 "metadata": {
  "kernelspec": {
   "display_name": "LearningBerkeley",
   "language": "python",
   "name": "python3"
  },
  "language_info": {
   "codemirror_mode": {
    "name": "ipython",
    "version": 3
   },
   "file_extension": ".py",
   "mimetype": "text/x-python",
   "name": "python",
   "nbconvert_exporter": "python",
   "pygments_lexer": "ipython3",
   "version": "3.11.3"
  },
  "orig_nbformat": 4,
  "vscode": {
   "interpreter": {
    "hash": "32bd490ff79fd304cef95a146bac43660f32d9e1d5f3555df986ea8b6053493f"
   }
  }
 },
 "nbformat": 4,
 "nbformat_minor": 2
}
