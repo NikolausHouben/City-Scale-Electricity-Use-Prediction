{
 "cells": [
  {
   "cell_type": "code",
   "execution_count": 1,
   "metadata": {},
   "outputs": [],
   "source": [
    "import os\n",
    "import json\n",
    "import wandb\n",
    "import pandas as pd\n",
    "import numpy as np\n",
    "import matplotlib.pyplot as plt\n",
    "import plotly.express as px\n",
    "import plotly.graph_objects as go\n",
    "import warnings\n",
    "warnings.filterwarnings('ignore')\n",
    "# Set seed\n",
    "np.random.seed(42)\n",
    "\n",
    "# set font to 12 and times new roman\n",
    "\n",
    "plt.rcParams.update({'font.size': 12})\n",
    "plt.rcParams[\"font.family\"] = \"Times New Roman\"\n"
   ]
  },
  {
   "cell_type": "code",
   "execution_count": 2,
   "metadata": {},
   "outputs": [
    {
     "name": "stdout",
     "output_type": "stream",
     "text": [
      "Current working directory: c:\\Users\\nik\\Desktop\\Berkeley_Projects\\WattCast\n"
     ]
    }
   ],
   "source": [
    "\n",
    "os.chdir(r\"..\") # should be the git repo root directory, checking below:\n",
    "print(\"Current working directory: \" + os.getcwd())\n",
    "assert os.getcwd()[-8:] == \"WattCast\""
   ]
  },
  {
   "cell_type": "code",
   "execution_count": 3,
   "metadata": {},
   "outputs": [
    {
     "name": "stderr",
     "output_type": "stream",
     "text": [
      "Failed to detect the name of this notebook, you can set it manually with the WANDB_NOTEBOOK_NAME environment variable to enable code saving.\n",
      "\u001b[34m\u001b[1mwandb\u001b[0m: Currently logged in as: \u001b[33mnikolaushouben\u001b[0m (\u001b[33mwattcast\u001b[0m). Use \u001b[1m`wandb login --relogin`\u001b[0m to force relogin\n"
     ]
    },
    {
     "data": {
      "text/plain": [
       "True"
      ]
     },
     "execution_count": 3,
     "metadata": {},
     "output_type": "execute_result"
    }
   ],
   "source": [
    "wandb.login()"
   ]
  },
  {
   "attachments": {},
   "cell_type": "markdown",
   "metadata": {},
   "source": [
    "## Data imports\n",
    "\n",
    "Grabbing all metrics from all runs"
   ]
  },
  {
   "cell_type": "code",
   "execution_count": 4,
   "metadata": {},
   "outputs": [
    {
     "data": {
      "application/vnd.jupyter.widget-view+json": {
       "model_id": "316ba97608a04eb689d67f305ce3d7fd",
       "version_major": 2,
       "version_minor": 0
      },
      "text/plain": [
       "VBox(children=(Label(value='Waiting for wandb.init()...\\r'), FloatProgress(value=0.016933333332417533, max=1.0…"
      ]
     },
     "metadata": {},
     "output_type": "display_data"
    },
    {
     "data": {
      "text/html": [
       "wandb version 0.15.4 is available!  To upgrade, please run:\n",
       " $ pip install wandb --upgrade"
      ],
      "text/plain": [
       "<IPython.core.display.HTML object>"
      ]
     },
     "metadata": {},
     "output_type": "display_data"
    },
    {
     "data": {
      "text/html": [
       "Tracking run with wandb version 0.14.0"
      ],
      "text/plain": [
       "<IPython.core.display.HTML object>"
      ]
     },
     "metadata": {},
     "output_type": "display_data"
    },
    {
     "data": {
      "text/html": [
       "Run data is saved locally in <code>c:\\Users\\nik\\Desktop\\Berkeley_Projects\\WattCast\\wandb\\run-20230620_145900-tsmpjrxa</code>"
      ],
      "text/plain": [
       "<IPython.core.display.HTML object>"
      ]
     },
     "metadata": {},
     "output_type": "display_data"
    },
    {
     "data": {
      "text/html": [
       "Syncing run <strong><a href='https://wandb.ai/wattcast/Wattcast_2.0/runs/tsmpjrxa' target=\"_blank\">results_synthesis</a></strong> to <a href='https://wandb.ai/wattcast/Wattcast_2.0' target=\"_blank\">Weights & Biases</a> (<a href='https://wandb.me/run' target=\"_blank\">docs</a>)<br/>"
      ],
      "text/plain": [
       "<IPython.core.display.HTML object>"
      ]
     },
     "metadata": {},
     "output_type": "display_data"
    },
    {
     "data": {
      "text/html": [
       " View project at <a href='https://wandb.ai/wattcast/Wattcast_2.0' target=\"_blank\">https://wandb.ai/wattcast/Wattcast_2.0</a>"
      ],
      "text/plain": [
       "<IPython.core.display.HTML object>"
      ]
     },
     "metadata": {},
     "output_type": "display_data"
    },
    {
     "data": {
      "text/html": [
       " View run at <a href='https://wandb.ai/wattcast/Wattcast_2.0/runs/tsmpjrxa' target=\"_blank\">https://wandb.ai/wattcast/Wattcast_2.0/runs/tsmpjrxa</a>"
      ],
      "text/plain": [
       "<IPython.core.display.HTML object>"
      ]
     },
     "metadata": {},
     "output_type": "display_data"
    }
   ],
   "source": [
    "run = wandb.init(project='WattCast_2.0', name='results_synthesis', resume=True)\n"
   ]
  },
  {
   "cell_type": "code",
   "execution_count": 5,
   "metadata": {},
   "outputs": [],
   "source": [
    "project_name = \"Wattcast_2.0\"\n",
    "\n",
    "# Initialize your project\n",
    "api = wandb.Api()\n",
    "runs = api.runs(project_name)\n",
    "\n",
    "\n",
    "name_id_dict = {}\n",
    "\n",
    "for run_ in runs:\n",
    "    l = run_.name.split('_')[:-1]\n",
    "    l.insert(2, 'in')\n",
    "    n = '_'.join(l)\n",
    "    # remove the _ around in\n",
    "    n = n.replace('_in_', 'in')\n",
    "    name_id_dict[n] = run_.id"
   ]
  },
  {
   "cell_type": "code",
   "execution_count": 6,
   "metadata": {},
   "outputs": [
    {
     "name": "stderr",
     "output_type": "stream",
     "text": [
      "\u001b[34m\u001b[1mwandb\u001b[0m:   1 of 1 files downloaded.  \n"
     ]
    }
   ],
   "source": [
    "\n",
    "key_list = list(name_id_dict.keys())\n",
    "for key in key_list:\n",
    "    if key[0] not in ['1', '2', '3', '4', '5']:\n",
    "        del name_id_dict[key]\n",
    "        \n",
    "dfs_sorted = {}\n",
    "for name, id in name_id_dict.items():\n",
    "\n",
    "    run_path = f'wattcast/WattCast/run-{id}-Errormetricsfor{name}:v0'\n",
    "    artifact = run.use_artifact(f'{run_path}', type='run_table')\n",
    "    artifact_dir = artifact.download()\n",
    "    with open(os.path.join(artifact_dir, os.listdir(artifact_dir)[0])) as f:\n",
    "        data = json.load(f)\n",
    "    df_metrics = pd.DataFrame(data['data'], columns=data['columns'])\n",
    "    df = df_metrics.sort_values(by=['model', 'season'])\n",
    "    dfs_sorted[name] = df\n"
   ]
  },
  {
   "attachments": {},
   "cell_type": "markdown",
   "metadata": {},
   "source": [
    "## Results Exploration (Interactive Plots)\n",
    "\n",
    "[![](https://raw.githubusercontent.com/wandb/assets/main/wandb-github-badge-gradient.svg)](https://wandb.ai/wattcast/WattCast)\n"
   ]
  },
  {
   "cell_type": "code",
   "execution_count": null,
   "metadata": {},
   "outputs": [],
   "source": [
    "\n",
    "\n",
    "for name, df in dfs_sorted.items():\n",
    "\n",
    "    # Define colors and shapes based on the season and model\n",
    "    season2color = {'Summer': 'orange', 'Winter': 'blue'}\n",
    "    color2season = {v: k for k, v in season2color.items()}\n",
    "    model2shape = {\n",
    "        'RandomForest': 'circle',\n",
    "        'LightGBMModel': 'square',\n",
    "        'XGBModel': 'diamond',\n",
    "        'BlockRNNModel': 'cross',\n",
    "        'NBEATSModel': 'triangle-up',\n",
    "        'LinearRegressionModel': 'star'\n",
    "    }\n",
    "    shape2model = {v: k for k, v in model2shape.items()}\n",
    "\n",
    "\n",
    "\n",
    "\n",
    "    # Map the colors and shapes to the DataFrame\n",
    "    df['color'] = df['season'].map(season2color)\n",
    "    df['shape'] = df['model'].map(model2shape)\n",
    "\n",
    "    # Create the scatter plot\n",
    "    fig = px.scatter(\n",
    "        df,\n",
    "        x='horizon_in_hours',\n",
    "        y='rmse_skill_score',\n",
    "        color='color',\n",
    "        symbol='shape',\n",
    "        #symbol_sequence= list(model2shape.values()),\n",
    "        hover_data=['model'],\n",
    "        title=f'RMSE Skill Score Compared to 24-Persistence over Forecast Horizon - {name}',\n",
    "        labels={'rmse_skill_score': 'RMSE Skill Score', 'horizon_in_hours': 'Forecast Horizon (hours)'}\n",
    "\n",
    "            \n",
    "    )\n",
    "\n",
    "    # set the x ticks and rename the legend\n",
    "    fig.update_layout(\n",
    "        xaxis=dict(\n",
    "            tickmode='array',\n",
    "            tickvals=[1, 4, 8, 24, 48],\n",
    "        ),\n",
    "        legend_title_text='Model',\n",
    "    )\n",
    "\n",
    "    for i in range(len(fig.data)):\n",
    "        current_name = fig.data[i]['name']\n",
    "        color, shape = current_name.split(', ')\n",
    "        fig.data[i]['name'] = f'{shape2model[shape]} ({color2season[color]})'\n",
    "        fig.data[i]['legendgroup'] = f'{shape2model[shape]}'\n",
    "\n",
    "    # Update the figure size\n",
    "    fig.update_layout(width=900, height=600)\n",
    "    \n",
    "    #fig.show()\n"
   ]
  },
  {
   "attachments": {},
   "cell_type": "markdown",
   "metadata": {},
   "source": [
    "## Paper Figures & Tables"
   ]
  },
  {
   "attachments": {},
   "cell_type": "markdown",
   "metadata": {},
   "source": [
    "### Plot 1: Skill Score vs Horizon for each model and season"
   ]
  },
  {
   "cell_type": "code",
   "execution_count": null,
   "metadata": {},
   "outputs": [],
   "source": [
    "\n",
    "spatial_scale = 'county'\n",
    "\n",
    "metric_of_interest = 'rmse_skill_score'\n",
    "\n",
    "metric_dict = {'mape': 'Mean Absolute Percentage Error (MAPE)',\n",
    "               'rmse': 'Root Mean Squared Error (RMSE)',\n",
    "                'mae': 'Mean Absolute Error (MAE)',\n",
    "                'smape': 'Symmetric Mean Absolute Percentage Error (SMAPE)',\n",
    "                'rmse_skill_score': 'RMSE Skill Score',\n",
    "                'r2_score': 'R2 Score',\n",
    "                }\n",
    "\n",
    "\n",
    "dfs_sorted_plot = dfs_sorted.copy()\n",
    "keys = list(dfs_sorted_plot.keys())\n",
    "for key in keys:\n",
    "    if not spatial_scale in key:\n",
    "        del dfs_sorted_plot[key]\n",
    "\n",
    "\n",
    "# Define colors and shapes based on the season and model\n",
    "season2color = {'Summer': 'orange', 'Winter': 'blue'}\n",
    "color2season = {v: k for k, v in season2color.items()}\n",
    "model2shape = {\n",
    "    'RandomForest': 'o',\n",
    "    'LightGBMModel': 's',\n",
    "    'XGBModel': 'D',\n",
    "    'BlockRNNModel': 'x',\n",
    "    'NBEATSModel': '^',\n",
    "    'LinearRegressionModel': '*'\n",
    "}\n",
    "shape2model = {v: k for k, v in model2shape.items()}\n",
    "\n",
    "fig, axs = plt.subplots(1, len(dfs_sorted_plot), figsize=(5*(len(dfs_sorted_plot)),5), sharex=True, sharey=True)\n",
    "axs = axs.ravel()\n",
    "\n",
    "# Create a list to store the handles and labels for the legend\n",
    "legend_handles = []\n",
    "legend_labels = []\n",
    "\n",
    "for i, ax in enumerate(axs):\n",
    "    # Map the colors and shapes to the DataFrame\n",
    "    name, df = list(dfs_sorted_plot.items())[i]\n",
    "    df['color'] = df['season'].map(season2color)\n",
    "    df['shape'] = df['model'].map(model2shape)\n",
    "\n",
    "    for shape in set(df['shape']):\n",
    "        for color in set(df.loc[df['shape'] == shape, 'color']):\n",
    "            x = df.loc[(df['shape'] == shape) & (df['color'] == color), 'horizon_in_hours']\n",
    "            y = df.loc[(df['shape'] == shape) & (df['color'] == color), metric_of_interest]\n",
    "            label = f'{shape2model[shape]} ({color2season[color]})'\n",
    "            scatter = ax.scatter(x, y, c=color, marker=shape, label=label)\n",
    "            if label not in legend_labels:\n",
    "                legend_handles.append(scatter)\n",
    "                legend_labels.append(label)\n",
    "\n",
    "    # Set the x ticks and labels\n",
    "    ax.set_xticks([1, 4, 8, 24, 48])\n",
    "    ax.set_xlabel('Forecast Horizon (hours)')\n",
    "\n",
    "    # Set the y label\n",
    "    if i == 0:\n",
    "        ax.set_ylabel(f'{metric_dict[metric_of_interest]}')\n",
    "\n",
    "    # Set the title for each subplot\n",
    "    ax.set_title(f'{name.split(\"in\")[-1].replace(\"_\", \" \")}')\n",
    "\n",
    "    # Add grid for each subplot\n",
    "    ax.grid(True)\n",
    "\n",
    "    # Add a horizontal red dashed line at y = 0\n",
    "    if metric_of_interest == 'rmse_skill_score':\n",
    "        ax.axhline(y=0, color='red', linestyle='--')\n",
    "\n",
    "# Create a single legend for all subplots\n",
    "fig.legend(handles=legend_handles, labels=legend_labels, title='Model', loc='lower center', bbox_to_anchor=(0.5, -0.25), ncol=3)\n",
    "\n",
    "# Adjust the spacing between subplots\n",
    "fig.tight_layout()\n",
    "\n",
    "# Show the plot\n",
    "plt.show()\n"
   ]
  },
  {
   "cell_type": "code",
   "execution_count": null,
   "metadata": {},
   "outputs": [],
   "source": [
    "for format in ['png', 'pdf']:\n",
    "    fig.savefig(os.path.join(os.getcwd(),'imgs','figures',f'{spatial_scale}{metric_of_interest}.{format}'), bbox_inches='tight')"
   ]
  },
  {
   "attachments": {},
   "cell_type": "markdown",
   "metadata": {},
   "source": [
    "### Plot 2: Side by side comparison of models for each season for a selected week"
   ]
  },
  {
   "cell_type": "code",
   "execution_count": 7,
   "metadata": {},
   "outputs": [
    {
     "data": {
      "text/plain": [
       "{'2_townintown_2': '2_town_town_2_60min'}"
      ]
     },
     "execution_count": 7,
     "metadata": {},
     "output_type": "execute_result"
    }
   ],
   "source": [
    "name_id_dict"
   ]
  },
  {
   "cell_type": "code",
   "execution_count": 8,
   "metadata": {},
   "outputs": [],
   "source": [
    "units_dict = {'county': 'GW', 'town': 'MW', 'village': 'kW', 'neighborhood': 'kW'}\n",
    "\n",
    "run_to_visualize = '2_townintown_2'\n",
    "season = 'Summer'\n",
    "algorithm = 'Light'\n",
    "\n",
    "\n",
    "scale = run_to_visualize.split('_')[1].split('in')[0]\n",
    "\n",
    "unit = units_dict[scale]"
   ]
  },
  {
   "cell_type": "code",
   "execution_count": 9,
   "metadata": {},
   "outputs": [],
   "source": [
    "run = api.run(f\"wattcast/Wattcast_2.0/{name_id_dict[run_to_visualize]}\")\n",
    "files = []\n",
    "for file in run.files():\n",
    "    if 'Side' in str(file) and season in str(file):\n",
    "        files.append(file)"
   ]
  },
  {
   "cell_type": "code",
   "execution_count": 10,
   "metadata": {},
   "outputs": [],
   "source": [
    "side_by_side_plots_dict = {}\n",
    "for file in files:\n",
    "    plot = file.download(replace=True)\n",
    "    data = json.load(plot)\n",
    "    plot_name = data['layout']['title']['text']\n",
    "    side_by_side_plots_dict[plot_name] = data"
   ]
  },
  {
   "cell_type": "code",
   "execution_count": 11,
   "metadata": {},
   "outputs": [],
   "source": [
    "\n",
    "def make_df_from_plot(plot):\n",
    "    data = plot['data']\n",
    "    df = pd.DataFrame()\n",
    "    for i in range(len(data)):\n",
    "        subdata = data[i]\n",
    "        try:\n",
    "            del subdata['line']\n",
    "        except:\n",
    "            pass\n",
    "        df_line = pd.DataFrame(subdata)\n",
    "        df_line.set_index('x', inplace=True)\n",
    "        df_line.index.name = 'Datetime'\n",
    "        col_name = data[i]['name']\n",
    "        df_line = df_line.rename(columns={'y': col_name})\n",
    "        df_line = df_line[[col_name]]\n",
    "        df = pd.concat([df, df_line], axis=1)\n",
    "    return df\n",
    "\n",
    "\n",
    "df_all = pd.DataFrame()\n",
    "for name, plot in side_by_side_plots_dict.items():\n",
    "    df = make_df_from_plot(plot)\n",
    "    df.columns = [col + ' ' + name for col in df.columns]\n",
    "    df_all = pd.concat([df_all, df], axis=1)\n"
   ]
  },
  {
   "cell_type": "code",
   "execution_count": 12,
   "metadata": {},
   "outputs": [
    {
     "ename": "ValueError",
     "evalue": "Length mismatch: Expected axis has 0 elements, new values have 1 elements",
     "output_type": "error",
     "traceback": [
      "\u001b[1;31m---------------------------------------------------------------------------\u001b[0m",
      "\u001b[1;31mValueError\u001b[0m                                Traceback (most recent call last)",
      "Cell \u001b[1;32mIn[12], line 2\u001b[0m\n\u001b[0;32m      1\u001b[0m df_gt \u001b[39m=\u001b[39m df_all\u001b[39m.\u001b[39mfilter(like\u001b[39m=\u001b[39m\u001b[39m'\u001b[39m\u001b[39mGround\u001b[39m\u001b[39m'\u001b[39m)\u001b[39m.\u001b[39miloc[:,:\u001b[39m1\u001b[39m]\n\u001b[1;32m----> 2\u001b[0m df_gt\u001b[39m.\u001b[39;49mcolumns \u001b[39m=\u001b[39m [\u001b[39m'\u001b[39m\u001b[39mGround Truth\u001b[39m\u001b[39m'\u001b[39m]\n\u001b[0;32m      5\u001b[0m \u001b[39m# find the day with the highest peak\u001b[39;00m\n\u001b[0;32m      6\u001b[0m dt_highest_peak \u001b[39m=\u001b[39m pd\u001b[39m.\u001b[39mTimestamp(df_gt[\u001b[39m'\u001b[39m\u001b[39mGround Truth\u001b[39m\u001b[39m'\u001b[39m]\u001b[39m.\u001b[39midxmax())\u001b[39m.\u001b[39mdate()\n",
      "File \u001b[1;32mc:\\Users\\nik\\miniconda3\\envs\\gpu2\\lib\\site-packages\\pandas\\core\\generic.py:5915\u001b[0m, in \u001b[0;36mNDFrame.__setattr__\u001b[1;34m(self, name, value)\u001b[0m\n\u001b[0;32m   5913\u001b[0m \u001b[39mtry\u001b[39;00m:\n\u001b[0;32m   5914\u001b[0m     \u001b[39mobject\u001b[39m\u001b[39m.\u001b[39m\u001b[39m__getattribute__\u001b[39m(\u001b[39mself\u001b[39m, name)\n\u001b[1;32m-> 5915\u001b[0m     \u001b[39mreturn\u001b[39;00m \u001b[39mobject\u001b[39;49m\u001b[39m.\u001b[39;49m\u001b[39m__setattr__\u001b[39;49m(\u001b[39mself\u001b[39;49m, name, value)\n\u001b[0;32m   5916\u001b[0m \u001b[39mexcept\u001b[39;00m \u001b[39mAttributeError\u001b[39;00m:\n\u001b[0;32m   5917\u001b[0m     \u001b[39mpass\u001b[39;00m\n",
      "File \u001b[1;32mc:\\Users\\nik\\miniconda3\\envs\\gpu2\\lib\\site-packages\\pandas\\_libs\\properties.pyx:69\u001b[0m, in \u001b[0;36mpandas._libs.properties.AxisProperty.__set__\u001b[1;34m()\u001b[0m\n",
      "File \u001b[1;32mc:\\Users\\nik\\miniconda3\\envs\\gpu2\\lib\\site-packages\\pandas\\core\\generic.py:823\u001b[0m, in \u001b[0;36mNDFrame._set_axis\u001b[1;34m(self, axis, labels)\u001b[0m\n\u001b[0;32m    821\u001b[0m \u001b[39mdef\u001b[39;00m \u001b[39m_set_axis\u001b[39m(\u001b[39mself\u001b[39m, axis: \u001b[39mint\u001b[39m, labels: AnyArrayLike \u001b[39m|\u001b[39m \u001b[39mlist\u001b[39m) \u001b[39m-\u001b[39m\u001b[39m>\u001b[39m \u001b[39mNone\u001b[39;00m:\n\u001b[0;32m    822\u001b[0m     labels \u001b[39m=\u001b[39m ensure_index(labels)\n\u001b[1;32m--> 823\u001b[0m     \u001b[39mself\u001b[39;49m\u001b[39m.\u001b[39;49m_mgr\u001b[39m.\u001b[39;49mset_axis(axis, labels)\n\u001b[0;32m    824\u001b[0m     \u001b[39mself\u001b[39m\u001b[39m.\u001b[39m_clear_item_cache()\n",
      "File \u001b[1;32mc:\\Users\\nik\\miniconda3\\envs\\gpu2\\lib\\site-packages\\pandas\\core\\internals\\managers.py:230\u001b[0m, in \u001b[0;36mBaseBlockManager.set_axis\u001b[1;34m(self, axis, new_labels)\u001b[0m\n\u001b[0;32m    228\u001b[0m \u001b[39mdef\u001b[39;00m \u001b[39mset_axis\u001b[39m(\u001b[39mself\u001b[39m, axis: \u001b[39mint\u001b[39m, new_labels: Index) \u001b[39m-\u001b[39m\u001b[39m>\u001b[39m \u001b[39mNone\u001b[39;00m:\n\u001b[0;32m    229\u001b[0m     \u001b[39m# Caller is responsible for ensuring we have an Index object.\u001b[39;00m\n\u001b[1;32m--> 230\u001b[0m     \u001b[39mself\u001b[39;49m\u001b[39m.\u001b[39;49m_validate_set_axis(axis, new_labels)\n\u001b[0;32m    231\u001b[0m     \u001b[39mself\u001b[39m\u001b[39m.\u001b[39maxes[axis] \u001b[39m=\u001b[39m new_labels\n",
      "File \u001b[1;32mc:\\Users\\nik\\miniconda3\\envs\\gpu2\\lib\\site-packages\\pandas\\core\\internals\\base.py:70\u001b[0m, in \u001b[0;36mDataManager._validate_set_axis\u001b[1;34m(self, axis, new_labels)\u001b[0m\n\u001b[0;32m     67\u001b[0m     \u001b[39mpass\u001b[39;00m\n\u001b[0;32m     69\u001b[0m \u001b[39melif\u001b[39;00m new_len \u001b[39m!=\u001b[39m old_len:\n\u001b[1;32m---> 70\u001b[0m     \u001b[39mraise\u001b[39;00m \u001b[39mValueError\u001b[39;00m(\n\u001b[0;32m     71\u001b[0m         \u001b[39mf\u001b[39m\u001b[39m\"\u001b[39m\u001b[39mLength mismatch: Expected axis has \u001b[39m\u001b[39m{\u001b[39;00mold_len\u001b[39m}\u001b[39;00m\u001b[39m elements, new \u001b[39m\u001b[39m\"\u001b[39m\n\u001b[0;32m     72\u001b[0m         \u001b[39mf\u001b[39m\u001b[39m\"\u001b[39m\u001b[39mvalues have \u001b[39m\u001b[39m{\u001b[39;00mnew_len\u001b[39m}\u001b[39;00m\u001b[39m elements\u001b[39m\u001b[39m\"\u001b[39m\n\u001b[0;32m     73\u001b[0m     )\n",
      "\u001b[1;31mValueError\u001b[0m: Length mismatch: Expected axis has 0 elements, new values have 1 elements"
     ]
    }
   ],
   "source": [
    "df_gt = df_all.filter(like='Ground').iloc[:,:1]\n",
    "df_gt.columns = ['Ground Truth']\n",
    "\n",
    "\n",
    "# find the day with the highest peak\n",
    "dt_highest_peak = pd.Timestamp(df_gt['Ground Truth'].idxmax()).date()\n",
    "dt_start = dt_highest_peak - pd.Timedelta(days=2)\n",
    "dt_end = dt_highest_peak + pd.Timedelta(days=2)\n"
   ]
  },
  {
   "cell_type": "code",
   "execution_count": null,
   "metadata": {},
   "outputs": [],
   "source": [
    "\n",
    "df_predictions = df_all.filter(like=algorithm)\n",
    "\n",
    "df_predictions.columns = [col.split(': ')[1] + ' Ahead' for col in df_predictions.columns]\n",
    "df_predictions.rename(columns={'1 Hours Ahead': '1 Hour Ahead'}, inplace=True)\n",
    "df_predictions = df_predictions[['1 Hour Ahead', '4 Hours Ahead', '8 Hours Ahead', '24 Hours Ahead', '48 Hours Ahead']]"
   ]
  },
  {
   "cell_type": "code",
   "execution_count": null,
   "metadata": {},
   "outputs": [],
   "source": [
    "df_plot = pd.concat([df_predictions, df_gt], axis=1)\n",
    "df_plot.index = pd.to_datetime(df_plot.index)\n",
    "df_plot = df_plot.loc[dt_start:dt_end]\n"
   ]
  },
  {
   "cell_type": "code",
   "execution_count": null,
   "metadata": {},
   "outputs": [],
   "source": [
    "color_dict = {'Ground Truth': 'black',\n",
    "                '1 Hour Ahead': 'blue',\n",
    "                '4 Hours Ahead': 'green',\n",
    "                '8 Hours Ahead': 'orange',\n",
    "                '24 Hours Ahead': 'red',\n",
    "                '48 Hours Ahead': 'purple'}\n",
    "\n",
    "\n",
    "\n",
    "fig, ax = plt.subplots(figsize=(12,5))\n",
    "\n",
    "for col in df_plot.columns:\n",
    "    ax.plot(df_plot[col], label=col, color=color_dict[col], linestyle= 'solid' if col == 'Ground Truth' else ':')\n",
    "\n",
    "ax.set_ylabel(f'Electricity Load ({unit})')\n",
    "ax.set_title(f'Ground Truth and {algorithm} Predictions for {scale} dataset')\n",
    "\n",
    "ax.grid(True, axis='x')\n",
    "ax.legend()\n"
   ]
  },
  {
   "attachments": {},
   "cell_type": "markdown",
   "metadata": {},
   "source": [
    "### Plot 3: Comparing Spatial Scales"
   ]
  },
  {
   "cell_type": "code",
   "execution_count": null,
   "metadata": {},
   "outputs": [],
   "source": [
    "df_metrics_all_scales = pd.DataFrame()\n",
    "\n",
    "for scale, df in dfs_sorted.items():\n",
    "    scale = scale.split('in')[0]\n",
    "    df['scale'] = scale\n",
    "    df_metrics_all_scales = df_metrics_all_scales.append(df)\n",
    "\n",
    "# marginalize over the season\n",
    "df_metrics_grouped = df_metrics_all_scales.groupby(['scale', 'model', 'horizon_in_hours']).mean()[[metric_of_interest]].reset_index()\n",
    "\n",
    "# extract the model with the best performance for each scale and horizon\n",
    "df_metrics_grouped = df_metrics_grouped.sort_values(by=['scale', metric_of_interest], ascending=False)\n",
    "df_metrics_grouped = df_metrics_grouped.drop_duplicates(subset=['scale', 'horizon_in_hours'], keep='first')\n",
    "df_metrics_grouped = df_metrics_grouped.sort_values(by=['scale', 'horizon_in_hours'])\n",
    "df_metrics_grouped = df_metrics_grouped.reset_index(drop=True)\n",
    "\n",
    "\n",
    "# Define colors and shapes based on the season and model\n",
    "df = df_metrics_grouped\n",
    "model2shape = {\n",
    "    'RandomForest': 'o',\n",
    "    'LightGBMModel': 's',\n",
    "    'XGBModel': 'D',\n",
    "    'BlockRNNModel': 'x',\n",
    "    'NBEATSModel': '^',\n",
    "    'LinearRegressionModel': '*'\n",
    "}\n",
    "shape2model = {v: k for k, v in model2shape.items()}\n",
    "\n",
    "fig, ax = plt.subplots()\n",
    "\n",
    "# Create a list to store the handles and labels for the legend\n",
    "legend_handles = []\n",
    "legend_labels = []\n",
    "\n",
    "\n",
    "# Map the colors and shapes to the DataFrame\n",
    "df['shape'] = df['model'].map(model2shape)\n",
    "\n",
    "for shape in set(df['shape']):\n",
    "    x = df.loc[(df['shape'] == shape), 'horizon_in_hours']\n",
    "    y = df.loc[(df['shape'] == shape), 'scale']\n",
    "    label = f'{shape2model[shape]}'\n",
    "    scatter = ax.scatter(x, y, marker=shape, label=label)\n",
    "    if label not in legend_labels:\n",
    "        legend_handles.append(scatter)\n",
    "        legend_labels.append(label)\n",
    "\n",
    "# Set the x ticks and labels\n",
    "ax.set_xticks([1, 4, 8, 24, 48])\n",
    "ax.set_xlabel('Forecast Horizon (hours)')\n",
    "\n",
    "# Set the y label\n",
    "if i == 0:\n",
    "    ax.set_ylabel(f'{metric_dict[metric_of_interest]}')\n",
    "\n",
    "# Set the title for each subplot\n",
    "ax.set_title(f'Best Model by {metric_dict[metric_of_interest]}')\n",
    "\n",
    "# Create a single legend for all subplots\n",
    "fig.legend(handles=legend_handles, labels=legend_labels, title='Model', loc='lower center', bbox_to_anchor=(0.6, -0.25), ncol=2)\n",
    "\n",
    "# Adjust the spacing between subplots\n",
    "fig.tight_layout()\n",
    "\n",
    "# Show the plot\n",
    "plt.show()"
   ]
  },
  {
   "cell_type": "code",
   "execution_count": null,
   "metadata": {},
   "outputs": [],
   "source": [
    "for format in ['png', 'pdf']:\n",
    "    fig.savefig(os.path.join(os.getcwd(),'imgs','figures',f'across_scalees_{metric_of_interest}.{format}'), bbox_inches='tight')"
   ]
  },
  {
   "cell_type": "code",
   "execution_count": null,
   "metadata": {},
   "outputs": [],
   "source": []
  }
 ],
 "metadata": {
  "kernelspec": {
   "display_name": "gpu2",
   "language": "python",
   "name": "python3"
  },
  "language_info": {
   "codemirror_mode": {
    "name": "ipython",
    "version": 3
   },
   "file_extension": ".py",
   "mimetype": "text/x-python",
   "name": "python",
   "nbconvert_exporter": "python",
   "pygments_lexer": "ipython3",
   "version": "3.10.9"
  },
  "orig_nbformat": 4
 },
 "nbformat": 4,
 "nbformat_minor": 2
}
