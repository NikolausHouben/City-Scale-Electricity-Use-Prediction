{
 "cells": [
  {
   "cell_type": "code",
   "execution_count": 13,
   "metadata": {},
   "outputs": [],
   "source": [
    "import os\n",
    "import json\n",
    "import wandb\n",
    "import pandas as pd\n",
    "import numpy as np\n",
    "import matplotlib.pyplot as plt\n",
    "import plotly.express as px\n",
    "import plotly.graph_objects as go\n",
    "import warnings\n",
    "warnings.filterwarnings('ignore')\n",
    "# Set seed\n",
    "np.random.seed(42)\n",
    "\n",
    "\n",
    "# set font to 12 and times new roman\n",
    "\n",
    "plt.rcParams.update({'font.size': 12})\n",
    "plt.rcParams[\"font.family\"] = \"Times New Roman\"\n"
   ]
  },
  {
   "cell_type": "code",
   "execution_count": 38,
   "metadata": {},
   "outputs": [
    {
     "name": "stdout",
     "output_type": "stream",
     "text": [
      "Current working directory: c:\\Users\\nik\\Desktop\\Berkeley_Projects\\WattCast\n"
     ]
    }
   ],
   "source": [
    "\n",
    "os.chdir(r\"..\") # should be the git repo root directory, checking below:\n",
    "print(\"Current working directory: \" + os.getcwd())\n",
    "assert os.getcwd()[-8:] == \"WattCast\""
   ]
  },
  {
   "cell_type": "code",
   "execution_count": 2,
   "metadata": {},
   "outputs": [
    {
     "name": "stderr",
     "output_type": "stream",
     "text": [
      "Failed to detect the name of this notebook, you can set it manually with the WANDB_NOTEBOOK_NAME environment variable to enable code saving.\n",
      "\u001b[34m\u001b[1mwandb\u001b[0m: Currently logged in as: \u001b[33mnikolaushouben\u001b[0m (\u001b[33mwattcast\u001b[0m). Use \u001b[1m`wandb login --relogin`\u001b[0m to force relogin\n"
     ]
    },
    {
     "data": {
      "text/plain": [
       "True"
      ]
     },
     "execution_count": 2,
     "metadata": {},
     "output_type": "execute_result"
    }
   ],
   "source": [
    "wandb.login()"
   ]
  },
  {
   "attachments": {},
   "cell_type": "markdown",
   "metadata": {},
   "source": [
    "## Data imports\n",
    "\n",
    "Grabbing all metrics from all runs"
   ]
  },
  {
   "cell_type": "code",
   "execution_count": 58,
   "metadata": {},
   "outputs": [
    {
     "data": {
      "text/html": [
       "Finishing last run (ID:u9u34hf7) before initializing another..."
      ],
      "text/plain": [
       "<IPython.core.display.HTML object>"
      ]
     },
     "metadata": {},
     "output_type": "display_data"
    },
    {
     "data": {
      "text/html": [
       "Waiting for W&B process to finish... <strong style=\"color:green\">(success).</strong>"
      ],
      "text/plain": [
       "<IPython.core.display.HTML object>"
      ]
     },
     "metadata": {},
     "output_type": "display_data"
    },
    {
     "data": {
      "text/html": [
       " View run <strong style=\"color:#cdcd00\">results_synthesis</strong> at: <a href='https://wandb.ai/wattcast/WattCast/runs/u9u34hf7' target=\"_blank\">https://wandb.ai/wattcast/WattCast/runs/u9u34hf7</a><br/>Synced 6 W&B file(s), 0 media file(s), 0 artifact file(s) and 0 other file(s)"
      ],
      "text/plain": [
       "<IPython.core.display.HTML object>"
      ]
     },
     "metadata": {},
     "output_type": "display_data"
    },
    {
     "data": {
      "text/html": [
       "Find logs at: <code>.\\notebooks\\wandb\\run-20230607_144815-u9u34hf7\\logs</code>"
      ],
      "text/plain": [
       "<IPython.core.display.HTML object>"
      ]
     },
     "metadata": {},
     "output_type": "display_data"
    },
    {
     "data": {
      "text/html": [
       "Successfully finished last run (ID:u9u34hf7). Initializing new run:<br/>"
      ],
      "text/plain": [
       "<IPython.core.display.HTML object>"
      ]
     },
     "metadata": {},
     "output_type": "display_data"
    },
    {
     "data": {
      "application/vnd.jupyter.widget-view+json": {
       "model_id": "b858941fadbb4d4b8d262e1f396cfe08",
       "version_major": 2,
       "version_minor": 0
      },
      "text/plain": [
       "VBox(children=(Label(value='Waiting for wandb.init()...\\r'), FloatProgress(value=0.016666666666666666, max=1.0…"
      ]
     },
     "metadata": {},
     "output_type": "display_data"
    },
    {
     "data": {
      "text/html": [
       "wandb version 0.15.4 is available!  To upgrade, please run:\n",
       " $ pip install wandb --upgrade"
      ],
      "text/plain": [
       "<IPython.core.display.HTML object>"
      ]
     },
     "metadata": {},
     "output_type": "display_data"
    },
    {
     "data": {
      "text/html": [
       "Tracking run with wandb version 0.14.0"
      ],
      "text/plain": [
       "<IPython.core.display.HTML object>"
      ]
     },
     "metadata": {},
     "output_type": "display_data"
    },
    {
     "data": {
      "text/html": [
       "Run data is saved locally in <code>c:\\Users\\nik\\Desktop\\Berkeley_Projects\\WattCast\\notebooks\\wandb\\run-20230607_181424-ty7ke4o7</code>"
      ],
      "text/plain": [
       "<IPython.core.display.HTML object>"
      ]
     },
     "metadata": {},
     "output_type": "display_data"
    },
    {
     "data": {
      "text/html": [
       "Syncing run <strong><a href='https://wandb.ai/wattcast/WattCast/runs/ty7ke4o7' target=\"_blank\">results_synthesis</a></strong> to <a href='https://wandb.ai/wattcast/WattCast' target=\"_blank\">Weights & Biases</a> (<a href='https://wandb.me/run' target=\"_blank\">docs</a>)<br/>"
      ],
      "text/plain": [
       "<IPython.core.display.HTML object>"
      ]
     },
     "metadata": {},
     "output_type": "display_data"
    },
    {
     "data": {
      "text/html": [
       " View project at <a href='https://wandb.ai/wattcast/WattCast' target=\"_blank\">https://wandb.ai/wattcast/WattCast</a>"
      ],
      "text/plain": [
       "<IPython.core.display.HTML object>"
      ]
     },
     "metadata": {},
     "output_type": "display_data"
    },
    {
     "data": {
      "text/html": [
       " View run at <a href='https://wandb.ai/wattcast/WattCast/runs/ty7ke4o7' target=\"_blank\">https://wandb.ai/wattcast/WattCast/runs/ty7ke4o7</a>"
      ],
      "text/plain": [
       "<IPython.core.display.HTML object>"
      ]
     },
     "metadata": {},
     "output_type": "display_data"
    }
   ],
   "source": [
    "run = wandb.init(project='WattCast', name='results_synthesis')\n"
   ]
  },
  {
   "cell_type": "code",
   "execution_count": 64,
   "metadata": {},
   "outputs": [
    {
     "name": "stderr",
     "output_type": "stream",
     "text": [
      "\u001b[34m\u001b[1mwandb\u001b[0m:   1 of 1 files downloaded.  \n",
      "\u001b[34m\u001b[1mwandb\u001b[0m:   1 of 1 files downloaded.  \n",
      "\u001b[34m\u001b[1mwandb\u001b[0m:   1 of 1 files downloaded.  \n",
      "\u001b[34m\u001b[1mwandb\u001b[0m:   1 of 1 files downloaded.  \n",
      "\u001b[34m\u001b[1mwandb\u001b[0m:   1 of 1 files downloaded.  \n",
      "\u001b[34m\u001b[1mwandb\u001b[0m:   1 of 1 files downloaded.  \n"
     ]
    }
   ],
   "source": [
    "project_name = \"WattCast\"\n",
    "\n",
    "# Initialize your project\n",
    "api = wandb.Api()\n",
    "runs = api.runs(project_name)\n",
    "\n",
    "name_id_dict = {}\n",
    "\n",
    "for run_ in runs:\n",
    "    l = run_.name.split('_')[:-1]\n",
    "    l.insert(2, 'in')\n",
    "    n = '_'.join(l)\n",
    "    # remove the _ around in\n",
    "    n = n.replace('_in_', 'in')\n",
    "    name_id_dict[n] = run_.id\n",
    "\n",
    "key_list = list(name_id_dict.keys())\n",
    "for key in key_list:\n",
    "    if key[0] not in ['1', '2', '3', '4', '5']:\n",
    "        del name_id_dict[key]\n",
    "        \n",
    "dfs_sorted = {}\n",
    "for name, id in name_id_dict.items():\n",
    "\n",
    "    run_path = f'wattcast/WattCast/run-{id}-Errormetricsfor{name}:v0'\n",
    "    artifact = run.use_artifact(f'{run_path}', type='run_table')\n",
    "    artifact_dir = artifact.download()\n",
    "    with open(os.path.join(artifact_dir, os.listdir(artifact_dir)[0])) as f:\n",
    "        data = json.load(f)\n",
    "    df_metrics = pd.DataFrame(data['data'], columns=data['columns'])\n",
    "    df = df_metrics.sort_values(by=['model', 'season'])\n",
    "    dfs_sorted[name] = df\n"
   ]
  },
  {
   "cell_type": "code",
   "execution_count": 65,
   "metadata": {},
   "outputs": [
    {
     "data": {
      "text/plain": [
       "dict_keys(['1_countyinSacramento', '1_countyinNew_York', '4_neighborhoodingermany', '3_villageinvillage_0', '2_townintown_0', '1_countyinLos_Angeles'])"
      ]
     },
     "execution_count": 65,
     "metadata": {},
     "output_type": "execute_result"
    }
   ],
   "source": [
    "dfs_sorted.keys()"
   ]
  },
  {
   "attachments": {},
   "cell_type": "markdown",
   "metadata": {},
   "source": [
    "## Results Exploration (Interactive Plots)\n",
    "\n",
    "[![](https://raw.githubusercontent.com/wandb/assets/main/wandb-github-badge-gradient.svg)](https://wandb.ai/wattcast/WattCast)\n"
   ]
  },
  {
   "cell_type": "code",
   "execution_count": 25,
   "metadata": {},
   "outputs": [
    {
     "data": {
      "application/vnd.plotly.v1+json": {
       "config": {
        "plotlyServerURL": "https://plot.ly"
       },
       "data": [
        {
         "customdata": [
          [
           "BlockRNNModel"
          ],
          [
           "BlockRNNModel"
          ],
          [
           "BlockRNNModel"
          ],
          [
           "BlockRNNModel"
          ],
          [
           "BlockRNNModel"
          ]
         ],
         "hovertemplate": "color=orange<br>shape=cross<br>Forecast Horizon (hours)=%{x}<br>RMSE Skill Score=%{y}<br>model=%{customdata[0]}<extra></extra>",
         "legendgroup": "BlockRNNModel",
         "marker": {
          "color": "#636efa",
          "symbol": "circle"
         },
         "mode": "markers",
         "name": "BlockRNNModel (Summer)",
         "orientation": "v",
         "showlegend": true,
         "type": "scatter",
         "x": [
          1,
          4,
          8,
          24,
          48
         ],
         "xaxis": "x",
         "y": [
          0.8301063667826352,
          0.6537894027384633,
          0.4676876087880273,
          0.040449893383148305,
          0.017829742638589274
         ],
         "yaxis": "y"
        },
        {
         "customdata": [
          [
           "LightGBMModel"
          ],
          [
           "LightGBMModel"
          ],
          [
           "LightGBMModel"
          ],
          [
           "LightGBMModel"
          ],
          [
           "LightGBMModel"
          ]
         ],
         "hovertemplate": "color=orange<br>shape=square<br>Forecast Horizon (hours)=%{x}<br>RMSE Skill Score=%{y}<br>model=%{customdata[0]}<extra></extra>",
         "legendgroup": "LightGBMModel",
         "marker": {
          "color": "#636efa",
          "symbol": "diamond"
         },
         "mode": "markers",
         "name": "LightGBMModel (Summer)",
         "orientation": "v",
         "showlegend": true,
         "type": "scatter",
         "x": [
          1,
          4,
          8,
          24,
          48
         ],
         "xaxis": "x",
         "y": [
          0.8276719257438945,
          0.5855148252737706,
          0.4084031146811131,
          -0.008872356975676121,
          0.04095670460006473
         ],
         "yaxis": "y"
        },
        {
         "customdata": [
          [
           "LinearRegressionModel"
          ],
          [
           "LinearRegressionModel"
          ],
          [
           "LinearRegressionModel"
          ],
          [
           "LinearRegressionModel"
          ],
          [
           "LinearRegressionModel"
          ]
         ],
         "hovertemplate": "color=orange<br>shape=star<br>Forecast Horizon (hours)=%{x}<br>RMSE Skill Score=%{y}<br>model=%{customdata[0]}<extra></extra>",
         "legendgroup": "LinearRegressionModel",
         "marker": {
          "color": "#636efa",
          "symbol": "square"
         },
         "mode": "markers",
         "name": "LinearRegressionModel (Summer)",
         "orientation": "v",
         "showlegend": true,
         "type": "scatter",
         "x": [
          1,
          4,
          8,
          24,
          48
         ],
         "xaxis": "x",
         "y": [
          0.8881182861923864,
          0.6986574129536982,
          0.5439303657798549,
          0.17283184283034436,
          0.09733738270850334
         ],
         "yaxis": "y"
        },
        {
         "customdata": [
          [
           "NBEATSModel"
          ],
          [
           "NBEATSModel"
          ],
          [
           "NBEATSModel"
          ],
          [
           "NBEATSModel"
          ],
          [
           "NBEATSModel"
          ]
         ],
         "hovertemplate": "color=orange<br>shape=triangle-up<br>Forecast Horizon (hours)=%{x}<br>RMSE Skill Score=%{y}<br>model=%{customdata[0]}<extra></extra>",
         "legendgroup": "NBEATSModel",
         "marker": {
          "color": "#636efa",
          "symbol": "x"
         },
         "mode": "markers",
         "name": "NBEATSModel (Summer)",
         "orientation": "v",
         "showlegend": true,
         "type": "scatter",
         "x": [
          1,
          4,
          8,
          24,
          48
         ],
         "xaxis": "x",
         "y": [
          0.8050114836735655,
          0.6714306446829705,
          0.4512015406411046,
          0.12572832241489218,
          0.1805605203359658
         ],
         "yaxis": "y"
        },
        {
         "customdata": [
          [
           "RandomForest"
          ],
          [
           "RandomForest"
          ],
          [
           "RandomForest"
          ],
          [
           "RandomForest"
          ],
          [
           "RandomForest"
          ]
         ],
         "hovertemplate": "color=orange<br>shape=circle<br>Forecast Horizon (hours)=%{x}<br>RMSE Skill Score=%{y}<br>model=%{customdata[0]}<extra></extra>",
         "legendgroup": "RandomForest",
         "marker": {
          "color": "#636efa",
          "symbol": "cross"
         },
         "mode": "markers",
         "name": "RandomForest (Summer)",
         "orientation": "v",
         "showlegend": true,
         "type": "scatter",
         "x": [
          1,
          4,
          8,
          24,
          48
         ],
         "xaxis": "x",
         "y": [
          0.69440876483869,
          0.6007221906162681,
          0.417871023782013,
          0.0740039476726787,
          0.13997704016164247
         ],
         "yaxis": "y"
        },
        {
         "customdata": [
          [
           "XGBModel"
          ],
          [
           "XGBModel"
          ],
          [
           "XGBModel"
          ],
          [
           "XGBModel"
          ],
          [
           "XGBModel"
          ]
         ],
         "hovertemplate": "color=orange<br>shape=diamond<br>Forecast Horizon (hours)=%{x}<br>RMSE Skill Score=%{y}<br>model=%{customdata[0]}<extra></extra>",
         "legendgroup": "XGBModel",
         "marker": {
          "color": "#636efa",
          "symbol": "circle"
         },
         "mode": "markers",
         "name": "XGBModel (Summer)",
         "orientation": "v",
         "showlegend": true,
         "type": "scatter",
         "x": [
          1,
          4,
          8,
          24,
          48
         ],
         "xaxis": "x",
         "y": [
          0.8307906406488297,
          0.6097396785963966,
          0.42469350525473293,
          0.012574095553891773,
          0.01746481813073897
         ],
         "yaxis": "y"
        },
        {
         "customdata": [
          [
           "BlockRNNModel"
          ],
          [
           "BlockRNNModel"
          ],
          [
           "BlockRNNModel"
          ],
          [
           "BlockRNNModel"
          ],
          [
           "BlockRNNModel"
          ]
         ],
         "hovertemplate": "color=blue<br>shape=cross<br>Forecast Horizon (hours)=%{x}<br>RMSE Skill Score=%{y}<br>model=%{customdata[0]}<extra></extra>",
         "legendgroup": "BlockRNNModel",
         "marker": {
          "color": "#EF553B",
          "symbol": "circle"
         },
         "mode": "markers",
         "name": "BlockRNNModel (Winter)",
         "orientation": "v",
         "showlegend": true,
         "type": "scatter",
         "x": [
          1,
          4,
          8,
          24,
          48
         ],
         "xaxis": "x",
         "y": [
          0.6807498632471856,
          0.4112048750572871,
          0.1541464278285598,
          -0.18444480336618607,
          -0.3324554817487746
         ],
         "yaxis": "y"
        },
        {
         "customdata": [
          [
           "LightGBMModel"
          ],
          [
           "LightGBMModel"
          ],
          [
           "LightGBMModel"
          ],
          [
           "LightGBMModel"
          ],
          [
           "LightGBMModel"
          ]
         ],
         "hovertemplate": "color=blue<br>shape=square<br>Forecast Horizon (hours)=%{x}<br>RMSE Skill Score=%{y}<br>model=%{customdata[0]}<extra></extra>",
         "legendgroup": "LightGBMModel",
         "marker": {
          "color": "#EF553B",
          "symbol": "diamond"
         },
         "mode": "markers",
         "name": "LightGBMModel (Winter)",
         "orientation": "v",
         "showlegend": true,
         "type": "scatter",
         "x": [
          1,
          4,
          8,
          24,
          48
         ],
         "xaxis": "x",
         "y": [
          0.7096050883470277,
          0.3699840096864442,
          0.17823237918639956,
          -0.08988511007184052,
          -0.10053957932976787
         ],
         "yaxis": "y"
        },
        {
         "customdata": [
          [
           "LinearRegressionModel"
          ],
          [
           "LinearRegressionModel"
          ],
          [
           "LinearRegressionModel"
          ],
          [
           "LinearRegressionModel"
          ],
          [
           "LinearRegressionModel"
          ]
         ],
         "hovertemplate": "color=blue<br>shape=star<br>Forecast Horizon (hours)=%{x}<br>RMSE Skill Score=%{y}<br>model=%{customdata[0]}<extra></extra>",
         "legendgroup": "LinearRegressionModel",
         "marker": {
          "color": "#EF553B",
          "symbol": "square"
         },
         "mode": "markers",
         "name": "LinearRegressionModel (Winter)",
         "orientation": "v",
         "showlegend": true,
         "type": "scatter",
         "x": [
          1,
          4,
          8,
          24,
          48
         ],
         "xaxis": "x",
         "y": [
          0.7912769543412622,
          0.4483167557625197,
          0.22320930163735286,
          0.029390257223402383,
          -0.1837929712638906
         ],
         "yaxis": "y"
        },
        {
         "customdata": [
          [
           "NBEATSModel"
          ],
          [
           "NBEATSModel"
          ],
          [
           "NBEATSModel"
          ],
          [
           "NBEATSModel"
          ],
          [
           "NBEATSModel"
          ]
         ],
         "hovertemplate": "color=blue<br>shape=triangle-up<br>Forecast Horizon (hours)=%{x}<br>RMSE Skill Score=%{y}<br>model=%{customdata[0]}<extra></extra>",
         "legendgroup": "NBEATSModel",
         "marker": {
          "color": "#EF553B",
          "symbol": "x"
         },
         "mode": "markers",
         "name": "NBEATSModel (Winter)",
         "orientation": "v",
         "showlegend": true,
         "type": "scatter",
         "x": [
          1,
          4,
          8,
          24,
          48
         ],
         "xaxis": "x",
         "y": [
          0.6926707232909182,
          0.454829874897854,
          0.20259862671745243,
          -0.07124974677062745,
          -0.04973323776614347
         ],
         "yaxis": "y"
        },
        {
         "customdata": [
          [
           "RandomForest"
          ],
          [
           "RandomForest"
          ],
          [
           "RandomForest"
          ],
          [
           "RandomForest"
          ],
          [
           "RandomForest"
          ]
         ],
         "hovertemplate": "color=blue<br>shape=circle<br>Forecast Horizon (hours)=%{x}<br>RMSE Skill Score=%{y}<br>model=%{customdata[0]}<extra></extra>",
         "legendgroup": "RandomForest",
         "marker": {
          "color": "#EF553B",
          "symbol": "cross"
         },
         "mode": "markers",
         "name": "RandomForest (Winter)",
         "orientation": "v",
         "showlegend": true,
         "type": "scatter",
         "x": [
          1,
          4,
          8,
          24,
          48
         ],
         "xaxis": "x",
         "y": [
          0.2737485729150583,
          0.11778720255167707,
          -0.04449443024085942,
          -0.10733276562099814,
          -0.191140625203698
         ],
         "yaxis": "y"
        },
        {
         "customdata": [
          [
           "XGBModel"
          ],
          [
           "XGBModel"
          ],
          [
           "XGBModel"
          ],
          [
           "XGBModel"
          ],
          [
           "XGBModel"
          ]
         ],
         "hovertemplate": "color=blue<br>shape=diamond<br>Forecast Horizon (hours)=%{x}<br>RMSE Skill Score=%{y}<br>model=%{customdata[0]}<extra></extra>",
         "legendgroup": "XGBModel",
         "marker": {
          "color": "#EF553B",
          "symbol": "circle"
         },
         "mode": "markers",
         "name": "XGBModel (Winter)",
         "orientation": "v",
         "showlegend": true,
         "type": "scatter",
         "x": [
          1,
          4,
          8,
          24,
          48
         ],
         "xaxis": "x",
         "y": [
          0.7235648955664706,
          0.3881032922546438,
          0.1753686299263819,
          -0.08842134485895126,
          -0.11268454347994994
         ],
         "yaxis": "y"
        }
       ],
       "layout": {
        "height": 600,
        "legend": {
         "title": {
          "text": "Model"
         },
         "tracegroupgap": 0
        },
        "template": {
         "data": {
          "bar": [
           {
            "error_x": {
             "color": "#2a3f5f"
            },
            "error_y": {
             "color": "#2a3f5f"
            },
            "marker": {
             "line": {
              "color": "#E5ECF6",
              "width": 0.5
             },
             "pattern": {
              "fillmode": "overlay",
              "size": 10,
              "solidity": 0.2
             }
            },
            "type": "bar"
           }
          ],
          "barpolar": [
           {
            "marker": {
             "line": {
              "color": "#E5ECF6",
              "width": 0.5
             },
             "pattern": {
              "fillmode": "overlay",
              "size": 10,
              "solidity": 0.2
             }
            },
            "type": "barpolar"
           }
          ],
          "carpet": [
           {
            "aaxis": {
             "endlinecolor": "#2a3f5f",
             "gridcolor": "white",
             "linecolor": "white",
             "minorgridcolor": "white",
             "startlinecolor": "#2a3f5f"
            },
            "baxis": {
             "endlinecolor": "#2a3f5f",
             "gridcolor": "white",
             "linecolor": "white",
             "minorgridcolor": "white",
             "startlinecolor": "#2a3f5f"
            },
            "type": "carpet"
           }
          ],
          "choropleth": [
           {
            "colorbar": {
             "outlinewidth": 0,
             "ticks": ""
            },
            "type": "choropleth"
           }
          ],
          "contour": [
           {
            "colorbar": {
             "outlinewidth": 0,
             "ticks": ""
            },
            "colorscale": [
             [
              0,
              "#0d0887"
             ],
             [
              0.1111111111111111,
              "#46039f"
             ],
             [
              0.2222222222222222,
              "#7201a8"
             ],
             [
              0.3333333333333333,
              "#9c179e"
             ],
             [
              0.4444444444444444,
              "#bd3786"
             ],
             [
              0.5555555555555556,
              "#d8576b"
             ],
             [
              0.6666666666666666,
              "#ed7953"
             ],
             [
              0.7777777777777778,
              "#fb9f3a"
             ],
             [
              0.8888888888888888,
              "#fdca26"
             ],
             [
              1,
              "#f0f921"
             ]
            ],
            "type": "contour"
           }
          ],
          "contourcarpet": [
           {
            "colorbar": {
             "outlinewidth": 0,
             "ticks": ""
            },
            "type": "contourcarpet"
           }
          ],
          "heatmap": [
           {
            "colorbar": {
             "outlinewidth": 0,
             "ticks": ""
            },
            "colorscale": [
             [
              0,
              "#0d0887"
             ],
             [
              0.1111111111111111,
              "#46039f"
             ],
             [
              0.2222222222222222,
              "#7201a8"
             ],
             [
              0.3333333333333333,
              "#9c179e"
             ],
             [
              0.4444444444444444,
              "#bd3786"
             ],
             [
              0.5555555555555556,
              "#d8576b"
             ],
             [
              0.6666666666666666,
              "#ed7953"
             ],
             [
              0.7777777777777778,
              "#fb9f3a"
             ],
             [
              0.8888888888888888,
              "#fdca26"
             ],
             [
              1,
              "#f0f921"
             ]
            ],
            "type": "heatmap"
           }
          ],
          "heatmapgl": [
           {
            "colorbar": {
             "outlinewidth": 0,
             "ticks": ""
            },
            "colorscale": [
             [
              0,
              "#0d0887"
             ],
             [
              0.1111111111111111,
              "#46039f"
             ],
             [
              0.2222222222222222,
              "#7201a8"
             ],
             [
              0.3333333333333333,
              "#9c179e"
             ],
             [
              0.4444444444444444,
              "#bd3786"
             ],
             [
              0.5555555555555556,
              "#d8576b"
             ],
             [
              0.6666666666666666,
              "#ed7953"
             ],
             [
              0.7777777777777778,
              "#fb9f3a"
             ],
             [
              0.8888888888888888,
              "#fdca26"
             ],
             [
              1,
              "#f0f921"
             ]
            ],
            "type": "heatmapgl"
           }
          ],
          "histogram": [
           {
            "marker": {
             "pattern": {
              "fillmode": "overlay",
              "size": 10,
              "solidity": 0.2
             }
            },
            "type": "histogram"
           }
          ],
          "histogram2d": [
           {
            "colorbar": {
             "outlinewidth": 0,
             "ticks": ""
            },
            "colorscale": [
             [
              0,
              "#0d0887"
             ],
             [
              0.1111111111111111,
              "#46039f"
             ],
             [
              0.2222222222222222,
              "#7201a8"
             ],
             [
              0.3333333333333333,
              "#9c179e"
             ],
             [
              0.4444444444444444,
              "#bd3786"
             ],
             [
              0.5555555555555556,
              "#d8576b"
             ],
             [
              0.6666666666666666,
              "#ed7953"
             ],
             [
              0.7777777777777778,
              "#fb9f3a"
             ],
             [
              0.8888888888888888,
              "#fdca26"
             ],
             [
              1,
              "#f0f921"
             ]
            ],
            "type": "histogram2d"
           }
          ],
          "histogram2dcontour": [
           {
            "colorbar": {
             "outlinewidth": 0,
             "ticks": ""
            },
            "colorscale": [
             [
              0,
              "#0d0887"
             ],
             [
              0.1111111111111111,
              "#46039f"
             ],
             [
              0.2222222222222222,
              "#7201a8"
             ],
             [
              0.3333333333333333,
              "#9c179e"
             ],
             [
              0.4444444444444444,
              "#bd3786"
             ],
             [
              0.5555555555555556,
              "#d8576b"
             ],
             [
              0.6666666666666666,
              "#ed7953"
             ],
             [
              0.7777777777777778,
              "#fb9f3a"
             ],
             [
              0.8888888888888888,
              "#fdca26"
             ],
             [
              1,
              "#f0f921"
             ]
            ],
            "type": "histogram2dcontour"
           }
          ],
          "mesh3d": [
           {
            "colorbar": {
             "outlinewidth": 0,
             "ticks": ""
            },
            "type": "mesh3d"
           }
          ],
          "parcoords": [
           {
            "line": {
             "colorbar": {
              "outlinewidth": 0,
              "ticks": ""
             }
            },
            "type": "parcoords"
           }
          ],
          "pie": [
           {
            "automargin": true,
            "type": "pie"
           }
          ],
          "scatter": [
           {
            "fillpattern": {
             "fillmode": "overlay",
             "size": 10,
             "solidity": 0.2
            },
            "type": "scatter"
           }
          ],
          "scatter3d": [
           {
            "line": {
             "colorbar": {
              "outlinewidth": 0,
              "ticks": ""
             }
            },
            "marker": {
             "colorbar": {
              "outlinewidth": 0,
              "ticks": ""
             }
            },
            "type": "scatter3d"
           }
          ],
          "scattercarpet": [
           {
            "marker": {
             "colorbar": {
              "outlinewidth": 0,
              "ticks": ""
             }
            },
            "type": "scattercarpet"
           }
          ],
          "scattergeo": [
           {
            "marker": {
             "colorbar": {
              "outlinewidth": 0,
              "ticks": ""
             }
            },
            "type": "scattergeo"
           }
          ],
          "scattergl": [
           {
            "marker": {
             "colorbar": {
              "outlinewidth": 0,
              "ticks": ""
             }
            },
            "type": "scattergl"
           }
          ],
          "scattermapbox": [
           {
            "marker": {
             "colorbar": {
              "outlinewidth": 0,
              "ticks": ""
             }
            },
            "type": "scattermapbox"
           }
          ],
          "scatterpolar": [
           {
            "marker": {
             "colorbar": {
              "outlinewidth": 0,
              "ticks": ""
             }
            },
            "type": "scatterpolar"
           }
          ],
          "scatterpolargl": [
           {
            "marker": {
             "colorbar": {
              "outlinewidth": 0,
              "ticks": ""
             }
            },
            "type": "scatterpolargl"
           }
          ],
          "scatterternary": [
           {
            "marker": {
             "colorbar": {
              "outlinewidth": 0,
              "ticks": ""
             }
            },
            "type": "scatterternary"
           }
          ],
          "surface": [
           {
            "colorbar": {
             "outlinewidth": 0,
             "ticks": ""
            },
            "colorscale": [
             [
              0,
              "#0d0887"
             ],
             [
              0.1111111111111111,
              "#46039f"
             ],
             [
              0.2222222222222222,
              "#7201a8"
             ],
             [
              0.3333333333333333,
              "#9c179e"
             ],
             [
              0.4444444444444444,
              "#bd3786"
             ],
             [
              0.5555555555555556,
              "#d8576b"
             ],
             [
              0.6666666666666666,
              "#ed7953"
             ],
             [
              0.7777777777777778,
              "#fb9f3a"
             ],
             [
              0.8888888888888888,
              "#fdca26"
             ],
             [
              1,
              "#f0f921"
             ]
            ],
            "type": "surface"
           }
          ],
          "table": [
           {
            "cells": {
             "fill": {
              "color": "#EBF0F8"
             },
             "line": {
              "color": "white"
             }
            },
            "header": {
             "fill": {
              "color": "#C8D4E3"
             },
             "line": {
              "color": "white"
             }
            },
            "type": "table"
           }
          ]
         },
         "layout": {
          "annotationdefaults": {
           "arrowcolor": "#2a3f5f",
           "arrowhead": 0,
           "arrowwidth": 1
          },
          "autotypenumbers": "strict",
          "coloraxis": {
           "colorbar": {
            "outlinewidth": 0,
            "ticks": ""
           }
          },
          "colorscale": {
           "diverging": [
            [
             0,
             "#8e0152"
            ],
            [
             0.1,
             "#c51b7d"
            ],
            [
             0.2,
             "#de77ae"
            ],
            [
             0.3,
             "#f1b6da"
            ],
            [
             0.4,
             "#fde0ef"
            ],
            [
             0.5,
             "#f7f7f7"
            ],
            [
             0.6,
             "#e6f5d0"
            ],
            [
             0.7,
             "#b8e186"
            ],
            [
             0.8,
             "#7fbc41"
            ],
            [
             0.9,
             "#4d9221"
            ],
            [
             1,
             "#276419"
            ]
           ],
           "sequential": [
            [
             0,
             "#0d0887"
            ],
            [
             0.1111111111111111,
             "#46039f"
            ],
            [
             0.2222222222222222,
             "#7201a8"
            ],
            [
             0.3333333333333333,
             "#9c179e"
            ],
            [
             0.4444444444444444,
             "#bd3786"
            ],
            [
             0.5555555555555556,
             "#d8576b"
            ],
            [
             0.6666666666666666,
             "#ed7953"
            ],
            [
             0.7777777777777778,
             "#fb9f3a"
            ],
            [
             0.8888888888888888,
             "#fdca26"
            ],
            [
             1,
             "#f0f921"
            ]
           ],
           "sequentialminus": [
            [
             0,
             "#0d0887"
            ],
            [
             0.1111111111111111,
             "#46039f"
            ],
            [
             0.2222222222222222,
             "#7201a8"
            ],
            [
             0.3333333333333333,
             "#9c179e"
            ],
            [
             0.4444444444444444,
             "#bd3786"
            ],
            [
             0.5555555555555556,
             "#d8576b"
            ],
            [
             0.6666666666666666,
             "#ed7953"
            ],
            [
             0.7777777777777778,
             "#fb9f3a"
            ],
            [
             0.8888888888888888,
             "#fdca26"
            ],
            [
             1,
             "#f0f921"
            ]
           ]
          },
          "colorway": [
           "#636efa",
           "#EF553B",
           "#00cc96",
           "#ab63fa",
           "#FFA15A",
           "#19d3f3",
           "#FF6692",
           "#B6E880",
           "#FF97FF",
           "#FECB52"
          ],
          "font": {
           "color": "#2a3f5f"
          },
          "geo": {
           "bgcolor": "white",
           "lakecolor": "white",
           "landcolor": "#E5ECF6",
           "showlakes": true,
           "showland": true,
           "subunitcolor": "white"
          },
          "hoverlabel": {
           "align": "left"
          },
          "hovermode": "closest",
          "mapbox": {
           "style": "light"
          },
          "paper_bgcolor": "white",
          "plot_bgcolor": "#E5ECF6",
          "polar": {
           "angularaxis": {
            "gridcolor": "white",
            "linecolor": "white",
            "ticks": ""
           },
           "bgcolor": "#E5ECF6",
           "radialaxis": {
            "gridcolor": "white",
            "linecolor": "white",
            "ticks": ""
           }
          },
          "scene": {
           "xaxis": {
            "backgroundcolor": "#E5ECF6",
            "gridcolor": "white",
            "gridwidth": 2,
            "linecolor": "white",
            "showbackground": true,
            "ticks": "",
            "zerolinecolor": "white"
           },
           "yaxis": {
            "backgroundcolor": "#E5ECF6",
            "gridcolor": "white",
            "gridwidth": 2,
            "linecolor": "white",
            "showbackground": true,
            "ticks": "",
            "zerolinecolor": "white"
           },
           "zaxis": {
            "backgroundcolor": "#E5ECF6",
            "gridcolor": "white",
            "gridwidth": 2,
            "linecolor": "white",
            "showbackground": true,
            "ticks": "",
            "zerolinecolor": "white"
           }
          },
          "shapedefaults": {
           "line": {
            "color": "#2a3f5f"
           }
          },
          "ternary": {
           "aaxis": {
            "gridcolor": "white",
            "linecolor": "white",
            "ticks": ""
           },
           "baxis": {
            "gridcolor": "white",
            "linecolor": "white",
            "ticks": ""
           },
           "bgcolor": "#E5ECF6",
           "caxis": {
            "gridcolor": "white",
            "linecolor": "white",
            "ticks": ""
           }
          },
          "title": {
           "x": 0.05
          },
          "xaxis": {
           "automargin": true,
           "gridcolor": "white",
           "linecolor": "white",
           "ticks": "",
           "title": {
            "standoff": 15
           },
           "zerolinecolor": "white",
           "zerolinewidth": 2
          },
          "yaxis": {
           "automargin": true,
           "gridcolor": "white",
           "linecolor": "white",
           "ticks": "",
           "title": {
            "standoff": 15
           },
           "zerolinecolor": "white",
           "zerolinewidth": 2
          }
         }
        },
        "title": {
         "text": "RMSE Skill Score Compared to 24-Persistence over Forecast Horizon - 1_countyinNew_York"
        },
        "width": 900,
        "xaxis": {
         "anchor": "y",
         "domain": [
          0,
          1
         ],
         "tickmode": "array",
         "tickvals": [
          1,
          4,
          8,
          24,
          48
         ],
         "title": {
          "text": "Forecast Horizon (hours)"
         }
        },
        "yaxis": {
         "anchor": "x",
         "domain": [
          0,
          1
         ],
         "title": {
          "text": "RMSE Skill Score"
         }
        }
       }
      }
     },
     "metadata": {},
     "output_type": "display_data"
    },
    {
     "data": {
      "application/vnd.plotly.v1+json": {
       "config": {
        "plotlyServerURL": "https://plot.ly"
       },
       "data": [
        {
         "customdata": [
          [
           "BlockRNNModel"
          ],
          [
           "BlockRNNModel"
          ],
          [
           "BlockRNNModel"
          ],
          [
           "BlockRNNModel"
          ],
          [
           "BlockRNNModel"
          ]
         ],
         "hovertemplate": "color=orange<br>shape=cross<br>Forecast Horizon (hours)=%{x}<br>RMSE Skill Score=%{y}<br>model=%{customdata[0]}<extra></extra>",
         "legendgroup": "BlockRNNModel",
         "marker": {
          "color": "#636efa",
          "symbol": "circle"
         },
         "mode": "markers",
         "name": "BlockRNNModel (Summer)",
         "orientation": "v",
         "showlegend": true,
         "type": "scatter",
         "x": [
          1,
          4,
          8,
          24,
          48
         ],
         "xaxis": "x",
         "y": [
          0.30486392360183445,
          0.24542557681754829,
          0.23687552650498156,
          0.2084344529368709,
          0.1546623928320665
         ],
         "yaxis": "y"
        },
        {
         "customdata": [
          [
           "LightGBMModel"
          ],
          [
           "LightGBMModel"
          ],
          [
           "LightGBMModel"
          ],
          [
           "LightGBMModel"
          ],
          [
           "LightGBMModel"
          ]
         ],
         "hovertemplate": "color=orange<br>shape=square<br>Forecast Horizon (hours)=%{x}<br>RMSE Skill Score=%{y}<br>model=%{customdata[0]}<extra></extra>",
         "legendgroup": "LightGBMModel",
         "marker": {
          "color": "#636efa",
          "symbol": "diamond"
         },
         "mode": "markers",
         "name": "LightGBMModel (Summer)",
         "orientation": "v",
         "showlegend": true,
         "type": "scatter",
         "x": [
          1,
          4,
          8,
          24,
          48
         ],
         "xaxis": "x",
         "y": [
          0.3131833970482796,
          0.2721687329029381,
          0.2687032429706434,
          0.2689418827791624,
          0.2523692181254409
         ],
         "yaxis": "y"
        },
        {
         "customdata": [
          [
           "LinearRegressionModel"
          ],
          [
           "LinearRegressionModel"
          ],
          [
           "LinearRegressionModel"
          ],
          [
           "LinearRegressionModel"
          ],
          [
           "LinearRegressionModel"
          ]
         ],
         "hovertemplate": "color=orange<br>shape=star<br>Forecast Horizon (hours)=%{x}<br>RMSE Skill Score=%{y}<br>model=%{customdata[0]}<extra></extra>",
         "legendgroup": "LinearRegressionModel",
         "marker": {
          "color": "#636efa",
          "symbol": "square"
         },
         "mode": "markers",
         "name": "LinearRegressionModel (Summer)",
         "orientation": "v",
         "showlegend": true,
         "type": "scatter",
         "x": [
          1,
          4,
          8,
          24,
          48
         ],
         "xaxis": "x",
         "y": [
          0.27043446191313725,
          0.18913482429046946,
          0.17318431682365576,
          0.15198893147903447,
          0.13537074181789377
         ],
         "yaxis": "y"
        },
        {
         "customdata": [
          [
           "NBEATSModel"
          ],
          [
           "NBEATSModel"
          ],
          [
           "NBEATSModel"
          ],
          [
           "NBEATSModel"
          ],
          [
           "NBEATSModel"
          ]
         ],
         "hovertemplate": "color=orange<br>shape=triangle-up<br>Forecast Horizon (hours)=%{x}<br>RMSE Skill Score=%{y}<br>model=%{customdata[0]}<extra></extra>",
         "legendgroup": "NBEATSModel",
         "marker": {
          "color": "#636efa",
          "symbol": "x"
         },
         "mode": "markers",
         "name": "NBEATSModel (Summer)",
         "orientation": "v",
         "showlegend": true,
         "type": "scatter",
         "x": [
          1,
          4,
          8,
          24,
          48
         ],
         "xaxis": "x",
         "y": [
          0.28493473240070144,
          0.26289986151060063,
          0.2504812676773823,
          0.21498910203392452,
          0.14027354709640805
         ],
         "yaxis": "y"
        },
        {
         "customdata": [
          [
           "RandomForest"
          ],
          [
           "RandomForest"
          ],
          [
           "RandomForest"
          ],
          [
           "RandomForest"
          ],
          [
           "RandomForest"
          ]
         ],
         "hovertemplate": "color=orange<br>shape=circle<br>Forecast Horizon (hours)=%{x}<br>RMSE Skill Score=%{y}<br>model=%{customdata[0]}<extra></extra>",
         "legendgroup": "RandomForest",
         "marker": {
          "color": "#636efa",
          "symbol": "cross"
         },
         "mode": "markers",
         "name": "RandomForest (Summer)",
         "orientation": "v",
         "showlegend": true,
         "type": "scatter",
         "x": [
          1,
          4,
          8,
          24,
          48
         ],
         "xaxis": "x",
         "y": [
          0.2971054851681634,
          0.2914938946405994,
          0.29499643246544127,
          0.2655522138448707,
          0.2645371870687806
         ],
         "yaxis": "y"
        },
        {
         "customdata": [
          [
           "XGBModel"
          ],
          [
           "XGBModel"
          ],
          [
           "XGBModel"
          ],
          [
           "XGBModel"
          ],
          [
           "XGBModel"
          ]
         ],
         "hovertemplate": "color=orange<br>shape=diamond<br>Forecast Horizon (hours)=%{x}<br>RMSE Skill Score=%{y}<br>model=%{customdata[0]}<extra></extra>",
         "legendgroup": "XGBModel",
         "marker": {
          "color": "#636efa",
          "symbol": "circle"
         },
         "mode": "markers",
         "name": "XGBModel (Summer)",
         "orientation": "v",
         "showlegend": true,
         "type": "scatter",
         "x": [
          1,
          4,
          8,
          24,
          48
         ],
         "xaxis": "x",
         "y": [
          0.30702477684115426,
          0.2465915071274467,
          0.2268639730529154,
          0.18689945634838578,
          0.1637041231567723
         ],
         "yaxis": "y"
        },
        {
         "customdata": [
          [
           "BlockRNNModel"
          ],
          [
           "BlockRNNModel"
          ],
          [
           "BlockRNNModel"
          ],
          [
           "BlockRNNModel"
          ],
          [
           "BlockRNNModel"
          ]
         ],
         "hovertemplate": "color=blue<br>shape=cross<br>Forecast Horizon (hours)=%{x}<br>RMSE Skill Score=%{y}<br>model=%{customdata[0]}<extra></extra>",
         "legendgroup": "BlockRNNModel",
         "marker": {
          "color": "#EF553B",
          "symbol": "circle"
         },
         "mode": "markers",
         "name": "BlockRNNModel (Winter)",
         "orientation": "v",
         "showlegend": true,
         "type": "scatter",
         "x": [
          1,
          4,
          8,
          24,
          48
         ],
         "xaxis": "x",
         "y": [
          0.2833321437312777,
          0.21159191324377424,
          0.20357217959994167,
          0.21654077962349483,
          0.1934932338335429
         ],
         "yaxis": "y"
        },
        {
         "customdata": [
          [
           "LightGBMModel"
          ],
          [
           "LightGBMModel"
          ],
          [
           "LightGBMModel"
          ],
          [
           "LightGBMModel"
          ],
          [
           "LightGBMModel"
          ]
         ],
         "hovertemplate": "color=blue<br>shape=square<br>Forecast Horizon (hours)=%{x}<br>RMSE Skill Score=%{y}<br>model=%{customdata[0]}<extra></extra>",
         "legendgroup": "LightGBMModel",
         "marker": {
          "color": "#EF553B",
          "symbol": "diamond"
         },
         "mode": "markers",
         "name": "LightGBMModel (Winter)",
         "orientation": "v",
         "showlegend": true,
         "type": "scatter",
         "x": [
          1,
          4,
          8,
          24,
          48
         ],
         "xaxis": "x",
         "y": [
          0.24264669469984768,
          0.20258055043525558,
          0.2025221202978318,
          0.12786605834870446,
          0.0968483226372715
         ],
         "yaxis": "y"
        },
        {
         "customdata": [
          [
           "LinearRegressionModel"
          ],
          [
           "LinearRegressionModel"
          ],
          [
           "LinearRegressionModel"
          ],
          [
           "LinearRegressionModel"
          ],
          [
           "LinearRegressionModel"
          ]
         ],
         "hovertemplate": "color=blue<br>shape=star<br>Forecast Horizon (hours)=%{x}<br>RMSE Skill Score=%{y}<br>model=%{customdata[0]}<extra></extra>",
         "legendgroup": "LinearRegressionModel",
         "marker": {
          "color": "#EF553B",
          "symbol": "square"
         },
         "mode": "markers",
         "name": "LinearRegressionModel (Winter)",
         "orientation": "v",
         "showlegend": true,
         "type": "scatter",
         "x": [
          1,
          4,
          8,
          24,
          48
         ],
         "xaxis": "x",
         "y": [
          0.2649810344121367,
          0.16897260975214,
          0.17538175391717303,
          0.13762258227251178,
          0.0990674686773313
         ],
         "yaxis": "y"
        },
        {
         "customdata": [
          [
           "NBEATSModel"
          ],
          [
           "NBEATSModel"
          ],
          [
           "NBEATSModel"
          ],
          [
           "NBEATSModel"
          ],
          [
           "NBEATSModel"
          ]
         ],
         "hovertemplate": "color=blue<br>shape=triangle-up<br>Forecast Horizon (hours)=%{x}<br>RMSE Skill Score=%{y}<br>model=%{customdata[0]}<extra></extra>",
         "legendgroup": "NBEATSModel",
         "marker": {
          "color": "#EF553B",
          "symbol": "x"
         },
         "mode": "markers",
         "name": "NBEATSModel (Winter)",
         "orientation": "v",
         "showlegend": true,
         "type": "scatter",
         "x": [
          1,
          4,
          8,
          24,
          48
         ],
         "xaxis": "x",
         "y": [
          0.2732753506495562,
          0.2352614120098353,
          0.23615503061482201,
          0.19411876693110286,
          0.10291006296705252
         ],
         "yaxis": "y"
        },
        {
         "customdata": [
          [
           "RandomForest"
          ],
          [
           "RandomForest"
          ],
          [
           "RandomForest"
          ],
          [
           "RandomForest"
          ],
          [
           "RandomForest"
          ]
         ],
         "hovertemplate": "color=blue<br>shape=circle<br>Forecast Horizon (hours)=%{x}<br>RMSE Skill Score=%{y}<br>model=%{customdata[0]}<extra></extra>",
         "legendgroup": "RandomForest",
         "marker": {
          "color": "#EF553B",
          "symbol": "cross"
         },
         "mode": "markers",
         "name": "RandomForest (Winter)",
         "orientation": "v",
         "showlegend": true,
         "type": "scatter",
         "x": [
          1,
          4,
          8,
          24,
          48
         ],
         "xaxis": "x",
         "y": [
          0.2831258226547655,
          0.2824468803766793,
          0.28819032670899003,
          0.21669146756529223,
          0.19154964988804302
         ],
         "yaxis": "y"
        },
        {
         "customdata": [
          [
           "XGBModel"
          ],
          [
           "XGBModel"
          ],
          [
           "XGBModel"
          ],
          [
           "XGBModel"
          ],
          [
           "XGBModel"
          ]
         ],
         "hovertemplate": "color=blue<br>shape=diamond<br>Forecast Horizon (hours)=%{x}<br>RMSE Skill Score=%{y}<br>model=%{customdata[0]}<extra></extra>",
         "legendgroup": "XGBModel",
         "marker": {
          "color": "#EF553B",
          "symbol": "circle"
         },
         "mode": "markers",
         "name": "XGBModel (Winter)",
         "orientation": "v",
         "showlegend": true,
         "type": "scatter",
         "x": [
          1,
          4,
          8,
          24,
          48
         ],
         "xaxis": "x",
         "y": [
          0.2995264873189647,
          0.23708525484437992,
          0.22696809870031331,
          0.1782351913608844,
          0.16415810942899045
         ],
         "yaxis": "y"
        }
       ],
       "layout": {
        "height": 600,
        "legend": {
         "title": {
          "text": "Model"
         },
         "tracegroupgap": 0
        },
        "template": {
         "data": {
          "bar": [
           {
            "error_x": {
             "color": "#2a3f5f"
            },
            "error_y": {
             "color": "#2a3f5f"
            },
            "marker": {
             "line": {
              "color": "#E5ECF6",
              "width": 0.5
             },
             "pattern": {
              "fillmode": "overlay",
              "size": 10,
              "solidity": 0.2
             }
            },
            "type": "bar"
           }
          ],
          "barpolar": [
           {
            "marker": {
             "line": {
              "color": "#E5ECF6",
              "width": 0.5
             },
             "pattern": {
              "fillmode": "overlay",
              "size": 10,
              "solidity": 0.2
             }
            },
            "type": "barpolar"
           }
          ],
          "carpet": [
           {
            "aaxis": {
             "endlinecolor": "#2a3f5f",
             "gridcolor": "white",
             "linecolor": "white",
             "minorgridcolor": "white",
             "startlinecolor": "#2a3f5f"
            },
            "baxis": {
             "endlinecolor": "#2a3f5f",
             "gridcolor": "white",
             "linecolor": "white",
             "minorgridcolor": "white",
             "startlinecolor": "#2a3f5f"
            },
            "type": "carpet"
           }
          ],
          "choropleth": [
           {
            "colorbar": {
             "outlinewidth": 0,
             "ticks": ""
            },
            "type": "choropleth"
           }
          ],
          "contour": [
           {
            "colorbar": {
             "outlinewidth": 0,
             "ticks": ""
            },
            "colorscale": [
             [
              0,
              "#0d0887"
             ],
             [
              0.1111111111111111,
              "#46039f"
             ],
             [
              0.2222222222222222,
              "#7201a8"
             ],
             [
              0.3333333333333333,
              "#9c179e"
             ],
             [
              0.4444444444444444,
              "#bd3786"
             ],
             [
              0.5555555555555556,
              "#d8576b"
             ],
             [
              0.6666666666666666,
              "#ed7953"
             ],
             [
              0.7777777777777778,
              "#fb9f3a"
             ],
             [
              0.8888888888888888,
              "#fdca26"
             ],
             [
              1,
              "#f0f921"
             ]
            ],
            "type": "contour"
           }
          ],
          "contourcarpet": [
           {
            "colorbar": {
             "outlinewidth": 0,
             "ticks": ""
            },
            "type": "contourcarpet"
           }
          ],
          "heatmap": [
           {
            "colorbar": {
             "outlinewidth": 0,
             "ticks": ""
            },
            "colorscale": [
             [
              0,
              "#0d0887"
             ],
             [
              0.1111111111111111,
              "#46039f"
             ],
             [
              0.2222222222222222,
              "#7201a8"
             ],
             [
              0.3333333333333333,
              "#9c179e"
             ],
             [
              0.4444444444444444,
              "#bd3786"
             ],
             [
              0.5555555555555556,
              "#d8576b"
             ],
             [
              0.6666666666666666,
              "#ed7953"
             ],
             [
              0.7777777777777778,
              "#fb9f3a"
             ],
             [
              0.8888888888888888,
              "#fdca26"
             ],
             [
              1,
              "#f0f921"
             ]
            ],
            "type": "heatmap"
           }
          ],
          "heatmapgl": [
           {
            "colorbar": {
             "outlinewidth": 0,
             "ticks": ""
            },
            "colorscale": [
             [
              0,
              "#0d0887"
             ],
             [
              0.1111111111111111,
              "#46039f"
             ],
             [
              0.2222222222222222,
              "#7201a8"
             ],
             [
              0.3333333333333333,
              "#9c179e"
             ],
             [
              0.4444444444444444,
              "#bd3786"
             ],
             [
              0.5555555555555556,
              "#d8576b"
             ],
             [
              0.6666666666666666,
              "#ed7953"
             ],
             [
              0.7777777777777778,
              "#fb9f3a"
             ],
             [
              0.8888888888888888,
              "#fdca26"
             ],
             [
              1,
              "#f0f921"
             ]
            ],
            "type": "heatmapgl"
           }
          ],
          "histogram": [
           {
            "marker": {
             "pattern": {
              "fillmode": "overlay",
              "size": 10,
              "solidity": 0.2
             }
            },
            "type": "histogram"
           }
          ],
          "histogram2d": [
           {
            "colorbar": {
             "outlinewidth": 0,
             "ticks": ""
            },
            "colorscale": [
             [
              0,
              "#0d0887"
             ],
             [
              0.1111111111111111,
              "#46039f"
             ],
             [
              0.2222222222222222,
              "#7201a8"
             ],
             [
              0.3333333333333333,
              "#9c179e"
             ],
             [
              0.4444444444444444,
              "#bd3786"
             ],
             [
              0.5555555555555556,
              "#d8576b"
             ],
             [
              0.6666666666666666,
              "#ed7953"
             ],
             [
              0.7777777777777778,
              "#fb9f3a"
             ],
             [
              0.8888888888888888,
              "#fdca26"
             ],
             [
              1,
              "#f0f921"
             ]
            ],
            "type": "histogram2d"
           }
          ],
          "histogram2dcontour": [
           {
            "colorbar": {
             "outlinewidth": 0,
             "ticks": ""
            },
            "colorscale": [
             [
              0,
              "#0d0887"
             ],
             [
              0.1111111111111111,
              "#46039f"
             ],
             [
              0.2222222222222222,
              "#7201a8"
             ],
             [
              0.3333333333333333,
              "#9c179e"
             ],
             [
              0.4444444444444444,
              "#bd3786"
             ],
             [
              0.5555555555555556,
              "#d8576b"
             ],
             [
              0.6666666666666666,
              "#ed7953"
             ],
             [
              0.7777777777777778,
              "#fb9f3a"
             ],
             [
              0.8888888888888888,
              "#fdca26"
             ],
             [
              1,
              "#f0f921"
             ]
            ],
            "type": "histogram2dcontour"
           }
          ],
          "mesh3d": [
           {
            "colorbar": {
             "outlinewidth": 0,
             "ticks": ""
            },
            "type": "mesh3d"
           }
          ],
          "parcoords": [
           {
            "line": {
             "colorbar": {
              "outlinewidth": 0,
              "ticks": ""
             }
            },
            "type": "parcoords"
           }
          ],
          "pie": [
           {
            "automargin": true,
            "type": "pie"
           }
          ],
          "scatter": [
           {
            "fillpattern": {
             "fillmode": "overlay",
             "size": 10,
             "solidity": 0.2
            },
            "type": "scatter"
           }
          ],
          "scatter3d": [
           {
            "line": {
             "colorbar": {
              "outlinewidth": 0,
              "ticks": ""
             }
            },
            "marker": {
             "colorbar": {
              "outlinewidth": 0,
              "ticks": ""
             }
            },
            "type": "scatter3d"
           }
          ],
          "scattercarpet": [
           {
            "marker": {
             "colorbar": {
              "outlinewidth": 0,
              "ticks": ""
             }
            },
            "type": "scattercarpet"
           }
          ],
          "scattergeo": [
           {
            "marker": {
             "colorbar": {
              "outlinewidth": 0,
              "ticks": ""
             }
            },
            "type": "scattergeo"
           }
          ],
          "scattergl": [
           {
            "marker": {
             "colorbar": {
              "outlinewidth": 0,
              "ticks": ""
             }
            },
            "type": "scattergl"
           }
          ],
          "scattermapbox": [
           {
            "marker": {
             "colorbar": {
              "outlinewidth": 0,
              "ticks": ""
             }
            },
            "type": "scattermapbox"
           }
          ],
          "scatterpolar": [
           {
            "marker": {
             "colorbar": {
              "outlinewidth": 0,
              "ticks": ""
             }
            },
            "type": "scatterpolar"
           }
          ],
          "scatterpolargl": [
           {
            "marker": {
             "colorbar": {
              "outlinewidth": 0,
              "ticks": ""
             }
            },
            "type": "scatterpolargl"
           }
          ],
          "scatterternary": [
           {
            "marker": {
             "colorbar": {
              "outlinewidth": 0,
              "ticks": ""
             }
            },
            "type": "scatterternary"
           }
          ],
          "surface": [
           {
            "colorbar": {
             "outlinewidth": 0,
             "ticks": ""
            },
            "colorscale": [
             [
              0,
              "#0d0887"
             ],
             [
              0.1111111111111111,
              "#46039f"
             ],
             [
              0.2222222222222222,
              "#7201a8"
             ],
             [
              0.3333333333333333,
              "#9c179e"
             ],
             [
              0.4444444444444444,
              "#bd3786"
             ],
             [
              0.5555555555555556,
              "#d8576b"
             ],
             [
              0.6666666666666666,
              "#ed7953"
             ],
             [
              0.7777777777777778,
              "#fb9f3a"
             ],
             [
              0.8888888888888888,
              "#fdca26"
             ],
             [
              1,
              "#f0f921"
             ]
            ],
            "type": "surface"
           }
          ],
          "table": [
           {
            "cells": {
             "fill": {
              "color": "#EBF0F8"
             },
             "line": {
              "color": "white"
             }
            },
            "header": {
             "fill": {
              "color": "#C8D4E3"
             },
             "line": {
              "color": "white"
             }
            },
            "type": "table"
           }
          ]
         },
         "layout": {
          "annotationdefaults": {
           "arrowcolor": "#2a3f5f",
           "arrowhead": 0,
           "arrowwidth": 1
          },
          "autotypenumbers": "strict",
          "coloraxis": {
           "colorbar": {
            "outlinewidth": 0,
            "ticks": ""
           }
          },
          "colorscale": {
           "diverging": [
            [
             0,
             "#8e0152"
            ],
            [
             0.1,
             "#c51b7d"
            ],
            [
             0.2,
             "#de77ae"
            ],
            [
             0.3,
             "#f1b6da"
            ],
            [
             0.4,
             "#fde0ef"
            ],
            [
             0.5,
             "#f7f7f7"
            ],
            [
             0.6,
             "#e6f5d0"
            ],
            [
             0.7,
             "#b8e186"
            ],
            [
             0.8,
             "#7fbc41"
            ],
            [
             0.9,
             "#4d9221"
            ],
            [
             1,
             "#276419"
            ]
           ],
           "sequential": [
            [
             0,
             "#0d0887"
            ],
            [
             0.1111111111111111,
             "#46039f"
            ],
            [
             0.2222222222222222,
             "#7201a8"
            ],
            [
             0.3333333333333333,
             "#9c179e"
            ],
            [
             0.4444444444444444,
             "#bd3786"
            ],
            [
             0.5555555555555556,
             "#d8576b"
            ],
            [
             0.6666666666666666,
             "#ed7953"
            ],
            [
             0.7777777777777778,
             "#fb9f3a"
            ],
            [
             0.8888888888888888,
             "#fdca26"
            ],
            [
             1,
             "#f0f921"
            ]
           ],
           "sequentialminus": [
            [
             0,
             "#0d0887"
            ],
            [
             0.1111111111111111,
             "#46039f"
            ],
            [
             0.2222222222222222,
             "#7201a8"
            ],
            [
             0.3333333333333333,
             "#9c179e"
            ],
            [
             0.4444444444444444,
             "#bd3786"
            ],
            [
             0.5555555555555556,
             "#d8576b"
            ],
            [
             0.6666666666666666,
             "#ed7953"
            ],
            [
             0.7777777777777778,
             "#fb9f3a"
            ],
            [
             0.8888888888888888,
             "#fdca26"
            ],
            [
             1,
             "#f0f921"
            ]
           ]
          },
          "colorway": [
           "#636efa",
           "#EF553B",
           "#00cc96",
           "#ab63fa",
           "#FFA15A",
           "#19d3f3",
           "#FF6692",
           "#B6E880",
           "#FF97FF",
           "#FECB52"
          ],
          "font": {
           "color": "#2a3f5f"
          },
          "geo": {
           "bgcolor": "white",
           "lakecolor": "white",
           "landcolor": "#E5ECF6",
           "showlakes": true,
           "showland": true,
           "subunitcolor": "white"
          },
          "hoverlabel": {
           "align": "left"
          },
          "hovermode": "closest",
          "mapbox": {
           "style": "light"
          },
          "paper_bgcolor": "white",
          "plot_bgcolor": "#E5ECF6",
          "polar": {
           "angularaxis": {
            "gridcolor": "white",
            "linecolor": "white",
            "ticks": ""
           },
           "bgcolor": "#E5ECF6",
           "radialaxis": {
            "gridcolor": "white",
            "linecolor": "white",
            "ticks": ""
           }
          },
          "scene": {
           "xaxis": {
            "backgroundcolor": "#E5ECF6",
            "gridcolor": "white",
            "gridwidth": 2,
            "linecolor": "white",
            "showbackground": true,
            "ticks": "",
            "zerolinecolor": "white"
           },
           "yaxis": {
            "backgroundcolor": "#E5ECF6",
            "gridcolor": "white",
            "gridwidth": 2,
            "linecolor": "white",
            "showbackground": true,
            "ticks": "",
            "zerolinecolor": "white"
           },
           "zaxis": {
            "backgroundcolor": "#E5ECF6",
            "gridcolor": "white",
            "gridwidth": 2,
            "linecolor": "white",
            "showbackground": true,
            "ticks": "",
            "zerolinecolor": "white"
           }
          },
          "shapedefaults": {
           "line": {
            "color": "#2a3f5f"
           }
          },
          "ternary": {
           "aaxis": {
            "gridcolor": "white",
            "linecolor": "white",
            "ticks": ""
           },
           "baxis": {
            "gridcolor": "white",
            "linecolor": "white",
            "ticks": ""
           },
           "bgcolor": "#E5ECF6",
           "caxis": {
            "gridcolor": "white",
            "linecolor": "white",
            "ticks": ""
           }
          },
          "title": {
           "x": 0.05
          },
          "xaxis": {
           "automargin": true,
           "gridcolor": "white",
           "linecolor": "white",
           "ticks": "",
           "title": {
            "standoff": 15
           },
           "zerolinecolor": "white",
           "zerolinewidth": 2
          },
          "yaxis": {
           "automargin": true,
           "gridcolor": "white",
           "linecolor": "white",
           "ticks": "",
           "title": {
            "standoff": 15
           },
           "zerolinecolor": "white",
           "zerolinewidth": 2
          }
         }
        },
        "title": {
         "text": "RMSE Skill Score Compared to 24-Persistence over Forecast Horizon - 4_neighborhoodingermany"
        },
        "width": 900,
        "xaxis": {
         "anchor": "y",
         "domain": [
          0,
          1
         ],
         "tickmode": "array",
         "tickvals": [
          1,
          4,
          8,
          24,
          48
         ],
         "title": {
          "text": "Forecast Horizon (hours)"
         }
        },
        "yaxis": {
         "anchor": "x",
         "domain": [
          0,
          1
         ],
         "title": {
          "text": "RMSE Skill Score"
         }
        }
       }
      }
     },
     "metadata": {},
     "output_type": "display_data"
    },
    {
     "data": {
      "application/vnd.plotly.v1+json": {
       "config": {
        "plotlyServerURL": "https://plot.ly"
       },
       "data": [
        {
         "customdata": [
          [
           "BlockRNNModel"
          ],
          [
           "BlockRNNModel"
          ],
          [
           "BlockRNNModel"
          ],
          [
           "BlockRNNModel"
          ],
          [
           "BlockRNNModel"
          ]
         ],
         "hovertemplate": "color=orange<br>shape=cross<br>Forecast Horizon (hours)=%{x}<br>RMSE Skill Score=%{y}<br>model=%{customdata[0]}<extra></extra>",
         "legendgroup": "BlockRNNModel",
         "marker": {
          "color": "#636efa",
          "symbol": "circle"
         },
         "mode": "markers",
         "name": "BlockRNNModel (Summer)",
         "orientation": "v",
         "showlegend": true,
         "type": "scatter",
         "x": [
          1,
          4,
          8,
          24,
          48
         ],
         "xaxis": "x",
         "y": [
          0.3982062808648109,
          0.23723027679441222,
          0.15795024126084534,
          0.040803830484549275,
          -0.10628178277449507
         ],
         "yaxis": "y"
        },
        {
         "customdata": [
          [
           "LightGBMModel"
          ],
          [
           "LightGBMModel"
          ],
          [
           "LightGBMModel"
          ],
          [
           "LightGBMModel"
          ],
          [
           "LightGBMModel"
          ]
         ],
         "hovertemplate": "color=orange<br>shape=square<br>Forecast Horizon (hours)=%{x}<br>RMSE Skill Score=%{y}<br>model=%{customdata[0]}<extra></extra>",
         "legendgroup": "LightGBMModel",
         "marker": {
          "color": "#636efa",
          "symbol": "diamond"
         },
         "mode": "markers",
         "name": "LightGBMModel (Summer)",
         "orientation": "v",
         "showlegend": true,
         "type": "scatter",
         "x": [
          1,
          4,
          8,
          24,
          48
         ],
         "xaxis": "x",
         "y": [
          0.48178457400038066,
          0.3491520747291428,
          0.27111823236915655,
          0.13276772918811997,
          0.009666569047097173
         ],
         "yaxis": "y"
        },
        {
         "customdata": [
          [
           "LinearRegressionModel"
          ],
          [
           "LinearRegressionModel"
          ],
          [
           "LinearRegressionModel"
          ],
          [
           "LinearRegressionModel"
          ],
          [
           "LinearRegressionModel"
          ]
         ],
         "hovertemplate": "color=orange<br>shape=star<br>Forecast Horizon (hours)=%{x}<br>RMSE Skill Score=%{y}<br>model=%{customdata[0]}<extra></extra>",
         "legendgroup": "LinearRegressionModel",
         "marker": {
          "color": "#636efa",
          "symbol": "square"
         },
         "mode": "markers",
         "name": "LinearRegressionModel (Summer)",
         "orientation": "v",
         "showlegend": true,
         "type": "scatter",
         "x": [
          1,
          4,
          8,
          24,
          48
         ],
         "xaxis": "x",
         "y": [
          0.358020787615591,
          0.21563014387046697,
          0.15041151291722166,
          0.0559900409865276,
          -0.09375762278961819
         ],
         "yaxis": "y"
        },
        {
         "customdata": [
          [
           "NBEATSModel"
          ],
          [
           "NBEATSModel"
          ],
          [
           "NBEATSModel"
          ],
          [
           "NBEATSModel"
          ],
          [
           "NBEATSModel"
          ]
         ],
         "hovertemplate": "color=orange<br>shape=triangle-up<br>Forecast Horizon (hours)=%{x}<br>RMSE Skill Score=%{y}<br>model=%{customdata[0]}<extra></extra>",
         "legendgroup": "NBEATSModel",
         "marker": {
          "color": "#636efa",
          "symbol": "x"
         },
         "mode": "markers",
         "name": "NBEATSModel (Summer)",
         "orientation": "v",
         "showlegend": true,
         "type": "scatter",
         "x": [
          1,
          4,
          8,
          24,
          48
         ],
         "xaxis": "x",
         "y": [
          0.4394986595878788,
          0.2477076780543218,
          0.15435604949599613,
          0.05860887582752938,
          -0.1119279519543237
         ],
         "yaxis": "y"
        },
        {
         "customdata": [
          [
           "RandomForest"
          ],
          [
           "RandomForest"
          ],
          [
           "RandomForest"
          ],
          [
           "RandomForest"
          ],
          [
           "RandomForest"
          ]
         ],
         "hovertemplate": "color=orange<br>shape=circle<br>Forecast Horizon (hours)=%{x}<br>RMSE Skill Score=%{y}<br>model=%{customdata[0]}<extra></extra>",
         "legendgroup": "RandomForest",
         "marker": {
          "color": "#636efa",
          "symbol": "cross"
         },
         "mode": "markers",
         "name": "RandomForest (Summer)",
         "orientation": "v",
         "showlegend": true,
         "type": "scatter",
         "x": [
          1,
          4,
          8,
          24,
          48
         ],
         "xaxis": "x",
         "y": [
          0.3942184494710891,
          0.30999206370820176,
          0.2546507162116268,
          0.09719773556547784,
          -0.02196683974506386
         ],
         "yaxis": "y"
        },
        {
         "customdata": [
          [
           "XGBModel"
          ],
          [
           "XGBModel"
          ],
          [
           "XGBModel"
          ],
          [
           "XGBModel"
          ],
          [
           "XGBModel"
          ]
         ],
         "hovertemplate": "color=orange<br>shape=diamond<br>Forecast Horizon (hours)=%{x}<br>RMSE Skill Score=%{y}<br>model=%{customdata[0]}<extra></extra>",
         "legendgroup": "XGBModel",
         "marker": {
          "color": "#636efa",
          "symbol": "circle"
         },
         "mode": "markers",
         "name": "XGBModel (Summer)",
         "orientation": "v",
         "showlegend": true,
         "type": "scatter",
         "x": [
          1,
          4,
          8,
          24,
          48
         ],
         "xaxis": "x",
         "y": [
          0.4702230716073972,
          0.33113689377710764,
          0.26650720319522603,
          0.12861257813819715,
          -0.004898978247832364
         ],
         "yaxis": "y"
        },
        {
         "customdata": [
          [
           "BlockRNNModel"
          ],
          [
           "BlockRNNModel"
          ],
          [
           "BlockRNNModel"
          ],
          [
           "BlockRNNModel"
          ],
          [
           "BlockRNNModel"
          ]
         ],
         "hovertemplate": "color=blue<br>shape=cross<br>Forecast Horizon (hours)=%{x}<br>RMSE Skill Score=%{y}<br>model=%{customdata[0]}<extra></extra>",
         "legendgroup": "BlockRNNModel",
         "marker": {
          "color": "#EF553B",
          "symbol": "circle"
         },
         "mode": "markers",
         "name": "BlockRNNModel (Winter)",
         "orientation": "v",
         "showlegend": true,
         "type": "scatter",
         "x": [
          1,
          4,
          8,
          24,
          48
         ],
         "xaxis": "x",
         "y": [
          0.15041036846769973,
          0.12970530197819663,
          0.15763239285776798,
          0.13210103452143573,
          0.024041029317636187
         ],
         "yaxis": "y"
        },
        {
         "customdata": [
          [
           "LightGBMModel"
          ],
          [
           "LightGBMModel"
          ],
          [
           "LightGBMModel"
          ],
          [
           "LightGBMModel"
          ],
          [
           "LightGBMModel"
          ]
         ],
         "hovertemplate": "color=blue<br>shape=square<br>Forecast Horizon (hours)=%{x}<br>RMSE Skill Score=%{y}<br>model=%{customdata[0]}<extra></extra>",
         "legendgroup": "LightGBMModel",
         "marker": {
          "color": "#EF553B",
          "symbol": "diamond"
         },
         "mode": "markers",
         "name": "LightGBMModel (Winter)",
         "orientation": "v",
         "showlegend": true,
         "type": "scatter",
         "x": [
          1,
          4,
          8,
          24,
          48
         ],
         "xaxis": "x",
         "y": [
          0.29214036080078754,
          0.19826591617408473,
          0.23741431577769945,
          0.20654438668613007,
          0.05146220367733023
         ],
         "yaxis": "y"
        },
        {
         "customdata": [
          [
           "LinearRegressionModel"
          ],
          [
           "LinearRegressionModel"
          ],
          [
           "LinearRegressionModel"
          ],
          [
           "LinearRegressionModel"
          ],
          [
           "LinearRegressionModel"
          ]
         ],
         "hovertemplate": "color=blue<br>shape=star<br>Forecast Horizon (hours)=%{x}<br>RMSE Skill Score=%{y}<br>model=%{customdata[0]}<extra></extra>",
         "legendgroup": "LinearRegressionModel",
         "marker": {
          "color": "#EF553B",
          "symbol": "square"
         },
         "mode": "markers",
         "name": "LinearRegressionModel (Winter)",
         "orientation": "v",
         "showlegend": true,
         "type": "scatter",
         "x": [
          1,
          4,
          8,
          24,
          48
         ],
         "xaxis": "x",
         "y": [
          0.15462458983683947,
          0.09414145652819783,
          0.17190174002872105,
          0.11101984696857625,
          -0.08971096187621974
         ],
         "yaxis": "y"
        },
        {
         "customdata": [
          [
           "NBEATSModel"
          ],
          [
           "NBEATSModel"
          ],
          [
           "NBEATSModel"
          ],
          [
           "NBEATSModel"
          ],
          [
           "NBEATSModel"
          ]
         ],
         "hovertemplate": "color=blue<br>shape=triangle-up<br>Forecast Horizon (hours)=%{x}<br>RMSE Skill Score=%{y}<br>model=%{customdata[0]}<extra></extra>",
         "legendgroup": "NBEATSModel",
         "marker": {
          "color": "#EF553B",
          "symbol": "x"
         },
         "mode": "markers",
         "name": "NBEATSModel (Winter)",
         "orientation": "v",
         "showlegend": true,
         "type": "scatter",
         "x": [
          1,
          4,
          8,
          24,
          48
         ],
         "xaxis": "x",
         "y": [
          0.3907824849862642,
          0.2435874163471019,
          0.2287600812428774,
          0.2725214671495366,
          0.1963623903270344
         ],
         "yaxis": "y"
        },
        {
         "customdata": [
          [
           "RandomForest"
          ],
          [
           "RandomForest"
          ],
          [
           "RandomForest"
          ],
          [
           "RandomForest"
          ],
          [
           "RandomForest"
          ]
         ],
         "hovertemplate": "color=blue<br>shape=circle<br>Forecast Horizon (hours)=%{x}<br>RMSE Skill Score=%{y}<br>model=%{customdata[0]}<extra></extra>",
         "legendgroup": "RandomForest",
         "marker": {
          "color": "#EF553B",
          "symbol": "cross"
         },
         "mode": "markers",
         "name": "RandomForest (Winter)",
         "orientation": "v",
         "showlegend": true,
         "type": "scatter",
         "x": [
          1,
          4,
          8,
          24,
          48
         ],
         "xaxis": "x",
         "y": [
          0.18038841126597938,
          0.06870120460086393,
          0.09527116039736028,
          0.10121207926154596,
          -0.005265055435010213
         ],
         "yaxis": "y"
        },
        {
         "customdata": [
          [
           "XGBModel"
          ],
          [
           "XGBModel"
          ],
          [
           "XGBModel"
          ],
          [
           "XGBModel"
          ],
          [
           "XGBModel"
          ]
         ],
         "hovertemplate": "color=blue<br>shape=diamond<br>Forecast Horizon (hours)=%{x}<br>RMSE Skill Score=%{y}<br>model=%{customdata[0]}<extra></extra>",
         "legendgroup": "XGBModel",
         "marker": {
          "color": "#EF553B",
          "symbol": "circle"
         },
         "mode": "markers",
         "name": "XGBModel (Winter)",
         "orientation": "v",
         "showlegend": true,
         "type": "scatter",
         "x": [
          1,
          4,
          8,
          24,
          48
         ],
         "xaxis": "x",
         "y": [
          0.2775532287755943,
          0.26409582358543127,
          0.260751191320311,
          0.20263168967388823,
          0.0554487048971789
         ],
         "yaxis": "y"
        }
       ],
       "layout": {
        "height": 600,
        "legend": {
         "title": {
          "text": "Model"
         },
         "tracegroupgap": 0
        },
        "template": {
         "data": {
          "bar": [
           {
            "error_x": {
             "color": "#2a3f5f"
            },
            "error_y": {
             "color": "#2a3f5f"
            },
            "marker": {
             "line": {
              "color": "#E5ECF6",
              "width": 0.5
             },
             "pattern": {
              "fillmode": "overlay",
              "size": 10,
              "solidity": 0.2
             }
            },
            "type": "bar"
           }
          ],
          "barpolar": [
           {
            "marker": {
             "line": {
              "color": "#E5ECF6",
              "width": 0.5
             },
             "pattern": {
              "fillmode": "overlay",
              "size": 10,
              "solidity": 0.2
             }
            },
            "type": "barpolar"
           }
          ],
          "carpet": [
           {
            "aaxis": {
             "endlinecolor": "#2a3f5f",
             "gridcolor": "white",
             "linecolor": "white",
             "minorgridcolor": "white",
             "startlinecolor": "#2a3f5f"
            },
            "baxis": {
             "endlinecolor": "#2a3f5f",
             "gridcolor": "white",
             "linecolor": "white",
             "minorgridcolor": "white",
             "startlinecolor": "#2a3f5f"
            },
            "type": "carpet"
           }
          ],
          "choropleth": [
           {
            "colorbar": {
             "outlinewidth": 0,
             "ticks": ""
            },
            "type": "choropleth"
           }
          ],
          "contour": [
           {
            "colorbar": {
             "outlinewidth": 0,
             "ticks": ""
            },
            "colorscale": [
             [
              0,
              "#0d0887"
             ],
             [
              0.1111111111111111,
              "#46039f"
             ],
             [
              0.2222222222222222,
              "#7201a8"
             ],
             [
              0.3333333333333333,
              "#9c179e"
             ],
             [
              0.4444444444444444,
              "#bd3786"
             ],
             [
              0.5555555555555556,
              "#d8576b"
             ],
             [
              0.6666666666666666,
              "#ed7953"
             ],
             [
              0.7777777777777778,
              "#fb9f3a"
             ],
             [
              0.8888888888888888,
              "#fdca26"
             ],
             [
              1,
              "#f0f921"
             ]
            ],
            "type": "contour"
           }
          ],
          "contourcarpet": [
           {
            "colorbar": {
             "outlinewidth": 0,
             "ticks": ""
            },
            "type": "contourcarpet"
           }
          ],
          "heatmap": [
           {
            "colorbar": {
             "outlinewidth": 0,
             "ticks": ""
            },
            "colorscale": [
             [
              0,
              "#0d0887"
             ],
             [
              0.1111111111111111,
              "#46039f"
             ],
             [
              0.2222222222222222,
              "#7201a8"
             ],
             [
              0.3333333333333333,
              "#9c179e"
             ],
             [
              0.4444444444444444,
              "#bd3786"
             ],
             [
              0.5555555555555556,
              "#d8576b"
             ],
             [
              0.6666666666666666,
              "#ed7953"
             ],
             [
              0.7777777777777778,
              "#fb9f3a"
             ],
             [
              0.8888888888888888,
              "#fdca26"
             ],
             [
              1,
              "#f0f921"
             ]
            ],
            "type": "heatmap"
           }
          ],
          "heatmapgl": [
           {
            "colorbar": {
             "outlinewidth": 0,
             "ticks": ""
            },
            "colorscale": [
             [
              0,
              "#0d0887"
             ],
             [
              0.1111111111111111,
              "#46039f"
             ],
             [
              0.2222222222222222,
              "#7201a8"
             ],
             [
              0.3333333333333333,
              "#9c179e"
             ],
             [
              0.4444444444444444,
              "#bd3786"
             ],
             [
              0.5555555555555556,
              "#d8576b"
             ],
             [
              0.6666666666666666,
              "#ed7953"
             ],
             [
              0.7777777777777778,
              "#fb9f3a"
             ],
             [
              0.8888888888888888,
              "#fdca26"
             ],
             [
              1,
              "#f0f921"
             ]
            ],
            "type": "heatmapgl"
           }
          ],
          "histogram": [
           {
            "marker": {
             "pattern": {
              "fillmode": "overlay",
              "size": 10,
              "solidity": 0.2
             }
            },
            "type": "histogram"
           }
          ],
          "histogram2d": [
           {
            "colorbar": {
             "outlinewidth": 0,
             "ticks": ""
            },
            "colorscale": [
             [
              0,
              "#0d0887"
             ],
             [
              0.1111111111111111,
              "#46039f"
             ],
             [
              0.2222222222222222,
              "#7201a8"
             ],
             [
              0.3333333333333333,
              "#9c179e"
             ],
             [
              0.4444444444444444,
              "#bd3786"
             ],
             [
              0.5555555555555556,
              "#d8576b"
             ],
             [
              0.6666666666666666,
              "#ed7953"
             ],
             [
              0.7777777777777778,
              "#fb9f3a"
             ],
             [
              0.8888888888888888,
              "#fdca26"
             ],
             [
              1,
              "#f0f921"
             ]
            ],
            "type": "histogram2d"
           }
          ],
          "histogram2dcontour": [
           {
            "colorbar": {
             "outlinewidth": 0,
             "ticks": ""
            },
            "colorscale": [
             [
              0,
              "#0d0887"
             ],
             [
              0.1111111111111111,
              "#46039f"
             ],
             [
              0.2222222222222222,
              "#7201a8"
             ],
             [
              0.3333333333333333,
              "#9c179e"
             ],
             [
              0.4444444444444444,
              "#bd3786"
             ],
             [
              0.5555555555555556,
              "#d8576b"
             ],
             [
              0.6666666666666666,
              "#ed7953"
             ],
             [
              0.7777777777777778,
              "#fb9f3a"
             ],
             [
              0.8888888888888888,
              "#fdca26"
             ],
             [
              1,
              "#f0f921"
             ]
            ],
            "type": "histogram2dcontour"
           }
          ],
          "mesh3d": [
           {
            "colorbar": {
             "outlinewidth": 0,
             "ticks": ""
            },
            "type": "mesh3d"
           }
          ],
          "parcoords": [
           {
            "line": {
             "colorbar": {
              "outlinewidth": 0,
              "ticks": ""
             }
            },
            "type": "parcoords"
           }
          ],
          "pie": [
           {
            "automargin": true,
            "type": "pie"
           }
          ],
          "scatter": [
           {
            "fillpattern": {
             "fillmode": "overlay",
             "size": 10,
             "solidity": 0.2
            },
            "type": "scatter"
           }
          ],
          "scatter3d": [
           {
            "line": {
             "colorbar": {
              "outlinewidth": 0,
              "ticks": ""
             }
            },
            "marker": {
             "colorbar": {
              "outlinewidth": 0,
              "ticks": ""
             }
            },
            "type": "scatter3d"
           }
          ],
          "scattercarpet": [
           {
            "marker": {
             "colorbar": {
              "outlinewidth": 0,
              "ticks": ""
             }
            },
            "type": "scattercarpet"
           }
          ],
          "scattergeo": [
           {
            "marker": {
             "colorbar": {
              "outlinewidth": 0,
              "ticks": ""
             }
            },
            "type": "scattergeo"
           }
          ],
          "scattergl": [
           {
            "marker": {
             "colorbar": {
              "outlinewidth": 0,
              "ticks": ""
             }
            },
            "type": "scattergl"
           }
          ],
          "scattermapbox": [
           {
            "marker": {
             "colorbar": {
              "outlinewidth": 0,
              "ticks": ""
             }
            },
            "type": "scattermapbox"
           }
          ],
          "scatterpolar": [
           {
            "marker": {
             "colorbar": {
              "outlinewidth": 0,
              "ticks": ""
             }
            },
            "type": "scatterpolar"
           }
          ],
          "scatterpolargl": [
           {
            "marker": {
             "colorbar": {
              "outlinewidth": 0,
              "ticks": ""
             }
            },
            "type": "scatterpolargl"
           }
          ],
          "scatterternary": [
           {
            "marker": {
             "colorbar": {
              "outlinewidth": 0,
              "ticks": ""
             }
            },
            "type": "scatterternary"
           }
          ],
          "surface": [
           {
            "colorbar": {
             "outlinewidth": 0,
             "ticks": ""
            },
            "colorscale": [
             [
              0,
              "#0d0887"
             ],
             [
              0.1111111111111111,
              "#46039f"
             ],
             [
              0.2222222222222222,
              "#7201a8"
             ],
             [
              0.3333333333333333,
              "#9c179e"
             ],
             [
              0.4444444444444444,
              "#bd3786"
             ],
             [
              0.5555555555555556,
              "#d8576b"
             ],
             [
              0.6666666666666666,
              "#ed7953"
             ],
             [
              0.7777777777777778,
              "#fb9f3a"
             ],
             [
              0.8888888888888888,
              "#fdca26"
             ],
             [
              1,
              "#f0f921"
             ]
            ],
            "type": "surface"
           }
          ],
          "table": [
           {
            "cells": {
             "fill": {
              "color": "#EBF0F8"
             },
             "line": {
              "color": "white"
             }
            },
            "header": {
             "fill": {
              "color": "#C8D4E3"
             },
             "line": {
              "color": "white"
             }
            },
            "type": "table"
           }
          ]
         },
         "layout": {
          "annotationdefaults": {
           "arrowcolor": "#2a3f5f",
           "arrowhead": 0,
           "arrowwidth": 1
          },
          "autotypenumbers": "strict",
          "coloraxis": {
           "colorbar": {
            "outlinewidth": 0,
            "ticks": ""
           }
          },
          "colorscale": {
           "diverging": [
            [
             0,
             "#8e0152"
            ],
            [
             0.1,
             "#c51b7d"
            ],
            [
             0.2,
             "#de77ae"
            ],
            [
             0.3,
             "#f1b6da"
            ],
            [
             0.4,
             "#fde0ef"
            ],
            [
             0.5,
             "#f7f7f7"
            ],
            [
             0.6,
             "#e6f5d0"
            ],
            [
             0.7,
             "#b8e186"
            ],
            [
             0.8,
             "#7fbc41"
            ],
            [
             0.9,
             "#4d9221"
            ],
            [
             1,
             "#276419"
            ]
           ],
           "sequential": [
            [
             0,
             "#0d0887"
            ],
            [
             0.1111111111111111,
             "#46039f"
            ],
            [
             0.2222222222222222,
             "#7201a8"
            ],
            [
             0.3333333333333333,
             "#9c179e"
            ],
            [
             0.4444444444444444,
             "#bd3786"
            ],
            [
             0.5555555555555556,
             "#d8576b"
            ],
            [
             0.6666666666666666,
             "#ed7953"
            ],
            [
             0.7777777777777778,
             "#fb9f3a"
            ],
            [
             0.8888888888888888,
             "#fdca26"
            ],
            [
             1,
             "#f0f921"
            ]
           ],
           "sequentialminus": [
            [
             0,
             "#0d0887"
            ],
            [
             0.1111111111111111,
             "#46039f"
            ],
            [
             0.2222222222222222,
             "#7201a8"
            ],
            [
             0.3333333333333333,
             "#9c179e"
            ],
            [
             0.4444444444444444,
             "#bd3786"
            ],
            [
             0.5555555555555556,
             "#d8576b"
            ],
            [
             0.6666666666666666,
             "#ed7953"
            ],
            [
             0.7777777777777778,
             "#fb9f3a"
            ],
            [
             0.8888888888888888,
             "#fdca26"
            ],
            [
             1,
             "#f0f921"
            ]
           ]
          },
          "colorway": [
           "#636efa",
           "#EF553B",
           "#00cc96",
           "#ab63fa",
           "#FFA15A",
           "#19d3f3",
           "#FF6692",
           "#B6E880",
           "#FF97FF",
           "#FECB52"
          ],
          "font": {
           "color": "#2a3f5f"
          },
          "geo": {
           "bgcolor": "white",
           "lakecolor": "white",
           "landcolor": "#E5ECF6",
           "showlakes": true,
           "showland": true,
           "subunitcolor": "white"
          },
          "hoverlabel": {
           "align": "left"
          },
          "hovermode": "closest",
          "mapbox": {
           "style": "light"
          },
          "paper_bgcolor": "white",
          "plot_bgcolor": "#E5ECF6",
          "polar": {
           "angularaxis": {
            "gridcolor": "white",
            "linecolor": "white",
            "ticks": ""
           },
           "bgcolor": "#E5ECF6",
           "radialaxis": {
            "gridcolor": "white",
            "linecolor": "white",
            "ticks": ""
           }
          },
          "scene": {
           "xaxis": {
            "backgroundcolor": "#E5ECF6",
            "gridcolor": "white",
            "gridwidth": 2,
            "linecolor": "white",
            "showbackground": true,
            "ticks": "",
            "zerolinecolor": "white"
           },
           "yaxis": {
            "backgroundcolor": "#E5ECF6",
            "gridcolor": "white",
            "gridwidth": 2,
            "linecolor": "white",
            "showbackground": true,
            "ticks": "",
            "zerolinecolor": "white"
           },
           "zaxis": {
            "backgroundcolor": "#E5ECF6",
            "gridcolor": "white",
            "gridwidth": 2,
            "linecolor": "white",
            "showbackground": true,
            "ticks": "",
            "zerolinecolor": "white"
           }
          },
          "shapedefaults": {
           "line": {
            "color": "#2a3f5f"
           }
          },
          "ternary": {
           "aaxis": {
            "gridcolor": "white",
            "linecolor": "white",
            "ticks": ""
           },
           "baxis": {
            "gridcolor": "white",
            "linecolor": "white",
            "ticks": ""
           },
           "bgcolor": "#E5ECF6",
           "caxis": {
            "gridcolor": "white",
            "linecolor": "white",
            "ticks": ""
           }
          },
          "title": {
           "x": 0.05
          },
          "xaxis": {
           "automargin": true,
           "gridcolor": "white",
           "linecolor": "white",
           "ticks": "",
           "title": {
            "standoff": 15
           },
           "zerolinecolor": "white",
           "zerolinewidth": 2
          },
          "yaxis": {
           "automargin": true,
           "gridcolor": "white",
           "linecolor": "white",
           "ticks": "",
           "title": {
            "standoff": 15
           },
           "zerolinecolor": "white",
           "zerolinewidth": 2
          }
         }
        },
        "title": {
         "text": "RMSE Skill Score Compared to 24-Persistence over Forecast Horizon - 3_villageinvillage_0"
        },
        "width": 900,
        "xaxis": {
         "anchor": "y",
         "domain": [
          0,
          1
         ],
         "tickmode": "array",
         "tickvals": [
          1,
          4,
          8,
          24,
          48
         ],
         "title": {
          "text": "Forecast Horizon (hours)"
         }
        },
        "yaxis": {
         "anchor": "x",
         "domain": [
          0,
          1
         ],
         "title": {
          "text": "RMSE Skill Score"
         }
        }
       }
      }
     },
     "metadata": {},
     "output_type": "display_data"
    },
    {
     "data": {
      "application/vnd.plotly.v1+json": {
       "config": {
        "plotlyServerURL": "https://plot.ly"
       },
       "data": [
        {
         "customdata": [
          [
           "BlockRNNModel"
          ],
          [
           "BlockRNNModel"
          ],
          [
           "BlockRNNModel"
          ],
          [
           "BlockRNNModel"
          ],
          [
           "BlockRNNModel"
          ]
         ],
         "hovertemplate": "color=orange<br>shape=cross<br>Forecast Horizon (hours)=%{x}<br>RMSE Skill Score=%{y}<br>model=%{customdata[0]}<extra></extra>",
         "legendgroup": "BlockRNNModel",
         "marker": {
          "color": "#636efa",
          "symbol": "circle"
         },
         "mode": "markers",
         "name": "BlockRNNModel (Summer)",
         "orientation": "v",
         "showlegend": true,
         "type": "scatter",
         "x": [
          1,
          4,
          8,
          24,
          48
         ],
         "xaxis": "x",
         "y": [
          0.24928767704234456,
          -0.03234113950799933,
          -0.1850341197928329,
          -0.04005391005540093,
          -0.2952971690156103
         ],
         "yaxis": "y"
        },
        {
         "customdata": [
          [
           "LightGBMModel"
          ],
          [
           "LightGBMModel"
          ],
          [
           "LightGBMModel"
          ],
          [
           "LightGBMModel"
          ],
          [
           "LightGBMModel"
          ]
         ],
         "hovertemplate": "color=orange<br>shape=square<br>Forecast Horizon (hours)=%{x}<br>RMSE Skill Score=%{y}<br>model=%{customdata[0]}<extra></extra>",
         "legendgroup": "LightGBMModel",
         "marker": {
          "color": "#636efa",
          "symbol": "diamond"
         },
         "mode": "markers",
         "name": "LightGBMModel (Summer)",
         "orientation": "v",
         "showlegend": true,
         "type": "scatter",
         "x": [
          1,
          4,
          8,
          24,
          48
         ],
         "xaxis": "x",
         "y": [
          0.36695994108025987,
          0.08541124499713781,
          -0.007910092641891575,
          -0.0218627048788389,
          -0.21186563906189804
         ],
         "yaxis": "y"
        },
        {
         "customdata": [
          [
           "LinearRegressionModel"
          ],
          [
           "LinearRegressionModel"
          ],
          [
           "LinearRegressionModel"
          ],
          [
           "LinearRegressionModel"
          ],
          [
           "LinearRegressionModel"
          ]
         ],
         "hovertemplate": "color=orange<br>shape=star<br>Forecast Horizon (hours)=%{x}<br>RMSE Skill Score=%{y}<br>model=%{customdata[0]}<extra></extra>",
         "legendgroup": "LinearRegressionModel",
         "marker": {
          "color": "#636efa",
          "symbol": "square"
         },
         "mode": "markers",
         "name": "LinearRegressionModel (Summer)",
         "orientation": "v",
         "showlegend": true,
         "type": "scatter",
         "x": [
          1,
          4,
          8,
          24,
          48
         ],
         "xaxis": "x",
         "y": [
          0.3127318947242427,
          0.1402710567121066,
          0.009081368959089953,
          0.004802712836353695,
          -0.18441815742016576
         ],
         "yaxis": "y"
        },
        {
         "customdata": [
          [
           "NBEATSModel"
          ],
          [
           "NBEATSModel"
          ],
          [
           "NBEATSModel"
          ],
          [
           "NBEATSModel"
          ],
          [
           "NBEATSModel"
          ]
         ],
         "hovertemplate": "color=orange<br>shape=triangle-up<br>Forecast Horizon (hours)=%{x}<br>RMSE Skill Score=%{y}<br>model=%{customdata[0]}<extra></extra>",
         "legendgroup": "NBEATSModel",
         "marker": {
          "color": "#636efa",
          "symbol": "x"
         },
         "mode": "markers",
         "name": "NBEATSModel (Summer)",
         "orientation": "v",
         "showlegend": true,
         "type": "scatter",
         "x": [
          1,
          4,
          8,
          24,
          48
         ],
         "xaxis": "x",
         "y": [
          0.29682257673517165,
          0.11417525505620785,
          0.02314625084293709,
          0.0003645644313394758,
          -0.1955427712964577
         ],
         "yaxis": "y"
        },
        {
         "customdata": [
          [
           "RandomForest"
          ],
          [
           "RandomForest"
          ],
          [
           "RandomForest"
          ],
          [
           "RandomForest"
          ],
          [
           "RandomForest"
          ]
         ],
         "hovertemplate": "color=orange<br>shape=circle<br>Forecast Horizon (hours)=%{x}<br>RMSE Skill Score=%{y}<br>model=%{customdata[0]}<extra></extra>",
         "legendgroup": "RandomForest",
         "marker": {
          "color": "#636efa",
          "symbol": "cross"
         },
         "mode": "markers",
         "name": "RandomForest (Summer)",
         "orientation": "v",
         "showlegend": true,
         "type": "scatter",
         "x": [
          1,
          4,
          8,
          24,
          48
         ],
         "xaxis": "x",
         "y": [
          0.13356656065226302,
          0.022253542950635974,
          -0.05840141312802283,
          -0.1066539819229746,
          -0.3378104789886871
         ],
         "yaxis": "y"
        },
        {
         "customdata": [
          [
           "XGBModel"
          ],
          [
           "XGBModel"
          ],
          [
           "XGBModel"
          ],
          [
           "XGBModel"
          ],
          [
           "XGBModel"
          ]
         ],
         "hovertemplate": "color=orange<br>shape=diamond<br>Forecast Horizon (hours)=%{x}<br>RMSE Skill Score=%{y}<br>model=%{customdata[0]}<extra></extra>",
         "legendgroup": "XGBModel",
         "marker": {
          "color": "#636efa",
          "symbol": "circle"
         },
         "mode": "markers",
         "name": "XGBModel (Summer)",
         "orientation": "v",
         "showlegend": true,
         "type": "scatter",
         "x": [
          1,
          4,
          8,
          24,
          48
         ],
         "xaxis": "x",
         "y": [
          0.3560695818335343,
          0.10104852956600607,
          0.019777807718339813,
          0.04150849172918569,
          -0.10308239176699008
         ],
         "yaxis": "y"
        },
        {
         "customdata": [
          [
           "BlockRNNModel"
          ],
          [
           "BlockRNNModel"
          ],
          [
           "BlockRNNModel"
          ],
          [
           "BlockRNNModel"
          ],
          [
           "BlockRNNModel"
          ]
         ],
         "hovertemplate": "color=blue<br>shape=cross<br>Forecast Horizon (hours)=%{x}<br>RMSE Skill Score=%{y}<br>model=%{customdata[0]}<extra></extra>",
         "legendgroup": "BlockRNNModel",
         "marker": {
          "color": "#EF553B",
          "symbol": "circle"
         },
         "mode": "markers",
         "name": "BlockRNNModel (Winter)",
         "orientation": "v",
         "showlegend": true,
         "type": "scatter",
         "x": [
          1,
          4,
          8,
          24,
          48
         ],
         "xaxis": "x",
         "y": [
          0.4245861922214629,
          0.4106843424108454,
          0.3989991334867057,
          0.26920907743697897,
          0.2369430251068495
         ],
         "yaxis": "y"
        },
        {
         "customdata": [
          [
           "LightGBMModel"
          ],
          [
           "LightGBMModel"
          ],
          [
           "LightGBMModel"
          ],
          [
           "LightGBMModel"
          ],
          [
           "LightGBMModel"
          ]
         ],
         "hovertemplate": "color=blue<br>shape=square<br>Forecast Horizon (hours)=%{x}<br>RMSE Skill Score=%{y}<br>model=%{customdata[0]}<extra></extra>",
         "legendgroup": "LightGBMModel",
         "marker": {
          "color": "#EF553B",
          "symbol": "diamond"
         },
         "mode": "markers",
         "name": "LightGBMModel (Winter)",
         "orientation": "v",
         "showlegend": true,
         "type": "scatter",
         "x": [
          1,
          4,
          8,
          24,
          48
         ],
         "xaxis": "x",
         "y": [
          0.4056611880756018,
          0.2517792667442532,
          0.4501665274547537,
          0.24789608068696756,
          0.1163519604419101
         ],
         "yaxis": "y"
        },
        {
         "customdata": [
          [
           "LinearRegressionModel"
          ],
          [
           "LinearRegressionModel"
          ],
          [
           "LinearRegressionModel"
          ],
          [
           "LinearRegressionModel"
          ],
          [
           "LinearRegressionModel"
          ]
         ],
         "hovertemplate": "color=blue<br>shape=star<br>Forecast Horizon (hours)=%{x}<br>RMSE Skill Score=%{y}<br>model=%{customdata[0]}<extra></extra>",
         "legendgroup": "LinearRegressionModel",
         "marker": {
          "color": "#EF553B",
          "symbol": "square"
         },
         "mode": "markers",
         "name": "LinearRegressionModel (Winter)",
         "orientation": "v",
         "showlegend": true,
         "type": "scatter",
         "x": [
          1,
          4,
          8,
          24,
          48
         ],
         "xaxis": "x",
         "y": [
          0.40208961153434597,
          0.3588898217628351,
          0.3283747120940611,
          0.19340994181559867,
          0.021737382091855717
         ],
         "yaxis": "y"
        },
        {
         "customdata": [
          [
           "NBEATSModel"
          ],
          [
           "NBEATSModel"
          ],
          [
           "NBEATSModel"
          ],
          [
           "NBEATSModel"
          ],
          [
           "NBEATSModel"
          ]
         ],
         "hovertemplate": "color=blue<br>shape=triangle-up<br>Forecast Horizon (hours)=%{x}<br>RMSE Skill Score=%{y}<br>model=%{customdata[0]}<extra></extra>",
         "legendgroup": "NBEATSModel",
         "marker": {
          "color": "#EF553B",
          "symbol": "x"
         },
         "mode": "markers",
         "name": "NBEATSModel (Winter)",
         "orientation": "v",
         "showlegend": true,
         "type": "scatter",
         "x": [
          1,
          4,
          8,
          24,
          48
         ],
         "xaxis": "x",
         "y": [
          0.5086969092916911,
          0.4525589284056326,
          0.41997006632401923,
          0.40179520284939463,
          0.3537557654152257
         ],
         "yaxis": "y"
        },
        {
         "customdata": [
          [
           "RandomForest"
          ],
          [
           "RandomForest"
          ],
          [
           "RandomForest"
          ],
          [
           "RandomForest"
          ],
          [
           "RandomForest"
          ]
         ],
         "hovertemplate": "color=blue<br>shape=circle<br>Forecast Horizon (hours)=%{x}<br>RMSE Skill Score=%{y}<br>model=%{customdata[0]}<extra></extra>",
         "legendgroup": "RandomForest",
         "marker": {
          "color": "#EF553B",
          "symbol": "cross"
         },
         "mode": "markers",
         "name": "RandomForest (Winter)",
         "orientation": "v",
         "showlegend": true,
         "type": "scatter",
         "x": [
          1,
          4,
          8,
          24,
          48
         ],
         "xaxis": "x",
         "y": [
          0.5417159689286397,
          0.5112316078191754,
          0.509292451848452,
          0.5147251501747795,
          0.5178827187101915
         ],
         "yaxis": "y"
        },
        {
         "customdata": [
          [
           "XGBModel"
          ],
          [
           "XGBModel"
          ],
          [
           "XGBModel"
          ],
          [
           "XGBModel"
          ],
          [
           "XGBModel"
          ]
         ],
         "hovertemplate": "color=blue<br>shape=diamond<br>Forecast Horizon (hours)=%{x}<br>RMSE Skill Score=%{y}<br>model=%{customdata[0]}<extra></extra>",
         "legendgroup": "XGBModel",
         "marker": {
          "color": "#EF553B",
          "symbol": "circle"
         },
         "mode": "markers",
         "name": "XGBModel (Winter)",
         "orientation": "v",
         "showlegend": true,
         "type": "scatter",
         "x": [
          1,
          4,
          8,
          24,
          48
         ],
         "xaxis": "x",
         "y": [
          0.49657287729511956,
          0.3625691232411691,
          0.4525694857526238,
          0.35785566426198057,
          0.20197021552081074
         ],
         "yaxis": "y"
        }
       ],
       "layout": {
        "height": 600,
        "legend": {
         "title": {
          "text": "Model"
         },
         "tracegroupgap": 0
        },
        "template": {
         "data": {
          "bar": [
           {
            "error_x": {
             "color": "#2a3f5f"
            },
            "error_y": {
             "color": "#2a3f5f"
            },
            "marker": {
             "line": {
              "color": "#E5ECF6",
              "width": 0.5
             },
             "pattern": {
              "fillmode": "overlay",
              "size": 10,
              "solidity": 0.2
             }
            },
            "type": "bar"
           }
          ],
          "barpolar": [
           {
            "marker": {
             "line": {
              "color": "#E5ECF6",
              "width": 0.5
             },
             "pattern": {
              "fillmode": "overlay",
              "size": 10,
              "solidity": 0.2
             }
            },
            "type": "barpolar"
           }
          ],
          "carpet": [
           {
            "aaxis": {
             "endlinecolor": "#2a3f5f",
             "gridcolor": "white",
             "linecolor": "white",
             "minorgridcolor": "white",
             "startlinecolor": "#2a3f5f"
            },
            "baxis": {
             "endlinecolor": "#2a3f5f",
             "gridcolor": "white",
             "linecolor": "white",
             "minorgridcolor": "white",
             "startlinecolor": "#2a3f5f"
            },
            "type": "carpet"
           }
          ],
          "choropleth": [
           {
            "colorbar": {
             "outlinewidth": 0,
             "ticks": ""
            },
            "type": "choropleth"
           }
          ],
          "contour": [
           {
            "colorbar": {
             "outlinewidth": 0,
             "ticks": ""
            },
            "colorscale": [
             [
              0,
              "#0d0887"
             ],
             [
              0.1111111111111111,
              "#46039f"
             ],
             [
              0.2222222222222222,
              "#7201a8"
             ],
             [
              0.3333333333333333,
              "#9c179e"
             ],
             [
              0.4444444444444444,
              "#bd3786"
             ],
             [
              0.5555555555555556,
              "#d8576b"
             ],
             [
              0.6666666666666666,
              "#ed7953"
             ],
             [
              0.7777777777777778,
              "#fb9f3a"
             ],
             [
              0.8888888888888888,
              "#fdca26"
             ],
             [
              1,
              "#f0f921"
             ]
            ],
            "type": "contour"
           }
          ],
          "contourcarpet": [
           {
            "colorbar": {
             "outlinewidth": 0,
             "ticks": ""
            },
            "type": "contourcarpet"
           }
          ],
          "heatmap": [
           {
            "colorbar": {
             "outlinewidth": 0,
             "ticks": ""
            },
            "colorscale": [
             [
              0,
              "#0d0887"
             ],
             [
              0.1111111111111111,
              "#46039f"
             ],
             [
              0.2222222222222222,
              "#7201a8"
             ],
             [
              0.3333333333333333,
              "#9c179e"
             ],
             [
              0.4444444444444444,
              "#bd3786"
             ],
             [
              0.5555555555555556,
              "#d8576b"
             ],
             [
              0.6666666666666666,
              "#ed7953"
             ],
             [
              0.7777777777777778,
              "#fb9f3a"
             ],
             [
              0.8888888888888888,
              "#fdca26"
             ],
             [
              1,
              "#f0f921"
             ]
            ],
            "type": "heatmap"
           }
          ],
          "heatmapgl": [
           {
            "colorbar": {
             "outlinewidth": 0,
             "ticks": ""
            },
            "colorscale": [
             [
              0,
              "#0d0887"
             ],
             [
              0.1111111111111111,
              "#46039f"
             ],
             [
              0.2222222222222222,
              "#7201a8"
             ],
             [
              0.3333333333333333,
              "#9c179e"
             ],
             [
              0.4444444444444444,
              "#bd3786"
             ],
             [
              0.5555555555555556,
              "#d8576b"
             ],
             [
              0.6666666666666666,
              "#ed7953"
             ],
             [
              0.7777777777777778,
              "#fb9f3a"
             ],
             [
              0.8888888888888888,
              "#fdca26"
             ],
             [
              1,
              "#f0f921"
             ]
            ],
            "type": "heatmapgl"
           }
          ],
          "histogram": [
           {
            "marker": {
             "pattern": {
              "fillmode": "overlay",
              "size": 10,
              "solidity": 0.2
             }
            },
            "type": "histogram"
           }
          ],
          "histogram2d": [
           {
            "colorbar": {
             "outlinewidth": 0,
             "ticks": ""
            },
            "colorscale": [
             [
              0,
              "#0d0887"
             ],
             [
              0.1111111111111111,
              "#46039f"
             ],
             [
              0.2222222222222222,
              "#7201a8"
             ],
             [
              0.3333333333333333,
              "#9c179e"
             ],
             [
              0.4444444444444444,
              "#bd3786"
             ],
             [
              0.5555555555555556,
              "#d8576b"
             ],
             [
              0.6666666666666666,
              "#ed7953"
             ],
             [
              0.7777777777777778,
              "#fb9f3a"
             ],
             [
              0.8888888888888888,
              "#fdca26"
             ],
             [
              1,
              "#f0f921"
             ]
            ],
            "type": "histogram2d"
           }
          ],
          "histogram2dcontour": [
           {
            "colorbar": {
             "outlinewidth": 0,
             "ticks": ""
            },
            "colorscale": [
             [
              0,
              "#0d0887"
             ],
             [
              0.1111111111111111,
              "#46039f"
             ],
             [
              0.2222222222222222,
              "#7201a8"
             ],
             [
              0.3333333333333333,
              "#9c179e"
             ],
             [
              0.4444444444444444,
              "#bd3786"
             ],
             [
              0.5555555555555556,
              "#d8576b"
             ],
             [
              0.6666666666666666,
              "#ed7953"
             ],
             [
              0.7777777777777778,
              "#fb9f3a"
             ],
             [
              0.8888888888888888,
              "#fdca26"
             ],
             [
              1,
              "#f0f921"
             ]
            ],
            "type": "histogram2dcontour"
           }
          ],
          "mesh3d": [
           {
            "colorbar": {
             "outlinewidth": 0,
             "ticks": ""
            },
            "type": "mesh3d"
           }
          ],
          "parcoords": [
           {
            "line": {
             "colorbar": {
              "outlinewidth": 0,
              "ticks": ""
             }
            },
            "type": "parcoords"
           }
          ],
          "pie": [
           {
            "automargin": true,
            "type": "pie"
           }
          ],
          "scatter": [
           {
            "fillpattern": {
             "fillmode": "overlay",
             "size": 10,
             "solidity": 0.2
            },
            "type": "scatter"
           }
          ],
          "scatter3d": [
           {
            "line": {
             "colorbar": {
              "outlinewidth": 0,
              "ticks": ""
             }
            },
            "marker": {
             "colorbar": {
              "outlinewidth": 0,
              "ticks": ""
             }
            },
            "type": "scatter3d"
           }
          ],
          "scattercarpet": [
           {
            "marker": {
             "colorbar": {
              "outlinewidth": 0,
              "ticks": ""
             }
            },
            "type": "scattercarpet"
           }
          ],
          "scattergeo": [
           {
            "marker": {
             "colorbar": {
              "outlinewidth": 0,
              "ticks": ""
             }
            },
            "type": "scattergeo"
           }
          ],
          "scattergl": [
           {
            "marker": {
             "colorbar": {
              "outlinewidth": 0,
              "ticks": ""
             }
            },
            "type": "scattergl"
           }
          ],
          "scattermapbox": [
           {
            "marker": {
             "colorbar": {
              "outlinewidth": 0,
              "ticks": ""
             }
            },
            "type": "scattermapbox"
           }
          ],
          "scatterpolar": [
           {
            "marker": {
             "colorbar": {
              "outlinewidth": 0,
              "ticks": ""
             }
            },
            "type": "scatterpolar"
           }
          ],
          "scatterpolargl": [
           {
            "marker": {
             "colorbar": {
              "outlinewidth": 0,
              "ticks": ""
             }
            },
            "type": "scatterpolargl"
           }
          ],
          "scatterternary": [
           {
            "marker": {
             "colorbar": {
              "outlinewidth": 0,
              "ticks": ""
             }
            },
            "type": "scatterternary"
           }
          ],
          "surface": [
           {
            "colorbar": {
             "outlinewidth": 0,
             "ticks": ""
            },
            "colorscale": [
             [
              0,
              "#0d0887"
             ],
             [
              0.1111111111111111,
              "#46039f"
             ],
             [
              0.2222222222222222,
              "#7201a8"
             ],
             [
              0.3333333333333333,
              "#9c179e"
             ],
             [
              0.4444444444444444,
              "#bd3786"
             ],
             [
              0.5555555555555556,
              "#d8576b"
             ],
             [
              0.6666666666666666,
              "#ed7953"
             ],
             [
              0.7777777777777778,
              "#fb9f3a"
             ],
             [
              0.8888888888888888,
              "#fdca26"
             ],
             [
              1,
              "#f0f921"
             ]
            ],
            "type": "surface"
           }
          ],
          "table": [
           {
            "cells": {
             "fill": {
              "color": "#EBF0F8"
             },
             "line": {
              "color": "white"
             }
            },
            "header": {
             "fill": {
              "color": "#C8D4E3"
             },
             "line": {
              "color": "white"
             }
            },
            "type": "table"
           }
          ]
         },
         "layout": {
          "annotationdefaults": {
           "arrowcolor": "#2a3f5f",
           "arrowhead": 0,
           "arrowwidth": 1
          },
          "autotypenumbers": "strict",
          "coloraxis": {
           "colorbar": {
            "outlinewidth": 0,
            "ticks": ""
           }
          },
          "colorscale": {
           "diverging": [
            [
             0,
             "#8e0152"
            ],
            [
             0.1,
             "#c51b7d"
            ],
            [
             0.2,
             "#de77ae"
            ],
            [
             0.3,
             "#f1b6da"
            ],
            [
             0.4,
             "#fde0ef"
            ],
            [
             0.5,
             "#f7f7f7"
            ],
            [
             0.6,
             "#e6f5d0"
            ],
            [
             0.7,
             "#b8e186"
            ],
            [
             0.8,
             "#7fbc41"
            ],
            [
             0.9,
             "#4d9221"
            ],
            [
             1,
             "#276419"
            ]
           ],
           "sequential": [
            [
             0,
             "#0d0887"
            ],
            [
             0.1111111111111111,
             "#46039f"
            ],
            [
             0.2222222222222222,
             "#7201a8"
            ],
            [
             0.3333333333333333,
             "#9c179e"
            ],
            [
             0.4444444444444444,
             "#bd3786"
            ],
            [
             0.5555555555555556,
             "#d8576b"
            ],
            [
             0.6666666666666666,
             "#ed7953"
            ],
            [
             0.7777777777777778,
             "#fb9f3a"
            ],
            [
             0.8888888888888888,
             "#fdca26"
            ],
            [
             1,
             "#f0f921"
            ]
           ],
           "sequentialminus": [
            [
             0,
             "#0d0887"
            ],
            [
             0.1111111111111111,
             "#46039f"
            ],
            [
             0.2222222222222222,
             "#7201a8"
            ],
            [
             0.3333333333333333,
             "#9c179e"
            ],
            [
             0.4444444444444444,
             "#bd3786"
            ],
            [
             0.5555555555555556,
             "#d8576b"
            ],
            [
             0.6666666666666666,
             "#ed7953"
            ],
            [
             0.7777777777777778,
             "#fb9f3a"
            ],
            [
             0.8888888888888888,
             "#fdca26"
            ],
            [
             1,
             "#f0f921"
            ]
           ]
          },
          "colorway": [
           "#636efa",
           "#EF553B",
           "#00cc96",
           "#ab63fa",
           "#FFA15A",
           "#19d3f3",
           "#FF6692",
           "#B6E880",
           "#FF97FF",
           "#FECB52"
          ],
          "font": {
           "color": "#2a3f5f"
          },
          "geo": {
           "bgcolor": "white",
           "lakecolor": "white",
           "landcolor": "#E5ECF6",
           "showlakes": true,
           "showland": true,
           "subunitcolor": "white"
          },
          "hoverlabel": {
           "align": "left"
          },
          "hovermode": "closest",
          "mapbox": {
           "style": "light"
          },
          "paper_bgcolor": "white",
          "plot_bgcolor": "#E5ECF6",
          "polar": {
           "angularaxis": {
            "gridcolor": "white",
            "linecolor": "white",
            "ticks": ""
           },
           "bgcolor": "#E5ECF6",
           "radialaxis": {
            "gridcolor": "white",
            "linecolor": "white",
            "ticks": ""
           }
          },
          "scene": {
           "xaxis": {
            "backgroundcolor": "#E5ECF6",
            "gridcolor": "white",
            "gridwidth": 2,
            "linecolor": "white",
            "showbackground": true,
            "ticks": "",
            "zerolinecolor": "white"
           },
           "yaxis": {
            "backgroundcolor": "#E5ECF6",
            "gridcolor": "white",
            "gridwidth": 2,
            "linecolor": "white",
            "showbackground": true,
            "ticks": "",
            "zerolinecolor": "white"
           },
           "zaxis": {
            "backgroundcolor": "#E5ECF6",
            "gridcolor": "white",
            "gridwidth": 2,
            "linecolor": "white",
            "showbackground": true,
            "ticks": "",
            "zerolinecolor": "white"
           }
          },
          "shapedefaults": {
           "line": {
            "color": "#2a3f5f"
           }
          },
          "ternary": {
           "aaxis": {
            "gridcolor": "white",
            "linecolor": "white",
            "ticks": ""
           },
           "baxis": {
            "gridcolor": "white",
            "linecolor": "white",
            "ticks": ""
           },
           "bgcolor": "#E5ECF6",
           "caxis": {
            "gridcolor": "white",
            "linecolor": "white",
            "ticks": ""
           }
          },
          "title": {
           "x": 0.05
          },
          "xaxis": {
           "automargin": true,
           "gridcolor": "white",
           "linecolor": "white",
           "ticks": "",
           "title": {
            "standoff": 15
           },
           "zerolinecolor": "white",
           "zerolinewidth": 2
          },
          "yaxis": {
           "automargin": true,
           "gridcolor": "white",
           "linecolor": "white",
           "ticks": "",
           "title": {
            "standoff": 15
           },
           "zerolinecolor": "white",
           "zerolinewidth": 2
          }
         }
        },
        "title": {
         "text": "RMSE Skill Score Compared to 24-Persistence over Forecast Horizon - 2_townintown_0"
        },
        "width": 900,
        "xaxis": {
         "anchor": "y",
         "domain": [
          0,
          1
         ],
         "tickmode": "array",
         "tickvals": [
          1,
          4,
          8,
          24,
          48
         ],
         "title": {
          "text": "Forecast Horizon (hours)"
         }
        },
        "yaxis": {
         "anchor": "x",
         "domain": [
          0,
          1
         ],
         "title": {
          "text": "RMSE Skill Score"
         }
        }
       }
      }
     },
     "metadata": {},
     "output_type": "display_data"
    },
    {
     "data": {
      "application/vnd.plotly.v1+json": {
       "config": {
        "plotlyServerURL": "https://plot.ly"
       },
       "data": [
        {
         "customdata": [
          [
           "BlockRNNModel"
          ],
          [
           "BlockRNNModel"
          ],
          [
           "BlockRNNModel"
          ],
          [
           "BlockRNNModel"
          ],
          [
           "BlockRNNModel"
          ]
         ],
         "hovertemplate": "color=orange<br>shape=cross<br>Forecast Horizon (hours)=%{x}<br>RMSE Skill Score=%{y}<br>model=%{customdata[0]}<extra></extra>",
         "legendgroup": "BlockRNNModel",
         "marker": {
          "color": "#636efa",
          "symbol": "circle"
         },
         "mode": "markers",
         "name": "BlockRNNModel (Summer)",
         "orientation": "v",
         "showlegend": true,
         "type": "scatter",
         "x": [
          1,
          4,
          8,
          24,
          48
         ],
         "xaxis": "x",
         "y": [
          0.712442422656411,
          0.5846054153198612,
          0.4557990005355501,
          -0.016862499922059015,
          -0.25259494300578367
         ],
         "yaxis": "y"
        },
        {
         "customdata": [
          [
           "LightGBMModel"
          ],
          [
           "LightGBMModel"
          ],
          [
           "LightGBMModel"
          ],
          [
           "LightGBMModel"
          ],
          [
           "LightGBMModel"
          ]
         ],
         "hovertemplate": "color=orange<br>shape=square<br>Forecast Horizon (hours)=%{x}<br>RMSE Skill Score=%{y}<br>model=%{customdata[0]}<extra></extra>",
         "legendgroup": "LightGBMModel",
         "marker": {
          "color": "#636efa",
          "symbol": "diamond"
         },
         "mode": "markers",
         "name": "LightGBMModel (Summer)",
         "orientation": "v",
         "showlegend": true,
         "type": "scatter",
         "x": [
          1,
          4,
          8,
          24,
          48
         ],
         "xaxis": "x",
         "y": [
          0.695496896900534,
          0.5429568865239198,
          0.35517333718927935,
          -0.04377672683944156,
          -0.21088272397053887
         ],
         "yaxis": "y"
        },
        {
         "customdata": [
          [
           "LinearRegressionModel"
          ],
          [
           "LinearRegressionModel"
          ],
          [
           "LinearRegressionModel"
          ],
          [
           "LinearRegressionModel"
          ],
          [
           "LinearRegressionModel"
          ]
         ],
         "hovertemplate": "color=orange<br>shape=star<br>Forecast Horizon (hours)=%{x}<br>RMSE Skill Score=%{y}<br>model=%{customdata[0]}<extra></extra>",
         "legendgroup": "LinearRegressionModel",
         "marker": {
          "color": "#636efa",
          "symbol": "square"
         },
         "mode": "markers",
         "name": "LinearRegressionModel (Summer)",
         "orientation": "v",
         "showlegend": true,
         "type": "scatter",
         "x": [
          1,
          4,
          8,
          24,
          48
         ],
         "xaxis": "x",
         "y": [
          0.8488611638330286,
          0.6458634506429175,
          0.4550218065766739,
          -0.0641680278953467,
          -0.4724855834298911
         ],
         "yaxis": "y"
        },
        {
         "customdata": [
          [
           "NBEATSModel"
          ],
          [
           "NBEATSModel"
          ],
          [
           "NBEATSModel"
          ],
          [
           "NBEATSModel"
          ],
          [
           "NBEATSModel"
          ]
         ],
         "hovertemplate": "color=orange<br>shape=triangle-up<br>Forecast Horizon (hours)=%{x}<br>RMSE Skill Score=%{y}<br>model=%{customdata[0]}<extra></extra>",
         "legendgroup": "NBEATSModel",
         "marker": {
          "color": "#636efa",
          "symbol": "x"
         },
         "mode": "markers",
         "name": "NBEATSModel (Summer)",
         "orientation": "v",
         "showlegend": true,
         "type": "scatter",
         "x": [
          1,
          4,
          8,
          24,
          48
         ],
         "xaxis": "x",
         "y": [
          0.7661466081331367,
          0.6281554959544206,
          0.40833433116234363,
          -0.011155193888601422,
          -0.18677491557082848
         ],
         "yaxis": "y"
        },
        {
         "customdata": [
          [
           "RandomForest"
          ],
          [
           "RandomForest"
          ],
          [
           "RandomForest"
          ],
          [
           "RandomForest"
          ],
          [
           "RandomForest"
          ]
         ],
         "hovertemplate": "color=orange<br>shape=circle<br>Forecast Horizon (hours)=%{x}<br>RMSE Skill Score=%{y}<br>model=%{customdata[0]}<extra></extra>",
         "legendgroup": "RandomForest",
         "marker": {
          "color": "#636efa",
          "symbol": "cross"
         },
         "mode": "markers",
         "name": "RandomForest (Summer)",
         "orientation": "v",
         "showlegend": true,
         "type": "scatter",
         "x": [
          1,
          4,
          8,
          24,
          48
         ],
         "xaxis": "x",
         "y": [
          0.3062735223054385,
          0.291624726191562,
          0.20325923578763339,
          0.0003406239806466038,
          -0.09527272015117538
         ],
         "yaxis": "y"
        },
        {
         "customdata": [
          [
           "XGBModel"
          ],
          [
           "XGBModel"
          ],
          [
           "XGBModel"
          ],
          [
           "XGBModel"
          ],
          [
           "XGBModel"
          ]
         ],
         "hovertemplate": "color=orange<br>shape=diamond<br>Forecast Horizon (hours)=%{x}<br>RMSE Skill Score=%{y}<br>model=%{customdata[0]}<extra></extra>",
         "legendgroup": "XGBModel",
         "marker": {
          "color": "#636efa",
          "symbol": "circle"
         },
         "mode": "markers",
         "name": "XGBModel (Summer)",
         "orientation": "v",
         "showlegend": true,
         "type": "scatter",
         "x": [
          1,
          4,
          8,
          24,
          48
         ],
         "xaxis": "x",
         "y": [
          0.7147379627131414,
          0.5587729070873667,
          0.3486322094112042,
          -0.08309867465597942,
          -0.26565357350033514
         ],
         "yaxis": "y"
        },
        {
         "customdata": [
          [
           "BlockRNNModel"
          ],
          [
           "BlockRNNModel"
          ],
          [
           "BlockRNNModel"
          ],
          [
           "BlockRNNModel"
          ],
          [
           "BlockRNNModel"
          ]
         ],
         "hovertemplate": "color=blue<br>shape=cross<br>Forecast Horizon (hours)=%{x}<br>RMSE Skill Score=%{y}<br>model=%{customdata[0]}<extra></extra>",
         "legendgroup": "BlockRNNModel",
         "marker": {
          "color": "#EF553B",
          "symbol": "circle"
         },
         "mode": "markers",
         "name": "BlockRNNModel (Winter)",
         "orientation": "v",
         "showlegend": true,
         "type": "scatter",
         "x": [
          1,
          4,
          8,
          24,
          48
         ],
         "xaxis": "x",
         "y": [
          0.7504278543419163,
          0.5902840016065343,
          0.3908233856445641,
          0.30245200778144643,
          0.2007166837805915
         ],
         "yaxis": "y"
        },
        {
         "customdata": [
          [
           "LightGBMModel"
          ],
          [
           "LightGBMModel"
          ],
          [
           "LightGBMModel"
          ],
          [
           "LightGBMModel"
          ],
          [
           "LightGBMModel"
          ]
         ],
         "hovertemplate": "color=blue<br>shape=square<br>Forecast Horizon (hours)=%{x}<br>RMSE Skill Score=%{y}<br>model=%{customdata[0]}<extra></extra>",
         "legendgroup": "LightGBMModel",
         "marker": {
          "color": "#EF553B",
          "symbol": "diamond"
         },
         "mode": "markers",
         "name": "LightGBMModel (Winter)",
         "orientation": "v",
         "showlegend": true,
         "type": "scatter",
         "x": [
          1,
          4,
          8,
          24,
          48
         ],
         "xaxis": "x",
         "y": [
          0.7689195133845246,
          0.5094885504958585,
          0.34593041663489754,
          0.17780478074883943,
          0.10274167957695379
         ],
         "yaxis": "y"
        },
        {
         "customdata": [
          [
           "LinearRegressionModel"
          ],
          [
           "LinearRegressionModel"
          ],
          [
           "LinearRegressionModel"
          ],
          [
           "LinearRegressionModel"
          ],
          [
           "LinearRegressionModel"
          ]
         ],
         "hovertemplate": "color=blue<br>shape=star<br>Forecast Horizon (hours)=%{x}<br>RMSE Skill Score=%{y}<br>model=%{customdata[0]}<extra></extra>",
         "legendgroup": "LinearRegressionModel",
         "marker": {
          "color": "#EF553B",
          "symbol": "square"
         },
         "mode": "markers",
         "name": "LinearRegressionModel (Winter)",
         "orientation": "v",
         "showlegend": true,
         "type": "scatter",
         "x": [
          1,
          4,
          8,
          24,
          48
         ],
         "xaxis": "x",
         "y": [
          0.7727722672161526,
          0.4976611637286814,
          0.27381241068869744,
          0.0016564408639266892,
          -0.04702976030871375
         ],
         "yaxis": "y"
        },
        {
         "customdata": [
          [
           "NBEATSModel"
          ],
          [
           "NBEATSModel"
          ],
          [
           "NBEATSModel"
          ],
          [
           "NBEATSModel"
          ],
          [
           "NBEATSModel"
          ]
         ],
         "hovertemplate": "color=blue<br>shape=triangle-up<br>Forecast Horizon (hours)=%{x}<br>RMSE Skill Score=%{y}<br>model=%{customdata[0]}<extra></extra>",
         "legendgroup": "NBEATSModel",
         "marker": {
          "color": "#EF553B",
          "symbol": "x"
         },
         "mode": "markers",
         "name": "NBEATSModel (Winter)",
         "orientation": "v",
         "showlegend": true,
         "type": "scatter",
         "x": [
          1,
          4,
          8,
          24,
          48
         ],
         "xaxis": "x",
         "y": [
          0.7528953145971334,
          0.5877827669768331,
          0.4359541892784258,
          0.23147961629453317,
          0.2103661808015641
         ],
         "yaxis": "y"
        },
        {
         "customdata": [
          [
           "RandomForest"
          ],
          [
           "RandomForest"
          ],
          [
           "RandomForest"
          ],
          [
           "RandomForest"
          ],
          [
           "RandomForest"
          ]
         ],
         "hovertemplate": "color=blue<br>shape=circle<br>Forecast Horizon (hours)=%{x}<br>RMSE Skill Score=%{y}<br>model=%{customdata[0]}<extra></extra>",
         "legendgroup": "RandomForest",
         "marker": {
          "color": "#EF553B",
          "symbol": "cross"
         },
         "mode": "markers",
         "name": "RandomForest (Winter)",
         "orientation": "v",
         "showlegend": true,
         "type": "scatter",
         "x": [
          1,
          4,
          8,
          24,
          48
         ],
         "xaxis": "x",
         "y": [
          0.5921520298765479,
          0.5028983770889237,
          0.3983630540720683,
          0.3887450027243844,
          0.32878890462445776
         ],
         "yaxis": "y"
        },
        {
         "customdata": [
          [
           "XGBModel"
          ],
          [
           "XGBModel"
          ],
          [
           "XGBModel"
          ],
          [
           "XGBModel"
          ],
          [
           "XGBModel"
          ]
         ],
         "hovertemplate": "color=blue<br>shape=diamond<br>Forecast Horizon (hours)=%{x}<br>RMSE Skill Score=%{y}<br>model=%{customdata[0]}<extra></extra>",
         "legendgroup": "XGBModel",
         "marker": {
          "color": "#EF553B",
          "symbol": "circle"
         },
         "mode": "markers",
         "name": "XGBModel (Winter)",
         "orientation": "v",
         "showlegend": true,
         "type": "scatter",
         "x": [
          1,
          4,
          8,
          24,
          48
         ],
         "xaxis": "x",
         "y": [
          0.786032855644641,
          0.520819285993737,
          0.37312596237305873,
          0.16232245765730813,
          0.073909656801883
         ],
         "yaxis": "y"
        }
       ],
       "layout": {
        "height": 600,
        "legend": {
         "title": {
          "text": "Model"
         },
         "tracegroupgap": 0
        },
        "template": {
         "data": {
          "bar": [
           {
            "error_x": {
             "color": "#2a3f5f"
            },
            "error_y": {
             "color": "#2a3f5f"
            },
            "marker": {
             "line": {
              "color": "#E5ECF6",
              "width": 0.5
             },
             "pattern": {
              "fillmode": "overlay",
              "size": 10,
              "solidity": 0.2
             }
            },
            "type": "bar"
           }
          ],
          "barpolar": [
           {
            "marker": {
             "line": {
              "color": "#E5ECF6",
              "width": 0.5
             },
             "pattern": {
              "fillmode": "overlay",
              "size": 10,
              "solidity": 0.2
             }
            },
            "type": "barpolar"
           }
          ],
          "carpet": [
           {
            "aaxis": {
             "endlinecolor": "#2a3f5f",
             "gridcolor": "white",
             "linecolor": "white",
             "minorgridcolor": "white",
             "startlinecolor": "#2a3f5f"
            },
            "baxis": {
             "endlinecolor": "#2a3f5f",
             "gridcolor": "white",
             "linecolor": "white",
             "minorgridcolor": "white",
             "startlinecolor": "#2a3f5f"
            },
            "type": "carpet"
           }
          ],
          "choropleth": [
           {
            "colorbar": {
             "outlinewidth": 0,
             "ticks": ""
            },
            "type": "choropleth"
           }
          ],
          "contour": [
           {
            "colorbar": {
             "outlinewidth": 0,
             "ticks": ""
            },
            "colorscale": [
             [
              0,
              "#0d0887"
             ],
             [
              0.1111111111111111,
              "#46039f"
             ],
             [
              0.2222222222222222,
              "#7201a8"
             ],
             [
              0.3333333333333333,
              "#9c179e"
             ],
             [
              0.4444444444444444,
              "#bd3786"
             ],
             [
              0.5555555555555556,
              "#d8576b"
             ],
             [
              0.6666666666666666,
              "#ed7953"
             ],
             [
              0.7777777777777778,
              "#fb9f3a"
             ],
             [
              0.8888888888888888,
              "#fdca26"
             ],
             [
              1,
              "#f0f921"
             ]
            ],
            "type": "contour"
           }
          ],
          "contourcarpet": [
           {
            "colorbar": {
             "outlinewidth": 0,
             "ticks": ""
            },
            "type": "contourcarpet"
           }
          ],
          "heatmap": [
           {
            "colorbar": {
             "outlinewidth": 0,
             "ticks": ""
            },
            "colorscale": [
             [
              0,
              "#0d0887"
             ],
             [
              0.1111111111111111,
              "#46039f"
             ],
             [
              0.2222222222222222,
              "#7201a8"
             ],
             [
              0.3333333333333333,
              "#9c179e"
             ],
             [
              0.4444444444444444,
              "#bd3786"
             ],
             [
              0.5555555555555556,
              "#d8576b"
             ],
             [
              0.6666666666666666,
              "#ed7953"
             ],
             [
              0.7777777777777778,
              "#fb9f3a"
             ],
             [
              0.8888888888888888,
              "#fdca26"
             ],
             [
              1,
              "#f0f921"
             ]
            ],
            "type": "heatmap"
           }
          ],
          "heatmapgl": [
           {
            "colorbar": {
             "outlinewidth": 0,
             "ticks": ""
            },
            "colorscale": [
             [
              0,
              "#0d0887"
             ],
             [
              0.1111111111111111,
              "#46039f"
             ],
             [
              0.2222222222222222,
              "#7201a8"
             ],
             [
              0.3333333333333333,
              "#9c179e"
             ],
             [
              0.4444444444444444,
              "#bd3786"
             ],
             [
              0.5555555555555556,
              "#d8576b"
             ],
             [
              0.6666666666666666,
              "#ed7953"
             ],
             [
              0.7777777777777778,
              "#fb9f3a"
             ],
             [
              0.8888888888888888,
              "#fdca26"
             ],
             [
              1,
              "#f0f921"
             ]
            ],
            "type": "heatmapgl"
           }
          ],
          "histogram": [
           {
            "marker": {
             "pattern": {
              "fillmode": "overlay",
              "size": 10,
              "solidity": 0.2
             }
            },
            "type": "histogram"
           }
          ],
          "histogram2d": [
           {
            "colorbar": {
             "outlinewidth": 0,
             "ticks": ""
            },
            "colorscale": [
             [
              0,
              "#0d0887"
             ],
             [
              0.1111111111111111,
              "#46039f"
             ],
             [
              0.2222222222222222,
              "#7201a8"
             ],
             [
              0.3333333333333333,
              "#9c179e"
             ],
             [
              0.4444444444444444,
              "#bd3786"
             ],
             [
              0.5555555555555556,
              "#d8576b"
             ],
             [
              0.6666666666666666,
              "#ed7953"
             ],
             [
              0.7777777777777778,
              "#fb9f3a"
             ],
             [
              0.8888888888888888,
              "#fdca26"
             ],
             [
              1,
              "#f0f921"
             ]
            ],
            "type": "histogram2d"
           }
          ],
          "histogram2dcontour": [
           {
            "colorbar": {
             "outlinewidth": 0,
             "ticks": ""
            },
            "colorscale": [
             [
              0,
              "#0d0887"
             ],
             [
              0.1111111111111111,
              "#46039f"
             ],
             [
              0.2222222222222222,
              "#7201a8"
             ],
             [
              0.3333333333333333,
              "#9c179e"
             ],
             [
              0.4444444444444444,
              "#bd3786"
             ],
             [
              0.5555555555555556,
              "#d8576b"
             ],
             [
              0.6666666666666666,
              "#ed7953"
             ],
             [
              0.7777777777777778,
              "#fb9f3a"
             ],
             [
              0.8888888888888888,
              "#fdca26"
             ],
             [
              1,
              "#f0f921"
             ]
            ],
            "type": "histogram2dcontour"
           }
          ],
          "mesh3d": [
           {
            "colorbar": {
             "outlinewidth": 0,
             "ticks": ""
            },
            "type": "mesh3d"
           }
          ],
          "parcoords": [
           {
            "line": {
             "colorbar": {
              "outlinewidth": 0,
              "ticks": ""
             }
            },
            "type": "parcoords"
           }
          ],
          "pie": [
           {
            "automargin": true,
            "type": "pie"
           }
          ],
          "scatter": [
           {
            "fillpattern": {
             "fillmode": "overlay",
             "size": 10,
             "solidity": 0.2
            },
            "type": "scatter"
           }
          ],
          "scatter3d": [
           {
            "line": {
             "colorbar": {
              "outlinewidth": 0,
              "ticks": ""
             }
            },
            "marker": {
             "colorbar": {
              "outlinewidth": 0,
              "ticks": ""
             }
            },
            "type": "scatter3d"
           }
          ],
          "scattercarpet": [
           {
            "marker": {
             "colorbar": {
              "outlinewidth": 0,
              "ticks": ""
             }
            },
            "type": "scattercarpet"
           }
          ],
          "scattergeo": [
           {
            "marker": {
             "colorbar": {
              "outlinewidth": 0,
              "ticks": ""
             }
            },
            "type": "scattergeo"
           }
          ],
          "scattergl": [
           {
            "marker": {
             "colorbar": {
              "outlinewidth": 0,
              "ticks": ""
             }
            },
            "type": "scattergl"
           }
          ],
          "scattermapbox": [
           {
            "marker": {
             "colorbar": {
              "outlinewidth": 0,
              "ticks": ""
             }
            },
            "type": "scattermapbox"
           }
          ],
          "scatterpolar": [
           {
            "marker": {
             "colorbar": {
              "outlinewidth": 0,
              "ticks": ""
             }
            },
            "type": "scatterpolar"
           }
          ],
          "scatterpolargl": [
           {
            "marker": {
             "colorbar": {
              "outlinewidth": 0,
              "ticks": ""
             }
            },
            "type": "scatterpolargl"
           }
          ],
          "scatterternary": [
           {
            "marker": {
             "colorbar": {
              "outlinewidth": 0,
              "ticks": ""
             }
            },
            "type": "scatterternary"
           }
          ],
          "surface": [
           {
            "colorbar": {
             "outlinewidth": 0,
             "ticks": ""
            },
            "colorscale": [
             [
              0,
              "#0d0887"
             ],
             [
              0.1111111111111111,
              "#46039f"
             ],
             [
              0.2222222222222222,
              "#7201a8"
             ],
             [
              0.3333333333333333,
              "#9c179e"
             ],
             [
              0.4444444444444444,
              "#bd3786"
             ],
             [
              0.5555555555555556,
              "#d8576b"
             ],
             [
              0.6666666666666666,
              "#ed7953"
             ],
             [
              0.7777777777777778,
              "#fb9f3a"
             ],
             [
              0.8888888888888888,
              "#fdca26"
             ],
             [
              1,
              "#f0f921"
             ]
            ],
            "type": "surface"
           }
          ],
          "table": [
           {
            "cells": {
             "fill": {
              "color": "#EBF0F8"
             },
             "line": {
              "color": "white"
             }
            },
            "header": {
             "fill": {
              "color": "#C8D4E3"
             },
             "line": {
              "color": "white"
             }
            },
            "type": "table"
           }
          ]
         },
         "layout": {
          "annotationdefaults": {
           "arrowcolor": "#2a3f5f",
           "arrowhead": 0,
           "arrowwidth": 1
          },
          "autotypenumbers": "strict",
          "coloraxis": {
           "colorbar": {
            "outlinewidth": 0,
            "ticks": ""
           }
          },
          "colorscale": {
           "diverging": [
            [
             0,
             "#8e0152"
            ],
            [
             0.1,
             "#c51b7d"
            ],
            [
             0.2,
             "#de77ae"
            ],
            [
             0.3,
             "#f1b6da"
            ],
            [
             0.4,
             "#fde0ef"
            ],
            [
             0.5,
             "#f7f7f7"
            ],
            [
             0.6,
             "#e6f5d0"
            ],
            [
             0.7,
             "#b8e186"
            ],
            [
             0.8,
             "#7fbc41"
            ],
            [
             0.9,
             "#4d9221"
            ],
            [
             1,
             "#276419"
            ]
           ],
           "sequential": [
            [
             0,
             "#0d0887"
            ],
            [
             0.1111111111111111,
             "#46039f"
            ],
            [
             0.2222222222222222,
             "#7201a8"
            ],
            [
             0.3333333333333333,
             "#9c179e"
            ],
            [
             0.4444444444444444,
             "#bd3786"
            ],
            [
             0.5555555555555556,
             "#d8576b"
            ],
            [
             0.6666666666666666,
             "#ed7953"
            ],
            [
             0.7777777777777778,
             "#fb9f3a"
            ],
            [
             0.8888888888888888,
             "#fdca26"
            ],
            [
             1,
             "#f0f921"
            ]
           ],
           "sequentialminus": [
            [
             0,
             "#0d0887"
            ],
            [
             0.1111111111111111,
             "#46039f"
            ],
            [
             0.2222222222222222,
             "#7201a8"
            ],
            [
             0.3333333333333333,
             "#9c179e"
            ],
            [
             0.4444444444444444,
             "#bd3786"
            ],
            [
             0.5555555555555556,
             "#d8576b"
            ],
            [
             0.6666666666666666,
             "#ed7953"
            ],
            [
             0.7777777777777778,
             "#fb9f3a"
            ],
            [
             0.8888888888888888,
             "#fdca26"
            ],
            [
             1,
             "#f0f921"
            ]
           ]
          },
          "colorway": [
           "#636efa",
           "#EF553B",
           "#00cc96",
           "#ab63fa",
           "#FFA15A",
           "#19d3f3",
           "#FF6692",
           "#B6E880",
           "#FF97FF",
           "#FECB52"
          ],
          "font": {
           "color": "#2a3f5f"
          },
          "geo": {
           "bgcolor": "white",
           "lakecolor": "white",
           "landcolor": "#E5ECF6",
           "showlakes": true,
           "showland": true,
           "subunitcolor": "white"
          },
          "hoverlabel": {
           "align": "left"
          },
          "hovermode": "closest",
          "mapbox": {
           "style": "light"
          },
          "paper_bgcolor": "white",
          "plot_bgcolor": "#E5ECF6",
          "polar": {
           "angularaxis": {
            "gridcolor": "white",
            "linecolor": "white",
            "ticks": ""
           },
           "bgcolor": "#E5ECF6",
           "radialaxis": {
            "gridcolor": "white",
            "linecolor": "white",
            "ticks": ""
           }
          },
          "scene": {
           "xaxis": {
            "backgroundcolor": "#E5ECF6",
            "gridcolor": "white",
            "gridwidth": 2,
            "linecolor": "white",
            "showbackground": true,
            "ticks": "",
            "zerolinecolor": "white"
           },
           "yaxis": {
            "backgroundcolor": "#E5ECF6",
            "gridcolor": "white",
            "gridwidth": 2,
            "linecolor": "white",
            "showbackground": true,
            "ticks": "",
            "zerolinecolor": "white"
           },
           "zaxis": {
            "backgroundcolor": "#E5ECF6",
            "gridcolor": "white",
            "gridwidth": 2,
            "linecolor": "white",
            "showbackground": true,
            "ticks": "",
            "zerolinecolor": "white"
           }
          },
          "shapedefaults": {
           "line": {
            "color": "#2a3f5f"
           }
          },
          "ternary": {
           "aaxis": {
            "gridcolor": "white",
            "linecolor": "white",
            "ticks": ""
           },
           "baxis": {
            "gridcolor": "white",
            "linecolor": "white",
            "ticks": ""
           },
           "bgcolor": "#E5ECF6",
           "caxis": {
            "gridcolor": "white",
            "linecolor": "white",
            "ticks": ""
           }
          },
          "title": {
           "x": 0.05
          },
          "xaxis": {
           "automargin": true,
           "gridcolor": "white",
           "linecolor": "white",
           "ticks": "",
           "title": {
            "standoff": 15
           },
           "zerolinecolor": "white",
           "zerolinewidth": 2
          },
          "yaxis": {
           "automargin": true,
           "gridcolor": "white",
           "linecolor": "white",
           "ticks": "",
           "title": {
            "standoff": 15
           },
           "zerolinecolor": "white",
           "zerolinewidth": 2
          }
         }
        },
        "title": {
         "text": "RMSE Skill Score Compared to 24-Persistence over Forecast Horizon - 1_countyinLos_Angeles"
        },
        "width": 900,
        "xaxis": {
         "anchor": "y",
         "domain": [
          0,
          1
         ],
         "tickmode": "array",
         "tickvals": [
          1,
          4,
          8,
          24,
          48
         ],
         "title": {
          "text": "Forecast Horizon (hours)"
         }
        },
        "yaxis": {
         "anchor": "x",
         "domain": [
          0,
          1
         ],
         "title": {
          "text": "RMSE Skill Score"
         }
        }
       }
      }
     },
     "metadata": {},
     "output_type": "display_data"
    }
   ],
   "source": [
    "\n",
    "\n",
    "for name, df in dfs_sorted.items():\n",
    "\n",
    "    # Define colors and shapes based on the season and model\n",
    "    season2color = {'Summer': 'orange', 'Winter': 'blue'}\n",
    "    color2season = {v: k for k, v in season2color.items()}\n",
    "    model2shape = {\n",
    "        'RandomForest': 'circle',\n",
    "        'LightGBMModel': 'square',\n",
    "        'XGBModel': 'diamond',\n",
    "        'BlockRNNModel': 'cross',\n",
    "        'NBEATSModel': 'triangle-up',\n",
    "        'LinearRegressionModel': 'star'\n",
    "    }\n",
    "    shape2model = {v: k for k, v in model2shape.items()}\n",
    "\n",
    "\n",
    "\n",
    "\n",
    "    # Map the colors and shapes to the DataFrame\n",
    "    df['color'] = df['season'].map(season2color)\n",
    "    df['shape'] = df['model'].map(model2shape)\n",
    "\n",
    "    # Create the scatter plot\n",
    "    fig = px.scatter(\n",
    "        df,\n",
    "        x='horizon_in_hours',\n",
    "        y='rmse_skill_score',\n",
    "        color='color',\n",
    "        symbol='shape',\n",
    "        #symbol_sequence= list(model2shape.values()),\n",
    "        hover_data=['model'],\n",
    "        title=f'RMSE Skill Score Compared to 24-Persistence over Forecast Horizon - {name}',\n",
    "        labels={'rmse_skill_score': 'RMSE Skill Score', 'horizon_in_hours': 'Forecast Horizon (hours)'}\n",
    "\n",
    "            \n",
    "    )\n",
    "\n",
    "    # set the x ticks and rename the legend\n",
    "    fig.update_layout(\n",
    "        xaxis=dict(\n",
    "            tickmode='array',\n",
    "            tickvals=[1, 4, 8, 24, 48],\n",
    "        ),\n",
    "        legend_title_text='Model',\n",
    "    )\n",
    "\n",
    "    for i in range(len(fig.data)):\n",
    "        current_name = fig.data[i]['name']\n",
    "        color, shape = current_name.split(', ')\n",
    "        fig.data[i]['name'] = f'{shape2model[shape]} ({color2season[color]})'\n",
    "        fig.data[i]['legendgroup'] = f'{shape2model[shape]}'\n",
    "\n",
    "    # Update the figure size\n",
    "    fig.update_layout(width=900, height=600)\n",
    "    \n",
    "    fig.show()\n"
   ]
  },
  {
   "attachments": {},
   "cell_type": "markdown",
   "metadata": {},
   "source": [
    "## Paper Figures & Tables"
   ]
  },
  {
   "attachments": {},
   "cell_type": "markdown",
   "metadata": {},
   "source": [
    "### Plot 1: Skill Score vs Horizon for each model and season"
   ]
  },
  {
   "cell_type": "code",
   "execution_count": 67,
   "metadata": {},
   "outputs": [
    {
     "data": {
      "image/png": "[encoded data removed]",
      "text/plain": [
       "<Figure size 1500x500 with 3 Axes>"
      ]
     },
     "metadata": {},
     "output_type": "display_data"
    }
   ],
   "source": [
    "\n",
    "spatial_scale = 'county'\n",
    "\n",
    "metric_of_interest = 'rmse_skill_score'\n",
    "\n",
    "metric_dict = {'mape': 'Mean Absolute Percentage Error (MAPE)',\n",
    "               'rmse': 'Root Mean Squared Error (RMSE)',\n",
    "                'mae': 'Mean Absolute Error (MAE)',\n",
    "                'smape': 'Symmetric Mean Absolute Percentage Error (SMAPE)',\n",
    "                'rmse_skill_score': 'RMSE Skill Score',\n",
    "                'r2_score': 'R2 Score',\n",
    "                }\n",
    "\n",
    "\n",
    "dfs_sorted_plot = dfs_sorted.copy()\n",
    "keys = list(dfs_sorted_plot.keys())\n",
    "for key in keys:\n",
    "    if not spatial_scale in key:\n",
    "        del dfs_sorted_plot[key]\n",
    "\n",
    "\n",
    "# Define colors and shapes based on the season and model\n",
    "season2color = {'Summer': 'orange', 'Winter': 'blue'}\n",
    "color2season = {v: k for k, v in season2color.items()}\n",
    "model2shape = {\n",
    "    'RandomForest': 'o',\n",
    "    'LightGBMModel': 's',\n",
    "    'XGBModel': 'D',\n",
    "    'BlockRNNModel': 'x',\n",
    "    'NBEATSModel': '^',\n",
    "    'LinearRegressionModel': '*'\n",
    "}\n",
    "shape2model = {v: k for k, v in model2shape.items()}\n",
    "\n",
    "fig, axs = plt.subplots(1, len(dfs_sorted_plot), figsize=(5*len(dfs_sorted_plot),5), sharex=True, sharey=True)\n",
    "axs = axs.ravel()\n",
    "\n",
    "# Create a list to store the handles and labels for the legend\n",
    "legend_handles = []\n",
    "legend_labels = []\n",
    "\n",
    "for i, ax in enumerate(axs):\n",
    "    # Map the colors and shapes to the DataFrame\n",
    "    name, df = list(dfs_sorted_plot.items())[i]\n",
    "    df['color'] = df['season'].map(season2color)\n",
    "    df['shape'] = df['model'].map(model2shape)\n",
    "\n",
    "    for shape in set(df['shape']):\n",
    "        for color in set(df.loc[df['shape'] == shape, 'color']):\n",
    "            x = df.loc[(df['shape'] == shape) & (df['color'] == color), 'horizon_in_hours']\n",
    "            y = df.loc[(df['shape'] == shape) & (df['color'] == color), metric_of_interest]\n",
    "            label = f'{shape2model[shape]} ({color2season[color]})'\n",
    "            scatter = ax.scatter(x, y, c=color, marker=shape, label=label)\n",
    "            if label not in legend_labels:\n",
    "                legend_handles.append(scatter)\n",
    "                legend_labels.append(label)\n",
    "\n",
    "    # Set the x ticks and labels\n",
    "    ax.set_xticks([1, 4, 8, 24, 48])\n",
    "    ax.set_xlabel('Forecast Horizon (hours)')\n",
    "\n",
    "    # Set the y label\n",
    "    if i == 0:\n",
    "        ax.set_ylabel(f'{metric_dict[metric_of_interest]}')\n",
    "\n",
    "    # Set the title for each subplot\n",
    "    ax.set_title(f'{name.split(\"in\")[-1].replace(\"_\", \" \")}')\n",
    "\n",
    "    # Add grid for each subplot\n",
    "    ax.grid(True)\n",
    "\n",
    "    # Add a horizontal red dashed line at y = 0\n",
    "    if metric_of_interest == 'rmse_skill_score':\n",
    "        ax.axhline(y=0, color='red', linestyle='--')\n",
    "\n",
    "# Create a single legend for all subplots\n",
    "fig.legend(handles=legend_handles, labels=legend_labels, title='Model', loc='lower center', bbox_to_anchor=(0.5, -0.25), ncol=3)\n",
    "\n",
    "# Adjust the spacing between subplots\n",
    "fig.tight_layout()\n",
    "\n",
    "# Show the plot\n",
    "plt.show()\n"
   ]
  },
  {
   "cell_type": "code",
   "execution_count": 68,
   "metadata": {},
   "outputs": [],
   "source": [
    "for format in ['png', 'pdf']:\n",
    "    fig.savefig(os.path.join(os.getcwd(),'imgs','figures',f'{spatial_scale}{metric_of_interest}.{format}'), bbox_inches='tight')"
   ]
  },
  {
   "attachments": {},
   "cell_type": "markdown",
   "metadata": {},
   "source": [
    "### Plot 2: Side by side comparison of models for each season for a selected week"
   ]
  },
  {
   "cell_type": "code",
   "execution_count": null,
   "metadata": {},
   "outputs": [],
   "source": []
  }
 ],
 "metadata": {
  "kernelspec": {
   "display_name": "gpu2",
   "language": "python",
   "name": "python3"
  },
  "language_info": {
   "codemirror_mode": {
    "name": "ipython",
    "version": 3
   },
   "file_extension": ".py",
   "mimetype": "text/x-python",
   "name": "python",
   "nbconvert_exporter": "python",
   "pygments_lexer": "ipython3",
   "version": "3.10.9"
  },
  "orig_nbformat": 4
 },
 "nbformat": 4,
 "nbformat_minor": 2
}
