{
 "cells": [
  {
   "cell_type": "code",
   "execution_count": 1,
   "metadata": {},
   "outputs": [],
   "source": [
    "import os\n",
    "import json\n",
    "import wandb\n",
    "import pandas as pd\n",
    "import numpy as np\n",
    "import matplotlib.pyplot as plt\n",
    "import plotly.express as px\n",
    "import plotly.graph_objects as go\n",
    "import warnings\n",
    "warnings.filterwarnings('ignore')\n",
    "# Set seed\n",
    "np.random.seed(42)"
   ]
  },
  {
   "cell_type": "code",
   "execution_count": 2,
   "metadata": {},
   "outputs": [
    {
     "name": "stderr",
     "output_type": "stream",
     "text": [
      "Failed to detect the name of this notebook, you can set it manually with the WANDB_NOTEBOOK_NAME environment variable to enable code saving.\n",
      "\u001b[34m\u001b[1mwandb\u001b[0m: Currently logged in as: \u001b[33mnikolaushouben\u001b[0m (\u001b[33mwattcast\u001b[0m). Use \u001b[1m`wandb login --relogin`\u001b[0m to force relogin\n"
     ]
    },
    {
     "data": {
      "text/plain": [
       "True"
      ]
     },
     "execution_count": 2,
     "metadata": {},
     "output_type": "execute_result"
    }
   ],
   "source": [
    "wandb.login()"
   ]
  },
  {
   "cell_type": "code",
   "execution_count": 141,
   "metadata": {},
   "outputs": [
    {
     "ename": "KeyError",
     "evalue": "'results_synthesis'",
     "output_type": "error",
     "traceback": [
      "\u001b[1;31m---------------------------------------------------------------------------\u001b[0m",
      "\u001b[1;31mKeyError\u001b[0m                                  Traceback (most recent call last)",
      "Cell \u001b[1;32mIn[141], line 17\u001b[0m\n\u001b[0;32m     14\u001b[0m     n \u001b[39m=\u001b[39m n\u001b[39m.\u001b[39mreplace(\u001b[39m'\u001b[39m\u001b[39m_in_\u001b[39m\u001b[39m'\u001b[39m, \u001b[39m'\u001b[39m\u001b[39min\u001b[39m\u001b[39m'\u001b[39m)\n\u001b[0;32m     15\u001b[0m     name_id_dict[n] \u001b[39m=\u001b[39m run_\u001b[39m.\u001b[39mid\n\u001b[1;32m---> 17\u001b[0m \u001b[39mdel\u001b[39;00m name_id_dict[\u001b[39m'\u001b[39m\u001b[39mresults_synthesis\u001b[39m\u001b[39m'\u001b[39m]\n",
      "\u001b[1;31mKeyError\u001b[0m: 'results_synthesis'"
     ]
    }
   ],
   "source": [
    "project_name = \"WattCast\"\n",
    "\n",
    "# Initialize your project\n",
    "api = wandb.Api()\n",
    "runs = api.runs(project_name)\n",
    "\n",
    "name_id_dict = {}\n",
    "\n",
    "for run_ in runs:\n",
    "    l = run_.name.split('_')[:-1]\n",
    "    l.insert(2, 'in')\n",
    "    n = '_'.join(l)\n",
    "    # remove the _ around in\n",
    "    n = n.replace('_in_', 'in')\n",
    "    name_id_dict[n] = run_.id\n",
    "\n",
    "del name_id_dict['results_synthesis']"
   ]
  },
  {
   "cell_type": "code",
   "execution_count": 144,
   "metadata": {},
   "outputs": [],
   "source": [
    "key_list = list(name_id_dict.keys())\n",
    "for key in key_list:\n",
    "    if key[0] not in ['1', '2', '3', '4', '5']:\n",
    "        del name_id_dict[key]"
   ]
  },
  {
   "cell_type": "code",
   "execution_count": null,
   "metadata": {},
   "outputs": [],
   "source": [
    "run = wandb.init(project='WattCast', name='results_synthesis')\n"
   ]
  },
  {
   "cell_type": "code",
   "execution_count": 147,
   "metadata": {},
   "outputs": [
    {
     "name": "stdout",
     "output_type": "stream",
     "text": [
      "Error for 3_villageinvillage_0\n"
     ]
    },
    {
     "name": "stderr",
     "output_type": "stream",
     "text": [
      "\u001b[34m\u001b[1mwandb\u001b[0m:   1 of 1 files downloaded.  \n"
     ]
    },
    {
     "data": {
      "application/vnd.plotly.v1+json": {
       "config": {
        "plotlyServerURL": "https://plot.ly"
       },
       "data": [
        {
         "customdata": [
          [
           "LightGBMModel"
          ],
          [
           "LightGBMModel"
          ],
          [
           "LightGBMModel"
          ],
          [
           "LightGBMModel"
          ],
          [
           "LightGBMModel"
          ]
         ],
         "hovertemplate": "color=orange<br>shape=square<br>Forecast Horizon (hours)=%{x}<br>RMSE Skill Score=%{y}<br>model=%{customdata[0]}<extra></extra>",
         "legendgroup": "LightGBMModel",
         "marker": {
          "color": "#636efa",
          "symbol": "circle"
         },
         "mode": "markers",
         "name": "LightGBMModel (Summer)",
         "orientation": "v",
         "showlegend": true,
         "type": "scatter",
         "x": [
          1,
          4,
          8,
          24,
          48
         ],
         "xaxis": "x",
         "y": [
          0.36695994108025987,
          0.08541124499713781,
          -0.007910092641891575,
          -0.0218627048788389,
          -0.21186563906189804
         ],
         "yaxis": "y"
        },
        {
         "customdata": [
          [
           "XGBModel"
          ],
          [
           "XGBModel"
          ],
          [
           "XGBModel"
          ],
          [
           "XGBModel"
          ],
          [
           "XGBModel"
          ]
         ],
         "hovertemplate": "color=orange<br>shape=diamond<br>Forecast Horizon (hours)=%{x}<br>RMSE Skill Score=%{y}<br>model=%{customdata[0]}<extra></extra>",
         "legendgroup": "XGBModel",
         "marker": {
          "color": "#636efa",
          "symbol": "square"
         },
         "mode": "markers",
         "name": "XGBModel (Summer)",
         "orientation": "v",
         "showlegend": true,
         "type": "scatter",
         "x": [
          1,
          4,
          8,
          24,
          48
         ],
         "xaxis": "x",
         "y": [
          0.3560695818335343,
          0.10104852956600607,
          0.019777807718339813,
          0.04150849172918569,
          -0.10308239176699008
         ],
         "yaxis": "y"
        },
        {
         "customdata": [
          [
           "BlockRNNModel"
          ],
          [
           "BlockRNNModel"
          ],
          [
           "BlockRNNModel"
          ],
          [
           "BlockRNNModel"
          ],
          [
           "BlockRNNModel"
          ]
         ],
         "hovertemplate": "color=orange<br>shape=cross<br>Forecast Horizon (hours)=%{x}<br>RMSE Skill Score=%{y}<br>model=%{customdata[0]}<extra></extra>",
         "legendgroup": "BlockRNNModel",
         "marker": {
          "color": "#636efa",
          "symbol": "diamond"
         },
         "mode": "markers",
         "name": "BlockRNNModel (Summer)",
         "orientation": "v",
         "showlegend": true,
         "type": "scatter",
         "x": [
          1,
          4,
          8,
          24,
          48
         ],
         "xaxis": "x",
         "y": [
          0.24928767704234456,
          -0.03234113950799933,
          -0.1850341197928329,
          -0.04005391005540093,
          -0.2952971690156103
         ],
         "yaxis": "y"
        },
        {
         "customdata": [
          [
           "NBEATSModel"
          ],
          [
           "NBEATSModel"
          ],
          [
           "NBEATSModel"
          ],
          [
           "NBEATSModel"
          ],
          [
           "NBEATSModel"
          ]
         ],
         "hovertemplate": "color=orange<br>shape=triangle-up<br>Forecast Horizon (hours)=%{x}<br>RMSE Skill Score=%{y}<br>model=%{customdata[0]}<extra></extra>",
         "legendgroup": "NBEATSModel",
         "marker": {
          "color": "#636efa",
          "symbol": "cross"
         },
         "mode": "markers",
         "name": "NBEATSModel (Summer)",
         "orientation": "v",
         "showlegend": true,
         "type": "scatter",
         "x": [
          1,
          4,
          8,
          24,
          48
         ],
         "xaxis": "x",
         "y": [
          0.29682257673517165,
          0.11417525505620785,
          0.02314625084293709,
          0.0003645644313394758,
          -0.1955427712964577
         ],
         "yaxis": "y"
        },
        {
         "customdata": [
          [
           "LinearRegressionModel"
          ],
          [
           "LinearRegressionModel"
          ],
          [
           "LinearRegressionModel"
          ],
          [
           "LinearRegressionModel"
          ],
          [
           "LinearRegressionModel"
          ]
         ],
         "hovertemplate": "color=orange<br>shape=star<br>Forecast Horizon (hours)=%{x}<br>RMSE Skill Score=%{y}<br>model=%{customdata[0]}<extra></extra>",
         "legendgroup": "LinearRegressionModel",
         "marker": {
          "color": "#636efa",
          "symbol": "triangle-up"
         },
         "mode": "markers",
         "name": "LinearRegressionModel (Summer)",
         "orientation": "v",
         "showlegend": true,
         "type": "scatter",
         "x": [
          1,
          4,
          8,
          24,
          48
         ],
         "xaxis": "x",
         "y": [
          0.3127318947242427,
          0.1402710567121066,
          0.009081368959089953,
          0.004802712836353695,
          -0.18441815742016576
         ],
         "yaxis": "y"
        },
        {
         "customdata": [
          [
           "RandomForest"
          ],
          [
           "RandomForest"
          ],
          [
           "RandomForest"
          ],
          [
           "RandomForest"
          ],
          [
           "RandomForest"
          ]
         ],
         "hovertemplate": "color=orange<br>shape=circle<br>Forecast Horizon (hours)=%{x}<br>RMSE Skill Score=%{y}<br>model=%{customdata[0]}<extra></extra>",
         "legendgroup": "RandomForest",
         "marker": {
          "color": "#636efa",
          "symbol": "star"
         },
         "mode": "markers",
         "name": "RandomForest (Summer)",
         "orientation": "v",
         "showlegend": true,
         "type": "scatter",
         "x": [
          1,
          4,
          8,
          24,
          48
         ],
         "xaxis": "x",
         "y": [
          0.13356656065226302,
          0.022253542950635974,
          -0.05840141312802283,
          -0.1066539819229746,
          -0.3378104789886871
         ],
         "yaxis": "y"
        },
        {
         "customdata": [
          [
           "LightGBMModel"
          ],
          [
           "LightGBMModel"
          ],
          [
           "LightGBMModel"
          ],
          [
           "LightGBMModel"
          ],
          [
           "LightGBMModel"
          ]
         ],
         "hovertemplate": "color=blue<br>shape=square<br>Forecast Horizon (hours)=%{x}<br>RMSE Skill Score=%{y}<br>model=%{customdata[0]}<extra></extra>",
         "legendgroup": "LightGBMModel",
         "marker": {
          "color": "#EF553B",
          "symbol": "circle"
         },
         "mode": "markers",
         "name": "LightGBMModel (Winter)",
         "orientation": "v",
         "showlegend": true,
         "type": "scatter",
         "x": [
          1,
          4,
          8,
          24,
          48
         ],
         "xaxis": "x",
         "y": [
          0.4056611880756018,
          0.2517792667442532,
          0.4501665274547537,
          0.24789608068696756,
          0.1163519604419101
         ],
         "yaxis": "y"
        },
        {
         "customdata": [
          [
           "XGBModel"
          ],
          [
           "XGBModel"
          ],
          [
           "XGBModel"
          ],
          [
           "XGBModel"
          ],
          [
           "XGBModel"
          ]
         ],
         "hovertemplate": "color=blue<br>shape=diamond<br>Forecast Horizon (hours)=%{x}<br>RMSE Skill Score=%{y}<br>model=%{customdata[0]}<extra></extra>",
         "legendgroup": "XGBModel",
         "marker": {
          "color": "#EF553B",
          "symbol": "square"
         },
         "mode": "markers",
         "name": "XGBModel (Winter)",
         "orientation": "v",
         "showlegend": true,
         "type": "scatter",
         "x": [
          1,
          4,
          8,
          24,
          48
         ],
         "xaxis": "x",
         "y": [
          0.49657287729511956,
          0.3625691232411691,
          0.4525694857526238,
          0.35785566426198057,
          0.20197021552081074
         ],
         "yaxis": "y"
        },
        {
         "customdata": [
          [
           "BlockRNNModel"
          ],
          [
           "BlockRNNModel"
          ],
          [
           "BlockRNNModel"
          ],
          [
           "BlockRNNModel"
          ],
          [
           "BlockRNNModel"
          ]
         ],
         "hovertemplate": "color=blue<br>shape=cross<br>Forecast Horizon (hours)=%{x}<br>RMSE Skill Score=%{y}<br>model=%{customdata[0]}<extra></extra>",
         "legendgroup": "BlockRNNModel",
         "marker": {
          "color": "#EF553B",
          "symbol": "diamond"
         },
         "mode": "markers",
         "name": "BlockRNNModel (Winter)",
         "orientation": "v",
         "showlegend": true,
         "type": "scatter",
         "x": [
          1,
          4,
          8,
          24,
          48
         ],
         "xaxis": "x",
         "y": [
          0.4245861922214629,
          0.4106843424108454,
          0.3989991334867057,
          0.26920907743697897,
          0.2369430251068495
         ],
         "yaxis": "y"
        },
        {
         "customdata": [
          [
           "NBEATSModel"
          ],
          [
           "NBEATSModel"
          ],
          [
           "NBEATSModel"
          ],
          [
           "NBEATSModel"
          ],
          [
           "NBEATSModel"
          ]
         ],
         "hovertemplate": "color=blue<br>shape=triangle-up<br>Forecast Horizon (hours)=%{x}<br>RMSE Skill Score=%{y}<br>model=%{customdata[0]}<extra></extra>",
         "legendgroup": "NBEATSModel",
         "marker": {
          "color": "#EF553B",
          "symbol": "cross"
         },
         "mode": "markers",
         "name": "NBEATSModel (Winter)",
         "orientation": "v",
         "showlegend": true,
         "type": "scatter",
         "x": [
          1,
          4,
          8,
          24,
          48
         ],
         "xaxis": "x",
         "y": [
          0.5086969092916911,
          0.4525589284056326,
          0.41997006632401923,
          0.40179520284939463,
          0.3537557654152257
         ],
         "yaxis": "y"
        },
        {
         "customdata": [
          [
           "LinearRegressionModel"
          ],
          [
           "LinearRegressionModel"
          ],
          [
           "LinearRegressionModel"
          ],
          [
           "LinearRegressionModel"
          ],
          [
           "LinearRegressionModel"
          ]
         ],
         "hovertemplate": "color=blue<br>shape=star<br>Forecast Horizon (hours)=%{x}<br>RMSE Skill Score=%{y}<br>model=%{customdata[0]}<extra></extra>",
         "legendgroup": "LinearRegressionModel",
         "marker": {
          "color": "#EF553B",
          "symbol": "triangle-up"
         },
         "mode": "markers",
         "name": "LinearRegressionModel (Winter)",
         "orientation": "v",
         "showlegend": true,
         "type": "scatter",
         "x": [
          1,
          4,
          8,
          24,
          48
         ],
         "xaxis": "x",
         "y": [
          0.40208961153434597,
          0.3588898217628351,
          0.3283747120940611,
          0.19340994181559867,
          0.021737382091855717
         ],
         "yaxis": "y"
        },
        {
         "customdata": [
          [
           "RandomForest"
          ],
          [
           "RandomForest"
          ],
          [
           "RandomForest"
          ],
          [
           "RandomForest"
          ],
          [
           "RandomForest"
          ]
         ],
         "hovertemplate": "color=blue<br>shape=circle<br>Forecast Horizon (hours)=%{x}<br>RMSE Skill Score=%{y}<br>model=%{customdata[0]}<extra></extra>",
         "legendgroup": "RandomForest",
         "marker": {
          "color": "#EF553B",
          "symbol": "star"
         },
         "mode": "markers",
         "name": "RandomForest (Winter)",
         "orientation": "v",
         "showlegend": true,
         "type": "scatter",
         "x": [
          1,
          4,
          8,
          24,
          48
         ],
         "xaxis": "x",
         "y": [
          0.5417159689286397,
          0.5112316078191754,
          0.509292451848452,
          0.5147251501747795,
          0.5178827187101915
         ],
         "yaxis": "y"
        }
       ],
       "layout": {
        "height": 600,
        "legend": {
         "title": {
          "text": "Model"
         },
         "tracegroupgap": 0
        },
        "template": {
         "data": {
          "bar": [
           {
            "error_x": {
             "color": "#2a3f5f"
            },
            "error_y": {
             "color": "#2a3f5f"
            },
            "marker": {
             "line": {
              "color": "#E5ECF6",
              "width": 0.5
             },
             "pattern": {
              "fillmode": "overlay",
              "size": 10,
              "solidity": 0.2
             }
            },
            "type": "bar"
           }
          ],
          "barpolar": [
           {
            "marker": {
             "line": {
              "color": "#E5ECF6",
              "width": 0.5
             },
             "pattern": {
              "fillmode": "overlay",
              "size": 10,
              "solidity": 0.2
             }
            },
            "type": "barpolar"
           }
          ],
          "carpet": [
           {
            "aaxis": {
             "endlinecolor": "#2a3f5f",
             "gridcolor": "white",
             "linecolor": "white",
             "minorgridcolor": "white",
             "startlinecolor": "#2a3f5f"
            },
            "baxis": {
             "endlinecolor": "#2a3f5f",
             "gridcolor": "white",
             "linecolor": "white",
             "minorgridcolor": "white",
             "startlinecolor": "#2a3f5f"
            },
            "type": "carpet"
           }
          ],
          "choropleth": [
           {
            "colorbar": {
             "outlinewidth": 0,
             "ticks": ""
            },
            "type": "choropleth"
           }
          ],
          "contour": [
           {
            "colorbar": {
             "outlinewidth": 0,
             "ticks": ""
            },
            "colorscale": [
             [
              0,
              "#0d0887"
             ],
             [
              0.1111111111111111,
              "#46039f"
             ],
             [
              0.2222222222222222,
              "#7201a8"
             ],
             [
              0.3333333333333333,
              "#9c179e"
             ],
             [
              0.4444444444444444,
              "#bd3786"
             ],
             [
              0.5555555555555556,
              "#d8576b"
             ],
             [
              0.6666666666666666,
              "#ed7953"
             ],
             [
              0.7777777777777778,
              "#fb9f3a"
             ],
             [
              0.8888888888888888,
              "#fdca26"
             ],
             [
              1,
              "#f0f921"
             ]
            ],
            "type": "contour"
           }
          ],
          "contourcarpet": [
           {
            "colorbar": {
             "outlinewidth": 0,
             "ticks": ""
            },
            "type": "contourcarpet"
           }
          ],
          "heatmap": [
           {
            "colorbar": {
             "outlinewidth": 0,
             "ticks": ""
            },
            "colorscale": [
             [
              0,
              "#0d0887"
             ],
             [
              0.1111111111111111,
              "#46039f"
             ],
             [
              0.2222222222222222,
              "#7201a8"
             ],
             [
              0.3333333333333333,
              "#9c179e"
             ],
             [
              0.4444444444444444,
              "#bd3786"
             ],
             [
              0.5555555555555556,
              "#d8576b"
             ],
             [
              0.6666666666666666,
              "#ed7953"
             ],
             [
              0.7777777777777778,
              "#fb9f3a"
             ],
             [
              0.8888888888888888,
              "#fdca26"
             ],
             [
              1,
              "#f0f921"
             ]
            ],
            "type": "heatmap"
           }
          ],
          "heatmapgl": [
           {
            "colorbar": {
             "outlinewidth": 0,
             "ticks": ""
            },
            "colorscale": [
             [
              0,
              "#0d0887"
             ],
             [
              0.1111111111111111,
              "#46039f"
             ],
             [
              0.2222222222222222,
              "#7201a8"
             ],
             [
              0.3333333333333333,
              "#9c179e"
             ],
             [
              0.4444444444444444,
              "#bd3786"
             ],
             [
              0.5555555555555556,
              "#d8576b"
             ],
             [
              0.6666666666666666,
              "#ed7953"
             ],
             [
              0.7777777777777778,
              "#fb9f3a"
             ],
             [
              0.8888888888888888,
              "#fdca26"
             ],
             [
              1,
              "#f0f921"
             ]
            ],
            "type": "heatmapgl"
           }
          ],
          "histogram": [
           {
            "marker": {
             "pattern": {
              "fillmode": "overlay",
              "size": 10,
              "solidity": 0.2
             }
            },
            "type": "histogram"
           }
          ],
          "histogram2d": [
           {
            "colorbar": {
             "outlinewidth": 0,
             "ticks": ""
            },
            "colorscale": [
             [
              0,
              "#0d0887"
             ],
             [
              0.1111111111111111,
              "#46039f"
             ],
             [
              0.2222222222222222,
              "#7201a8"
             ],
             [
              0.3333333333333333,
              "#9c179e"
             ],
             [
              0.4444444444444444,
              "#bd3786"
             ],
             [
              0.5555555555555556,
              "#d8576b"
             ],
             [
              0.6666666666666666,
              "#ed7953"
             ],
             [
              0.7777777777777778,
              "#fb9f3a"
             ],
             [
              0.8888888888888888,
              "#fdca26"
             ],
             [
              1,
              "#f0f921"
             ]
            ],
            "type": "histogram2d"
           }
          ],
          "histogram2dcontour": [
           {
            "colorbar": {
             "outlinewidth": 0,
             "ticks": ""
            },
            "colorscale": [
             [
              0,
              "#0d0887"
             ],
             [
              0.1111111111111111,
              "#46039f"
             ],
             [
              0.2222222222222222,
              "#7201a8"
             ],
             [
              0.3333333333333333,
              "#9c179e"
             ],
             [
              0.4444444444444444,
              "#bd3786"
             ],
             [
              0.5555555555555556,
              "#d8576b"
             ],
             [
              0.6666666666666666,
              "#ed7953"
             ],
             [
              0.7777777777777778,
              "#fb9f3a"
             ],
             [
              0.8888888888888888,
              "#fdca26"
             ],
             [
              1,
              "#f0f921"
             ]
            ],
            "type": "histogram2dcontour"
           }
          ],
          "mesh3d": [
           {
            "colorbar": {
             "outlinewidth": 0,
             "ticks": ""
            },
            "type": "mesh3d"
           }
          ],
          "parcoords": [
           {
            "line": {
             "colorbar": {
              "outlinewidth": 0,
              "ticks": ""
             }
            },
            "type": "parcoords"
           }
          ],
          "pie": [
           {
            "automargin": true,
            "type": "pie"
           }
          ],
          "scatter": [
           {
            "fillpattern": {
             "fillmode": "overlay",
             "size": 10,
             "solidity": 0.2
            },
            "type": "scatter"
           }
          ],
          "scatter3d": [
           {
            "line": {
             "colorbar": {
              "outlinewidth": 0,
              "ticks": ""
             }
            },
            "marker": {
             "colorbar": {
              "outlinewidth": 0,
              "ticks": ""
             }
            },
            "type": "scatter3d"
           }
          ],
          "scattercarpet": [
           {
            "marker": {
             "colorbar": {
              "outlinewidth": 0,
              "ticks": ""
             }
            },
            "type": "scattercarpet"
           }
          ],
          "scattergeo": [
           {
            "marker": {
             "colorbar": {
              "outlinewidth": 0,
              "ticks": ""
             }
            },
            "type": "scattergeo"
           }
          ],
          "scattergl": [
           {
            "marker": {
             "colorbar": {
              "outlinewidth": 0,
              "ticks": ""
             }
            },
            "type": "scattergl"
           }
          ],
          "scattermapbox": [
           {
            "marker": {
             "colorbar": {
              "outlinewidth": 0,
              "ticks": ""
             }
            },
            "type": "scattermapbox"
           }
          ],
          "scatterpolar": [
           {
            "marker": {
             "colorbar": {
              "outlinewidth": 0,
              "ticks": ""
             }
            },
            "type": "scatterpolar"
           }
          ],
          "scatterpolargl": [
           {
            "marker": {
             "colorbar": {
              "outlinewidth": 0,
              "ticks": ""
             }
            },
            "type": "scatterpolargl"
           }
          ],
          "scatterternary": [
           {
            "marker": {
             "colorbar": {
              "outlinewidth": 0,
              "ticks": ""
             }
            },
            "type": "scatterternary"
           }
          ],
          "surface": [
           {
            "colorbar": {
             "outlinewidth": 0,
             "ticks": ""
            },
            "colorscale": [
             [
              0,
              "#0d0887"
             ],
             [
              0.1111111111111111,
              "#46039f"
             ],
             [
              0.2222222222222222,
              "#7201a8"
             ],
             [
              0.3333333333333333,
              "#9c179e"
             ],
             [
              0.4444444444444444,
              "#bd3786"
             ],
             [
              0.5555555555555556,
              "#d8576b"
             ],
             [
              0.6666666666666666,
              "#ed7953"
             ],
             [
              0.7777777777777778,
              "#fb9f3a"
             ],
             [
              0.8888888888888888,
              "#fdca26"
             ],
             [
              1,
              "#f0f921"
             ]
            ],
            "type": "surface"
           }
          ],
          "table": [
           {
            "cells": {
             "fill": {
              "color": "#EBF0F8"
             },
             "line": {
              "color": "white"
             }
            },
            "header": {
             "fill": {
              "color": "#C8D4E3"
             },
             "line": {
              "color": "white"
             }
            },
            "type": "table"
           }
          ]
         },
         "layout": {
          "annotationdefaults": {
           "arrowcolor": "#2a3f5f",
           "arrowhead": 0,
           "arrowwidth": 1
          },
          "autotypenumbers": "strict",
          "coloraxis": {
           "colorbar": {
            "outlinewidth": 0,
            "ticks": ""
           }
          },
          "colorscale": {
           "diverging": [
            [
             0,
             "#8e0152"
            ],
            [
             0.1,
             "#c51b7d"
            ],
            [
             0.2,
             "#de77ae"
            ],
            [
             0.3,
             "#f1b6da"
            ],
            [
             0.4,
             "#fde0ef"
            ],
            [
             0.5,
             "#f7f7f7"
            ],
            [
             0.6,
             "#e6f5d0"
            ],
            [
             0.7,
             "#b8e186"
            ],
            [
             0.8,
             "#7fbc41"
            ],
            [
             0.9,
             "#4d9221"
            ],
            [
             1,
             "#276419"
            ]
           ],
           "sequential": [
            [
             0,
             "#0d0887"
            ],
            [
             0.1111111111111111,
             "#46039f"
            ],
            [
             0.2222222222222222,
             "#7201a8"
            ],
            [
             0.3333333333333333,
             "#9c179e"
            ],
            [
             0.4444444444444444,
             "#bd3786"
            ],
            [
             0.5555555555555556,
             "#d8576b"
            ],
            [
             0.6666666666666666,
             "#ed7953"
            ],
            [
             0.7777777777777778,
             "#fb9f3a"
            ],
            [
             0.8888888888888888,
             "#fdca26"
            ],
            [
             1,
             "#f0f921"
            ]
           ],
           "sequentialminus": [
            [
             0,
             "#0d0887"
            ],
            [
             0.1111111111111111,
             "#46039f"
            ],
            [
             0.2222222222222222,
             "#7201a8"
            ],
            [
             0.3333333333333333,
             "#9c179e"
            ],
            [
             0.4444444444444444,
             "#bd3786"
            ],
            [
             0.5555555555555556,
             "#d8576b"
            ],
            [
             0.6666666666666666,
             "#ed7953"
            ],
            [
             0.7777777777777778,
             "#fb9f3a"
            ],
            [
             0.8888888888888888,
             "#fdca26"
            ],
            [
             1,
             "#f0f921"
            ]
           ]
          },
          "colorway": [
           "#636efa",
           "#EF553B",
           "#00cc96",
           "#ab63fa",
           "#FFA15A",
           "#19d3f3",
           "#FF6692",
           "#B6E880",
           "#FF97FF",
           "#FECB52"
          ],
          "font": {
           "color": "#2a3f5f"
          },
          "geo": {
           "bgcolor": "white",
           "lakecolor": "white",
           "landcolor": "#E5ECF6",
           "showlakes": true,
           "showland": true,
           "subunitcolor": "white"
          },
          "hoverlabel": {
           "align": "left"
          },
          "hovermode": "closest",
          "mapbox": {
           "style": "light"
          },
          "paper_bgcolor": "white",
          "plot_bgcolor": "#E5ECF6",
          "polar": {
           "angularaxis": {
            "gridcolor": "white",
            "linecolor": "white",
            "ticks": ""
           },
           "bgcolor": "#E5ECF6",
           "radialaxis": {
            "gridcolor": "white",
            "linecolor": "white",
            "ticks": ""
           }
          },
          "scene": {
           "xaxis": {
            "backgroundcolor": "#E5ECF6",
            "gridcolor": "white",
            "gridwidth": 2,
            "linecolor": "white",
            "showbackground": true,
            "ticks": "",
            "zerolinecolor": "white"
           },
           "yaxis": {
            "backgroundcolor": "#E5ECF6",
            "gridcolor": "white",
            "gridwidth": 2,
            "linecolor": "white",
            "showbackground": true,
            "ticks": "",
            "zerolinecolor": "white"
           },
           "zaxis": {
            "backgroundcolor": "#E5ECF6",
            "gridcolor": "white",
            "gridwidth": 2,
            "linecolor": "white",
            "showbackground": true,
            "ticks": "",
            "zerolinecolor": "white"
           }
          },
          "shapedefaults": {
           "line": {
            "color": "#2a3f5f"
           }
          },
          "ternary": {
           "aaxis": {
            "gridcolor": "white",
            "linecolor": "white",
            "ticks": ""
           },
           "baxis": {
            "gridcolor": "white",
            "linecolor": "white",
            "ticks": ""
           },
           "bgcolor": "#E5ECF6",
           "caxis": {
            "gridcolor": "white",
            "linecolor": "white",
            "ticks": ""
           }
          },
          "title": {
           "x": 0.05
          },
          "xaxis": {
           "automargin": true,
           "gridcolor": "white",
           "linecolor": "white",
           "ticks": "",
           "title": {
            "standoff": 15
           },
           "zerolinecolor": "white",
           "zerolinewidth": 2
          },
          "yaxis": {
           "automargin": true,
           "gridcolor": "white",
           "linecolor": "white",
           "ticks": "",
           "title": {
            "standoff": 15
           },
           "zerolinecolor": "white",
           "zerolinewidth": 2
          }
         }
        },
        "title": {
         "text": "RMSE Skill Score Compared to 24-Persistence over Forecast Horizon - 2_townintown_0"
        },
        "width": 700,
        "xaxis": {
         "anchor": "y",
         "domain": [
          0,
          1
         ],
         "tickmode": "array",
         "tickvals": [
          1,
          4,
          8,
          24,
          48
         ],
         "title": {
          "text": "Forecast Horizon (hours)"
         }
        },
        "yaxis": {
         "anchor": "x",
         "domain": [
          0,
          1
         ],
         "title": {
          "text": "RMSE Skill Score"
         }
        }
       }
      }
     },
     "metadata": {},
     "output_type": "display_data"
    },
    {
     "name": "stderr",
     "output_type": "stream",
     "text": [
      "\u001b[34m\u001b[1mwandb\u001b[0m:   1 of 1 files downloaded.  \n"
     ]
    },
    {
     "data": {
      "application/vnd.plotly.v1+json": {
       "config": {
        "plotlyServerURL": "https://plot.ly"
       },
       "data": [
        {
         "customdata": [
          [
           "RandomForest"
          ],
          [
           "RandomForest"
          ],
          [
           "RandomForest"
          ],
          [
           "RandomForest"
          ],
          [
           "RandomForest"
          ]
         ],
         "hovertemplate": "color=orange<br>shape=circle<br>Forecast Horizon (hours)=%{x}<br>RMSE Skill Score=%{y}<br>model=%{customdata[0]}<extra></extra>",
         "legendgroup": "RandomForest",
         "marker": {
          "color": "#636efa",
          "symbol": "circle"
         },
         "mode": "markers",
         "name": "RandomForest (Summer)",
         "orientation": "v",
         "showlegend": true,
         "type": "scatter",
         "x": [
          1,
          4,
          8,
          24,
          48
         ],
         "xaxis": "x",
         "y": [
          0.3062735223054385,
          0.291624726191562,
          0.20325923578763339,
          0.0003406239806466038,
          -0.09527272015117538
         ],
         "yaxis": "y"
        },
        {
         "customdata": [
          [
           "LightGBMModel"
          ],
          [
           "LightGBMModel"
          ],
          [
           "LightGBMModel"
          ],
          [
           "LightGBMModel"
          ],
          [
           "LightGBMModel"
          ]
         ],
         "hovertemplate": "color=orange<br>shape=square<br>Forecast Horizon (hours)=%{x}<br>RMSE Skill Score=%{y}<br>model=%{customdata[0]}<extra></extra>",
         "legendgroup": "LightGBMModel",
         "marker": {
          "color": "#636efa",
          "symbol": "square"
         },
         "mode": "markers",
         "name": "LightGBMModel (Summer)",
         "orientation": "v",
         "showlegend": true,
         "type": "scatter",
         "x": [
          1,
          4,
          8,
          24,
          48
         ],
         "xaxis": "x",
         "y": [
          0.695496896900534,
          0.5429568865239198,
          0.35517333718927935,
          -0.04377672683944156,
          -0.21088272397053887
         ],
         "yaxis": "y"
        },
        {
         "customdata": [
          [
           "XGBModel"
          ],
          [
           "XGBModel"
          ],
          [
           "XGBModel"
          ],
          [
           "XGBModel"
          ],
          [
           "XGBModel"
          ]
         ],
         "hovertemplate": "color=orange<br>shape=diamond<br>Forecast Horizon (hours)=%{x}<br>RMSE Skill Score=%{y}<br>model=%{customdata[0]}<extra></extra>",
         "legendgroup": "XGBModel",
         "marker": {
          "color": "#636efa",
          "symbol": "diamond"
         },
         "mode": "markers",
         "name": "XGBModel (Summer)",
         "orientation": "v",
         "showlegend": true,
         "type": "scatter",
         "x": [
          1,
          4,
          8,
          24,
          48
         ],
         "xaxis": "x",
         "y": [
          0.7147379627131414,
          0.5587729070873667,
          0.3486322094112042,
          -0.08309867465597942,
          -0.26565357350033514
         ],
         "yaxis": "y"
        },
        {
         "customdata": [
          [
           "BlockRNNModel"
          ],
          [
           "BlockRNNModel"
          ],
          [
           "BlockRNNModel"
          ],
          [
           "BlockRNNModel"
          ],
          [
           "BlockRNNModel"
          ]
         ],
         "hovertemplate": "color=orange<br>shape=cross<br>Forecast Horizon (hours)=%{x}<br>RMSE Skill Score=%{y}<br>model=%{customdata[0]}<extra></extra>",
         "legendgroup": "BlockRNNModel",
         "marker": {
          "color": "#636efa",
          "symbol": "cross"
         },
         "mode": "markers",
         "name": "BlockRNNModel (Summer)",
         "orientation": "v",
         "showlegend": true,
         "type": "scatter",
         "x": [
          1,
          4,
          8,
          24,
          48
         ],
         "xaxis": "x",
         "y": [
          0.712442422656411,
          0.5846054153198612,
          0.4557990005355501,
          -0.016862499922059015,
          -0.25259494300578367
         ],
         "yaxis": "y"
        },
        {
         "customdata": [
          [
           "NBEATSModel"
          ],
          [
           "NBEATSModel"
          ],
          [
           "NBEATSModel"
          ],
          [
           "NBEATSModel"
          ],
          [
           "NBEATSModel"
          ]
         ],
         "hovertemplate": "color=orange<br>shape=triangle-up<br>Forecast Horizon (hours)=%{x}<br>RMSE Skill Score=%{y}<br>model=%{customdata[0]}<extra></extra>",
         "legendgroup": "NBEATSModel",
         "marker": {
          "color": "#636efa",
          "symbol": "triangle-up"
         },
         "mode": "markers",
         "name": "NBEATSModel (Summer)",
         "orientation": "v",
         "showlegend": true,
         "type": "scatter",
         "x": [
          1,
          4,
          8,
          24,
          48
         ],
         "xaxis": "x",
         "y": [
          0.7661466081331367,
          0.6281554959544206,
          0.40833433116234363,
          -0.011155193888601422,
          -0.18677491557082848
         ],
         "yaxis": "y"
        },
        {
         "customdata": [
          [
           "LinearRegressionModel"
          ],
          [
           "LinearRegressionModel"
          ],
          [
           "LinearRegressionModel"
          ],
          [
           "LinearRegressionModel"
          ],
          [
           "LinearRegressionModel"
          ]
         ],
         "hovertemplate": "color=orange<br>shape=star<br>Forecast Horizon (hours)=%{x}<br>RMSE Skill Score=%{y}<br>model=%{customdata[0]}<extra></extra>",
         "legendgroup": "LinearRegressionModel",
         "marker": {
          "color": "#636efa",
          "symbol": "star"
         },
         "mode": "markers",
         "name": "LinearRegressionModel (Summer)",
         "orientation": "v",
         "showlegend": true,
         "type": "scatter",
         "x": [
          1,
          4,
          8,
          24,
          48
         ],
         "xaxis": "x",
         "y": [
          0.8488611638330286,
          0.6458634506429175,
          0.4550218065766739,
          -0.0641680278953467,
          -0.4724855834298911
         ],
         "yaxis": "y"
        },
        {
         "customdata": [
          [
           "RandomForest"
          ],
          [
           "RandomForest"
          ],
          [
           "RandomForest"
          ],
          [
           "RandomForest"
          ],
          [
           "RandomForest"
          ]
         ],
         "hovertemplate": "color=blue<br>shape=circle<br>Forecast Horizon (hours)=%{x}<br>RMSE Skill Score=%{y}<br>model=%{customdata[0]}<extra></extra>",
         "legendgroup": "RandomForest",
         "marker": {
          "color": "#EF553B",
          "symbol": "circle"
         },
         "mode": "markers",
         "name": "RandomForest (Winter)",
         "orientation": "v",
         "showlegend": true,
         "type": "scatter",
         "x": [
          1,
          4,
          8,
          24,
          48
         ],
         "xaxis": "x",
         "y": [
          0.5921520298765479,
          0.5028983770889237,
          0.3983630540720683,
          0.3887450027243844,
          0.32878890462445776
         ],
         "yaxis": "y"
        },
        {
         "customdata": [
          [
           "LightGBMModel"
          ],
          [
           "LightGBMModel"
          ],
          [
           "LightGBMModel"
          ],
          [
           "LightGBMModel"
          ],
          [
           "LightGBMModel"
          ]
         ],
         "hovertemplate": "color=blue<br>shape=square<br>Forecast Horizon (hours)=%{x}<br>RMSE Skill Score=%{y}<br>model=%{customdata[0]}<extra></extra>",
         "legendgroup": "LightGBMModel",
         "marker": {
          "color": "#EF553B",
          "symbol": "square"
         },
         "mode": "markers",
         "name": "LightGBMModel (Winter)",
         "orientation": "v",
         "showlegend": true,
         "type": "scatter",
         "x": [
          1,
          4,
          8,
          24,
          48
         ],
         "xaxis": "x",
         "y": [
          0.7689195133845246,
          0.5094885504958585,
          0.34593041663489754,
          0.17780478074883943,
          0.10274167957695379
         ],
         "yaxis": "y"
        },
        {
         "customdata": [
          [
           "XGBModel"
          ],
          [
           "XGBModel"
          ],
          [
           "XGBModel"
          ],
          [
           "XGBModel"
          ],
          [
           "XGBModel"
          ]
         ],
         "hovertemplate": "color=blue<br>shape=diamond<br>Forecast Horizon (hours)=%{x}<br>RMSE Skill Score=%{y}<br>model=%{customdata[0]}<extra></extra>",
         "legendgroup": "XGBModel",
         "marker": {
          "color": "#EF553B",
          "symbol": "diamond"
         },
         "mode": "markers",
         "name": "XGBModel (Winter)",
         "orientation": "v",
         "showlegend": true,
         "type": "scatter",
         "x": [
          1,
          4,
          8,
          24,
          48
         ],
         "xaxis": "x",
         "y": [
          0.786032855644641,
          0.520819285993737,
          0.37312596237305873,
          0.16232245765730813,
          0.073909656801883
         ],
         "yaxis": "y"
        },
        {
         "customdata": [
          [
           "BlockRNNModel"
          ],
          [
           "BlockRNNModel"
          ],
          [
           "BlockRNNModel"
          ],
          [
           "BlockRNNModel"
          ],
          [
           "BlockRNNModel"
          ]
         ],
         "hovertemplate": "color=blue<br>shape=cross<br>Forecast Horizon (hours)=%{x}<br>RMSE Skill Score=%{y}<br>model=%{customdata[0]}<extra></extra>",
         "legendgroup": "BlockRNNModel",
         "marker": {
          "color": "#EF553B",
          "symbol": "cross"
         },
         "mode": "markers",
         "name": "BlockRNNModel (Winter)",
         "orientation": "v",
         "showlegend": true,
         "type": "scatter",
         "x": [
          1,
          4,
          8,
          24,
          48
         ],
         "xaxis": "x",
         "y": [
          0.7504278543419163,
          0.5902840016065343,
          0.3908233856445641,
          0.30245200778144643,
          0.2007166837805915
         ],
         "yaxis": "y"
        },
        {
         "customdata": [
          [
           "NBEATSModel"
          ],
          [
           "NBEATSModel"
          ],
          [
           "NBEATSModel"
          ],
          [
           "NBEATSModel"
          ],
          [
           "NBEATSModel"
          ]
         ],
         "hovertemplate": "color=blue<br>shape=triangle-up<br>Forecast Horizon (hours)=%{x}<br>RMSE Skill Score=%{y}<br>model=%{customdata[0]}<extra></extra>",
         "legendgroup": "NBEATSModel",
         "marker": {
          "color": "#EF553B",
          "symbol": "triangle-up"
         },
         "mode": "markers",
         "name": "NBEATSModel (Winter)",
         "orientation": "v",
         "showlegend": true,
         "type": "scatter",
         "x": [
          1,
          4,
          8,
          24,
          48
         ],
         "xaxis": "x",
         "y": [
          0.7528953145971334,
          0.5877827669768331,
          0.4359541892784258,
          0.23147961629453317,
          0.2103661808015641
         ],
         "yaxis": "y"
        },
        {
         "customdata": [
          [
           "LinearRegressionModel"
          ],
          [
           "LinearRegressionModel"
          ],
          [
           "LinearRegressionModel"
          ],
          [
           "LinearRegressionModel"
          ],
          [
           "LinearRegressionModel"
          ]
         ],
         "hovertemplate": "color=blue<br>shape=star<br>Forecast Horizon (hours)=%{x}<br>RMSE Skill Score=%{y}<br>model=%{customdata[0]}<extra></extra>",
         "legendgroup": "LinearRegressionModel",
         "marker": {
          "color": "#EF553B",
          "symbol": "star"
         },
         "mode": "markers",
         "name": "LinearRegressionModel (Winter)",
         "orientation": "v",
         "showlegend": true,
         "type": "scatter",
         "x": [
          1,
          4,
          8,
          24,
          48
         ],
         "xaxis": "x",
         "y": [
          0.7727722672161526,
          0.4976611637286814,
          0.27381241068869744,
          0.0016564408639266892,
          -0.04702976030871375
         ],
         "yaxis": "y"
        }
       ],
       "layout": {
        "height": 600,
        "legend": {
         "title": {
          "text": "Model"
         },
         "tracegroupgap": 0
        },
        "template": {
         "data": {
          "bar": [
           {
            "error_x": {
             "color": "#2a3f5f"
            },
            "error_y": {
             "color": "#2a3f5f"
            },
            "marker": {
             "line": {
              "color": "#E5ECF6",
              "width": 0.5
             },
             "pattern": {
              "fillmode": "overlay",
              "size": 10,
              "solidity": 0.2
             }
            },
            "type": "bar"
           }
          ],
          "barpolar": [
           {
            "marker": {
             "line": {
              "color": "#E5ECF6",
              "width": 0.5
             },
             "pattern": {
              "fillmode": "overlay",
              "size": 10,
              "solidity": 0.2
             }
            },
            "type": "barpolar"
           }
          ],
          "carpet": [
           {
            "aaxis": {
             "endlinecolor": "#2a3f5f",
             "gridcolor": "white",
             "linecolor": "white",
             "minorgridcolor": "white",
             "startlinecolor": "#2a3f5f"
            },
            "baxis": {
             "endlinecolor": "#2a3f5f",
             "gridcolor": "white",
             "linecolor": "white",
             "minorgridcolor": "white",
             "startlinecolor": "#2a3f5f"
            },
            "type": "carpet"
           }
          ],
          "choropleth": [
           {
            "colorbar": {
             "outlinewidth": 0,
             "ticks": ""
            },
            "type": "choropleth"
           }
          ],
          "contour": [
           {
            "colorbar": {
             "outlinewidth": 0,
             "ticks": ""
            },
            "colorscale": [
             [
              0,
              "#0d0887"
             ],
             [
              0.1111111111111111,
              "#46039f"
             ],
             [
              0.2222222222222222,
              "#7201a8"
             ],
             [
              0.3333333333333333,
              "#9c179e"
             ],
             [
              0.4444444444444444,
              "#bd3786"
             ],
             [
              0.5555555555555556,
              "#d8576b"
             ],
             [
              0.6666666666666666,
              "#ed7953"
             ],
             [
              0.7777777777777778,
              "#fb9f3a"
             ],
             [
              0.8888888888888888,
              "#fdca26"
             ],
             [
              1,
              "#f0f921"
             ]
            ],
            "type": "contour"
           }
          ],
          "contourcarpet": [
           {
            "colorbar": {
             "outlinewidth": 0,
             "ticks": ""
            },
            "type": "contourcarpet"
           }
          ],
          "heatmap": [
           {
            "colorbar": {
             "outlinewidth": 0,
             "ticks": ""
            },
            "colorscale": [
             [
              0,
              "#0d0887"
             ],
             [
              0.1111111111111111,
              "#46039f"
             ],
             [
              0.2222222222222222,
              "#7201a8"
             ],
             [
              0.3333333333333333,
              "#9c179e"
             ],
             [
              0.4444444444444444,
              "#bd3786"
             ],
             [
              0.5555555555555556,
              "#d8576b"
             ],
             [
              0.6666666666666666,
              "#ed7953"
             ],
             [
              0.7777777777777778,
              "#fb9f3a"
             ],
             [
              0.8888888888888888,
              "#fdca26"
             ],
             [
              1,
              "#f0f921"
             ]
            ],
            "type": "heatmap"
           }
          ],
          "heatmapgl": [
           {
            "colorbar": {
             "outlinewidth": 0,
             "ticks": ""
            },
            "colorscale": [
             [
              0,
              "#0d0887"
             ],
             [
              0.1111111111111111,
              "#46039f"
             ],
             [
              0.2222222222222222,
              "#7201a8"
             ],
             [
              0.3333333333333333,
              "#9c179e"
             ],
             [
              0.4444444444444444,
              "#bd3786"
             ],
             [
              0.5555555555555556,
              "#d8576b"
             ],
             [
              0.6666666666666666,
              "#ed7953"
             ],
             [
              0.7777777777777778,
              "#fb9f3a"
             ],
             [
              0.8888888888888888,
              "#fdca26"
             ],
             [
              1,
              "#f0f921"
             ]
            ],
            "type": "heatmapgl"
           }
          ],
          "histogram": [
           {
            "marker": {
             "pattern": {
              "fillmode": "overlay",
              "size": 10,
              "solidity": 0.2
             }
            },
            "type": "histogram"
           }
          ],
          "histogram2d": [
           {
            "colorbar": {
             "outlinewidth": 0,
             "ticks": ""
            },
            "colorscale": [
             [
              0,
              "#0d0887"
             ],
             [
              0.1111111111111111,
              "#46039f"
             ],
             [
              0.2222222222222222,
              "#7201a8"
             ],
             [
              0.3333333333333333,
              "#9c179e"
             ],
             [
              0.4444444444444444,
              "#bd3786"
             ],
             [
              0.5555555555555556,
              "#d8576b"
             ],
             [
              0.6666666666666666,
              "#ed7953"
             ],
             [
              0.7777777777777778,
              "#fb9f3a"
             ],
             [
              0.8888888888888888,
              "#fdca26"
             ],
             [
              1,
              "#f0f921"
             ]
            ],
            "type": "histogram2d"
           }
          ],
          "histogram2dcontour": [
           {
            "colorbar": {
             "outlinewidth": 0,
             "ticks": ""
            },
            "colorscale": [
             [
              0,
              "#0d0887"
             ],
             [
              0.1111111111111111,
              "#46039f"
             ],
             [
              0.2222222222222222,
              "#7201a8"
             ],
             [
              0.3333333333333333,
              "#9c179e"
             ],
             [
              0.4444444444444444,
              "#bd3786"
             ],
             [
              0.5555555555555556,
              "#d8576b"
             ],
             [
              0.6666666666666666,
              "#ed7953"
             ],
             [
              0.7777777777777778,
              "#fb9f3a"
             ],
             [
              0.8888888888888888,
              "#fdca26"
             ],
             [
              1,
              "#f0f921"
             ]
            ],
            "type": "histogram2dcontour"
           }
          ],
          "mesh3d": [
           {
            "colorbar": {
             "outlinewidth": 0,
             "ticks": ""
            },
            "type": "mesh3d"
           }
          ],
          "parcoords": [
           {
            "line": {
             "colorbar": {
              "outlinewidth": 0,
              "ticks": ""
             }
            },
            "type": "parcoords"
           }
          ],
          "pie": [
           {
            "automargin": true,
            "type": "pie"
           }
          ],
          "scatter": [
           {
            "fillpattern": {
             "fillmode": "overlay",
             "size": 10,
             "solidity": 0.2
            },
            "type": "scatter"
           }
          ],
          "scatter3d": [
           {
            "line": {
             "colorbar": {
              "outlinewidth": 0,
              "ticks": ""
             }
            },
            "marker": {
             "colorbar": {
              "outlinewidth": 0,
              "ticks": ""
             }
            },
            "type": "scatter3d"
           }
          ],
          "scattercarpet": [
           {
            "marker": {
             "colorbar": {
              "outlinewidth": 0,
              "ticks": ""
             }
            },
            "type": "scattercarpet"
           }
          ],
          "scattergeo": [
           {
            "marker": {
             "colorbar": {
              "outlinewidth": 0,
              "ticks": ""
             }
            },
            "type": "scattergeo"
           }
          ],
          "scattergl": [
           {
            "marker": {
             "colorbar": {
              "outlinewidth": 0,
              "ticks": ""
             }
            },
            "type": "scattergl"
           }
          ],
          "scattermapbox": [
           {
            "marker": {
             "colorbar": {
              "outlinewidth": 0,
              "ticks": ""
             }
            },
            "type": "scattermapbox"
           }
          ],
          "scatterpolar": [
           {
            "marker": {
             "colorbar": {
              "outlinewidth": 0,
              "ticks": ""
             }
            },
            "type": "scatterpolar"
           }
          ],
          "scatterpolargl": [
           {
            "marker": {
             "colorbar": {
              "outlinewidth": 0,
              "ticks": ""
             }
            },
            "type": "scatterpolargl"
           }
          ],
          "scatterternary": [
           {
            "marker": {
             "colorbar": {
              "outlinewidth": 0,
              "ticks": ""
             }
            },
            "type": "scatterternary"
           }
          ],
          "surface": [
           {
            "colorbar": {
             "outlinewidth": 0,
             "ticks": ""
            },
            "colorscale": [
             [
              0,
              "#0d0887"
             ],
             [
              0.1111111111111111,
              "#46039f"
             ],
             [
              0.2222222222222222,
              "#7201a8"
             ],
             [
              0.3333333333333333,
              "#9c179e"
             ],
             [
              0.4444444444444444,
              "#bd3786"
             ],
             [
              0.5555555555555556,
              "#d8576b"
             ],
             [
              0.6666666666666666,
              "#ed7953"
             ],
             [
              0.7777777777777778,
              "#fb9f3a"
             ],
             [
              0.8888888888888888,
              "#fdca26"
             ],
             [
              1,
              "#f0f921"
             ]
            ],
            "type": "surface"
           }
          ],
          "table": [
           {
            "cells": {
             "fill": {
              "color": "#EBF0F8"
             },
             "line": {
              "color": "white"
             }
            },
            "header": {
             "fill": {
              "color": "#C8D4E3"
             },
             "line": {
              "color": "white"
             }
            },
            "type": "table"
           }
          ]
         },
         "layout": {
          "annotationdefaults": {
           "arrowcolor": "#2a3f5f",
           "arrowhead": 0,
           "arrowwidth": 1
          },
          "autotypenumbers": "strict",
          "coloraxis": {
           "colorbar": {
            "outlinewidth": 0,
            "ticks": ""
           }
          },
          "colorscale": {
           "diverging": [
            [
             0,
             "#8e0152"
            ],
            [
             0.1,
             "#c51b7d"
            ],
            [
             0.2,
             "#de77ae"
            ],
            [
             0.3,
             "#f1b6da"
            ],
            [
             0.4,
             "#fde0ef"
            ],
            [
             0.5,
             "#f7f7f7"
            ],
            [
             0.6,
             "#e6f5d0"
            ],
            [
             0.7,
             "#b8e186"
            ],
            [
             0.8,
             "#7fbc41"
            ],
            [
             0.9,
             "#4d9221"
            ],
            [
             1,
             "#276419"
            ]
           ],
           "sequential": [
            [
             0,
             "#0d0887"
            ],
            [
             0.1111111111111111,
             "#46039f"
            ],
            [
             0.2222222222222222,
             "#7201a8"
            ],
            [
             0.3333333333333333,
             "#9c179e"
            ],
            [
             0.4444444444444444,
             "#bd3786"
            ],
            [
             0.5555555555555556,
             "#d8576b"
            ],
            [
             0.6666666666666666,
             "#ed7953"
            ],
            [
             0.7777777777777778,
             "#fb9f3a"
            ],
            [
             0.8888888888888888,
             "#fdca26"
            ],
            [
             1,
             "#f0f921"
            ]
           ],
           "sequentialminus": [
            [
             0,
             "#0d0887"
            ],
            [
             0.1111111111111111,
             "#46039f"
            ],
            [
             0.2222222222222222,
             "#7201a8"
            ],
            [
             0.3333333333333333,
             "#9c179e"
            ],
            [
             0.4444444444444444,
             "#bd3786"
            ],
            [
             0.5555555555555556,
             "#d8576b"
            ],
            [
             0.6666666666666666,
             "#ed7953"
            ],
            [
             0.7777777777777778,
             "#fb9f3a"
            ],
            [
             0.8888888888888888,
             "#fdca26"
            ],
            [
             1,
             "#f0f921"
            ]
           ]
          },
          "colorway": [
           "#636efa",
           "#EF553B",
           "#00cc96",
           "#ab63fa",
           "#FFA15A",
           "#19d3f3",
           "#FF6692",
           "#B6E880",
           "#FF97FF",
           "#FECB52"
          ],
          "font": {
           "color": "#2a3f5f"
          },
          "geo": {
           "bgcolor": "white",
           "lakecolor": "white",
           "landcolor": "#E5ECF6",
           "showlakes": true,
           "showland": true,
           "subunitcolor": "white"
          },
          "hoverlabel": {
           "align": "left"
          },
          "hovermode": "closest",
          "mapbox": {
           "style": "light"
          },
          "paper_bgcolor": "white",
          "plot_bgcolor": "#E5ECF6",
          "polar": {
           "angularaxis": {
            "gridcolor": "white",
            "linecolor": "white",
            "ticks": ""
           },
           "bgcolor": "#E5ECF6",
           "radialaxis": {
            "gridcolor": "white",
            "linecolor": "white",
            "ticks": ""
           }
          },
          "scene": {
           "xaxis": {
            "backgroundcolor": "#E5ECF6",
            "gridcolor": "white",
            "gridwidth": 2,
            "linecolor": "white",
            "showbackground": true,
            "ticks": "",
            "zerolinecolor": "white"
           },
           "yaxis": {
            "backgroundcolor": "#E5ECF6",
            "gridcolor": "white",
            "gridwidth": 2,
            "linecolor": "white",
            "showbackground": true,
            "ticks": "",
            "zerolinecolor": "white"
           },
           "zaxis": {
            "backgroundcolor": "#E5ECF6",
            "gridcolor": "white",
            "gridwidth": 2,
            "linecolor": "white",
            "showbackground": true,
            "ticks": "",
            "zerolinecolor": "white"
           }
          },
          "shapedefaults": {
           "line": {
            "color": "#2a3f5f"
           }
          },
          "ternary": {
           "aaxis": {
            "gridcolor": "white",
            "linecolor": "white",
            "ticks": ""
           },
           "baxis": {
            "gridcolor": "white",
            "linecolor": "white",
            "ticks": ""
           },
           "bgcolor": "#E5ECF6",
           "caxis": {
            "gridcolor": "white",
            "linecolor": "white",
            "ticks": ""
           }
          },
          "title": {
           "x": 0.05
          },
          "xaxis": {
           "automargin": true,
           "gridcolor": "white",
           "linecolor": "white",
           "ticks": "",
           "title": {
            "standoff": 15
           },
           "zerolinecolor": "white",
           "zerolinewidth": 2
          },
          "yaxis": {
           "automargin": true,
           "gridcolor": "white",
           "linecolor": "white",
           "ticks": "",
           "title": {
            "standoff": 15
           },
           "zerolinecolor": "white",
           "zerolinewidth": 2
          }
         }
        },
        "title": {
         "text": "RMSE Skill Score Compared to 24-Persistence over Forecast Horizon - 1_countyinLos_Angeles"
        },
        "width": 700,
        "xaxis": {
         "anchor": "y",
         "domain": [
          0,
          1
         ],
         "tickmode": "array",
         "tickvals": [
          1,
          4,
          8,
          24,
          48
         ],
         "title": {
          "text": "Forecast Horizon (hours)"
         }
        },
        "yaxis": {
         "anchor": "x",
         "domain": [
          0,
          1
         ],
         "title": {
          "text": "RMSE Skill Score"
         }
        }
       }
      }
     },
     "metadata": {},
     "output_type": "display_data"
    }
   ],
   "source": [
    "\n",
    "for name, id in name_id_dict.items():\n",
    "\n",
    "    try:\n",
    "        run_path = f'wattcast/WattCast/run-{id}-Errormetricsfor{name}:v0'\n",
    "        artifact = run.use_artifact(f'{run_path}', type='run_table')\n",
    "        artifact_dir = artifact.download()\n",
    "        with open(os.path.join(artifact_dir, os.listdir(artifact_dir)[0])) as f:\n",
    "            data = json.load(f)\n",
    "        df_metrics = pd.DataFrame(data['data'], columns=data['columns'])\n",
    "\n",
    "        df = df_metrics[['horizon_in_hours', 'rmse_skill_score', 'season', 'model']]\n",
    "\n",
    "        # Define colors and shapes based on the season and model\n",
    "        season2color = {'Summer': 'orange', 'Winter': 'blue'}\n",
    "        color2season = {v: k for k, v in season2color.items()}\n",
    "        model2shape = {\n",
    "            'RandomForest': 'circle',\n",
    "            'LightGBMModel': 'square',\n",
    "            'XGBModel': 'diamond',\n",
    "            'BlockRNNModel': 'cross',\n",
    "            'NBEATSModel': 'triangle-up',\n",
    "            'LinearRegressionModel': 'star'\n",
    "        }\n",
    "        shape2model = {v: k for k, v in model2shape.items()}\n",
    "\n",
    "\n",
    "\n",
    "\n",
    "        # Map the colors and shapes to the DataFrame\n",
    "        df['color'] = df['season'].map(color_map)\n",
    "        df['shape'] = df['model'].map(shape_map)\n",
    "\n",
    "        # Create the scatter plot\n",
    "        fig = px.scatter(\n",
    "            df,\n",
    "            x='horizon_in_hours',\n",
    "            y='rmse_skill_score',\n",
    "            color='color',\n",
    "            symbol='shape',\n",
    "            symbol_sequence= list(shape_map.values()),\n",
    "            hover_data=['model'],\n",
    "            title=f'RMSE Skill Score Compared to 24-Persistence over Forecast Horizon - {name}',\n",
    "            labels={'rmse_skill_score': 'RMSE Skill Score', 'horizon_in_hours': 'Forecast Horizon (hours)'}\n",
    "\n",
    "                \n",
    "        )\n",
    "\n",
    "        # set the x ticks and rename the legend\n",
    "        fig.update_layout(\n",
    "            xaxis=dict(\n",
    "                tickmode='array',\n",
    "                tickvals=[1, 4, 8, 24, 48],\n",
    "            ),\n",
    "            legend_title_text='Model',\n",
    "        )\n",
    "\n",
    "        for i in range(len(fig.data)):\n",
    "            current_name = fig.data[i]['name']\n",
    "            color, shape = current_name.split(', ')\n",
    "            fig.data[i]['name'] = f'{shape2model[shape]} ({color2season[color]})'\n",
    "            fig.data[i]['legendgroup'] = f'{shape2model[shape]}'\n",
    "\n",
    "        # Update the figure size\n",
    "        fig.update_layout(width=700, height=600)\n",
    "        \n",
    "        fig.show()\n",
    "\n",
    "    except:\n",
    "        print(f'Error for {name}')"
   ]
  },
  {
   "cell_type": "code",
   "execution_count": null,
   "metadata": {},
   "outputs": [],
   "source": []
  }
 ],
 "metadata": {
  "kernelspec": {
   "display_name": "gpu2",
   "language": "python",
   "name": "python3"
  },
  "language_info": {
   "codemirror_mode": {
    "name": "ipython",
    "version": 3
   },
   "file_extension": ".py",
   "mimetype": "text/x-python",
   "name": "python",
   "nbconvert_exporter": "python",
   "pygments_lexer": "ipython3",
   "version": "3.10.9"
  },
  "orig_nbformat": 4
 },
 "nbformat": 4,
 "nbformat_minor": 2
}
